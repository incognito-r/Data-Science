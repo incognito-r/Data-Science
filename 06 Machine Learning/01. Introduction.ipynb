{
 "cells": [
  {
   "cell_type": "markdown",
   "id": "95d73160-cd14-49c1-96df-24491179fd21",
   "metadata": {},
   "source": [
    "# Machine Learning"
   ]
  },
  {
   "cell_type": "markdown",
   "id": "f0164e2f-de0b-4f72-ba1e-74e658ceb9c0",
   "metadata": {},
   "source": [
    "\n",
    "Machine Learning (ML) is a subfield of artificial intelligence (AI) that focuses on developing systems capable of learning and improving from experience without being explicitly programmed. It uses algorithms to identify patterns in data and make predictions or decisions based on input data.\n",
    "\n",
    "Types of Learning\n",
    "1. Supervised\n",
    "2. Unsupervised\n",
    "3. Semi-supervised\n",
    "4. Reinforced"
   ]
  },
  {
   "cell_type": "markdown",
   "id": "3edfedf5",
   "metadata": {
    "vscode": {
     "languageId": "plaintext"
    }
   },
   "source": [
    "## 1. Supervised Learning\n",
    "\n",
    "Definition: The model learns from labeled data, where each input has a corresponding output.\n",
    "\n",
    "- Example:\n",
    "\n",
    "    **Spam Detection**: Email services like Gmail use supervised learning to classify emails as \"Spam\" or \"Not Spam.\"</br>\n",
    "\n",
    "    Input: Email content and metadata.</br>\n",
    "    Output: Spam or Not Spam labels.\n",
    "\n",
    "Algorithms:\n",
    "\n",
    "| **Algorithm**                       | **Applications**                           |\n",
    "|-------------------------------------|--------------------------------------------|\n",
    "| Linear Regression                   | Predicting house prices, sales forecasting |\n",
    "| Logistic Regression                 | Spam detection, disease prediction         |\n",
    "| Decision Trees / Random Forests     | Fraud detection, customer churn prediction |\n",
    "| Support Vector Machines (SVM)       | Sentiment analysis, image classification   |\n",
    "| k-Nearest Neighbors (k-NN)          | Recommendation systems, pattern recognition|\n",
    "| Gradient Boosting (XGBoost, LightGBM, CatBoost) | Predictive modeling, competition-winning solutions |\n",
    "| Neural Networks (MLP, CNN, RNN)     | Speech recognition, image and text classification |\n"
   ]
  },
  {
   "cell_type": "markdown",
   "id": "c4e636cc",
   "metadata": {},
   "source": [
    "## 2. Unsupervised Learning\n",
    "\n",
    "Definition: The model learns patterns or structures from unlabeled data.\n",
    "\n",
    "- Example:\n",
    "\n",
    "    **Customer Segmentation**: E-commerce platforms like Amazon group customers into segments based on purchasing behavior to provide personalized recommendations.\n",
    "\n",
    "Algorithms:\n",
    "\n",
    "| **Algorithm**                       | **Applications**                           |\n",
    "|-------------------------------------|--------------------------------------------|\n",
    "| k-Means Clustering                  | Customer segmentation, anomaly detection   |\n",
    "| DBSCAN (Density-Based Spatial Clustering) | Fraud detection, outlier detection       |\n",
    "| Hierarchical Clustering             | Social network analysis, market research   |\n",
    "| Principal Component Analysis (PCA)  | Dimensionality reduction, gene expression analysis |\n",
    "| Autoencoders (Deep Learning)        | Image denoising, data compression          |\n",
    "| t-SNE (t-Distributed Stochastic Neighbor Embedding) | Data visualization, clustering |"
   ]
  },
  {
   "cell_type": "markdown",
   "id": "3f0cc5c6",
   "metadata": {
    "vscode": {
     "languageId": "plaintext"
    }
   },
   "source": [
    "## 3. Semi-Supervised Learning\n",
    "\n",
    "Definition: The model learns from a dataset that contains both labeled and unlabeled data.\n",
    "\n",
    "- Example:\n",
    "\n",
    "   **Online Content Moderation**: Platforms like YouTube use semi-supervised learning to detect harmful content. A small percentage of videos are manually labeled, and the rest are inferred.\n",
    "\n",
    "| **Algorithm**                       | **Applications**                           |\n",
    "|-------------------------------------|--------------------------------------------|\n",
    "| Self-Training                       | Content moderation, document classification|\n",
    "| Label Propagation                   | Image tagging, fraud detection             |\n",
    "| Label Spreading                     | Sentiment analysis, medical diagnosis      |\n",
    "| Generative Adversarial Networks (GANs) | Data augmentation, generating labeled samples |\n",
    "| Graph-based Methods                 | Social network analysis, recommendation systems |\n"
   ]
  },
  {
   "cell_type": "markdown",
   "id": "cfc84f24",
   "metadata": {
    "vscode": {
     "languageId": "plaintext"
    }
   },
   "source": [
    "## 4. Reinforcement Learning\n",
    "\n",
    "Definition: The model learns to take actions in an environment to maximize cumulative rewards.\n",
    "\n",
    "- Example:\n",
    "\n",
    "    **Autonomous Driving**: Companies like Tesla use reinforcement learning to train self-driving cars. The car learns how to navigate and make driving decisions.\n",
    "\n",
    "Algorithms:\n",
    "\n",
    "| **Algorithm**                       | **Applications**                           |\n",
    "|-------------------------------------|--------------------------------------------|\n",
    "| Q-Learning                          | Maze solving, game playing                 |\n",
    "| Deep Q-Learning (DQN)               | Robotics, autonomous driving               |\n",
    "| Policy Gradient Methods             | Game AI, resource allocation               |\n",
    "| Actor-Critic Methods                | Energy optimization, stock trading bots    |\n",
    "| Monte Carlo Methods                 | Blackjack, financial portfolio management  |\n",
    "| Proximal Policy Optimization (PPO)  | Robot control, video game agents           |\n",
    "\n"
   ]
  },
  {
   "cell_type": "markdown",
   "id": "ec2ed971",
   "metadata": {},
   "source": []
  }
 ],
 "metadata": {
  "kernelspec": {
   "display_name": "Python 3 (ipykernel)",
   "language": "python",
   "name": "python3"
  },
  "language_info": {
   "codemirror_mode": {
    "name": "ipython",
    "version": 3
   },
   "file_extension": ".py",
   "mimetype": "text/x-python",
   "name": "python",
   "nbconvert_exporter": "python",
   "pygments_lexer": "ipython3",
   "version": "3.11.4"
  }
 },
 "nbformat": 4,
 "nbformat_minor": 5
}
