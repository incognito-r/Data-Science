{
 "cells": [
  {
   "cell_type": "markdown",
   "metadata": {},
   "source": [
    "# Linear Regression\n",
    "\n",
    "Linear Regression is a supervised learning algorithm used for predicting a continuous target variable based on one or more input features. It models the relationship between the dependent variable (Y) and independent variable(s) (X) by fitting a straight line through the data points.\n",
    "\n",
    "- Type of Algorithm: Supervised Learning (Regression)\n",
    "- Target Variable: Continuous\n",
    "- Goal: Minimize the difference (error) between predicted and actual values."
   ]
  },
  {
   "cell_type": "markdown",
   "metadata": {},
   "source": [
    "Hypothesis Function: A linear equation represents the relationship between the independent variable (x) and dependent variable (y).\n",
    "$$y = mx + c$$\n",
    "\n",
    "Cost Fucntion: Measures the error between the predicted and actual values (commonly known as Mean Squared Error or MSE).\n",
    "$$ MSE = (1/n) {\\sum} (y_{actual} - y_{predicted})^2 $$\n",
    "\n",
    "Optimization: Gradient Descent or similar methods are used to minimize the cost function and find the best-fit line."
   ]
  },
  {
   "cell_type": "markdown",
   "metadata": {},
   "source": [
    "#### Assumptions of Linear Regression\n",
    "\n",
    "**Linearity**: The relationship between the dependent and independent variable is linear.</br>\n",
    "**Independence**: Observations are independent of each other.</br>\n",
    "**Homoscedasticity**: Constant variance of errors.</br>\n",
    "**Normality**: Errors are normally distributed.</br>\n",
    "**No Multicollinearity**: Independent variables are not highly correlated.</br>"
   ]
  },
  {
   "cell_type": "markdown",
   "metadata": {},
   "source": [
    "**Applications**:\n",
    "- House Price Prediction: Predicting house prices based on features like size, location, and number of rooms.\n",
    "- Sales Forecasting: Estimating future sales based on past performance.\n",
    "- Medical Research: Predicting patient outcomes based on health metrics."
   ]
  },
  {
   "cell_type": "markdown",
   "metadata": {},
   "source": [
    "| **Advantages**                                                                 | **Disadvantages**                                                                  |\n",
    "|-------------------------------------------------------------------------------|-----------------------------------------------------------------------------------|\n",
    "| Simple and easy to implement.                                                 | Assumes a linear relationship between variables, which may not always exist.      |\n",
    "| Interpretable: Coefficients indicate the contribution of each feature.         | Sensitive to outliers, which can distort the model.                               |\n",
    "| Computationally efficient, especially for small to medium-sized datasets.      | Struggles with multicollinearity (high correlation between independent variables). |\n",
    "| Works well with linearly separable data.                                       | Limited to predicting continuous variables only.                                  |\n",
    "| Provides probabilistic predictions and confidence intervals.                   | Assumes homoscedasticity (constant variance of errors), which may not hold true.  |\n",
    "| Can be regularized (e.g., Ridge, Lasso) to handle overfitting.                 | Not suitable for complex relationships (requires feature engineering or other models). |\n",
    "| Useful as a baseline model for comparison with more complex algorithms.        | Requires careful feature selection and scaling for optimal performance.           |\n",
    "| The mathematical foundation is well understood and widely studied.             | Not robust to missing data and noisy datasets.                                    |\n",
    "| Easy to integrate into larger systems and pipelines.                           | Assumes no or little multicollinearity among independent variables.               |\n",
    "| Works with both simple (one feature) and multiple (many features) scenarios.   | Cannot handle non-linear relationships unless features are transformed.           |\n"
   ]
  },
  {
   "cell_type": "markdown",
   "metadata": {},
   "source": []
  }
 ],
 "metadata": {
  "language_info": {
   "name": "python"
  }
 },
 "nbformat": 4,
 "nbformat_minor": 2
}
