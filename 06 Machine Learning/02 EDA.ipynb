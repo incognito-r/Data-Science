{
 "cells": [
  {
   "cell_type": "markdown",
   "metadata": {},
   "source": [
    "# EDA - Exploratory Data Analysis\n",
    "It involves examining and visualizing the dataset to understand its structure, identify patterns, detect anomalies, and gain insights that guide further analysis or modeling.\n",
    "\n"
   ]
  },
  {
   "cell_type": "markdown",
   "metadata": {},
   "source": [
    "**Understanding the Data**:\n",
    "\n",
    "- Check basic information:\n",
    "    - Use `.info()` to see the structure of the dataset.\n",
    "    - Use `.describe()` for summary statistics.\n",
    "    - Check the shape of the data using `.shape`.\n",
    "    - Inspect the first few rows with `.head()` and last rows with `.tail()`.\n",
    "- Check for null values:\n",
    "    - Use `.isnull().sum()` to identify columns with missing values.\n",
    "\n",
    "**Understand the Data Types**:\n",
    "- Separate numerical and categorical columns.\n",
    "- Confirm correct data types (e.g., dates stored as `datetime`).\n",
    "- Convert data types if needed (e.g., using `pd.to_datetime` for date columns)."
   ]
  },
  {
   "cell_type": "markdown",
   "metadata": {},
   "source": [
    "## Univariate Analysis\n",
    "Analysis using one variable\n",
    "\n",
    "- **Numerical features**:\n",
    "For numerical variables, the analysis focuses on understanding the central tendency, spread(Variance), distribution, and shape of the data.\n",
    "    - Histograms or density plots (seaborn.distplot / sns.kdeplot).\n",
    "    - Box plots to identify outliers.\n",
    "\n",
    "- **Categorical features**:\n",
    "For categorical variables, the analysis focuses on understanding the distribution of categories and identifying the most frequent categories.\n",
    "    - Bar plots for frequency distributions.\n",
    "    - Pie charts for proportions."
   ]
  },
  {
   "cell_type": "markdown",
   "metadata": {},
   "source": [
    "## Bivariate Analysis\n",
    "Analysis using two variables.\n",
    "\n",
    "- **Numerical vs Numerical**: \n",
    "The analysis focuses on identifying the strength, direction, and form of the relationship between them.\n",
    "    - Scatter plots to observe relationships.\n",
    "    - Correlation matrix using df.corr() and heatmaps.\n",
    "\n",
    "- **Categorical vs Numerical**:\n",
    "The analysis explores how the numerical variable differs across the categories.\n",
    "    - Box plots or violin plots.\n",
    "\n",
    "- Categorical vs Categorical:\n",
    "The focus is on understanding the association or dependence between the categories.\n",
    "    - Cross-tabulation (pd.crosstab) and stacked bar plots.\n",
    "    - Stacked Bar Chart"
   ]
  },
  {
   "cell_type": "markdown",
   "metadata": {},
   "source": [
    "# Feature Engineering\n",
    "Feature engineering is the process of creating new features or modifying existing ones to improve the performance of a machine learning model. It involves transforming raw data into formats that better represent the underlying patterns and relationships in the data"
   ]
  },
  {
   "cell_type": "markdown",
   "metadata": {},
   "source": []
  }
 ],
 "metadata": {
  "language_info": {
   "name": "python"
  }
 },
 "nbformat": 4,
 "nbformat_minor": 2
}
