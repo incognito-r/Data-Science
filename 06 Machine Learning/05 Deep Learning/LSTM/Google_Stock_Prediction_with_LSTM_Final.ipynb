{
  "cells": [
    {
      "cell_type": "code",
      "execution_count": null,
      "metadata": {
        "id": "nb2o4QQPOZRQ",
        "outputId": "3e60a318-c3c4-4ac8-8242-f0f63c690031"
      },
      "outputs": [
        {
          "name": "stderr",
          "output_type": "stream",
          "text": [
            "Using TensorFlow backend.\n"
          ]
        }
      ],
      "source": [
        "import numpy as np\n",
        "import matplotlib.pyplot as plt\n",
        "import pandas as pd\n",
        "from sklearn.preprocessing import MinMaxScaler\n",
        "from keras.models import Sequential\n",
        "from keras.layers import Dense\n",
        "\n",
        "from keras.layers import Dropout\n",
        "# from tensorflow.keras import Sequential\n",
        "from keras.layers import SimpleRNN"
      ]
    },
    {
      "cell_type": "code",
      "execution_count": null,
      "metadata": {
        "id": "AgjBEJFhgSd0"
      },
      "outputs": [],
      "source": []
    },
    {
      "cell_type": "code",
      "execution_count": null,
      "metadata": {
        "id": "4Sk5iunVOZRX"
      },
      "outputs": [],
      "source": [
        "train = pd.read_csv(r'Google_Stock_Price_Train.csv')"
      ]
    },
    {
      "cell_type": "code",
      "execution_count": null,
      "metadata": {
        "colab": {
          "base_uri": "https://localhost:8080/",
          "height": 204
        },
        "id": "YrK3_JwOOZRc",
        "outputId": "1ba05193-57a9-4581-f752-76ff8e9a6124"
      },
      "outputs": [
        {
          "data": {
            "text/html": [
              "<div>\n",
              "<style scoped>\n",
              "    .dataframe tbody tr th:only-of-type {\n",
              "        vertical-align: middle;\n",
              "    }\n",
              "\n",
              "    .dataframe tbody tr th {\n",
              "        vertical-align: top;\n",
              "    }\n",
              "\n",
              "    .dataframe thead th {\n",
              "        text-align: right;\n",
              "    }\n",
              "</style>\n",
              "<table border=\"1\" class=\"dataframe\">\n",
              "  <thead>\n",
              "    <tr style=\"text-align: right;\">\n",
              "      <th></th>\n",
              "      <th>Date</th>\n",
              "      <th>Open</th>\n",
              "      <th>High</th>\n",
              "      <th>Low</th>\n",
              "      <th>Close</th>\n",
              "      <th>Volume</th>\n",
              "    </tr>\n",
              "  </thead>\n",
              "  <tbody>\n",
              "    <tr>\n",
              "      <th>0</th>\n",
              "      <td>01-03-2012</td>\n",
              "      <td>325.25</td>\n",
              "      <td>332.83</td>\n",
              "      <td>324.97</td>\n",
              "      <td>663.59</td>\n",
              "      <td>73,80,500</td>\n",
              "    </tr>\n",
              "    <tr>\n",
              "      <th>1</th>\n",
              "      <td>01-04-2012</td>\n",
              "      <td>331.27</td>\n",
              "      <td>333.87</td>\n",
              "      <td>329.08</td>\n",
              "      <td>666.45</td>\n",
              "      <td>57,49,400</td>\n",
              "    </tr>\n",
              "    <tr>\n",
              "      <th>2</th>\n",
              "      <td>01-05-2012</td>\n",
              "      <td>329.83</td>\n",
              "      <td>330.75</td>\n",
              "      <td>326.89</td>\n",
              "      <td>657.21</td>\n",
              "      <td>65,90,300</td>\n",
              "    </tr>\n",
              "    <tr>\n",
              "      <th>3</th>\n",
              "      <td>01-06-2012</td>\n",
              "      <td>328.34</td>\n",
              "      <td>328.77</td>\n",
              "      <td>323.68</td>\n",
              "      <td>648.24</td>\n",
              "      <td>54,05,900</td>\n",
              "    </tr>\n",
              "    <tr>\n",
              "      <th>4</th>\n",
              "      <td>01-09-2012</td>\n",
              "      <td>322.04</td>\n",
              "      <td>322.29</td>\n",
              "      <td>309.46</td>\n",
              "      <td>620.76</td>\n",
              "      <td>1,16,88,800</td>\n",
              "    </tr>\n",
              "  </tbody>\n",
              "</table>\n",
              "</div>"
            ],
            "text/plain": [
              "         Date    Open    High     Low   Close       Volume\n",
              "0  01-03-2012  325.25  332.83  324.97  663.59    73,80,500\n",
              "1  01-04-2012  331.27  333.87  329.08  666.45    57,49,400\n",
              "2  01-05-2012  329.83  330.75  326.89  657.21    65,90,300\n",
              "3  01-06-2012  328.34  328.77  323.68  648.24    54,05,900\n",
              "4  01-09-2012  322.04  322.29  309.46  620.76  1,16,88,800"
            ]
          },
          "execution_count": 3,
          "metadata": {},
          "output_type": "execute_result"
        }
      ],
      "source": [
        "train.head()"
      ]
    },
    {
      "cell_type": "code",
      "execution_count": null,
      "metadata": {
        "colab": {
          "base_uri": "https://localhost:8080/",
          "height": 204
        },
        "id": "EQS_oGENOZRh",
        "outputId": "c6f172f5-d652-44e7-d4c3-9812b9c4679d"
      },
      "outputs": [
        {
          "data": {
            "text/html": [
              "<div>\n",
              "<style scoped>\n",
              "    .dataframe tbody tr th:only-of-type {\n",
              "        vertical-align: middle;\n",
              "    }\n",
              "\n",
              "    .dataframe tbody tr th {\n",
              "        vertical-align: top;\n",
              "    }\n",
              "\n",
              "    .dataframe thead th {\n",
              "        text-align: right;\n",
              "    }\n",
              "</style>\n",
              "<table border=\"1\" class=\"dataframe\">\n",
              "  <thead>\n",
              "    <tr style=\"text-align: right;\">\n",
              "      <th></th>\n",
              "      <th>Date</th>\n",
              "      <th>Open</th>\n",
              "      <th>High</th>\n",
              "      <th>Low</th>\n",
              "      <th>Close</th>\n",
              "      <th>Volume</th>\n",
              "    </tr>\n",
              "  </thead>\n",
              "  <tbody>\n",
              "    <tr>\n",
              "      <th>1253</th>\n",
              "      <td>12/23/2016</td>\n",
              "      <td>790.90</td>\n",
              "      <td>792.74</td>\n",
              "      <td>787.28</td>\n",
              "      <td>789.91</td>\n",
              "      <td>6,23,400</td>\n",
              "    </tr>\n",
              "    <tr>\n",
              "      <th>1254</th>\n",
              "      <td>12/27/2016</td>\n",
              "      <td>790.68</td>\n",
              "      <td>797.86</td>\n",
              "      <td>787.66</td>\n",
              "      <td>791.55</td>\n",
              "      <td>7,89,100</td>\n",
              "    </tr>\n",
              "    <tr>\n",
              "      <th>1255</th>\n",
              "      <td>12/28/2016</td>\n",
              "      <td>793.70</td>\n",
              "      <td>794.23</td>\n",
              "      <td>783.20</td>\n",
              "      <td>785.05</td>\n",
              "      <td>11,53,800</td>\n",
              "    </tr>\n",
              "    <tr>\n",
              "      <th>1256</th>\n",
              "      <td>12/29/2016</td>\n",
              "      <td>783.33</td>\n",
              "      <td>785.93</td>\n",
              "      <td>778.92</td>\n",
              "      <td>782.79</td>\n",
              "      <td>7,44,300</td>\n",
              "    </tr>\n",
              "    <tr>\n",
              "      <th>1257</th>\n",
              "      <td>12/30/2016</td>\n",
              "      <td>782.75</td>\n",
              "      <td>782.78</td>\n",
              "      <td>770.41</td>\n",
              "      <td>771.82</td>\n",
              "      <td>17,70,000</td>\n",
              "    </tr>\n",
              "  </tbody>\n",
              "</table>\n",
              "</div>"
            ],
            "text/plain": [
              "            Date    Open    High     Low   Close     Volume\n",
              "1253  12/23/2016  790.90  792.74  787.28  789.91   6,23,400\n",
              "1254  12/27/2016  790.68  797.86  787.66  791.55   7,89,100\n",
              "1255  12/28/2016  793.70  794.23  783.20  785.05  11,53,800\n",
              "1256  12/29/2016  783.33  785.93  778.92  782.79   7,44,300\n",
              "1257  12/30/2016  782.75  782.78  770.41  771.82  17,70,000"
            ]
          },
          "execution_count": 4,
          "metadata": {},
          "output_type": "execute_result"
        }
      ],
      "source": [
        "train.tail()"
      ]
    },
    {
      "cell_type": "code",
      "execution_count": null,
      "metadata": {
        "id": "v3aHhvTVOZRm"
      },
      "outputs": [],
      "source": [
        "test = pd.read_csv(r'Google_Stock_Price_Test.csv')"
      ]
    },
    {
      "cell_type": "code",
      "execution_count": null,
      "metadata": {
        "colab": {
          "base_uri": "https://localhost:8080/",
          "height": 204
        },
        "id": "CNBw8yUuOZRr",
        "outputId": "662926d1-583d-4cf0-9227-b583e40e117c"
      },
      "outputs": [
        {
          "data": {
            "text/html": [
              "<div>\n",
              "<style scoped>\n",
              "    .dataframe tbody tr th:only-of-type {\n",
              "        vertical-align: middle;\n",
              "    }\n",
              "\n",
              "    .dataframe tbody tr th {\n",
              "        vertical-align: top;\n",
              "    }\n",
              "\n",
              "    .dataframe thead th {\n",
              "        text-align: right;\n",
              "    }\n",
              "</style>\n",
              "<table border=\"1\" class=\"dataframe\">\n",
              "  <thead>\n",
              "    <tr style=\"text-align: right;\">\n",
              "      <th></th>\n",
              "      <th>Date</th>\n",
              "      <th>Open</th>\n",
              "      <th>High</th>\n",
              "      <th>Low</th>\n",
              "      <th>Close</th>\n",
              "      <th>Volume</th>\n",
              "    </tr>\n",
              "  </thead>\n",
              "  <tbody>\n",
              "    <tr>\n",
              "      <th>0</th>\n",
              "      <td>1/3/2017</td>\n",
              "      <td>778.81</td>\n",
              "      <td>789.63</td>\n",
              "      <td>775.80</td>\n",
              "      <td>786.14</td>\n",
              "      <td>1,657,300</td>\n",
              "    </tr>\n",
              "    <tr>\n",
              "      <th>1</th>\n",
              "      <td>1/4/2017</td>\n",
              "      <td>788.36</td>\n",
              "      <td>791.34</td>\n",
              "      <td>783.16</td>\n",
              "      <td>786.90</td>\n",
              "      <td>1,073,000</td>\n",
              "    </tr>\n",
              "    <tr>\n",
              "      <th>2</th>\n",
              "      <td>1/5/2017</td>\n",
              "      <td>786.08</td>\n",
              "      <td>794.48</td>\n",
              "      <td>785.02</td>\n",
              "      <td>794.02</td>\n",
              "      <td>1,335,200</td>\n",
              "    </tr>\n",
              "    <tr>\n",
              "      <th>3</th>\n",
              "      <td>1/6/2017</td>\n",
              "      <td>795.26</td>\n",
              "      <td>807.90</td>\n",
              "      <td>792.20</td>\n",
              "      <td>806.15</td>\n",
              "      <td>1,640,200</td>\n",
              "    </tr>\n",
              "    <tr>\n",
              "      <th>4</th>\n",
              "      <td>1/9/2017</td>\n",
              "      <td>806.40</td>\n",
              "      <td>809.97</td>\n",
              "      <td>802.83</td>\n",
              "      <td>806.65</td>\n",
              "      <td>1,272,400</td>\n",
              "    </tr>\n",
              "  </tbody>\n",
              "</table>\n",
              "</div>"
            ],
            "text/plain": [
              "       Date    Open    High     Low   Close     Volume\n",
              "0  1/3/2017  778.81  789.63  775.80  786.14  1,657,300\n",
              "1  1/4/2017  788.36  791.34  783.16  786.90  1,073,000\n",
              "2  1/5/2017  786.08  794.48  785.02  794.02  1,335,200\n",
              "3  1/6/2017  795.26  807.90  792.20  806.15  1,640,200\n",
              "4  1/9/2017  806.40  809.97  802.83  806.65  1,272,400"
            ]
          },
          "execution_count": 6,
          "metadata": {},
          "output_type": "execute_result"
        }
      ],
      "source": [
        "test.head()"
      ]
    },
    {
      "cell_type": "code",
      "execution_count": null,
      "metadata": {
        "colab": {
          "base_uri": "https://localhost:8080/",
          "height": 204
        },
        "id": "tAPgLscQOZRv",
        "outputId": "ab8c8e28-c1bf-4942-990f-2711a0a34029"
      },
      "outputs": [
        {
          "data": {
            "text/html": [
              "<div>\n",
              "<style scoped>\n",
              "    .dataframe tbody tr th:only-of-type {\n",
              "        vertical-align: middle;\n",
              "    }\n",
              "\n",
              "    .dataframe tbody tr th {\n",
              "        vertical-align: top;\n",
              "    }\n",
              "\n",
              "    .dataframe thead th {\n",
              "        text-align: right;\n",
              "    }\n",
              "</style>\n",
              "<table border=\"1\" class=\"dataframe\">\n",
              "  <thead>\n",
              "    <tr style=\"text-align: right;\">\n",
              "      <th></th>\n",
              "      <th>Date</th>\n",
              "      <th>Open</th>\n",
              "      <th>High</th>\n",
              "      <th>Low</th>\n",
              "      <th>Close</th>\n",
              "      <th>Volume</th>\n",
              "    </tr>\n",
              "  </thead>\n",
              "  <tbody>\n",
              "    <tr>\n",
              "      <th>15</th>\n",
              "      <td>1/25/2017</td>\n",
              "      <td>829.62</td>\n",
              "      <td>835.77</td>\n",
              "      <td>825.06</td>\n",
              "      <td>835.67</td>\n",
              "      <td>1,494,500</td>\n",
              "    </tr>\n",
              "    <tr>\n",
              "      <th>16</th>\n",
              "      <td>1/26/2017</td>\n",
              "      <td>837.81</td>\n",
              "      <td>838.00</td>\n",
              "      <td>827.01</td>\n",
              "      <td>832.15</td>\n",
              "      <td>2,973,900</td>\n",
              "    </tr>\n",
              "    <tr>\n",
              "      <th>17</th>\n",
              "      <td>1/27/2017</td>\n",
              "      <td>834.71</td>\n",
              "      <td>841.95</td>\n",
              "      <td>820.44</td>\n",
              "      <td>823.31</td>\n",
              "      <td>2,965,800</td>\n",
              "    </tr>\n",
              "    <tr>\n",
              "      <th>18</th>\n",
              "      <td>1/30/2017</td>\n",
              "      <td>814.66</td>\n",
              "      <td>815.84</td>\n",
              "      <td>799.80</td>\n",
              "      <td>802.32</td>\n",
              "      <td>3,246,600</td>\n",
              "    </tr>\n",
              "    <tr>\n",
              "      <th>19</th>\n",
              "      <td>1/31/2017</td>\n",
              "      <td>796.86</td>\n",
              "      <td>801.25</td>\n",
              "      <td>790.52</td>\n",
              "      <td>796.79</td>\n",
              "      <td>2,160,600</td>\n",
              "    </tr>\n",
              "  </tbody>\n",
              "</table>\n",
              "</div>"
            ],
            "text/plain": [
              "         Date    Open    High     Low   Close     Volume\n",
              "15  1/25/2017  829.62  835.77  825.06  835.67  1,494,500\n",
              "16  1/26/2017  837.81  838.00  827.01  832.15  2,973,900\n",
              "17  1/27/2017  834.71  841.95  820.44  823.31  2,965,800\n",
              "18  1/30/2017  814.66  815.84  799.80  802.32  3,246,600\n",
              "19  1/31/2017  796.86  801.25  790.52  796.79  2,160,600"
            ]
          },
          "execution_count": 7,
          "metadata": {},
          "output_type": "execute_result"
        }
      ],
      "source": [
        "test.tail()"
      ]
    },
    {
      "cell_type": "code",
      "execution_count": null,
      "metadata": {
        "id": "wqLpE-DAgSd1"
      },
      "outputs": [],
      "source": [
        "import matplotlib.pyplot as plt"
      ]
    },
    {
      "cell_type": "code",
      "execution_count": null,
      "metadata": {
        "id": "Vlg5oHgtgSd1",
        "outputId": "ec518fd9-a03a-479b-f8a9-b476fc4c720f"
      },
      "outputs": [
        {
          "data": {
            "text/plain": [
              "[<matplotlib.lines.Line2D at 0x23732ec1240>]"
            ]
          },
          "execution_count": 9,
          "metadata": {},
          "output_type": "execute_result"
        },
        {
          "data": {
            "image/png": "[encoded data removed]",
            "text/plain": [
              "<Figure size 432x288 with 1 Axes>"
            ]
          },
          "metadata": {
            "needs_background": "light"
          },
          "output_type": "display_data"
        }
      ],
      "source": [
        "plt.plot(train[\"High\"])"
      ]
    },
    {
      "cell_type": "code",
      "execution_count": null,
      "metadata": {
        "id": "8Tbib5BegSd2"
      },
      "outputs": [],
      "source": [
        "# plt.plot(train[\"Close\"])"
      ]
    },
    {
      "cell_type": "code",
      "execution_count": null,
      "metadata": {
        "id": "BJNiIUvPgSd2",
        "outputId": "1e8666d4-790b-450c-ed64-06842ffecf20"
      },
      "outputs": [
        {
          "data": {
            "text/plain": [
              "[<matplotlib.lines.Line2D at 0x237331f9d68>]"
            ]
          },
          "execution_count": 11,
          "metadata": {},
          "output_type": "execute_result"
        },
        {
          "data": {
            "image/png": "[encoded data removed]",
            "text/plain": [
              "<Figure size 432x288 with 1 Axes>"
            ]
          },
          "metadata": {
            "needs_background": "light"
          },
          "output_type": "display_data"
        }
      ],
      "source": [
        "plt.plot(train[\"Low\"])"
      ]
    },
    {
      "cell_type": "code",
      "execution_count": null,
      "metadata": {
        "id": "IfEuoEk8gSd2",
        "outputId": "ed8a79ab-a74b-42c8-bac7-abd91d7c40eb"
      },
      "outputs": [
        {
          "data": {
            "text/html": [
              "<div>\n",
              "<style scoped>\n",
              "    .dataframe tbody tr th:only-of-type {\n",
              "        vertical-align: middle;\n",
              "    }\n",
              "\n",
              "    .dataframe tbody tr th {\n",
              "        vertical-align: top;\n",
              "    }\n",
              "\n",
              "    .dataframe thead th {\n",
              "        text-align: right;\n",
              "    }\n",
              "</style>\n",
              "<table border=\"1\" class=\"dataframe\">\n",
              "  <thead>\n",
              "    <tr style=\"text-align: right;\">\n",
              "      <th></th>\n",
              "      <th>Date</th>\n",
              "      <th>Open</th>\n",
              "      <th>High</th>\n",
              "      <th>Low</th>\n",
              "      <th>Close</th>\n",
              "      <th>Volume</th>\n",
              "    </tr>\n",
              "  </thead>\n",
              "  <tbody>\n",
              "    <tr>\n",
              "      <th>0</th>\n",
              "      <td>01-03-2012</td>\n",
              "      <td>325.25</td>\n",
              "      <td>332.83</td>\n",
              "      <td>324.97</td>\n",
              "      <td>663.59</td>\n",
              "      <td>73,80,500</td>\n",
              "    </tr>\n",
              "    <tr>\n",
              "      <th>1</th>\n",
              "      <td>01-04-2012</td>\n",
              "      <td>331.27</td>\n",
              "      <td>333.87</td>\n",
              "      <td>329.08</td>\n",
              "      <td>666.45</td>\n",
              "      <td>57,49,400</td>\n",
              "    </tr>\n",
              "    <tr>\n",
              "      <th>2</th>\n",
              "      <td>01-05-2012</td>\n",
              "      <td>329.83</td>\n",
              "      <td>330.75</td>\n",
              "      <td>326.89</td>\n",
              "      <td>657.21</td>\n",
              "      <td>65,90,300</td>\n",
              "    </tr>\n",
              "    <tr>\n",
              "      <th>3</th>\n",
              "      <td>01-06-2012</td>\n",
              "      <td>328.34</td>\n",
              "      <td>328.77</td>\n",
              "      <td>323.68</td>\n",
              "      <td>648.24</td>\n",
              "      <td>54,05,900</td>\n",
              "    </tr>\n",
              "    <tr>\n",
              "      <th>4</th>\n",
              "      <td>01-09-2012</td>\n",
              "      <td>322.04</td>\n",
              "      <td>322.29</td>\n",
              "      <td>309.46</td>\n",
              "      <td>620.76</td>\n",
              "      <td>1,16,88,800</td>\n",
              "    </tr>\n",
              "  </tbody>\n",
              "</table>\n",
              "</div>"
            ],
            "text/plain": [
              "         Date    Open    High     Low   Close       Volume\n",
              "0  01-03-2012  325.25  332.83  324.97  663.59    73,80,500\n",
              "1  01-04-2012  331.27  333.87  329.08  666.45    57,49,400\n",
              "2  01-05-2012  329.83  330.75  326.89  657.21    65,90,300\n",
              "3  01-06-2012  328.34  328.77  323.68  648.24    54,05,900\n",
              "4  01-09-2012  322.04  322.29  309.46  620.76  1,16,88,800"
            ]
          },
          "execution_count": 12,
          "metadata": {},
          "output_type": "execute_result"
        }
      ],
      "source": [
        "train.head()"
      ]
    },
    {
      "cell_type": "code",
      "execution_count": null,
      "metadata": {
        "id": "zDSgez7HgSd2",
        "outputId": "099414a9-de27-40eb-daa1-43fb69e6cc7c"
      },
      "outputs": [
        {
          "data": {
            "text/html": [
              "<div>\n",
              "<style scoped>\n",
              "    .dataframe tbody tr th:only-of-type {\n",
              "        vertical-align: middle;\n",
              "    }\n",
              "\n",
              "    .dataframe tbody tr th {\n",
              "        vertical-align: top;\n",
              "    }\n",
              "\n",
              "    .dataframe thead th {\n",
              "        text-align: right;\n",
              "    }\n",
              "</style>\n",
              "<table border=\"1\" class=\"dataframe\">\n",
              "  <thead>\n",
              "    <tr style=\"text-align: right;\">\n",
              "      <th></th>\n",
              "      <th>Open</th>\n",
              "    </tr>\n",
              "  </thead>\n",
              "  <tbody>\n",
              "    <tr>\n",
              "      <th>0</th>\n",
              "      <td>325.25</td>\n",
              "    </tr>\n",
              "    <tr>\n",
              "      <th>1</th>\n",
              "      <td>331.27</td>\n",
              "    </tr>\n",
              "    <tr>\n",
              "      <th>2</th>\n",
              "      <td>329.83</td>\n",
              "    </tr>\n",
              "    <tr>\n",
              "      <th>3</th>\n",
              "      <td>328.34</td>\n",
              "    </tr>\n",
              "    <tr>\n",
              "      <th>4</th>\n",
              "      <td>322.04</td>\n",
              "    </tr>\n",
              "    <tr>\n",
              "      <th>...</th>\n",
              "      <td>...</td>\n",
              "    </tr>\n",
              "    <tr>\n",
              "      <th>1253</th>\n",
              "      <td>790.90</td>\n",
              "    </tr>\n",
              "    <tr>\n",
              "      <th>1254</th>\n",
              "      <td>790.68</td>\n",
              "    </tr>\n",
              "    <tr>\n",
              "      <th>1255</th>\n",
              "      <td>793.70</td>\n",
              "    </tr>\n",
              "    <tr>\n",
              "      <th>1256</th>\n",
              "      <td>783.33</td>\n",
              "    </tr>\n",
              "    <tr>\n",
              "      <th>1257</th>\n",
              "      <td>782.75</td>\n",
              "    </tr>\n",
              "  </tbody>\n",
              "</table>\n",
              "<p>1258 rows × 1 columns</p>\n",
              "</div>"
            ],
            "text/plain": [
              "        Open\n",
              "0     325.25\n",
              "1     331.27\n",
              "2     329.83\n",
              "3     328.34\n",
              "4     322.04\n",
              "...      ...\n",
              "1253  790.90\n",
              "1254  790.68\n",
              "1255  793.70\n",
              "1256  783.33\n",
              "1257  782.75\n",
              "\n",
              "[1258 rows x 1 columns]"
            ]
          },
          "execution_count": 13,
          "metadata": {},
          "output_type": "execute_result"
        }
      ],
      "source": [
        "train.iloc[:,1:2]"
      ]
    },
    {
      "cell_type": "code",
      "execution_count": null,
      "metadata": {
        "id": "UceX5xIWOZR1"
      },
      "outputs": [],
      "source": [
        "training_set=train.iloc[:,1:2].values"
      ]
    },
    {
      "cell_type": "code",
      "execution_count": null,
      "metadata": {
        "id": "sw7AlgJ7gSd3",
        "outputId": "344648a7-d8f1-4d4a-ea21-604b0b8762c0"
      },
      "outputs": [
        {
          "data": {
            "text/plain": [
              "(1258, 1)"
            ]
          },
          "execution_count": 15,
          "metadata": {},
          "output_type": "execute_result"
        }
      ],
      "source": [
        "training_set.shape"
      ]
    },
    {
      "cell_type": "code",
      "execution_count": null,
      "metadata": {
        "id": "YdwoutE8OZR-"
      },
      "outputs": [],
      "source": [
        "from sklearn.preprocessing import MinMaxScaler\n",
        "\n",
        "sc = MinMaxScaler(feature_range = (0, 1)) # with StandardScaler() we do normalization while with MinMaxScaler we do min max transform\n",
        "training_set_scaled = sc.fit_transform(training_set)"
      ]
    },
    {
      "cell_type": "code",
      "execution_count": null,
      "metadata": {
        "colab": {
          "base_uri": "https://localhost:8080/",
          "height": 34
        },
        "id": "WJ18aAN3OZSB",
        "outputId": "2ee5b9d2-9d79-467a-a971-544b0cb15198"
      },
      "outputs": [
        {
          "data": {
            "text/plain": [
              "(1258, 1)"
            ]
          },
          "execution_count": 17,
          "metadata": {},
          "output_type": "execute_result"
        }
      ],
      "source": [
        "training_set_scaled.shape"
      ]
    },
    {
      "cell_type": "code",
      "execution_count": null,
      "metadata": {
        "id": "oEun-2RYgSd4",
        "outputId": "b69589fd-8e4f-43df-f969-1ef252f2f84e"
      },
      "outputs": [
        {
          "data": {
            "text/plain": [
              "array([[0.08581368],\n",
              "       [0.09701243],\n",
              "       [0.09433366],\n",
              "       ...,\n",
              "       [0.95725128],\n",
              "       [0.93796041],\n",
              "       [0.93688146]])"
            ]
          },
          "execution_count": 18,
          "metadata": {},
          "output_type": "execute_result"
        }
      ],
      "source": [
        "training_set_scaled"
      ]
    },
    {
      "cell_type": "code",
      "execution_count": null,
      "metadata": {
        "id": "JxERlXbTgSd4",
        "outputId": "1c98b465-a185-42a5-b95c-b14daf27e4c6"
      },
      "outputs": [
        {
          "data": {
            "text/plain": [
              "(1258, 1)"
            ]
          },
          "execution_count": 19,
          "metadata": {},
          "output_type": "execute_result"
        }
      ],
      "source": [
        "training_set_scaled.shape"
      ]
    },
    {
      "cell_type": "code",
      "execution_count": null,
      "metadata": {
        "id": "G75WtJrTOZSG"
      },
      "outputs": [],
      "source": [
        "X_train=[]\n",
        "y_train=[]\n",
        "for i in range(60,1258):\n",
        "    X_train.append(training_set_scaled[i-60:i,0])\n",
        "    y_train.append(training_set_scaled[i,0])\n",
        "X_train, y_train = np.array(X_train), np.array(y_train)"
      ]
    },
    {
      "cell_type": "code",
      "execution_count": null,
      "metadata": {
        "id": "uxvJYblsgSd4",
        "outputId": "8c05fac7-7f37-4a06-a39d-24db2ae7fc82"
      },
      "outputs": [
        {
          "data": {
            "text/plain": [
              "(1198, 60)"
            ]
          },
          "execution_count": 21,
          "metadata": {},
          "output_type": "execute_result"
        }
      ],
      "source": [
        "X_train.shape"
      ]
    },
    {
      "cell_type": "code",
      "execution_count": null,
      "metadata": {
        "colab": {
          "base_uri": "https://localhost:8080/",
          "height": 51
        },
        "id": "Z-aWSOffOZSJ",
        "outputId": "1ebc2505-b34c-482c-d871-c7a3809448bb"
      },
      "outputs": [
        {
          "name": "stdout",
          "output_type": "stream",
          "text": [
            "(1198, 60)\n",
            "(1198,)\n"
          ]
        }
      ],
      "source": [
        "print(X_train.shape)\n",
        "print(y_train.shape)"
      ]
    },
    {
      "cell_type": "code",
      "execution_count": null,
      "metadata": {
        "id": "bHntnmwlOZSO"
      },
      "outputs": [],
      "source": [
        "#reshape it to (batche_size(#size of inputs),timesteps,input_dimension)\n",
        "X_train = np.reshape(X_train, (X_train.shape[0], X_train.shape[1], 1))"
      ]
    },
    {
      "cell_type": "code",
      "execution_count": null,
      "metadata": {
        "colab": {
          "base_uri": "https://localhost:8080/",
          "height": 34
        },
        "id": "VCrxDboDOZSR",
        "outputId": "6daec7b7-96c0-43bc-ee3e-7ff791de7e6f"
      },
      "outputs": [
        {
          "data": {
            "text/plain": [
              "(1198, 60, 1)"
            ]
          },
          "execution_count": 24,
          "metadata": {},
          "output_type": "execute_result"
        }
      ],
      "source": [
        "X_train.shape"
      ]
    },
    {
      "cell_type": "code",
      "execution_count": null,
      "metadata": {
        "id": "V-7n1J1JgSd5"
      },
      "outputs": [],
      "source": [
        "from keras.models import Sequential\n",
        "from keras.layers import Dense\n",
        "from keras.layers import Dropout\n",
        "# from tensorflow.keras import Sequential\n",
        "from keras.layers import SimpleRNN"
      ]
    },
    {
      "cell_type": "code",
      "execution_count": null,
      "metadata": {
        "id": "77y-0qs5gSd5"
      },
      "outputs": [],
      "source": [
        "\n",
        "model = Sequential()\n",
        "\n",
        "model.add(SimpleRNN(units=50, return_sequences=True, input_shape=(60, 1)))\n",
        "\n",
        "\n",
        "##add 2nd  layer\n",
        "model.add(SimpleRNN(units = 50, return_sequences = True))\n",
        "# model.add(Dropout(rate = 0.2))\n",
        "\n",
        "##add 3rd layer\n",
        "model.add(SimpleRNN(units = 50, return_sequences = True))\n",
        "\n",
        "##add 4th  layer\n",
        "model.add(SimpleRNN(units = 50, return_sequences = False))\n",
        "model.add(Dropout(rate = 0.2))\n",
        "\n",
        "# Output Layer Regression unit=1, activatiion function =:relu, linear\n",
        "model.add(Dense(units = 1, activation=\"relu\"))"
      ]
    },
    {
      "cell_type": "code",
      "execution_count": null,
      "metadata": {
        "id": "BHCMSUTNgSd5",
        "outputId": "1d40b2d6-26d6-4cca-c87a-869fb4c3794c"
      },
      "outputs": [
        {
          "name": "stdout",
          "output_type": "stream",
          "text": [
            "Model: \"sequential_1\"\n",
            "_________________________________________________________________\n",
            "Layer (type)                 Output Shape              Param #   \n",
            "=================================================================\n",
            "simple_rnn_1 (SimpleRNN)     (None, 60, 50)            2600      \n",
            "_________________________________________________________________\n",
            "simple_rnn_2 (SimpleRNN)     (None, 60, 50)            5050      \n",
            "_________________________________________________________________\n",
            "simple_rnn_3 (SimpleRNN)     (None, 60, 50)            5050      \n",
            "_________________________________________________________________\n",
            "simple_rnn_4 (SimpleRNN)     (None, 50)                5050      \n",
            "_________________________________________________________________\n",
            "dropout_1 (Dropout)          (None, 50)                0         \n",
            "_________________________________________________________________\n",
            "dense_1 (Dense)              (None, 1)                 51        \n",
            "=================================================================\n",
            "Total params: 17,801\n",
            "Trainable params: 17,801\n",
            "Non-trainable params: 0\n",
            "_________________________________________________________________\n"
          ]
        }
      ],
      "source": [
        "model.summary()"
      ]
    },
    {
      "cell_type": "code",
      "execution_count": null,
      "metadata": {
        "id": "oZjJou5BOZSw"
      },
      "outputs": [],
      "source": [
        "model.compile(optimizer='adam',loss='mean_squared_error')"
      ]
    },
    {
      "cell_type": "code",
      "execution_count": null,
      "metadata": {
        "colab": {
          "base_uri": "https://localhost:8080/",
          "height": 187
        },
        "id": "RCNy4xYOOZS0",
        "outputId": "3a12e8f3-9aaa-4e4a-d378-b5cfe0aec1c1"
      },
      "outputs": [
        {
          "name": "stdout",
          "output_type": "stream",
          "text": [
            "Epoch 1/50\n",
            "1198/1198 [==============================] - 4s 3ms/step - loss: 0.0934\n",
            "Epoch 2/50\n",
            "1198/1198 [==============================] - 3s 2ms/step - loss: 0.0405\n",
            "Epoch 3/50\n",
            "1198/1198 [==============================] - 3s 2ms/step - loss: 0.0181\n",
            "Epoch 4/50\n",
            "1198/1198 [==============================] - 3s 2ms/step - loss: 0.0113\n",
            "Epoch 5/50\n",
            "1198/1198 [==============================] - 3s 2ms/step - loss: 0.0090\n",
            "Epoch 6/50\n",
            "1198/1198 [==============================] - 3s 2ms/step - loss: 0.0067\n",
            "Epoch 7/50\n",
            "1198/1198 [==============================] - 3s 2ms/step - loss: 0.0075\n",
            "Epoch 8/50\n",
            "1198/1198 [==============================] - 3s 2ms/step - loss: 0.0059\n",
            "Epoch 9/50\n",
            "1198/1198 [==============================] - 3s 2ms/step - loss: 0.0047A\n",
            "Epoch 10/50\n",
            "1198/1198 [==============================] - 3s 3ms/step - loss: 0.0042\n",
            "Epoch 11/50\n",
            "1198/1198 [==============================] - 2s 2ms/step - loss: 0.0052\n",
            "Epoch 12/50\n",
            "1198/1198 [==============================] - 2s 2ms/step - loss: 0.0055\n",
            "Epoch 13/50\n",
            "1198/1198 [==============================] - 2s 2ms/step - loss: 0.0037\n",
            "Epoch 14/50\n",
            "1198/1198 [==============================] - 3s 3ms/step - loss: 0.0039\n",
            "Epoch 15/50\n",
            "1198/1198 [==============================] - 3s 2ms/step - loss: 0.0050\n",
            "Epoch 16/50\n",
            "1198/1198 [==============================] - 3s 2ms/step - loss: 0.0037\n",
            "Epoch 17/50\n",
            "1198/1198 [==============================] - 3s 2ms/step - loss: 0.0036\n",
            "Epoch 18/50\n",
            "1198/1198 [==============================] - 3s 2ms/step - loss: 0.0035\n",
            "Epoch 19/50\n",
            "1198/1198 [==============================] - 3s 2ms/step - loss: 0.0039\n",
            "Epoch 20/50\n",
            "1198/1198 [==============================] - 3s 2ms/step - loss: 0.0036\n",
            "Epoch 21/50\n",
            "1198/1198 [==============================] - 3s 2ms/step - loss: 0.0032\n",
            "Epoch 22/50\n",
            "1198/1198 [==============================] - 3s 3ms/step - loss: 0.0027\n",
            "Epoch 23/50\n",
            "1198/1198 [==============================] - 3s 2ms/step - loss: 0.0033\n",
            "Epoch 24/50\n",
            "1198/1198 [==============================] - 3s 2ms/step - loss: 0.0027\n",
            "Epoch 25/50\n",
            "1198/1198 [==============================] - 3s 2ms/step - loss: 0.0037\n",
            "Epoch 26/50\n",
            "1198/1198 [==============================] - 3s 2ms/step - loss: 0.0039\n",
            "Epoch 27/50\n",
            "1198/1198 [==============================] - 3s 2ms/step - loss: 0.0027\n",
            "Epoch 28/50\n",
            "1198/1198 [==============================] - 3s 2ms/step - loss: 0.0034\n",
            "Epoch 29/50\n",
            "1198/1198 [==============================] - 3s 2ms/step - loss: 0.0027\n",
            "Epoch 30/50\n",
            "1198/1198 [==============================] - 3s 2ms/step - loss: 0.0029\n",
            "Epoch 31/50\n",
            "1198/1198 [==============================] - 3s 2ms/step - loss: 0.0034\n",
            "Epoch 32/50\n",
            "1198/1198 [==============================] - 3s 2ms/step - loss: 0.0024\n",
            "Epoch 33/50\n",
            "1198/1198 [==============================] - 3s 2ms/step - loss: 0.0026A: \n",
            "Epoch 34/50\n",
            "1198/1198 [==============================] - 3s 2ms/step - loss: 0.0028\n",
            "Epoch 35/50\n",
            "1198/1198 [==============================] - 3s 2ms/step - loss: 0.0029\n",
            "Epoch 36/50\n",
            "1198/1198 [==============================] - 3s 2ms/step - loss: 0.0023\n",
            "Epoch 37/50\n",
            "1198/1198 [==============================] - 3s 2ms/step - loss: 0.0028\n",
            "Epoch 38/50\n",
            "1198/1198 [==============================] - 3s 2ms/step - loss: 0.0033A: 0s - loss: \n",
            "Epoch 39/50\n",
            "1198/1198 [==============================] - 3s 2ms/step - loss: 0.0027\n",
            "Epoch 40/50\n",
            "1198/1198 [==============================] - 3s 2ms/step - loss: 0.0030\n",
            "Epoch 41/50\n",
            "1198/1198 [==============================] - 3s 2ms/step - loss: 0.0026A: \n",
            "Epoch 42/50\n",
            "1198/1198 [==============================] - 3s 2ms/step - loss: 0.0022\n",
            "Epoch 43/50\n",
            "1198/1198 [==============================] - 3s 2ms/step - loss: 0.0024\n",
            "Epoch 44/50\n",
            "1198/1198 [==============================] - 3s 2ms/step - loss: 0.0021\n",
            "Epoch 45/50\n",
            "1198/1198 [==============================] - 3s 2ms/step - loss: 0.0023\n",
            "Epoch 46/50\n",
            "1198/1198 [==============================] - 3s 2ms/step - loss: 0.0024\n",
            "Epoch 47/50\n",
            "1198/1198 [==============================] - 3s 2ms/step - loss: 0.0023\n",
            "Epoch 48/50\n",
            "1198/1198 [==============================] - 3s 2ms/step - loss: 0.0022\n",
            "Epoch 49/50\n",
            "1198/1198 [==============================] - 3s 2ms/step - loss: 0.0024\n",
            "Epoch 50/50\n",
            "1198/1198 [==============================] - 3s 2ms/step - loss: 0.0021\n"
          ]
        }
      ],
      "source": [
        "hist=model.fit(X_train,y_train,epochs=50,batch_size=32)"
      ]
    },
    {
      "cell_type": "code",
      "execution_count": null,
      "metadata": {
        "id": "TXlo7V-ngSd6",
        "outputId": "789c128f-4db8-417e-82e1-f8e9aa7c4a04"
      },
      "outputs": [
        {
          "data": {
            "text/plain": [
              "[0.09336546102604007,\n",
              " 0.040520672865199524,\n",
              " 0.018101993377611217,\n",
              " 0.011338114898608304,\n",
              " 0.00900310078847264,\n",
              " 0.006726960018774703,\n",
              " 0.007483039522786098,\n",
              " 0.005883702897126219,\n",
              " 0.004727351828283927,\n",
              " 0.004241520739494759,\n",
              " 0.0052394722518394506,\n",
              " 0.005536047134234357,\n",
              " 0.003681670851812687,\n",
              " 0.003949728967366936,\n",
              " 0.004973841902608665,\n",
              " 0.003720257062782131,\n",
              " 0.0035687234363081756,\n",
              " 0.003465029589041993,\n",
              " 0.00388861129422655,\n",
              " 0.0036285249415306197,\n",
              " 0.003243876950160751,\n",
              " 0.0026793323505051024,\n",
              " 0.003340669545362111,\n",
              " 0.002749002887673042,\n",
              " 0.0037164581225926866,\n",
              " 0.003944991010308067,\n",
              " 0.002727245360003389,\n",
              " 0.003388001691574893,\n",
              " 0.0027111876057849603,\n",
              " 0.0029089350816179594,\n",
              " 0.0033610592870654318,\n",
              " 0.002392742041193683,\n",
              " 0.0025938161171098957,\n",
              " 0.0027839975355376484,\n",
              " 0.0028700719596056238,\n",
              " 0.0022956404227838043,\n",
              " 0.0027796547111273062,\n",
              " 0.003292949441105177,\n",
              " 0.002687209455268411,\n",
              " 0.0030174175695592354,\n",
              " 0.002625503493721701,\n",
              " 0.002188118916309636,\n",
              " 0.002443937442494006,\n",
              " 0.0021273102576320427,\n",
              " 0.0022572286214985774,\n",
              " 0.002357508117474541,\n",
              " 0.002260092452311506,\n",
              " 0.0022157281489486188,\n",
              " 0.002406582191978303,\n",
              " 0.002123807969531091]"
            ]
          },
          "execution_count": 31,
          "metadata": {},
          "output_type": "execute_result"
        }
      ],
      "source": [
        "hist.history[\"loss\"]"
      ]
    },
    {
      "cell_type": "code",
      "execution_count": null,
      "metadata": {
        "id": "SOEk1whagSd6",
        "outputId": "802a7dca-bdab-4e61-b557-a6d18610c317"
      },
      "outputs": [
        {
          "data": {
            "text/plain": [
              "[<matplotlib.lines.Line2D at 0x23739fb5550>]"
            ]
          },
          "execution_count": 32,
          "metadata": {},
          "output_type": "execute_result"
        },
        {
          "data": {
            "image/png": "[encoded data removed]",
            "text/plain": [
              "<Figure size 432x288 with 1 Axes>"
            ]
          },
          "metadata": {
            "needs_background": "light"
          },
          "output_type": "display_data"
        }
      ],
      "source": [
        "plt.plot(range(1,51),hist.history[\"loss\"])"
      ]
    },
    {
      "cell_type": "code",
      "execution_count": null,
      "metadata": {
        "id": "9uRmzk1-OZS6",
        "outputId": "99fb43b9-26e8-4285-80b3-426dc791ddba"
      },
      "outputs": [
        {
          "name": "stdout",
          "output_type": "stream",
          "text": [
            "Model: \"sequential_1\"\n",
            "_________________________________________________________________\n",
            "Layer (type)                 Output Shape              Param #   \n",
            "=================================================================\n",
            "simple_rnn_1 (SimpleRNN)     (None, 60, 50)            2600      \n",
            "_________________________________________________________________\n",
            "simple_rnn_2 (SimpleRNN)     (None, 60, 50)            5050      \n",
            "_________________________________________________________________\n",
            "simple_rnn_3 (SimpleRNN)     (None, 60, 50)            5050      \n",
            "_________________________________________________________________\n",
            "simple_rnn_4 (SimpleRNN)     (None, 50)                5050      \n",
            "_________________________________________________________________\n",
            "dropout_1 (Dropout)          (None, 50)                0         \n",
            "_________________________________________________________________\n",
            "dense_1 (Dense)              (None, 1)                 51        \n",
            "=================================================================\n",
            "Total params: 17,801\n",
            "Trainable params: 17,801\n",
            "Non-trainable params: 0\n",
            "_________________________________________________________________\n",
            "None\n"
          ]
        }
      ],
      "source": [
        "print(model.summary())"
      ]
    },
    {
      "cell_type": "code",
      "execution_count": null,
      "metadata": {
        "id": "4TP_1HBIgSd6"
      },
      "outputs": [],
      "source": []
    },
    {
      "cell_type": "code",
      "execution_count": null,
      "metadata": {
        "id": "pq_YAKveOZS-"
      },
      "outputs": [],
      "source": [
        "test = pd.read_csv(r'Google_Stock_Price_Test.csv')\n",
        "real_stock_price = test.iloc[:, 1:2].values"
      ]
    },
    {
      "cell_type": "code",
      "execution_count": null,
      "metadata": {
        "id": "URrbj-xhOZTC"
      },
      "outputs": [],
      "source": [
        "total_data=pd.concat([train['Open'],test['Open']],axis=0)\n",
        "inputs=total_data[len(train)-len(test)-60:].values\n",
        "inputs=inputs.reshape(-1,1)\n",
        "inputs = sc.transform(inputs)"
      ]
    },
    {
      "cell_type": "code",
      "execution_count": null,
      "metadata": {
        "id": "SaaaV8IjOZTG"
      },
      "outputs": [],
      "source": [
        "X_test=[]\n",
        "for i in range(60,80):\n",
        "    X_test.append(inputs[i-60:i,0])\n",
        "X_test=np.array(X_test)\n",
        "X_test.shape\n",
        "X_test=np.reshape(X_test,(X_test.shape[0],X_test.shape[1],1))"
      ]
    },
    {
      "cell_type": "code",
      "execution_count": null,
      "metadata": {
        "id": "iCCBLbqugSd7",
        "outputId": "6a1fe9ad-4d29-4f08-e362-ccc8fb46028a"
      },
      "outputs": [
        {
          "data": {
            "text/plain": [
              "array([[[0.92914279],\n",
              "        [0.91334921],\n",
              "        [0.88550115],\n",
              "        ...,\n",
              "        [0.91600938],\n",
              "        [0.9132934 ],\n",
              "        [0.88979835]],\n",
              "\n",
              "       [[0.91334921],\n",
              "        [0.88550115],\n",
              "        [0.90289456],\n",
              "        ...,\n",
              "        [0.9132934 ],\n",
              "        [0.88979835],\n",
              "        [0.86589404]],\n",
              "\n",
              "       [[0.88550115],\n",
              "        [0.90289456],\n",
              "        [0.89383511],\n",
              "        ...,\n",
              "        [0.88979835],\n",
              "        [0.86589404],\n",
              "        [0.89030062]],\n",
              "\n",
              "       ...,\n",
              "\n",
              "       [[0.92106928],\n",
              "        [0.92438053],\n",
              "        [0.93048218],\n",
              "        ...,\n",
              "        [0.95475854],\n",
              "        [0.95204256],\n",
              "        [0.95163331]],\n",
              "\n",
              "       [[0.92438053],\n",
              "        [0.93048218],\n",
              "        [0.9299055 ],\n",
              "        ...,\n",
              "        [0.95204256],\n",
              "        [0.95163331],\n",
              "        [0.95725128]],\n",
              "\n",
              "       [[0.93048218],\n",
              "        [0.9299055 ],\n",
              "        [0.93113327],\n",
              "        ...,\n",
              "        [0.95163331],\n",
              "        [0.95725128],\n",
              "        [0.93796041]]])"
            ]
          },
          "execution_count": 37,
          "metadata": {},
          "output_type": "execute_result"
        }
      ],
      "source": [
        "X_test"
      ]
    },
    {
      "cell_type": "code",
      "execution_count": null,
      "metadata": {
        "id": "6EkGjU2pOZTM"
      },
      "outputs": [],
      "source": [
        "predicted_stock_price=model.predict(X_test)\n",
        "predicted_stock_price=sc.inverse_transform(predicted_stock_price)"
      ]
    },
    {
      "cell_type": "code",
      "execution_count": null,
      "metadata": {
        "id": "Z61Z_HMQgSeE",
        "outputId": "63e1b8f9-be98-46eb-a0fe-1af09dc13735"
      },
      "outputs": [
        {
          "data": {
            "text/plain": [
              "array([[727.26184],\n",
              "       [716.8006 ],\n",
              "       [723.85583],\n",
              "       [736.4599 ],\n",
              "       [733.0184 ],\n",
              "       [736.0351 ],\n",
              "       [742.8264 ],\n",
              "       [750.35187],\n",
              "       [754.04297],\n",
              "       [757.561  ],\n",
              "       [757.66895],\n",
              "       [762.2298 ],\n",
              "       [754.8867 ],\n",
              "       [754.8441 ],\n",
              "       [755.56024],\n",
              "       [756.16113],\n",
              "       [753.3869 ],\n",
              "       [755.23096],\n",
              "       [755.68054],\n",
              "       [750.9398 ]], dtype=float32)"
            ]
          },
          "execution_count": 41,
          "metadata": {},
          "output_type": "execute_result"
        }
      ],
      "source": [
        "predicted_stock_price"
      ]
    },
    {
      "cell_type": "code",
      "execution_count": null,
      "metadata": {
        "id": "bbuQrhrzOZTQ",
        "outputId": "4f5caa2e-0288-4a65-ae96-f501e3911bbe"
      },
      "outputs": [
        {
          "data": {
            "image/png": "[encoded data removed]",
            "text/plain": [
              "<Figure size 432x288 with 1 Axes>"
            ]
          },
          "metadata": {
            "needs_background": "light"
          },
          "output_type": "display_data"
        }
      ],
      "source": [
        "#Visualization\n",
        "plt.plot(predicted_stock_price,color='red',label='Predicted Stock Price')\n",
        "plt.plot(real_stock_price,color='blue',label='Real Stock Price')\n",
        "plt.title('Google Stock Price Prediction')\n",
        "plt.xlabel('Time')\n",
        "plt.ylabel('Stock Price')\n",
        "plt.legend()\n",
        "plt.show()"
      ]
    },
    {
      "cell_type": "code",
      "execution_count": null,
      "metadata": {
        "id": "vGEDE19bOZTT"
      },
      "outputs": [],
      "source": []
    },
    {
      "cell_type": "code",
      "execution_count": null,
      "metadata": {
        "id": "JTf4l2SkOZTW"
      },
      "outputs": [],
      "source": []
    }
  ],
  "metadata": {
    "colab": {
      "provenance": []
    },
    "kernelspec": {
      "display_name": "Python 3",
      "language": "python",
      "name": "python3"
    },
    "language_info": {
      "codemirror_mode": {
        "name": "ipython",
        "version": 3
      },
      "file_extension": ".py",
      "mimetype": "text/x-python",
      "name": "python",
      "nbconvert_exporter": "python",
      "pygments_lexer": "ipython3",
      "version": "3.6.12"
    }
  },
  "nbformat": 4,
  "nbformat_minor": 0
}