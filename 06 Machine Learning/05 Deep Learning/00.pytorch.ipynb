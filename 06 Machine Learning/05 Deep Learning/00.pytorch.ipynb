{
 "cells": [
  {
   "cell_type": "markdown",
   "metadata": {},
   "source": [
    "# Key OOP Concepts for PyTorch:"
   ]
  },
  {
   "cell_type": "markdown",
   "metadata": {},
   "source": [
    "### Classes and Objects:\n",
    "- A class is like a blueprint for creating objects. In PyTorch, you use a class to define your model.\n",
    "- An object is an instance of a class. For example, when you create a model like `model = MyModel()`. you're creating an object of the `MyModel` class."
   ]
  },
  {
   "cell_type": "code",
   "execution_count": 11,
   "metadata": {},
   "outputs": [],
   "source": [
    "import torch\n",
    "import torch.nn as nn\n",
    "\n",
    "class MyModel(nn.Module):  # Define a class for the model\n",
    "    def __init__(self):\n",
    "        super(MyModel, self).__init__()\n",
    "        self.layer = nn.Linear(10, 5)  # Define a layer\n",
    "\n",
    "    def forward(self, x):  # Define how data flows through the layers\n",
    "        return self.layer(x)"
   ]
  },
  {
   "cell_type": "code",
   "execution_count": 12,
   "metadata": {},
   "outputs": [
    {
     "name": "stdout",
     "output_type": "stream",
     "text": [
      "MyModel(\n",
      "  (layer): Linear(in_features=10, out_features=5, bias=True)\n",
      ")\n"
     ]
    }
   ],
   "source": [
    "model = MyModel()  # Create an object of the class\n",
    "print(model)"
   ]
  },
  {
   "cell_type": "markdown",
   "metadata": {},
   "source": [
    "### Inheritance\n",
    "\n",
    "- Inheritance allows a class to \"inherit\" features (methods and attributes) from another class.\n",
    "- In PyTorch, every model class you define inherits from `torch.nn.Module`. This gives your model access to PyTorch's functionality (like tracking layers and parameters)."
   ]
  },
  {
   "cell_type": "code",
   "execution_count": 13,
   "metadata": {},
   "outputs": [],
   "source": [
    "class MyModel(nn.Module):  # Inheriting from nn.Module\n",
    "    def __init__(self):\n",
    "        super(MyModel, self).__init__()  # Initialize the parent class\n",
    "        self.layer = nn.Linear(10, 5)"
   ]
  },
  {
   "cell_type": "markdown",
   "metadata": {},
   "source": [
    "### Constructor\n",
    "- The `__init__` method is the constructor. It's called automatically when you create an object of the class.\n",
    "- You use `__init__` to define the layers of your model."
   ]
  },
  {
   "cell_type": "code",
   "execution_count": 14,
   "metadata": {},
   "outputs": [],
   "source": [
    "class MyModel(nn.Module):\n",
    "    def __init__(self): # constructor\n",
    "        super(MyModel, self).__init__()\n",
    "        self.conv1 = nn.Conv2d(1, 32, kernel_size=3)\n"
   ]
  },
  {
   "cell_type": "markdown",
   "metadata": {},
   "source": [
    "### `forward` Method\n",
    "- The `forward` method defines how the data flows through your model.\n",
    "- When you pass input data to the model (`output = model(input)`), PyTorch automatically calls the `forward` method."
   ]
  },
  {
   "cell_type": "markdown",
   "metadata": {},
   "source": []
  },
  {
   "cell_type": "code",
   "execution_count": 15,
   "metadata": {},
   "outputs": [],
   "source": [
    "class MyModel(nn.Module):\n",
    "    def forward(self, x):\n",
    "        x = torch.relu(self.conv1(x))\n",
    "        return x"
   ]
  },
  {
   "cell_type": "markdown",
   "metadata": {},
   "source": [
    "### Methods and Attributes\n",
    "- A method is a function defined inside a class (e.g., `forward()`).\n",
    "- An attribute is a variable associated with an object (e.g., `self.conv1`)."
   ]
  },
  {
   "cell_type": "markdown",
   "metadata": {},
   "source": [
    "## Implementation"
   ]
  },
  {
   "cell_type": "code",
   "execution_count": 17,
   "metadata": {},
   "outputs": [],
   "source": [
    "import torch\n",
    "import torch.nn as nn\n",
    "\n",
    "# Define the simple neural network\n",
    "class SimpleNN(nn.Module):\n",
    "    def __init__(self):\n",
    "        super(SimpleNN, self).__init__()\n",
    "        self.fc1 = nn.Linear(10, 32)  # Input layer (10 features) to hidden layer (32 neurons)\n",
    "        self.fc2 = nn.Linear(32, 16)  # Hidden layer (32 neurons) to another hidden layer (16 neurons)\n",
    "        self.fc3 = nn.Linear(16, 1)   # Hidden layer (16 neurons) to output layer (1 neuron)\n",
    "\n",
    "    def forward(self, x):\n",
    "        x = torch.relu(self.fc1(x))  # Apply ReLU activation after the first layer\n",
    "        x = torch.relu(self.fc2(x))  # Apply ReLU activation after the second layer\n",
    "        x = torch.sigmoid(self.fc3(x))  # Output activation (e.g., for binary classification)\n",
    "        return x\n"
   ]
  },
  {
   "cell_type": "code",
   "execution_count": 18,
   "metadata": {},
   "outputs": [
    {
     "name": "stdout",
     "output_type": "stream",
     "text": [
      "SimpleNN(\n",
      "  (fc1): Linear(in_features=10, out_features=32, bias=True)\n",
      "  (fc2): Linear(in_features=32, out_features=16, bias=True)\n",
      "  (fc3): Linear(in_features=16, out_features=1, bias=True)\n",
      ")\n"
     ]
    }
   ],
   "source": [
    "# Create the model\n",
    "model = SimpleNN()\n",
    "\n",
    "# Print the model architecture\n",
    "print(model)"
   ]
  },
  {
   "cell_type": "code",
   "execution_count": 19,
   "metadata": {},
   "outputs": [
    {
     "name": "stdout",
     "output_type": "stream",
     "text": [
      "Output shape: torch.Size([5, 1])\n",
      "Output: tensor([[0.4669],\n",
      "        [0.4632],\n",
      "        [0.5070],\n",
      "        [0.4779],\n",
      "        [0.4909]], grad_fn=<SigmoidBackward0>)\n"
     ]
    }
   ],
   "source": [
    "# Example input tensor: batch of 5 samples with 10 features each\n",
    "input_data = torch.randn(5, 10)  # Shape: [5, 10]\n",
    "\n",
    "# Pass the data through the model\n",
    "output = model(input_data)\n",
    "\n",
    "print(\"Output shape:\", output.shape)  # Output shape: [5, 1]\n",
    "print(\"Output:\", output)  # Output values\n"
   ]
  },
  {
   "cell_type": "code",
   "execution_count": null,
   "metadata": {},
   "outputs": [],
   "source": []
  }
 ],
 "metadata": {
  "kernelspec": {
   "display_name": "ml_env",
   "language": "python",
   "name": "python3"
  },
  "language_info": {
   "codemirror_mode": {
    "name": "ipython",
    "version": 3
   },
   "file_extension": ".py",
   "mimetype": "text/x-python",
   "name": "python",
   "nbconvert_exporter": "python",
   "pygments_lexer": "ipython3",
   "version": "3.10.13"
  }
 },
 "nbformat": 4,
 "nbformat_minor": 2
}
