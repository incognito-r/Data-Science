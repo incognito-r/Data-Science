{
 "cells": [
  {
   "cell_type": "markdown",
   "id": "dc26f1c4",
   "metadata": {},
   "source": [
    "# Linear Regression - Neural Network"
   ]
  },
  {
   "cell_type": "markdown",
   "id": "d6b44d66",
   "metadata": {},
   "source": [
    "## Data Prep"
   ]
  },
  {
   "cell_type": "code",
   "execution_count": 33,
   "id": "ed69db77",
   "metadata": {},
   "outputs": [],
   "source": [
    "# Read data\n",
    "from sklearn.datasets import fetch_california_housing\n",
    "data = fetch_california_housing()\n",
    "X, y = data.data, data.target"
   ]
  },
  {
   "cell_type": "code",
   "execution_count": 34,
   "id": "90eb05a0",
   "metadata": {},
   "outputs": [
    {
     "data": {
      "text/plain": [
       "8"
      ]
     },
     "execution_count": 34,
     "metadata": {},
     "output_type": "execute_result"
    }
   ],
   "source": [
    "n_features = X.shape[1]\n",
    "n_features"
   ]
  },
  {
   "cell_type": "code",
   "execution_count": 35,
   "id": "cbec6d08",
   "metadata": {},
   "outputs": [],
   "source": [
    "from sklearn.model_selection import train_test_split\n",
    "# train-test split for model evaluation\n",
    "X_train, X_test, y_train, y_test = train_test_split(X, y, test_size=0.2, shuffle=False, random_state=0)"
   ]
  },
  {
   "cell_type": "markdown",
   "id": "58ea9072",
   "metadata": {},
   "source": [
    "## PyTorch Dataset\n"
   ]
  },
  {
   "cell_type": "code",
   "execution_count": 36,
   "id": "0d27cc80",
   "metadata": {},
   "outputs": [],
   "source": [
    "# Pytorch Dataset\n",
    "import torch\n",
    "from torch.utils.data import Dataset, DataLoader\n",
    "\n",
    "class IncomeDataset(Dataset):\n",
    "    def __init__(self, X, y):\n",
    "        self.X = torch.tensor(X, dtype=torch.float32)\n",
    "        self.y = torch.tensor(y, dtype=torch.float32).view(-1,1) # or .reshape(-1,1).\n",
    "\n",
    "    def __len__(self):\n",
    "        return len(self.X)\n",
    "    \n",
    "    def __getitem__(self, idx):\n",
    "        return self.X[idx], self.y[idx]"
   ]
  },
  {
   "cell_type": "code",
   "execution_count": 37,
   "id": "0ac715df",
   "metadata": {},
   "outputs": [],
   "source": [
    "# Pytorch\n",
    "train_dataset = IncomeDataset(X=X_train, y=y_train)\n",
    "test_dataset = IncomeDataset(X=X_test, y=y_test)"
   ]
  },
  {
   "cell_type": "code",
   "execution_count": 38,
   "id": "9c6d370f",
   "metadata": {},
   "outputs": [],
   "source": [
    "train_loader = DataLoader(dataset=train_dataset, batch_size=32, shuffle=False)\n",
    "test_loader = DataLoader(dataset=test_dataset, batch_size=32, shuffle=False)"
   ]
  },
  {
   "cell_type": "markdown",
   "id": "133b134a",
   "metadata": {},
   "source": [
    "## Neural Network Model"
   ]
  },
  {
   "cell_type": "code",
   "execution_count": 39,
   "id": "25d2a84c",
   "metadata": {},
   "outputs": [],
   "source": [
    "# Neuaral Network Model\n",
    "import torch.nn as nn\n",
    "class IncomeModel(nn.Module):\n",
    "    def __init__(self):\n",
    "        super(IncomeModel, self).__init__()\n",
    "\n",
    "        self.network = nn.Sequential(\n",
    "            nn.Linear(in_features=8, out_features=64),\n",
    "            nn.ReLU(),\n",
    "            nn.Linear(in_features=64, out_features=32),\n",
    "            nn.ReLU(),\n",
    "            nn.Linear(in_features=32, out_features=1), # output for regression\n",
    "        )\n",
    "\n",
    "    def forward(self, x):\n",
    "        return self.network(x)"
   ]
  },
  {
   "cell_type": "markdown",
   "id": "303eb3d1",
   "metadata": {},
   "source": [
    "## Training"
   ]
  },
  {
   "cell_type": "code",
   "execution_count": 40,
   "id": "c5bd7043",
   "metadata": {},
   "outputs": [],
   "source": [
    "model = IncomeModel()"
   ]
  },
  {
   "cell_type": "code",
   "execution_count": 41,
   "id": "5330f1f8",
   "metadata": {},
   "outputs": [],
   "source": [
    "# Optimizer\n",
    "optimizer = torch.optim.Adam(model.parameters(), lr=0.001)\n",
    "# Loss\n",
    "criterion = nn.MSELoss() # MSE for Linear Regression\n",
    "epochs = 100\n"
   ]
  },
  {
   "cell_type": "code",
   "execution_count": 42,
   "metadata": {},
   "outputs": [
    {
     "name": "stdout",
     "output_type": "stream",
     "text": [
      "Epoch 10/100, Loss: 2.7024\n",
      "Epoch 20/100, Loss: 1.1751\n",
      "Epoch 30/100, Loss: 1.0409\n",
      "Epoch 40/100, Loss: 0.8651\n",
      "Epoch 50/100, Loss: 0.7493\n",
      "Epoch 60/100, Loss: 0.7082\n",
      "Epoch 70/100, Loss: 0.6695\n",
      "Epoch 80/100, Loss: 0.6449\n",
      "Epoch 90/100, Loss: 0.6263\n",
      "Epoch 100/100, Loss: 0.6173\n"
     ]
    }
   ],
   "source": [
    "# training loop\n",
    "for epoch in range(epochs):\n",
    "    model.train()  # important: sets layers like Dropout, BatchNorm to training mode\n",
    "    running_loss = 0\n",
    "    for inputs, targets in train_loader:\n",
    "        outputs = model(inputs)               # forward pass\n",
    "        loss = criterion(outputs, targets)    # compute loss\n",
    "\n",
    "        optimizer.zero_grad()  # clear gradients\n",
    "        loss.backward()        # backpropagation\n",
    "        optimizer.step()       # update weights\n",
    "        running_loss += loss.item()\n",
    "\n",
    "    if (epoch + 1) % 10 == 0:\n",
    "        print(f\"Epoch {epoch+1}/{epochs}, Loss: {running_loss/len(train_loader):.4f}\")"
   ]
  },
  {
   "cell_type": "code",
   "execution_count": null,
   "id": "d31c2687",
   "metadata": {},
   "outputs": [],
   "source": []
  },
  {
   "cell_type": "code",
   "execution_count": null,
   "id": "5cb1753f",
   "metadata": {},
   "outputs": [],
   "source": []
  }
 ],
 "metadata": {
  "kernelspec": {
   "display_name": "ml_env",
   "language": "python",
   "name": "python3"
  },
  "language_info": {
   "codemirror_mode": {
    "name": "ipython",
    "version": 3
   },
   "file_extension": ".py",
   "mimetype": "text/x-python",
   "name": "python",
   "nbconvert_exporter": "python",
   "pygments_lexer": "ipython3",
   "version": "3.10.16"
  }
 },
 "nbformat": 4,
 "nbformat_minor": 5
}
