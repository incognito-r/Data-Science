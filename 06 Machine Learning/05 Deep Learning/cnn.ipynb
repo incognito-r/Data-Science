{
 "cells": [
  {
   "cell_type": "markdown",
   "metadata": {},
   "source": [
    "# Pytorch"
   ]
  },
  {
   "cell_type": "code",
   "execution_count": 1,
   "metadata": {},
   "outputs": [
    {
     "name": "stdout",
     "output_type": "stream",
     "text": [
      "basicCNN(\n",
      "  (conv1): Conv2d(1, 32, kernel_size=(3, 3), stride=(1, 1), padding=(1, 1))\n",
      "  (conv2): Conv2d(32, 64, kernel_size=(3, 3), stride=(1, 1), padding=(1, 1))\n",
      "  (pool): MaxPool2d(kernel_size=2, stride=2, padding=0, dilation=1, ceil_mode=False)\n",
      "  (flatten): Flatten(start_dim=1, end_dim=-1)\n",
      "  (fc1): Linear(in_features=262144, out_features=128, bias=True)\n",
      "  (fc2): Linear(in_features=128, out_features=10, bias=True)\n",
      ")\n"
     ]
    }
   ],
   "source": [
    "import torch\n",
    "import torch.nn as nn\n",
    "\n",
    "# Define the CNN Architecture\n",
    "class basicCNN(nn.Module):\n",
    "    def __init__(self):\n",
    "        super(basicCNN, self).__init__()\n",
    "        self.conv1 = nn.Conv2d(in_channels=1, out_channels=32, kernel_size=3, padding=1) # Conv layer 1\n",
    "        self.conv2 = nn.Conv2d(in_channels=32, out_channels=64, kernel_size=3, padding=1) # Conv layer 2\n",
    "        self.pool = nn.MaxPool2d(kernel_size=2, stride=2) # Max pooling layer\n",
    "        self.flatten = nn.Flatten() # Flatten layer\n",
    "        self.fc1 = nn.Linear(in_features=64*64*64, out_features=128) # Fully connected layer 1\n",
    "        self.fc2 = nn.Linear(in_features=128, out_features=10) # Fully connected\n",
    "\n",
    "    def forward(self, x):\n",
    "        x = torch.relu(self.conv1(x)) # Activation function for Conv layer 1\n",
    "        x = self.pool(x) # Max pooling layer\n",
    "        x = torch.relu(self.conv2(x)) # Activation function for Conv layer 2\n",
    "        x = self.pool(x) # Max pooling layer\n",
    "        x = self.flatten(x) # Flatten layer\n",
    "        x = torch.relu(self.fc1(x)) # Activation function for Fully connected layer 1\n",
    "        x = self.fc2(x) # Fully connected layer\n",
    "        return x\n",
    "\n",
    "model = basicCNN()\n",
    "print(model)"
   ]
  },
  {
   "cell_type": "markdown",
   "metadata": {},
   "source": [
    "# tensorflow"
   ]
  },
  {
   "cell_type": "code",
   "execution_count": null,
   "metadata": {},
   "outputs": [],
   "source": [
    "import tensorflow as tf\n",
    "from tensorflow.keras import Sequential\n",
    "from tensorflow.keras.layers import Conv2D, MaxPooling2D, Flatten, Dense\n",
    "\n",
    "# Define the CNN model\n",
    "model = Sequential([\n",
    "    # 1st Convolutional Layer\n",
    "    Conv2D(filters=32, kernel_size=(3, 3), activation='relu', padding='same', input_shape=(28, 28, 1)),\n",
    "    \n",
    "    # Max Pooling Layer\n",
    "    MaxPooling2D(pool_size=(2, 2), strides=2),\n",
    "\n",
    "    # 2nd Convolutional Layer\n",
    "    Conv2D(filters=64, kernel_size=(3, 3), activation='relu', padding='same'),\n",
    "    \n",
    "    # Max Pooling Layer\n",
    "    MaxPooling2D(pool_size=(2, 2), strides=2),\n",
    "\n",
    "    # Flatten the feature maps\n",
    "    Flatten(),\n",
    "\n",
    "    # Fully Connected Layer\n",
    "    Dense(128, activation='relu'),\n",
    "\n",
    "    # Output Layer (10 classes)\n",
    "    Dense(10, activation='softmax')\n",
    "])\n",
    "\n",
    "# Print the model summary\n",
    "model.summary()\n"
   ]
  }
 ],
 "metadata": {
  "kernelspec": {
   "display_name": "ml_env",
   "language": "python",
   "name": "python3"
  },
  "language_info": {
   "codemirror_mode": {
    "name": "ipython",
    "version": 3
   },
   "file_extension": ".py",
   "mimetype": "text/x-python",
   "name": "python",
   "nbconvert_exporter": "python",
   "pygments_lexer": "ipython3",
   "version": "3.10.13"
  }
 },
 "nbformat": 4,
 "nbformat_minor": 2
}
