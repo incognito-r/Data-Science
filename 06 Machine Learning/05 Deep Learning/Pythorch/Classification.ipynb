{
 "cells": [
  {
   "cell_type": "markdown",
   "id": "ad9f26a2",
   "metadata": {},
   "source": [
    "# Classification Neural Network"
   ]
  },
  {
   "cell_type": "markdown",
   "id": "ac6ed429",
   "metadata": {},
   "source": [
    "## Dataset Prep"
   ]
  },
  {
   "cell_type": "code",
   "execution_count": 1,
   "id": "807a039d",
   "metadata": {},
   "outputs": [],
   "source": [
    "from sklearn.datasets import load_iris"
   ]
  },
  {
   "cell_type": "code",
   "execution_count": 2,
   "id": "ad9966f4",
   "metadata": {},
   "outputs": [],
   "source": [
    "iris = load_iris()\n",
    "X, y = iris.data, iris.target\n"
   ]
  },
  {
   "cell_type": "code",
   "execution_count": 3,
   "id": "213fcbc5",
   "metadata": {},
   "outputs": [
    {
     "data": {
      "text/plain": [
       "4"
      ]
     },
     "execution_count": 3,
     "metadata": {},
     "output_type": "execute_result"
    }
   ],
   "source": [
    "n_features = X.shape[1]\n",
    "n_features"
   ]
  },
  {
   "cell_type": "code",
   "execution_count": 4,
   "id": "095bacd1",
   "metadata": {},
   "outputs": [],
   "source": [
    "from sklearn.preprocessing import StandardScaler\n",
    "# Normalize features\n",
    "scaler = StandardScaler()\n",
    "X = scaler.fit_transform(X)"
   ]
  },
  {
   "cell_type": "code",
   "execution_count": 5,
   "id": "89418a35",
   "metadata": {},
   "outputs": [],
   "source": [
    "from sklearn.model_selection import train_test_split\n",
    "# train-test slpit\n",
    "X_train, X_test, y_train, y_test = train_test_split(X, y, test_size=0.2, shuffle=True, random_state=0)"
   ]
  },
  {
   "cell_type": "markdown",
   "id": "78b44a3e",
   "metadata": {},
   "source": [
    "## Dataset Pytorch"
   ]
  },
  {
   "cell_type": "code",
   "execution_count": 6,
   "id": "7883c4dc",
   "metadata": {},
   "outputs": [],
   "source": [
    "import torch\n",
    "from torch.utils.data import Dataset, DataLoader\n",
    "\n",
    "class IrisDataset(Dataset):\n",
    "    def __init__(self, X, y):\n",
    "        self.X = torch.tensor(X, dtype=torch.float32)\n",
    "        self.y = torch.tensor(y, dtype=torch.long)  # 1D labels for CrossEntropyLoss\n",
    "\n",
    "    def __len__(self):\n",
    "        return len(self.X)\n",
    "\n",
    "    def __getitem__(self, index):\n",
    "        return self.X[index], self.y[index]\n"
   ]
  },
  {
   "cell_type": "code",
   "execution_count": 7,
   "id": "e3ad9868",
   "metadata": {},
   "outputs": [],
   "source": [
    "train_dataset = IrisDataset(X=X_train, y=y_train)\n",
    "test_dataset = IrisDataset(X=X_test, y=y_test)"
   ]
  },
  {
   "cell_type": "code",
   "execution_count": 8,
   "id": "3902150e",
   "metadata": {},
   "outputs": [],
   "source": [
    "# dataloader\n",
    "train_loader = DataLoader(dataset=train_dataset, batch_size=32, shuffle=False)\n",
    "test_loader = DataLoader(dataset=test_dataset, batch_size=32, shuffle=False)"
   ]
  },
  {
   "cell_type": "markdown",
   "id": "4edb781d",
   "metadata": {},
   "source": [
    "## Neural Network Model"
   ]
  },
  {
   "cell_type": "code",
   "execution_count": 9,
   "id": "9e7f3c69",
   "metadata": {},
   "outputs": [],
   "source": [
    "import torch.nn as nn\n",
    "\n",
    "class IrisModel(nn.Module):\n",
    "    def __init__(self):\n",
    "        super(IrisModel, self).__init__()\n",
    "    \n",
    "        self.model = nn.Sequential(\n",
    "            nn.Linear(in_features=4, out_features=64),\n",
    "            nn.ReLU(),\n",
    "            nn.Linear(in_features=64, out_features=32),\n",
    "            nn.ReLU(),\n",
    "            nn.Linear(in_features=32, out_features=3) # 3 output classes\n",
    "        )\n",
    "\n",
    "    def forward(self, x):\n",
    "        return self.model(x)"
   ]
  },
  {
   "cell_type": "markdown",
   "id": "c970f17f",
   "metadata": {},
   "source": [
    "## Training"
   ]
  },
  {
   "cell_type": "code",
   "execution_count": 10,
   "id": "2d17bef6",
   "metadata": {},
   "outputs": [],
   "source": [
    "# Training config\n",
    "config = {\n",
    "    'batch_size': 32,\n",
    "    'epochs': 100,\n",
    "    'learning_rate': 1e-4,\n",
    "}"
   ]
  },
  {
   "cell_type": "code",
   "execution_count": 12,
   "id": "ced5c699",
   "metadata": {},
   "outputs": [],
   "source": [
    "# training\n",
    "model = IrisModel()\n",
    "# loss\n",
    "criterion = nn.CrossEntropyLoss()\n",
    "#Optimizer\n",
    "lr = config['learning_rate']\n",
    "optimizer = torch.optim.Adam(model.parameters(), lr=lr)\n",
    "# epochs\n",
    "epochs = config['epochs']"
   ]
  },
  {
   "cell_type": "code",
   "execution_count": 13,
   "id": "f5c33ea9",
   "metadata": {},
   "outputs": [
    {
     "name": "stdout",
     "output_type": "stream",
     "text": [
      "Epoch 10/100, Loss: 1.0689\n",
      "Epoch 20/100, Loss: 1.0089\n",
      "Epoch 30/100, Loss: 0.9471\n",
      "Epoch 40/100, Loss: 0.8828\n",
      "Epoch 50/100, Loss: 0.8213\n",
      "Epoch 60/100, Loss: 0.7648\n",
      "Epoch 70/100, Loss: 0.7124\n",
      "Epoch 80/100, Loss: 0.6639\n",
      "Epoch 90/100, Loss: 0.6196\n",
      "Epoch 100/100, Loss: 0.5790\n"
     ]
    }
   ],
   "source": [
    "# training loop\n",
    "for epoch in range(epochs):\n",
    "    model.train()\n",
    "    running_loss = 0.0\n",
    "    for inputs, labels in train_loader:\n",
    "        outputs = model(inputs)\n",
    "        loss = criterion(outputs, labels)\n",
    "        optimizer.zero_grad()\n",
    "        loss.backward()\n",
    "        optimizer.step()\n",
    "        running_loss += loss.item()\n",
    "\n",
    "    if (epoch + 1) % 10 == 0:\n",
    "        print(f\"Epoch {epoch+1}/{epochs}, Loss: {running_loss/len(train_loader):.4f}\")"
   ]
  },
  {
   "cell_type": "code",
   "execution_count": null,
   "id": "ef898096",
   "metadata": {},
   "outputs": [],
   "source": []
  },
  {
   "cell_type": "code",
   "execution_count": null,
   "id": "829be798",
   "metadata": {},
   "outputs": [],
   "source": []
  }
 ],
 "metadata": {
  "kernelspec": {
   "display_name": "ml_env",
   "language": "python",
   "name": "python3"
  },
  "language_info": {
   "codemirror_mode": {
    "name": "ipython",
    "version": 3
   },
   "file_extension": ".py",
   "mimetype": "text/x-python",
   "name": "python",
   "nbconvert_exporter": "python",
   "pygments_lexer": "ipython3",
   "version": "3.10.16"
  }
 },
 "nbformat": 4,
 "nbformat_minor": 5
}
