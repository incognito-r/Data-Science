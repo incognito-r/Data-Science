{
 "cells": [
  {
   "cell_type": "code",
   "execution_count": 264,
   "metadata": {},
   "outputs": [],
   "source": [
    "# imports\n",
    "import pandas as pd\n",
    "import numpy as np\n",
    "import matplotlib.pyplot as plt\n",
    "import seaborn as sns"
   ]
  },
  {
   "cell_type": "markdown",
   "metadata": {},
   "source": [
    "# Load Data"
   ]
  },
  {
   "cell_type": "code",
   "execution_count": 265,
   "metadata": {},
   "outputs": [],
   "source": [
    "# Load data\n",
    "df_train = pd.read_csv(\"data/train.csv\")\n",
    "df_test = pd.read_csv(\"data/test.csv\")\n",
    "\n",
    "df_train_og = df_train.copy()\n",
    "df_test_og = df_test.copy()"
   ]
  },
  {
   "cell_type": "code",
   "execution_count": 266,
   "metadata": {},
   "outputs": [
    {
     "data": {
      "text/html": [
       "<div>\n",
       "<style scoped>\n",
       "    .dataframe tbody tr th:only-of-type {\n",
       "        vertical-align: middle;\n",
       "    }\n",
       "\n",
       "    .dataframe tbody tr th {\n",
       "        vertical-align: top;\n",
       "    }\n",
       "\n",
       "    .dataframe thead th {\n",
       "        text-align: right;\n",
       "    }\n",
       "</style>\n",
       "<table border=\"1\" class=\"dataframe\">\n",
       "  <thead>\n",
       "    <tr style=\"text-align: right;\">\n",
       "      <th></th>\n",
       "      <th>id</th>\n",
       "      <th>Age</th>\n",
       "      <th>Gender</th>\n",
       "      <th>Annual Income</th>\n",
       "      <th>Marital Status</th>\n",
       "      <th>Number of Dependents</th>\n",
       "      <th>Education Level</th>\n",
       "      <th>Occupation</th>\n",
       "      <th>Health Score</th>\n",
       "      <th>Location</th>\n",
       "      <th>...</th>\n",
       "      <th>Previous Claims</th>\n",
       "      <th>Vehicle Age</th>\n",
       "      <th>Credit Score</th>\n",
       "      <th>Insurance Duration</th>\n",
       "      <th>Policy Start Date</th>\n",
       "      <th>Customer Feedback</th>\n",
       "      <th>Smoking Status</th>\n",
       "      <th>Exercise Frequency</th>\n",
       "      <th>Property Type</th>\n",
       "      <th>Premium Amount</th>\n",
       "    </tr>\n",
       "  </thead>\n",
       "  <tbody>\n",
       "    <tr>\n",
       "      <th>0</th>\n",
       "      <td>0</td>\n",
       "      <td>19.0</td>\n",
       "      <td>Female</td>\n",
       "      <td>10049.0</td>\n",
       "      <td>Married</td>\n",
       "      <td>1.0</td>\n",
       "      <td>Bachelor's</td>\n",
       "      <td>Self-Employed</td>\n",
       "      <td>22.598761</td>\n",
       "      <td>Urban</td>\n",
       "      <td>...</td>\n",
       "      <td>2.0</td>\n",
       "      <td>17.0</td>\n",
       "      <td>372.0</td>\n",
       "      <td>5.0</td>\n",
       "      <td>2023-12-23 15:21:39.134960</td>\n",
       "      <td>Poor</td>\n",
       "      <td>No</td>\n",
       "      <td>Weekly</td>\n",
       "      <td>House</td>\n",
       "      <td>2869.0</td>\n",
       "    </tr>\n",
       "    <tr>\n",
       "      <th>1</th>\n",
       "      <td>1</td>\n",
       "      <td>39.0</td>\n",
       "      <td>Female</td>\n",
       "      <td>31678.0</td>\n",
       "      <td>Divorced</td>\n",
       "      <td>3.0</td>\n",
       "      <td>Master's</td>\n",
       "      <td>NaN</td>\n",
       "      <td>15.569731</td>\n",
       "      <td>Rural</td>\n",
       "      <td>...</td>\n",
       "      <td>1.0</td>\n",
       "      <td>12.0</td>\n",
       "      <td>694.0</td>\n",
       "      <td>2.0</td>\n",
       "      <td>2023-06-12 15:21:39.111551</td>\n",
       "      <td>Average</td>\n",
       "      <td>Yes</td>\n",
       "      <td>Monthly</td>\n",
       "      <td>House</td>\n",
       "      <td>1483.0</td>\n",
       "    </tr>\n",
       "    <tr>\n",
       "      <th>2</th>\n",
       "      <td>2</td>\n",
       "      <td>23.0</td>\n",
       "      <td>Male</td>\n",
       "      <td>25602.0</td>\n",
       "      <td>Divorced</td>\n",
       "      <td>3.0</td>\n",
       "      <td>High School</td>\n",
       "      <td>Self-Employed</td>\n",
       "      <td>47.177549</td>\n",
       "      <td>Suburban</td>\n",
       "      <td>...</td>\n",
       "      <td>1.0</td>\n",
       "      <td>14.0</td>\n",
       "      <td>NaN</td>\n",
       "      <td>3.0</td>\n",
       "      <td>2023-09-30 15:21:39.221386</td>\n",
       "      <td>Good</td>\n",
       "      <td>Yes</td>\n",
       "      <td>Weekly</td>\n",
       "      <td>House</td>\n",
       "      <td>567.0</td>\n",
       "    </tr>\n",
       "    <tr>\n",
       "      <th>3</th>\n",
       "      <td>3</td>\n",
       "      <td>21.0</td>\n",
       "      <td>Male</td>\n",
       "      <td>141855.0</td>\n",
       "      <td>Married</td>\n",
       "      <td>2.0</td>\n",
       "      <td>Bachelor's</td>\n",
       "      <td>NaN</td>\n",
       "      <td>10.938144</td>\n",
       "      <td>Rural</td>\n",
       "      <td>...</td>\n",
       "      <td>1.0</td>\n",
       "      <td>0.0</td>\n",
       "      <td>367.0</td>\n",
       "      <td>1.0</td>\n",
       "      <td>2024-06-12 15:21:39.226954</td>\n",
       "      <td>Poor</td>\n",
       "      <td>Yes</td>\n",
       "      <td>Daily</td>\n",
       "      <td>Apartment</td>\n",
       "      <td>765.0</td>\n",
       "    </tr>\n",
       "    <tr>\n",
       "      <th>4</th>\n",
       "      <td>4</td>\n",
       "      <td>21.0</td>\n",
       "      <td>Male</td>\n",
       "      <td>39651.0</td>\n",
       "      <td>Single</td>\n",
       "      <td>1.0</td>\n",
       "      <td>Bachelor's</td>\n",
       "      <td>Self-Employed</td>\n",
       "      <td>20.376094</td>\n",
       "      <td>Rural</td>\n",
       "      <td>...</td>\n",
       "      <td>0.0</td>\n",
       "      <td>8.0</td>\n",
       "      <td>598.0</td>\n",
       "      <td>4.0</td>\n",
       "      <td>2021-12-01 15:21:39.252145</td>\n",
       "      <td>Poor</td>\n",
       "      <td>Yes</td>\n",
       "      <td>Weekly</td>\n",
       "      <td>House</td>\n",
       "      <td>2022.0</td>\n",
       "    </tr>\n",
       "    <tr>\n",
       "      <th>...</th>\n",
       "      <td>...</td>\n",
       "      <td>...</td>\n",
       "      <td>...</td>\n",
       "      <td>...</td>\n",
       "      <td>...</td>\n",
       "      <td>...</td>\n",
       "      <td>...</td>\n",
       "      <td>...</td>\n",
       "      <td>...</td>\n",
       "      <td>...</td>\n",
       "      <td>...</td>\n",
       "      <td>...</td>\n",
       "      <td>...</td>\n",
       "      <td>...</td>\n",
       "      <td>...</td>\n",
       "      <td>...</td>\n",
       "      <td>...</td>\n",
       "      <td>...</td>\n",
       "      <td>...</td>\n",
       "      <td>...</td>\n",
       "      <td>...</td>\n",
       "    </tr>\n",
       "    <tr>\n",
       "      <th>1199995</th>\n",
       "      <td>1199995</td>\n",
       "      <td>36.0</td>\n",
       "      <td>Female</td>\n",
       "      <td>27316.0</td>\n",
       "      <td>Married</td>\n",
       "      <td>0.0</td>\n",
       "      <td>Master's</td>\n",
       "      <td>Unemployed</td>\n",
       "      <td>13.772907</td>\n",
       "      <td>Urban</td>\n",
       "      <td>...</td>\n",
       "      <td>NaN</td>\n",
       "      <td>5.0</td>\n",
       "      <td>372.0</td>\n",
       "      <td>3.0</td>\n",
       "      <td>2023-05-03 15:21:39.257696</td>\n",
       "      <td>Poor</td>\n",
       "      <td>No</td>\n",
       "      <td>Daily</td>\n",
       "      <td>Apartment</td>\n",
       "      <td>1303.0</td>\n",
       "    </tr>\n",
       "    <tr>\n",
       "      <th>1199996</th>\n",
       "      <td>1199996</td>\n",
       "      <td>54.0</td>\n",
       "      <td>Male</td>\n",
       "      <td>35786.0</td>\n",
       "      <td>Divorced</td>\n",
       "      <td>NaN</td>\n",
       "      <td>Master's</td>\n",
       "      <td>Self-Employed</td>\n",
       "      <td>11.483482</td>\n",
       "      <td>Rural</td>\n",
       "      <td>...</td>\n",
       "      <td>NaN</td>\n",
       "      <td>10.0</td>\n",
       "      <td>597.0</td>\n",
       "      <td>4.0</td>\n",
       "      <td>2022-09-10 15:21:39.134960</td>\n",
       "      <td>Poor</td>\n",
       "      <td>No</td>\n",
       "      <td>Weekly</td>\n",
       "      <td>Apartment</td>\n",
       "      <td>821.0</td>\n",
       "    </tr>\n",
       "    <tr>\n",
       "      <th>1199997</th>\n",
       "      <td>1199997</td>\n",
       "      <td>19.0</td>\n",
       "      <td>Male</td>\n",
       "      <td>51884.0</td>\n",
       "      <td>Divorced</td>\n",
       "      <td>0.0</td>\n",
       "      <td>Master's</td>\n",
       "      <td>NaN</td>\n",
       "      <td>14.724469</td>\n",
       "      <td>Suburban</td>\n",
       "      <td>...</td>\n",
       "      <td>0.0</td>\n",
       "      <td>19.0</td>\n",
       "      <td>NaN</td>\n",
       "      <td>6.0</td>\n",
       "      <td>2021-05-25 15:21:39.106582</td>\n",
       "      <td>Good</td>\n",
       "      <td>No</td>\n",
       "      <td>Monthly</td>\n",
       "      <td>Condo</td>\n",
       "      <td>371.0</td>\n",
       "    </tr>\n",
       "    <tr>\n",
       "      <th>1199998</th>\n",
       "      <td>1199998</td>\n",
       "      <td>55.0</td>\n",
       "      <td>Male</td>\n",
       "      <td>NaN</td>\n",
       "      <td>Single</td>\n",
       "      <td>1.0</td>\n",
       "      <td>PhD</td>\n",
       "      <td>NaN</td>\n",
       "      <td>18.547381</td>\n",
       "      <td>Suburban</td>\n",
       "      <td>...</td>\n",
       "      <td>1.0</td>\n",
       "      <td>7.0</td>\n",
       "      <td>407.0</td>\n",
       "      <td>4.0</td>\n",
       "      <td>2021-09-19 15:21:39.190215</td>\n",
       "      <td>Poor</td>\n",
       "      <td>No</td>\n",
       "      <td>Daily</td>\n",
       "      <td>Apartment</td>\n",
       "      <td>596.0</td>\n",
       "    </tr>\n",
       "    <tr>\n",
       "      <th>1199999</th>\n",
       "      <td>1199999</td>\n",
       "      <td>21.0</td>\n",
       "      <td>Female</td>\n",
       "      <td>NaN</td>\n",
       "      <td>Divorced</td>\n",
       "      <td>0.0</td>\n",
       "      <td>PhD</td>\n",
       "      <td>NaN</td>\n",
       "      <td>10.125323</td>\n",
       "      <td>Rural</td>\n",
       "      <td>...</td>\n",
       "      <td>0.0</td>\n",
       "      <td>18.0</td>\n",
       "      <td>502.0</td>\n",
       "      <td>6.0</td>\n",
       "      <td>2020-08-26 15:21:39.155231</td>\n",
       "      <td>Good</td>\n",
       "      <td>Yes</td>\n",
       "      <td>Monthly</td>\n",
       "      <td>House</td>\n",
       "      <td>2480.0</td>\n",
       "    </tr>\n",
       "  </tbody>\n",
       "</table>\n",
       "<p>1200000 rows × 21 columns</p>\n",
       "</div>"
      ],
      "text/plain": [
       "              id   Age  Gender  Annual Income Marital Status  \\\n",
       "0              0  19.0  Female        10049.0        Married   \n",
       "1              1  39.0  Female        31678.0       Divorced   \n",
       "2              2  23.0    Male        25602.0       Divorced   \n",
       "3              3  21.0    Male       141855.0        Married   \n",
       "4              4  21.0    Male        39651.0         Single   \n",
       "...          ...   ...     ...            ...            ...   \n",
       "1199995  1199995  36.0  Female        27316.0        Married   \n",
       "1199996  1199996  54.0    Male        35786.0       Divorced   \n",
       "1199997  1199997  19.0    Male        51884.0       Divorced   \n",
       "1199998  1199998  55.0    Male            NaN         Single   \n",
       "1199999  1199999  21.0  Female            NaN       Divorced   \n",
       "\n",
       "         Number of Dependents Education Level     Occupation  Health Score  \\\n",
       "0                         1.0      Bachelor's  Self-Employed     22.598761   \n",
       "1                         3.0        Master's            NaN     15.569731   \n",
       "2                         3.0     High School  Self-Employed     47.177549   \n",
       "3                         2.0      Bachelor's            NaN     10.938144   \n",
       "4                         1.0      Bachelor's  Self-Employed     20.376094   \n",
       "...                       ...             ...            ...           ...   \n",
       "1199995                   0.0        Master's     Unemployed     13.772907   \n",
       "1199996                   NaN        Master's  Self-Employed     11.483482   \n",
       "1199997                   0.0        Master's            NaN     14.724469   \n",
       "1199998                   1.0             PhD            NaN     18.547381   \n",
       "1199999                   0.0             PhD            NaN     10.125323   \n",
       "\n",
       "         Location  ... Previous Claims  Vehicle Age  Credit Score  \\\n",
       "0           Urban  ...             2.0         17.0         372.0   \n",
       "1           Rural  ...             1.0         12.0         694.0   \n",
       "2        Suburban  ...             1.0         14.0           NaN   \n",
       "3           Rural  ...             1.0          0.0         367.0   \n",
       "4           Rural  ...             0.0          8.0         598.0   \n",
       "...           ...  ...             ...          ...           ...   \n",
       "1199995     Urban  ...             NaN          5.0         372.0   \n",
       "1199996     Rural  ...             NaN         10.0         597.0   \n",
       "1199997  Suburban  ...             0.0         19.0           NaN   \n",
       "1199998  Suburban  ...             1.0          7.0         407.0   \n",
       "1199999     Rural  ...             0.0         18.0         502.0   \n",
       "\n",
       "         Insurance Duration           Policy Start Date Customer Feedback  \\\n",
       "0                       5.0  2023-12-23 15:21:39.134960              Poor   \n",
       "1                       2.0  2023-06-12 15:21:39.111551           Average   \n",
       "2                       3.0  2023-09-30 15:21:39.221386              Good   \n",
       "3                       1.0  2024-06-12 15:21:39.226954              Poor   \n",
       "4                       4.0  2021-12-01 15:21:39.252145              Poor   \n",
       "...                     ...                         ...               ...   \n",
       "1199995                 3.0  2023-05-03 15:21:39.257696              Poor   \n",
       "1199996                 4.0  2022-09-10 15:21:39.134960              Poor   \n",
       "1199997                 6.0  2021-05-25 15:21:39.106582              Good   \n",
       "1199998                 4.0  2021-09-19 15:21:39.190215              Poor   \n",
       "1199999                 6.0  2020-08-26 15:21:39.155231              Good   \n",
       "\n",
       "        Smoking Status Exercise Frequency Property Type Premium Amount  \n",
       "0                   No             Weekly         House         2869.0  \n",
       "1                  Yes            Monthly         House         1483.0  \n",
       "2                  Yes             Weekly         House          567.0  \n",
       "3                  Yes              Daily     Apartment          765.0  \n",
       "4                  Yes             Weekly         House         2022.0  \n",
       "...                ...                ...           ...            ...  \n",
       "1199995             No              Daily     Apartment         1303.0  \n",
       "1199996             No             Weekly     Apartment          821.0  \n",
       "1199997             No            Monthly         Condo          371.0  \n",
       "1199998             No              Daily     Apartment          596.0  \n",
       "1199999            Yes            Monthly         House         2480.0  \n",
       "\n",
       "[1200000 rows x 21 columns]"
      ]
     },
     "execution_count": 266,
     "metadata": {},
     "output_type": "execute_result"
    }
   ],
   "source": [
    "df_train"
   ]
  },
  {
   "cell_type": "code",
   "execution_count": 267,
   "metadata": {},
   "outputs": [
    {
     "data": {
      "text/html": [
       "<div>\n",
       "<style scoped>\n",
       "    .dataframe tbody tr th:only-of-type {\n",
       "        vertical-align: middle;\n",
       "    }\n",
       "\n",
       "    .dataframe tbody tr th {\n",
       "        vertical-align: top;\n",
       "    }\n",
       "\n",
       "    .dataframe thead th {\n",
       "        text-align: right;\n",
       "    }\n",
       "</style>\n",
       "<table border=\"1\" class=\"dataframe\">\n",
       "  <thead>\n",
       "    <tr style=\"text-align: right;\">\n",
       "      <th></th>\n",
       "      <th>id</th>\n",
       "      <th>Age</th>\n",
       "      <th>Gender</th>\n",
       "      <th>Annual Income</th>\n",
       "      <th>Marital Status</th>\n",
       "      <th>Number of Dependents</th>\n",
       "      <th>Education Level</th>\n",
       "      <th>Occupation</th>\n",
       "      <th>Health Score</th>\n",
       "      <th>Location</th>\n",
       "      <th>Policy Type</th>\n",
       "      <th>Previous Claims</th>\n",
       "      <th>Vehicle Age</th>\n",
       "      <th>Credit Score</th>\n",
       "      <th>Insurance Duration</th>\n",
       "      <th>Policy Start Date</th>\n",
       "      <th>Customer Feedback</th>\n",
       "      <th>Smoking Status</th>\n",
       "      <th>Exercise Frequency</th>\n",
       "      <th>Property Type</th>\n",
       "    </tr>\n",
       "  </thead>\n",
       "  <tbody>\n",
       "    <tr>\n",
       "      <th>0</th>\n",
       "      <td>1200000</td>\n",
       "      <td>28.0</td>\n",
       "      <td>Female</td>\n",
       "      <td>2310.0</td>\n",
       "      <td>NaN</td>\n",
       "      <td>4.0</td>\n",
       "      <td>Bachelor's</td>\n",
       "      <td>Self-Employed</td>\n",
       "      <td>7.657981</td>\n",
       "      <td>Rural</td>\n",
       "      <td>Basic</td>\n",
       "      <td>NaN</td>\n",
       "      <td>19.0</td>\n",
       "      <td>NaN</td>\n",
       "      <td>1.0</td>\n",
       "      <td>2023-06-04 15:21:39.245086</td>\n",
       "      <td>Poor</td>\n",
       "      <td>Yes</td>\n",
       "      <td>Weekly</td>\n",
       "      <td>House</td>\n",
       "    </tr>\n",
       "    <tr>\n",
       "      <th>1</th>\n",
       "      <td>1200001</td>\n",
       "      <td>31.0</td>\n",
       "      <td>Female</td>\n",
       "      <td>126031.0</td>\n",
       "      <td>Married</td>\n",
       "      <td>2.0</td>\n",
       "      <td>Master's</td>\n",
       "      <td>Self-Employed</td>\n",
       "      <td>13.381379</td>\n",
       "      <td>Suburban</td>\n",
       "      <td>Premium</td>\n",
       "      <td>NaN</td>\n",
       "      <td>14.0</td>\n",
       "      <td>372.0</td>\n",
       "      <td>8.0</td>\n",
       "      <td>2024-04-22 15:21:39.224915</td>\n",
       "      <td>Good</td>\n",
       "      <td>Yes</td>\n",
       "      <td>Rarely</td>\n",
       "      <td>Apartment</td>\n",
       "    </tr>\n",
       "    <tr>\n",
       "      <th>2</th>\n",
       "      <td>1200002</td>\n",
       "      <td>47.0</td>\n",
       "      <td>Female</td>\n",
       "      <td>17092.0</td>\n",
       "      <td>Divorced</td>\n",
       "      <td>0.0</td>\n",
       "      <td>PhD</td>\n",
       "      <td>Unemployed</td>\n",
       "      <td>24.354527</td>\n",
       "      <td>Urban</td>\n",
       "      <td>Comprehensive</td>\n",
       "      <td>NaN</td>\n",
       "      <td>16.0</td>\n",
       "      <td>819.0</td>\n",
       "      <td>9.0</td>\n",
       "      <td>2023-04-05 15:21:39.134960</td>\n",
       "      <td>Average</td>\n",
       "      <td>Yes</td>\n",
       "      <td>Monthly</td>\n",
       "      <td>Condo</td>\n",
       "    </tr>\n",
       "    <tr>\n",
       "      <th>3</th>\n",
       "      <td>1200003</td>\n",
       "      <td>28.0</td>\n",
       "      <td>Female</td>\n",
       "      <td>30424.0</td>\n",
       "      <td>Divorced</td>\n",
       "      <td>3.0</td>\n",
       "      <td>PhD</td>\n",
       "      <td>Self-Employed</td>\n",
       "      <td>5.136225</td>\n",
       "      <td>Suburban</td>\n",
       "      <td>Comprehensive</td>\n",
       "      <td>1.0</td>\n",
       "      <td>3.0</td>\n",
       "      <td>770.0</td>\n",
       "      <td>5.0</td>\n",
       "      <td>2023-10-25 15:21:39.134960</td>\n",
       "      <td>Poor</td>\n",
       "      <td>Yes</td>\n",
       "      <td>Daily</td>\n",
       "      <td>House</td>\n",
       "    </tr>\n",
       "    <tr>\n",
       "      <th>4</th>\n",
       "      <td>1200004</td>\n",
       "      <td>24.0</td>\n",
       "      <td>Male</td>\n",
       "      <td>10863.0</td>\n",
       "      <td>Divorced</td>\n",
       "      <td>2.0</td>\n",
       "      <td>High School</td>\n",
       "      <td>Unemployed</td>\n",
       "      <td>11.844155</td>\n",
       "      <td>Suburban</td>\n",
       "      <td>Premium</td>\n",
       "      <td>NaN</td>\n",
       "      <td>14.0</td>\n",
       "      <td>755.0</td>\n",
       "      <td>7.0</td>\n",
       "      <td>2021-11-26 15:21:39.259788</td>\n",
       "      <td>Average</td>\n",
       "      <td>No</td>\n",
       "      <td>Weekly</td>\n",
       "      <td>House</td>\n",
       "    </tr>\n",
       "    <tr>\n",
       "      <th>...</th>\n",
       "      <td>...</td>\n",
       "      <td>...</td>\n",
       "      <td>...</td>\n",
       "      <td>...</td>\n",
       "      <td>...</td>\n",
       "      <td>...</td>\n",
       "      <td>...</td>\n",
       "      <td>...</td>\n",
       "      <td>...</td>\n",
       "      <td>...</td>\n",
       "      <td>...</td>\n",
       "      <td>...</td>\n",
       "      <td>...</td>\n",
       "      <td>...</td>\n",
       "      <td>...</td>\n",
       "      <td>...</td>\n",
       "      <td>...</td>\n",
       "      <td>...</td>\n",
       "      <td>...</td>\n",
       "      <td>...</td>\n",
       "    </tr>\n",
       "    <tr>\n",
       "      <th>799995</th>\n",
       "      <td>1999995</td>\n",
       "      <td>50.0</td>\n",
       "      <td>Female</td>\n",
       "      <td>38782.0</td>\n",
       "      <td>Married</td>\n",
       "      <td>1.0</td>\n",
       "      <td>Bachelor's</td>\n",
       "      <td>NaN</td>\n",
       "      <td>14.498639</td>\n",
       "      <td>Rural</td>\n",
       "      <td>Premium</td>\n",
       "      <td>NaN</td>\n",
       "      <td>8.0</td>\n",
       "      <td>309.0</td>\n",
       "      <td>2.0</td>\n",
       "      <td>2021-07-09 15:21:39.184157</td>\n",
       "      <td>Average</td>\n",
       "      <td>Yes</td>\n",
       "      <td>Daily</td>\n",
       "      <td>Condo</td>\n",
       "    </tr>\n",
       "    <tr>\n",
       "      <th>799996</th>\n",
       "      <td>1999996</td>\n",
       "      <td>NaN</td>\n",
       "      <td>Female</td>\n",
       "      <td>73462.0</td>\n",
       "      <td>Single</td>\n",
       "      <td>0.0</td>\n",
       "      <td>Master's</td>\n",
       "      <td>NaN</td>\n",
       "      <td>8.145748</td>\n",
       "      <td>Rural</td>\n",
       "      <td>Basic</td>\n",
       "      <td>2.0</td>\n",
       "      <td>0.0</td>\n",
       "      <td>NaN</td>\n",
       "      <td>2.0</td>\n",
       "      <td>2023-03-28 15:21:39.250151</td>\n",
       "      <td>Good</td>\n",
       "      <td>No</td>\n",
       "      <td>Daily</td>\n",
       "      <td>Apartment</td>\n",
       "    </tr>\n",
       "    <tr>\n",
       "      <th>799997</th>\n",
       "      <td>1999997</td>\n",
       "      <td>26.0</td>\n",
       "      <td>Female</td>\n",
       "      <td>35178.0</td>\n",
       "      <td>Single</td>\n",
       "      <td>0.0</td>\n",
       "      <td>Master's</td>\n",
       "      <td>Employed</td>\n",
       "      <td>6.636583</td>\n",
       "      <td>Urban</td>\n",
       "      <td>Comprehensive</td>\n",
       "      <td>NaN</td>\n",
       "      <td>10.0</td>\n",
       "      <td>NaN</td>\n",
       "      <td>6.0</td>\n",
       "      <td>2019-09-30 15:21:39.132191</td>\n",
       "      <td>Poor</td>\n",
       "      <td>No</td>\n",
       "      <td>Monthly</td>\n",
       "      <td>Apartment</td>\n",
       "    </tr>\n",
       "    <tr>\n",
       "      <th>799998</th>\n",
       "      <td>1999998</td>\n",
       "      <td>34.0</td>\n",
       "      <td>Female</td>\n",
       "      <td>45661.0</td>\n",
       "      <td>Single</td>\n",
       "      <td>3.0</td>\n",
       "      <td>Master's</td>\n",
       "      <td>NaN</td>\n",
       "      <td>15.937248</td>\n",
       "      <td>Urban</td>\n",
       "      <td>Premium</td>\n",
       "      <td>2.0</td>\n",
       "      <td>17.0</td>\n",
       "      <td>467.0</td>\n",
       "      <td>7.0</td>\n",
       "      <td>2022-05-09 15:21:39.253660</td>\n",
       "      <td>Average</td>\n",
       "      <td>No</td>\n",
       "      <td>Weekly</td>\n",
       "      <td>Condo</td>\n",
       "    </tr>\n",
       "    <tr>\n",
       "      <th>799999</th>\n",
       "      <td>1999999</td>\n",
       "      <td>25.0</td>\n",
       "      <td>Male</td>\n",
       "      <td>24843.0</td>\n",
       "      <td>Divorced</td>\n",
       "      <td>3.0</td>\n",
       "      <td>High School</td>\n",
       "      <td>NaN</td>\n",
       "      <td>24.893939</td>\n",
       "      <td>Suburban</td>\n",
       "      <td>Comprehensive</td>\n",
       "      <td>NaN</td>\n",
       "      <td>15.0</td>\n",
       "      <td>NaN</td>\n",
       "      <td>8.0</td>\n",
       "      <td>2021-05-18 15:21:39.108562</td>\n",
       "      <td>Good</td>\n",
       "      <td>No</td>\n",
       "      <td>Rarely</td>\n",
       "      <td>House</td>\n",
       "    </tr>\n",
       "  </tbody>\n",
       "</table>\n",
       "<p>800000 rows × 20 columns</p>\n",
       "</div>"
      ],
      "text/plain": [
       "             id   Age  Gender  Annual Income Marital Status  \\\n",
       "0       1200000  28.0  Female         2310.0            NaN   \n",
       "1       1200001  31.0  Female       126031.0        Married   \n",
       "2       1200002  47.0  Female        17092.0       Divorced   \n",
       "3       1200003  28.0  Female        30424.0       Divorced   \n",
       "4       1200004  24.0    Male        10863.0       Divorced   \n",
       "...         ...   ...     ...            ...            ...   \n",
       "799995  1999995  50.0  Female        38782.0        Married   \n",
       "799996  1999996   NaN  Female        73462.0         Single   \n",
       "799997  1999997  26.0  Female        35178.0         Single   \n",
       "799998  1999998  34.0  Female        45661.0         Single   \n",
       "799999  1999999  25.0    Male        24843.0       Divorced   \n",
       "\n",
       "        Number of Dependents Education Level     Occupation  Health Score  \\\n",
       "0                        4.0      Bachelor's  Self-Employed      7.657981   \n",
       "1                        2.0        Master's  Self-Employed     13.381379   \n",
       "2                        0.0             PhD     Unemployed     24.354527   \n",
       "3                        3.0             PhD  Self-Employed      5.136225   \n",
       "4                        2.0     High School     Unemployed     11.844155   \n",
       "...                      ...             ...            ...           ...   \n",
       "799995                   1.0      Bachelor's            NaN     14.498639   \n",
       "799996                   0.0        Master's            NaN      8.145748   \n",
       "799997                   0.0        Master's       Employed      6.636583   \n",
       "799998                   3.0        Master's            NaN     15.937248   \n",
       "799999                   3.0     High School            NaN     24.893939   \n",
       "\n",
       "        Location    Policy Type  Previous Claims  Vehicle Age  Credit Score  \\\n",
       "0          Rural          Basic              NaN         19.0           NaN   \n",
       "1       Suburban        Premium              NaN         14.0         372.0   \n",
       "2          Urban  Comprehensive              NaN         16.0         819.0   \n",
       "3       Suburban  Comprehensive              1.0          3.0         770.0   \n",
       "4       Suburban        Premium              NaN         14.0         755.0   \n",
       "...          ...            ...              ...          ...           ...   \n",
       "799995     Rural        Premium              NaN          8.0         309.0   \n",
       "799996     Rural          Basic              2.0          0.0           NaN   \n",
       "799997     Urban  Comprehensive              NaN         10.0           NaN   \n",
       "799998     Urban        Premium              2.0         17.0         467.0   \n",
       "799999  Suburban  Comprehensive              NaN         15.0           NaN   \n",
       "\n",
       "        Insurance Duration           Policy Start Date Customer Feedback  \\\n",
       "0                      1.0  2023-06-04 15:21:39.245086              Poor   \n",
       "1                      8.0  2024-04-22 15:21:39.224915              Good   \n",
       "2                      9.0  2023-04-05 15:21:39.134960           Average   \n",
       "3                      5.0  2023-10-25 15:21:39.134960              Poor   \n",
       "4                      7.0  2021-11-26 15:21:39.259788           Average   \n",
       "...                    ...                         ...               ...   \n",
       "799995                 2.0  2021-07-09 15:21:39.184157           Average   \n",
       "799996                 2.0  2023-03-28 15:21:39.250151              Good   \n",
       "799997                 6.0  2019-09-30 15:21:39.132191              Poor   \n",
       "799998                 7.0  2022-05-09 15:21:39.253660           Average   \n",
       "799999                 8.0  2021-05-18 15:21:39.108562              Good   \n",
       "\n",
       "       Smoking Status Exercise Frequency Property Type  \n",
       "0                 Yes             Weekly         House  \n",
       "1                 Yes             Rarely     Apartment  \n",
       "2                 Yes            Monthly         Condo  \n",
       "3                 Yes              Daily         House  \n",
       "4                  No             Weekly         House  \n",
       "...               ...                ...           ...  \n",
       "799995            Yes              Daily         Condo  \n",
       "799996             No              Daily     Apartment  \n",
       "799997             No            Monthly     Apartment  \n",
       "799998             No             Weekly         Condo  \n",
       "799999             No             Rarely         House  \n",
       "\n",
       "[800000 rows x 20 columns]"
      ]
     },
     "execution_count": 267,
     "metadata": {},
     "output_type": "execute_result"
    }
   ],
   "source": [
    "df_test"
   ]
  },
  {
   "cell_type": "markdown",
   "metadata": {},
   "source": [
    "## EDA"
   ]
  },
  {
   "cell_type": "code",
   "execution_count": 268,
   "metadata": {},
   "outputs": [
    {
     "name": "stdout",
     "output_type": "stream",
     "text": [
      "<class 'pandas.core.frame.DataFrame'>\n",
      "RangeIndex: 1200000 entries, 0 to 1199999\n",
      "Data columns (total 21 columns):\n",
      " #   Column                Non-Null Count    Dtype  \n",
      "---  ------                --------------    -----  \n",
      " 0   id                    1200000 non-null  int64  \n",
      " 1   Age                   1181295 non-null  float64\n",
      " 2   Gender                1200000 non-null  object \n",
      " 3   Annual Income         1155051 non-null  float64\n",
      " 4   Marital Status        1181471 non-null  object \n",
      " 5   Number of Dependents  1090328 non-null  float64\n",
      " 6   Education Level       1200000 non-null  object \n",
      " 7   Occupation            841925 non-null   object \n",
      " 8   Health Score          1125924 non-null  float64\n",
      " 9   Location              1200000 non-null  object \n",
      " 10  Policy Type           1200000 non-null  object \n",
      " 11  Previous Claims       835971 non-null   float64\n",
      " 12  Vehicle Age           1199994 non-null  float64\n",
      " 13  Credit Score          1062118 non-null  float64\n",
      " 14  Insurance Duration    1199999 non-null  float64\n",
      " 15  Policy Start Date     1200000 non-null  object \n",
      " 16  Customer Feedback     1122176 non-null  object \n",
      " 17  Smoking Status        1200000 non-null  object \n",
      " 18  Exercise Frequency    1200000 non-null  object \n",
      " 19  Property Type         1200000 non-null  object \n",
      " 20  Premium Amount        1200000 non-null  float64\n",
      "dtypes: float64(9), int64(1), object(11)\n",
      "memory usage: 192.3+ MB\n"
     ]
    }
   ],
   "source": [
    "df_train.info()"
   ]
  },
  {
   "cell_type": "markdown",
   "metadata": {},
   "source": [
    "The train data has 21 columns and 1200000 rows."
   ]
  },
  {
   "cell_type": "code",
   "execution_count": 269,
   "metadata": {},
   "outputs": [
    {
     "data": {
      "text/plain": [
       "id                           0\n",
       "Age                      18705\n",
       "Gender                       0\n",
       "Annual Income            44949\n",
       "Marital Status           18529\n",
       "Number of Dependents    109672\n",
       "Education Level              0\n",
       "Occupation              358075\n",
       "Health Score             74076\n",
       "Location                     0\n",
       "Policy Type                  0\n",
       "Previous Claims         364029\n",
       "Vehicle Age                  6\n",
       "Credit Score            137882\n",
       "Insurance Duration           1\n",
       "Policy Start Date            0\n",
       "Customer Feedback        77824\n",
       "Smoking Status               0\n",
       "Exercise Frequency           0\n",
       "Property Type                0\n",
       "Premium Amount               0\n",
       "dtype: int64"
      ]
     },
     "execution_count": 269,
     "metadata": {},
     "output_type": "execute_result"
    }
   ],
   "source": [
    "df_train.isna().sum()"
   ]
  },
  {
   "cell_type": "code",
   "execution_count": 270,
   "metadata": {},
   "outputs": [
    {
     "data": {
      "text/plain": [
       "id                       0.000000\n",
       "Age                      1.558750\n",
       "Gender                   0.000000\n",
       "Annual Income            3.745750\n",
       "Marital Status           1.544083\n",
       "Number of Dependents     9.139333\n",
       "Education Level          0.000000\n",
       "Occupation              29.839583\n",
       "Health Score             6.173000\n",
       "Location                 0.000000\n",
       "Policy Type              0.000000\n",
       "Previous Claims         30.335750\n",
       "Vehicle Age              0.000500\n",
       "Credit Score            11.490167\n",
       "Insurance Duration       0.000083\n",
       "Policy Start Date        0.000000\n",
       "Customer Feedback        6.485333\n",
       "Smoking Status           0.000000\n",
       "Exercise Frequency       0.000000\n",
       "Property Type            0.000000\n",
       "Premium Amount           0.000000\n",
       "dtype: float64"
      ]
     },
     "execution_count": 270,
     "metadata": {},
     "output_type": "execute_result"
    }
   ],
   "source": [
    "(df_train.isna().sum())/len(df_train)*100"
   ]
  },
  {
   "cell_type": "code",
   "execution_count": 271,
   "metadata": {},
   "outputs": [
    {
     "data": {
      "text/plain": [
       "id                       0.000000\n",
       "Age                      1.561125\n",
       "Gender                   0.000000\n",
       "Annual Income            3.732500\n",
       "Marital Status           1.542000\n",
       "Number of Dependents     9.141250\n",
       "Education Level          0.000000\n",
       "Occupation              29.890625\n",
       "Health Score             6.181125\n",
       "Location                 0.000000\n",
       "Policy Type              0.000000\n",
       "Previous Claims         30.350250\n",
       "Vehicle Age              0.000375\n",
       "Credit Score            11.431375\n",
       "Insurance Duration       0.000250\n",
       "Policy Start Date        0.000000\n",
       "Customer Feedback        6.534500\n",
       "Smoking Status           0.000000\n",
       "Exercise Frequency       0.000000\n",
       "Property Type            0.000000\n",
       "dtype: float64"
      ]
     },
     "execution_count": 271,
     "metadata": {},
     "output_type": "execute_result"
    }
   ],
   "source": [
    "(df_test.isna().sum())/len(df_test)*100"
   ]
  },
  {
   "cell_type": "markdown",
   "metadata": {},
   "source": [
    "### Univariate Analysis"
   ]
  },
  {
   "cell_type": "markdown",
   "metadata": {},
   "source": [
    "#### Age"
   ]
  },
  {
   "cell_type": "code",
   "execution_count": 272,
   "metadata": {},
   "outputs": [
    {
     "data": {
      "text/plain": [
       "count    1.181295e+06\n",
       "mean     4.114556e+01\n",
       "std      1.353995e+01\n",
       "min      1.800000e+01\n",
       "25%      3.000000e+01\n",
       "50%      4.100000e+01\n",
       "75%      5.300000e+01\n",
       "max      6.400000e+01\n",
       "Name: Age, dtype: float64"
      ]
     },
     "execution_count": 272,
     "metadata": {},
     "output_type": "execute_result"
    }
   ],
   "source": [
    "df_train['Age'].describe()"
   ]
  },
  {
   "cell_type": "markdown",
   "metadata": {},
   "source": [
    "Age column has mean of 41. and standard deviation of 13.5. Minimum age 18 and max age is 64."
   ]
  },
  {
   "cell_type": "code",
   "execution_count": 273,
   "metadata": {},
   "outputs": [
    {
     "data": {
      "text/plain": [
       "0"
      ]
     },
     "execution_count": 273,
     "metadata": {},
     "output_type": "execute_result"
    }
   ],
   "source": [
    "# filling missing values with mean of age.\n",
    "mean_age = df_train['Age'].mean()\n",
    "df_train['Age'] = df_train['Age'].fillna(mean_age)\n",
    "df_test['Age'] = df_test['Age'].fillna(mean_age)\n",
    "\n",
    "df_train['Age'].isna().sum()"
   ]
  },
  {
   "cell_type": "markdown",
   "metadata": {},
   "source": [
    "#### Annual Income"
   ]
  },
  {
   "cell_type": "code",
   "execution_count": 274,
   "metadata": {},
   "outputs": [
    {
     "data": {
      "text/plain": [
       "<Axes: ylabel='Frequency'>"
      ]
     },
     "execution_count": 274,
     "metadata": {},
     "output_type": "execute_result"
    },
    {
     "data": {
      "image/png": "[encoded data removed]",
      "text/plain": [
       "<Figure size 640x480 with 1 Axes>"
      ]
     },
     "metadata": {},
     "output_type": "display_data"
    }
   ],
   "source": [
    "df_train['Annual Income'].plot(kind='hist', bins=50)"
   ]
  },
  {
   "cell_type": "markdown",
   "metadata": {},
   "source": [
    "The Distribution of annual income is right skewed meaning majority of the data points are concentrated on the left side of the distribution."
   ]
  },
  {
   "cell_type": "code",
   "execution_count": 275,
   "metadata": {},
   "outputs": [
    {
     "data": {
      "text/plain": [
       "0"
      ]
     },
     "execution_count": 275,
     "metadata": {},
     "output_type": "execute_result"
    }
   ],
   "source": [
    "# Fill missing data of annula income with median.\n",
    "median_annual_income = df_train['Annual Income'].median()\n",
    "df_train['Annual Income'] = df_train['Annual Income'].fillna(median_annual_income)\n",
    "df_test['Annual Income'] = df_test['Annual Income'].fillna(median_annual_income)\n",
    "\n",
    "df_train['Annual Income'].isna().sum()"
   ]
  },
  {
   "cell_type": "code",
   "execution_count": 276,
   "metadata": {},
   "outputs": [
    {
     "data": {
      "text/plain": [
       "<Axes: ylabel='Annual Income'>"
      ]
     },
     "execution_count": 276,
     "metadata": {},
     "output_type": "execute_result"
    },
    {
     "data": {
      "image/png": "[encoded data removed]",
      "text/plain": [
       "<Figure size 640x480 with 1 Axes>"
      ]
     },
     "metadata": {},
     "output_type": "display_data"
    }
   ],
   "source": [
    "sns.boxplot(data=df_train['Annual Income'])"
   ]
  },
  {
   "cell_type": "markdown",
   "metadata": {},
   "source": [
    "Income column has outliers. can be treated if necessary."
   ]
  },
  {
   "cell_type": "code",
   "execution_count": 277,
   "metadata": {},
   "outputs": [],
   "source": [
    "def treat_outliers(df, column):\n",
    "    Q1 = df[column].quantile(0.25)\n",
    "    Q3 = df[column].quantile(0.75)\n",
    "    IQR = Q3 - Q1\n",
    "    lower_bound = Q1 - 1.5 * IQR\n",
    "    upper_bound = Q3 + 1.5 * IQR\n",
    "\n",
    "    df[column] = np.where(df[column] < lower_bound, lower_bound, df[column])\n",
    "    df[column] = np.where(df[column] > upper_bound, upper_bound, df[column])\n",
    "    \n",
    "    return df[column]"
   ]
  },
  {
   "cell_type": "code",
   "execution_count": 278,
   "metadata": {},
   "outputs": [
    {
     "data": {
      "text/plain": [
       "<Axes: ylabel='Annual Income'>"
      ]
     },
     "execution_count": 278,
     "metadata": {},
     "output_type": "execute_result"
    },
    {
     "data": {
      "image/png": "[encoded data removed]",
      "text/plain": [
       "<Figure size 640x480 with 1 Axes>"
      ]
     },
     "metadata": {},
     "output_type": "display_data"
    }
   ],
   "source": [
    "df_train['Annual Income'] = treat_outliers(df_train, 'Annual Income')\n",
    "df_test['Annual Income'] = treat_outliers(df_test, 'Annual Income')\n",
    "\n",
    "sns.boxplot(data=df_train['Annual Income'])"
   ]
  },
  {
   "cell_type": "markdown",
   "metadata": {},
   "source": [
    "### Marital Status"
   ]
  },
  {
   "cell_type": "code",
   "execution_count": 279,
   "metadata": {},
   "outputs": [
    {
     "data": {
      "text/plain": [
       "Marital Status\n",
       "Single      395391\n",
       "Married     394316\n",
       "Divorced    391764\n",
       "NaN          18529\n",
       "Name: count, dtype: int64"
      ]
     },
     "execution_count": 279,
     "metadata": {},
     "output_type": "execute_result"
    }
   ],
   "source": [
    "df_train['Marital Status'].value_counts(dropna=False)"
   ]
  },
  {
   "cell_type": "code",
   "execution_count": 280,
   "metadata": {},
   "outputs": [
    {
     "data": {
      "text/plain": [
       "<Axes: xlabel='Marital Status', ylabel='count'>"
      ]
     },
     "execution_count": 280,
     "metadata": {},
     "output_type": "execute_result"
    },
    {
     "data": {
      "image/png": "[encoded data removed]",
      "text/plain": [
       "<Figure size 640x480 with 1 Axes>"
      ]
     },
     "metadata": {},
     "output_type": "display_data"
    }
   ],
   "source": [
    "sns.countplot(data=df_train, x='Marital Status')"
   ]
  },
  {
   "cell_type": "code",
   "execution_count": 281,
   "metadata": {},
   "outputs": [
    {
     "name": "stdout",
     "output_type": "stream",
     "text": [
      "F-statistic: 0.47749938262557573\n",
      "P-value: 0.6203327884908305\n"
     ]
    }
   ],
   "source": [
    "from scipy import stats\n",
    "\n",
    "# Anova test\n",
    "# Filter data by marital status\n",
    "m_m = df_train[df_train[\"Marital Status\"] == \"Married\"][\"Premium Amount\"]\n",
    "m_s = df_train[df_train[\"Marital Status\"] == \"Single\"][\"Premium Amount\"]\n",
    "m_d = df_train[df_train[\"Marital Status\"] == \"Divorced\"][\"Premium Amount\"]\n",
    "\n",
    "# Perform ANOVA test\n",
    "f_stat, p_value = stats.f_oneway(m_m, m_s, m_d)\n",
    "\n",
    "# Print results\n",
    "print(\"F-statistic:\", f_stat)\n",
    "print(\"P-value:\", p_value)"
   ]
  },
  {
   "cell_type": "markdown",
   "metadata": {},
   "source": [
    "Since the p-value is greater than 0.5. The null hypothesis cannot be rejected. This means the column is not important."
   ]
  },
  {
   "cell_type": "code",
   "execution_count": 282,
   "metadata": {},
   "outputs": [
    {
     "data": {
      "text/plain": [
       "Occupation\n",
       "NaN              358075\n",
       "Employed         282750\n",
       "Self-Employed    282645\n",
       "Unemployed       276530\n",
       "Name: count, dtype: int64"
      ]
     },
     "execution_count": 282,
     "metadata": {},
     "output_type": "execute_result"
    }
   ],
   "source": [
    "# Occupation\n",
    "df_train['Occupation'].value_counts(dropna=False)"
   ]
  },
  {
   "cell_type": "code",
   "execution_count": 283,
   "metadata": {},
   "outputs": [
    {
     "name": "stdout",
     "output_type": "stream",
     "text": [
      "F-statistic: 0.38937062646041737\n",
      "P-value: 0.6774832523430152\n"
     ]
    }
   ],
   "source": [
    "from scipy import stats\n",
    "\n",
    "# Filter data by Occupation\n",
    "m_m = df_train[df_train[\"Occupation\"] == \"Employed\"][\"Premium Amount\"]\n",
    "m_s = df_train[df_train[\"Occupation\"] == \"Self-Employed\"][\"Premium Amount\"]\n",
    "m_d = df_train[df_train[\"Occupation\"] == \"Unemployed\"][\"Premium Amount\"]\n",
    "\n",
    "# Perform ANOVA test\n",
    "f_stat, p_value = stats.f_oneway(m_m, m_s, m_d)\n",
    "\n",
    "# Print results\n",
    "print(\"F-statistic:\", f_stat)\n",
    "print(\"P-value:\", p_value)"
   ]
  },
  {
   "cell_type": "code",
   "execution_count": 284,
   "metadata": {},
   "outputs": [],
   "source": [
    "# drop column\n",
    "df_train.drop(columns=['Occupation', 'Marital Status'], inplace=True)\n",
    "df_test.drop(columns=['Occupation', 'Marital Status'], inplace=True)"
   ]
  },
  {
   "cell_type": "markdown",
   "metadata": {},
   "source": [
    "#### Number of dependents"
   ]
  },
  {
   "cell_type": "code",
   "execution_count": 285,
   "metadata": {},
   "outputs": [
    {
     "data": {
      "text/plain": [
       "Number of Dependents\n",
       "3.0    221475\n",
       "4.0    220340\n",
       "0.0    218124\n",
       "2.0    215313\n",
       "1.0    215076\n",
       "NaN    109672\n",
       "Name: count, dtype: int64"
      ]
     },
     "execution_count": 285,
     "metadata": {},
     "output_type": "execute_result"
    }
   ],
   "source": [
    "df_train['Number of Dependents'].value_counts(dropna=False)"
   ]
  },
  {
   "cell_type": "code",
   "execution_count": 286,
   "metadata": {},
   "outputs": [
    {
     "name": "stdout",
     "output_type": "stream",
     "text": [
      "F-statistic: 21.300842177224546\n",
      "P-value: 2.2486295998037232e-21\n"
     ]
    }
   ],
   "source": [
    "# annova test\n",
    "\n",
    "from scipy import stats\n",
    "\n",
    "# Filter data by Occupation\n",
    "d0 = df_train[df_train[\"Number of Dependents\"] == 0.0][\"Premium Amount\"]\n",
    "d1 = df_train[df_train[\"Number of Dependents\"] == 1.0][\"Premium Amount\"]\n",
    "d2 = df_train[df_train[\"Number of Dependents\"] == 2.0][\"Premium Amount\"]\n",
    "d3 = df_train[df_train[\"Number of Dependents\"] == 3.0][\"Premium Amount\"]\n",
    "d4 = df_train[df_train[\"Number of Dependents\"] == 4.0][\"Premium Amount\"]\n",
    "d_null = df_train[df_train[\"Number of Dependents\"].isnull()][\"Premium Amount\"]\n",
    "\n",
    "# Perform ANOVA test\n",
    "f_stat, p_value = stats.f_oneway(d0, d1, d2, d3,d4, d_null)\n",
    "\n",
    "# Print results\n",
    "print(\"F-statistic:\", f_stat)\n",
    "print(\"P-value:\", p_value)"
   ]
  },
  {
   "cell_type": "markdown",
   "metadata": {},
   "source": [
    "since the p value is less than 0.05. This means this column is important. we can reject null hypothesis."
   ]
  },
  {
   "cell_type": "code",
   "execution_count": 287,
   "metadata": {},
   "outputs": [],
   "source": [
    "# mode_dep =  df_train['Number of Dependents'].mode()[0]\n",
    "df_train['Number of Dependents'] = df_train['Number of Dependents'].fillna(value = 99)\n",
    "df_test['Number of Dependents'] = df_test['Number of Dependents'].fillna(value = 99)"
   ]
  },
  {
   "cell_type": "markdown",
   "metadata": {},
   "source": [
    "#### Health score"
   ]
  },
  {
   "cell_type": "code",
   "execution_count": 288,
   "metadata": {},
   "outputs": [
    {
     "data": {
      "text/plain": [
       "0          22.598761\n",
       "1          15.569731\n",
       "2          47.177549\n",
       "3          10.938144\n",
       "4          20.376094\n",
       "             ...    \n",
       "1199995    13.772907\n",
       "1199996    11.483482\n",
       "1199997    14.724469\n",
       "1199998    18.547381\n",
       "1199999    10.125323\n",
       "Name: Health Score, Length: 1200000, dtype: float64"
      ]
     },
     "execution_count": 288,
     "metadata": {},
     "output_type": "execute_result"
    }
   ],
   "source": [
    "df_train['Health Score']"
   ]
  },
  {
   "cell_type": "code",
   "execution_count": 289,
   "metadata": {},
   "outputs": [],
   "source": [
    "# fillna with median\n",
    "mean_health_sc =  df_train['Health Score'].median()\n",
    "df_train['Health Score'] = df_train['Health Score'].fillna(value =mean_health_sc)\n",
    "df_test['Health Score'] = df_test['Health Score'].fillna(value =mean_health_sc)"
   ]
  },
  {
   "cell_type": "code",
   "execution_count": 302,
   "metadata": {},
   "outputs": [
    {
     "data": {
      "text/plain": [
       "<Axes: ylabel='Health Score'>"
      ]
     },
     "execution_count": 302,
     "metadata": {},
     "output_type": "execute_result"
    },
    {
     "data": {
      "image/png": "[encoded data removed]",
      "text/plain": [
       "<Figure size 640x480 with 1 Axes>"
      ]
     },
     "metadata": {},
     "output_type": "display_data"
    }
   ],
   "source": [
    "# outliers\n",
    "sns.boxplot(data=df_train['Health Score'])"
   ]
  },
  {
   "cell_type": "code",
   "execution_count": 290,
   "metadata": {},
   "outputs": [
    {
     "data": {
      "text/plain": [
       "<Axes: xlabel='Previous Claims'>"
      ]
     },
     "execution_count": 290,
     "metadata": {},
     "output_type": "execute_result"
    },
    {
     "data": {
      "image/png": "[encoded data removed]",
      "text/plain": [
       "<Figure size 640x480 with 1 Axes>"
      ]
     },
     "metadata": {},
     "output_type": "display_data"
    }
   ],
   "source": [
    "df_train['Previous Claims'].value_counts(dropna=False).plot(kind='bar')"
   ]
  },
  {
   "cell_type": "code",
   "execution_count": 291,
   "metadata": {},
   "outputs": [],
   "source": [
    "# fill na with unknown\n",
    "df_train['Previous Claims'] = df_train['Previous Claims'].fillna(value=99)\n",
    "df_test['Previous Claims'] = df_test['Previous Claims'].fillna(value=99) \n"
   ]
  },
  {
   "cell_type": "code",
   "execution_count": 292,
   "metadata": {},
   "outputs": [
    {
     "data": {
      "text/plain": [
       "Credit Score\n",
       "NaN      137882\n",
       "434.0      4288\n",
       "431.0      4277\n",
       "757.0      4021\n",
       "713.0      3977\n",
       "          ...  \n",
       "660.0       472\n",
       "560.0       444\n",
       "610.0       404\n",
       "700.0       377\n",
       "606.0       352\n",
       "Name: count, Length: 551, dtype: int64"
      ]
     },
     "execution_count": 292,
     "metadata": {},
     "output_type": "execute_result"
    }
   ],
   "source": [
    "df_train['Credit Score'].value_counts(dropna=False)"
   ]
  },
  {
   "cell_type": "code",
   "execution_count": 293,
   "metadata": {},
   "outputs": [],
   "source": [
    "df_train['Credit Score'] = df_train['Credit Score'].fillna(value=999)\n",
    "df_test['Credit Score'] = df_test['Credit Score'].fillna(value=999)"
   ]
  },
  {
   "cell_type": "code",
   "execution_count": 294,
   "metadata": {},
   "outputs": [
    {
     "data": {
      "text/plain": [
       "Customer Feedback\n",
       "Average    377905\n",
       "Poor       375518\n",
       "Good       368753\n",
       "NaN         77824\n",
       "Name: count, dtype: int64"
      ]
     },
     "execution_count": 294,
     "metadata": {},
     "output_type": "execute_result"
    }
   ],
   "source": [
    "df_train['Customer Feedback'].value_counts(dropna=False)"
   ]
  },
  {
   "cell_type": "code",
   "execution_count": 295,
   "metadata": {},
   "outputs": [],
   "source": [
    "df_train['Customer Feedback'] = df_train['Customer Feedback'].fillna(value='Not_Rated')\n",
    "df_test['Customer Feedback'] = df_test['Customer Feedback'].fillna(value='Not_Rated')"
   ]
  },
  {
   "cell_type": "code",
   "execution_count": 296,
   "metadata": {},
   "outputs": [
    {
     "data": {
      "text/plain": [
       "id                      0\n",
       "Age                     0\n",
       "Gender                  0\n",
       "Annual Income           0\n",
       "Number of Dependents    0\n",
       "Education Level         0\n",
       "Health Score            0\n",
       "Location                0\n",
       "Policy Type             0\n",
       "Previous Claims         0\n",
       "Vehicle Age             6\n",
       "Credit Score            0\n",
       "Insurance Duration      1\n",
       "Policy Start Date       0\n",
       "Customer Feedback       0\n",
       "Smoking Status          0\n",
       "Exercise Frequency      0\n",
       "Property Type           0\n",
       "Premium Amount          0\n",
       "dtype: int64"
      ]
     },
     "execution_count": 296,
     "metadata": {},
     "output_type": "execute_result"
    }
   ],
   "source": [
    "df_train.isna().sum()"
   ]
  },
  {
   "cell_type": "code",
   "execution_count": 297,
   "metadata": {},
   "outputs": [],
   "source": [
    "df_train.dropna(inplace=True)\n",
    "df_test.dropna(inplace=True)"
   ]
  },
  {
   "cell_type": "code",
   "execution_count": 298,
   "metadata": {},
   "outputs": [
    {
     "data": {
      "text/plain": [
       "id                      0\n",
       "Age                     0\n",
       "Gender                  0\n",
       "Annual Income           0\n",
       "Number of Dependents    0\n",
       "Education Level         0\n",
       "Health Score            0\n",
       "Location                0\n",
       "Policy Type             0\n",
       "Previous Claims         0\n",
       "Vehicle Age             0\n",
       "Credit Score            0\n",
       "Insurance Duration      0\n",
       "Policy Start Date       0\n",
       "Customer Feedback       0\n",
       "Smoking Status          0\n",
       "Exercise Frequency      0\n",
       "Property Type           0\n",
       "Premium Amount          0\n",
       "dtype: int64"
      ]
     },
     "execution_count": 298,
     "metadata": {},
     "output_type": "execute_result"
    }
   ],
   "source": [
    "df_train.isna().sum()"
   ]
  },
  {
   "cell_type": "code",
   "execution_count": 299,
   "metadata": {},
   "outputs": [
    {
     "data": {
      "text/plain": [
       "id                      0\n",
       "Age                     0\n",
       "Gender                  0\n",
       "Annual Income           0\n",
       "Number of Dependents    0\n",
       "Education Level         0\n",
       "Health Score            0\n",
       "Location                0\n",
       "Policy Type             0\n",
       "Previous Claims         0\n",
       "Vehicle Age             0\n",
       "Credit Score            0\n",
       "Insurance Duration      0\n",
       "Policy Start Date       0\n",
       "Customer Feedback       0\n",
       "Smoking Status          0\n",
       "Exercise Frequency      0\n",
       "Property Type           0\n",
       "dtype: int64"
      ]
     },
     "execution_count": 299,
     "metadata": {},
     "output_type": "execute_result"
    }
   ],
   "source": [
    "df_test.isna().sum()"
   ]
  },
  {
   "cell_type": "code",
   "execution_count": 300,
   "metadata": {},
   "outputs": [
    {
     "data": {
      "text/html": [
       "<div>\n",
       "<style scoped>\n",
       "    .dataframe tbody tr th:only-of-type {\n",
       "        vertical-align: middle;\n",
       "    }\n",
       "\n",
       "    .dataframe tbody tr th {\n",
       "        vertical-align: top;\n",
       "    }\n",
       "\n",
       "    .dataframe thead th {\n",
       "        text-align: right;\n",
       "    }\n",
       "</style>\n",
       "<table border=\"1\" class=\"dataframe\">\n",
       "  <thead>\n",
       "    <tr style=\"text-align: right;\">\n",
       "      <th></th>\n",
       "      <th>id</th>\n",
       "      <th>Age</th>\n",
       "      <th>Gender</th>\n",
       "      <th>Annual Income</th>\n",
       "      <th>Number of Dependents</th>\n",
       "      <th>Education Level</th>\n",
       "      <th>Health Score</th>\n",
       "      <th>Location</th>\n",
       "      <th>Policy Type</th>\n",
       "      <th>Previous Claims</th>\n",
       "      <th>Vehicle Age</th>\n",
       "      <th>Credit Score</th>\n",
       "      <th>Insurance Duration</th>\n",
       "      <th>Policy Start Date</th>\n",
       "      <th>Customer Feedback</th>\n",
       "      <th>Smoking Status</th>\n",
       "      <th>Exercise Frequency</th>\n",
       "      <th>Property Type</th>\n",
       "      <th>Premium Amount</th>\n",
       "    </tr>\n",
       "  </thead>\n",
       "  <tbody>\n",
       "    <tr>\n",
       "      <th>0</th>\n",
       "      <td>0</td>\n",
       "      <td>19.0</td>\n",
       "      <td>Female</td>\n",
       "      <td>10049.0</td>\n",
       "      <td>1.0</td>\n",
       "      <td>Bachelor's</td>\n",
       "      <td>22.598761</td>\n",
       "      <td>Urban</td>\n",
       "      <td>Premium</td>\n",
       "      <td>2.0</td>\n",
       "      <td>17.0</td>\n",
       "      <td>372.0</td>\n",
       "      <td>5.0</td>\n",
       "      <td>2023-12-23 15:21:39.134960</td>\n",
       "      <td>Poor</td>\n",
       "      <td>No</td>\n",
       "      <td>Weekly</td>\n",
       "      <td>House</td>\n",
       "      <td>2869.0</td>\n",
       "    </tr>\n",
       "    <tr>\n",
       "      <th>1</th>\n",
       "      <td>1</td>\n",
       "      <td>39.0</td>\n",
       "      <td>Female</td>\n",
       "      <td>31678.0</td>\n",
       "      <td>3.0</td>\n",
       "      <td>Master's</td>\n",
       "      <td>15.569731</td>\n",
       "      <td>Rural</td>\n",
       "      <td>Comprehensive</td>\n",
       "      <td>1.0</td>\n",
       "      <td>12.0</td>\n",
       "      <td>694.0</td>\n",
       "      <td>2.0</td>\n",
       "      <td>2023-06-12 15:21:39.111551</td>\n",
       "      <td>Average</td>\n",
       "      <td>Yes</td>\n",
       "      <td>Monthly</td>\n",
       "      <td>House</td>\n",
       "      <td>1483.0</td>\n",
       "    </tr>\n",
       "    <tr>\n",
       "      <th>2</th>\n",
       "      <td>2</td>\n",
       "      <td>23.0</td>\n",
       "      <td>Male</td>\n",
       "      <td>25602.0</td>\n",
       "      <td>3.0</td>\n",
       "      <td>High School</td>\n",
       "      <td>47.177549</td>\n",
       "      <td>Suburban</td>\n",
       "      <td>Premium</td>\n",
       "      <td>1.0</td>\n",
       "      <td>14.0</td>\n",
       "      <td>999.0</td>\n",
       "      <td>3.0</td>\n",
       "      <td>2023-09-30 15:21:39.221386</td>\n",
       "      <td>Good</td>\n",
       "      <td>Yes</td>\n",
       "      <td>Weekly</td>\n",
       "      <td>House</td>\n",
       "      <td>567.0</td>\n",
       "    </tr>\n",
       "    <tr>\n",
       "      <th>3</th>\n",
       "      <td>3</td>\n",
       "      <td>21.0</td>\n",
       "      <td>Male</td>\n",
       "      <td>96871.0</td>\n",
       "      <td>2.0</td>\n",
       "      <td>Bachelor's</td>\n",
       "      <td>10.938144</td>\n",
       "      <td>Rural</td>\n",
       "      <td>Basic</td>\n",
       "      <td>1.0</td>\n",
       "      <td>0.0</td>\n",
       "      <td>367.0</td>\n",
       "      <td>1.0</td>\n",
       "      <td>2024-06-12 15:21:39.226954</td>\n",
       "      <td>Poor</td>\n",
       "      <td>Yes</td>\n",
       "      <td>Daily</td>\n",
       "      <td>Apartment</td>\n",
       "      <td>765.0</td>\n",
       "    </tr>\n",
       "    <tr>\n",
       "      <th>4</th>\n",
       "      <td>4</td>\n",
       "      <td>21.0</td>\n",
       "      <td>Male</td>\n",
       "      <td>39651.0</td>\n",
       "      <td>1.0</td>\n",
       "      <td>Bachelor's</td>\n",
       "      <td>20.376094</td>\n",
       "      <td>Rural</td>\n",
       "      <td>Premium</td>\n",
       "      <td>0.0</td>\n",
       "      <td>8.0</td>\n",
       "      <td>598.0</td>\n",
       "      <td>4.0</td>\n",
       "      <td>2021-12-01 15:21:39.252145</td>\n",
       "      <td>Poor</td>\n",
       "      <td>Yes</td>\n",
       "      <td>Weekly</td>\n",
       "      <td>House</td>\n",
       "      <td>2022.0</td>\n",
       "    </tr>\n",
       "    <tr>\n",
       "      <th>...</th>\n",
       "      <td>...</td>\n",
       "      <td>...</td>\n",
       "      <td>...</td>\n",
       "      <td>...</td>\n",
       "      <td>...</td>\n",
       "      <td>...</td>\n",
       "      <td>...</td>\n",
       "      <td>...</td>\n",
       "      <td>...</td>\n",
       "      <td>...</td>\n",
       "      <td>...</td>\n",
       "      <td>...</td>\n",
       "      <td>...</td>\n",
       "      <td>...</td>\n",
       "      <td>...</td>\n",
       "      <td>...</td>\n",
       "      <td>...</td>\n",
       "      <td>...</td>\n",
       "      <td>...</td>\n",
       "    </tr>\n",
       "    <tr>\n",
       "      <th>1199995</th>\n",
       "      <td>1199995</td>\n",
       "      <td>36.0</td>\n",
       "      <td>Female</td>\n",
       "      <td>27316.0</td>\n",
       "      <td>0.0</td>\n",
       "      <td>Master's</td>\n",
       "      <td>13.772907</td>\n",
       "      <td>Urban</td>\n",
       "      <td>Premium</td>\n",
       "      <td>99.0</td>\n",
       "      <td>5.0</td>\n",
       "      <td>372.0</td>\n",
       "      <td>3.0</td>\n",
       "      <td>2023-05-03 15:21:39.257696</td>\n",
       "      <td>Poor</td>\n",
       "      <td>No</td>\n",
       "      <td>Daily</td>\n",
       "      <td>Apartment</td>\n",
       "      <td>1303.0</td>\n",
       "    </tr>\n",
       "    <tr>\n",
       "      <th>1199996</th>\n",
       "      <td>1199996</td>\n",
       "      <td>54.0</td>\n",
       "      <td>Male</td>\n",
       "      <td>35786.0</td>\n",
       "      <td>99.0</td>\n",
       "      <td>Master's</td>\n",
       "      <td>11.483482</td>\n",
       "      <td>Rural</td>\n",
       "      <td>Comprehensive</td>\n",
       "      <td>99.0</td>\n",
       "      <td>10.0</td>\n",
       "      <td>597.0</td>\n",
       "      <td>4.0</td>\n",
       "      <td>2022-09-10 15:21:39.134960</td>\n",
       "      <td>Poor</td>\n",
       "      <td>No</td>\n",
       "      <td>Weekly</td>\n",
       "      <td>Apartment</td>\n",
       "      <td>821.0</td>\n",
       "    </tr>\n",
       "    <tr>\n",
       "      <th>1199997</th>\n",
       "      <td>1199997</td>\n",
       "      <td>19.0</td>\n",
       "      <td>Male</td>\n",
       "      <td>51884.0</td>\n",
       "      <td>0.0</td>\n",
       "      <td>Master's</td>\n",
       "      <td>14.724469</td>\n",
       "      <td>Suburban</td>\n",
       "      <td>Basic</td>\n",
       "      <td>0.0</td>\n",
       "      <td>19.0</td>\n",
       "      <td>999.0</td>\n",
       "      <td>6.0</td>\n",
       "      <td>2021-05-25 15:21:39.106582</td>\n",
       "      <td>Good</td>\n",
       "      <td>No</td>\n",
       "      <td>Monthly</td>\n",
       "      <td>Condo</td>\n",
       "      <td>371.0</td>\n",
       "    </tr>\n",
       "    <tr>\n",
       "      <th>1199998</th>\n",
       "      <td>1199998</td>\n",
       "      <td>55.0</td>\n",
       "      <td>Male</td>\n",
       "      <td>23911.0</td>\n",
       "      <td>1.0</td>\n",
       "      <td>PhD</td>\n",
       "      <td>18.547381</td>\n",
       "      <td>Suburban</td>\n",
       "      <td>Premium</td>\n",
       "      <td>1.0</td>\n",
       "      <td>7.0</td>\n",
       "      <td>407.0</td>\n",
       "      <td>4.0</td>\n",
       "      <td>2021-09-19 15:21:39.190215</td>\n",
       "      <td>Poor</td>\n",
       "      <td>No</td>\n",
       "      <td>Daily</td>\n",
       "      <td>Apartment</td>\n",
       "      <td>596.0</td>\n",
       "    </tr>\n",
       "    <tr>\n",
       "      <th>1199999</th>\n",
       "      <td>1199999</td>\n",
       "      <td>21.0</td>\n",
       "      <td>Female</td>\n",
       "      <td>23911.0</td>\n",
       "      <td>0.0</td>\n",
       "      <td>PhD</td>\n",
       "      <td>10.125323</td>\n",
       "      <td>Rural</td>\n",
       "      <td>Premium</td>\n",
       "      <td>0.0</td>\n",
       "      <td>18.0</td>\n",
       "      <td>502.0</td>\n",
       "      <td>6.0</td>\n",
       "      <td>2020-08-26 15:21:39.155231</td>\n",
       "      <td>Good</td>\n",
       "      <td>Yes</td>\n",
       "      <td>Monthly</td>\n",
       "      <td>House</td>\n",
       "      <td>2480.0</td>\n",
       "    </tr>\n",
       "  </tbody>\n",
       "</table>\n",
       "<p>1199993 rows × 19 columns</p>\n",
       "</div>"
      ],
      "text/plain": [
       "              id   Age  Gender  Annual Income  Number of Dependents  \\\n",
       "0              0  19.0  Female        10049.0                   1.0   \n",
       "1              1  39.0  Female        31678.0                   3.0   \n",
       "2              2  23.0    Male        25602.0                   3.0   \n",
       "3              3  21.0    Male        96871.0                   2.0   \n",
       "4              4  21.0    Male        39651.0                   1.0   \n",
       "...          ...   ...     ...            ...                   ...   \n",
       "1199995  1199995  36.0  Female        27316.0                   0.0   \n",
       "1199996  1199996  54.0    Male        35786.0                  99.0   \n",
       "1199997  1199997  19.0    Male        51884.0                   0.0   \n",
       "1199998  1199998  55.0    Male        23911.0                   1.0   \n",
       "1199999  1199999  21.0  Female        23911.0                   0.0   \n",
       "\n",
       "        Education Level  Health Score  Location    Policy Type  \\\n",
       "0            Bachelor's     22.598761     Urban        Premium   \n",
       "1              Master's     15.569731     Rural  Comprehensive   \n",
       "2           High School     47.177549  Suburban        Premium   \n",
       "3            Bachelor's     10.938144     Rural          Basic   \n",
       "4            Bachelor's     20.376094     Rural        Premium   \n",
       "...                 ...           ...       ...            ...   \n",
       "1199995        Master's     13.772907     Urban        Premium   \n",
       "1199996        Master's     11.483482     Rural  Comprehensive   \n",
       "1199997        Master's     14.724469  Suburban          Basic   \n",
       "1199998             PhD     18.547381  Suburban        Premium   \n",
       "1199999             PhD     10.125323     Rural        Premium   \n",
       "\n",
       "         Previous Claims  Vehicle Age  Credit Score  Insurance Duration  \\\n",
       "0                    2.0         17.0         372.0                 5.0   \n",
       "1                    1.0         12.0         694.0                 2.0   \n",
       "2                    1.0         14.0         999.0                 3.0   \n",
       "3                    1.0          0.0         367.0                 1.0   \n",
       "4                    0.0          8.0         598.0                 4.0   \n",
       "...                  ...          ...           ...                 ...   \n",
       "1199995             99.0          5.0         372.0                 3.0   \n",
       "1199996             99.0         10.0         597.0                 4.0   \n",
       "1199997              0.0         19.0         999.0                 6.0   \n",
       "1199998              1.0          7.0         407.0                 4.0   \n",
       "1199999              0.0         18.0         502.0                 6.0   \n",
       "\n",
       "                  Policy Start Date Customer Feedback Smoking Status  \\\n",
       "0        2023-12-23 15:21:39.134960              Poor             No   \n",
       "1        2023-06-12 15:21:39.111551           Average            Yes   \n",
       "2        2023-09-30 15:21:39.221386              Good            Yes   \n",
       "3        2024-06-12 15:21:39.226954              Poor            Yes   \n",
       "4        2021-12-01 15:21:39.252145              Poor            Yes   \n",
       "...                             ...               ...            ...   \n",
       "1199995  2023-05-03 15:21:39.257696              Poor             No   \n",
       "1199996  2022-09-10 15:21:39.134960              Poor             No   \n",
       "1199997  2021-05-25 15:21:39.106582              Good             No   \n",
       "1199998  2021-09-19 15:21:39.190215              Poor             No   \n",
       "1199999  2020-08-26 15:21:39.155231              Good            Yes   \n",
       "\n",
       "        Exercise Frequency Property Type  Premium Amount  \n",
       "0                   Weekly         House          2869.0  \n",
       "1                  Monthly         House          1483.0  \n",
       "2                   Weekly         House           567.0  \n",
       "3                    Daily     Apartment           765.0  \n",
       "4                   Weekly         House          2022.0  \n",
       "...                    ...           ...             ...  \n",
       "1199995              Daily     Apartment          1303.0  \n",
       "1199996             Weekly     Apartment           821.0  \n",
       "1199997            Monthly         Condo           371.0  \n",
       "1199998              Daily     Apartment           596.0  \n",
       "1199999            Monthly         House          2480.0  \n",
       "\n",
       "[1199993 rows x 19 columns]"
      ]
     },
     "execution_count": 300,
     "metadata": {},
     "output_type": "execute_result"
    }
   ],
   "source": [
    "df_train"
   ]
  },
  {
   "cell_type": "code",
   "execution_count": 305,
   "metadata": {},
   "outputs": [
    {
     "data": {
      "text/plain": [
       "<Axes: ylabel='Frequency'>"
      ]
     },
     "execution_count": 305,
     "metadata": {},
     "output_type": "execute_result"
    },
    {
     "data": {
      "image/png": "[encoded data removed]",
      "text/plain": [
       "<Figure size 640x480 with 1 Axes>"
      ]
     },
     "metadata": {},
     "output_type": "display_data"
    }
   ],
   "source": [
    "# Target variable\n",
    "df_train['Premium Amount'].plot(kind='hist', bins=100)"
   ]
  },
  {
   "cell_type": "code",
   "execution_count": 309,
   "metadata": {},
   "outputs": [
    {
     "data": {
      "text/plain": [
       "<Axes: xlabel='Premium Amount', ylabel='Count'>"
      ]
     },
     "execution_count": 309,
     "metadata": {},
     "output_type": "execute_result"
    },
    {
     "data": {
      "image/png": "[encoded data removed]",
      "text/plain": [
       "<Figure size 640x480 with 1 Axes>"
      ]
     },
     "metadata": {},
     "output_type": "display_data"
    }
   ],
   "source": [
    "log_target = np.log1p(df_train['Premium Amount'])\n",
    "sns.histplot(log_target)"
   ]
  },
  {
   "cell_type": "code",
   "execution_count": 307,
   "metadata": {},
   "outputs": [
    {
     "data": {
      "text/html": [
       "<div>\n",
       "<style scoped>\n",
       "    .dataframe tbody tr th:only-of-type {\n",
       "        vertical-align: middle;\n",
       "    }\n",
       "\n",
       "    .dataframe tbody tr th {\n",
       "        vertical-align: top;\n",
       "    }\n",
       "\n",
       "    .dataframe thead th {\n",
       "        text-align: right;\n",
       "    }\n",
       "</style>\n",
       "<table border=\"1\" class=\"dataframe\">\n",
       "  <thead>\n",
       "    <tr style=\"text-align: right;\">\n",
       "      <th></th>\n",
       "      <th>id</th>\n",
       "      <th>Age</th>\n",
       "      <th>Gender</th>\n",
       "      <th>Annual Income</th>\n",
       "      <th>Number of Dependents</th>\n",
       "      <th>Education Level</th>\n",
       "      <th>Health Score</th>\n",
       "      <th>Location</th>\n",
       "      <th>Policy Type</th>\n",
       "      <th>Previous Claims</th>\n",
       "      <th>Vehicle Age</th>\n",
       "      <th>Credit Score</th>\n",
       "      <th>Insurance Duration</th>\n",
       "      <th>Policy Start Date</th>\n",
       "      <th>Customer Feedback</th>\n",
       "      <th>Smoking Status</th>\n",
       "      <th>Exercise Frequency</th>\n",
       "      <th>Property Type</th>\n",
       "      <th>Premium Amount</th>\n",
       "    </tr>\n",
       "  </thead>\n",
       "  <tbody>\n",
       "    <tr>\n",
       "      <th>0</th>\n",
       "      <td>0</td>\n",
       "      <td>19.0</td>\n",
       "      <td>Female</td>\n",
       "      <td>10049.0</td>\n",
       "      <td>1.0</td>\n",
       "      <td>Bachelor's</td>\n",
       "      <td>22.598761</td>\n",
       "      <td>Urban</td>\n",
       "      <td>Premium</td>\n",
       "      <td>2.0</td>\n",
       "      <td>17.0</td>\n",
       "      <td>372.0</td>\n",
       "      <td>5.0</td>\n",
       "      <td>2023-12-23 15:21:39.134960</td>\n",
       "      <td>Poor</td>\n",
       "      <td>No</td>\n",
       "      <td>Weekly</td>\n",
       "      <td>House</td>\n",
       "      <td>2869.0</td>\n",
       "    </tr>\n",
       "    <tr>\n",
       "      <th>1</th>\n",
       "      <td>1</td>\n",
       "      <td>39.0</td>\n",
       "      <td>Female</td>\n",
       "      <td>31678.0</td>\n",
       "      <td>3.0</td>\n",
       "      <td>Master's</td>\n",
       "      <td>15.569731</td>\n",
       "      <td>Rural</td>\n",
       "      <td>Comprehensive</td>\n",
       "      <td>1.0</td>\n",
       "      <td>12.0</td>\n",
       "      <td>694.0</td>\n",
       "      <td>2.0</td>\n",
       "      <td>2023-06-12 15:21:39.111551</td>\n",
       "      <td>Average</td>\n",
       "      <td>Yes</td>\n",
       "      <td>Monthly</td>\n",
       "      <td>House</td>\n",
       "      <td>1483.0</td>\n",
       "    </tr>\n",
       "    <tr>\n",
       "      <th>2</th>\n",
       "      <td>2</td>\n",
       "      <td>23.0</td>\n",
       "      <td>Male</td>\n",
       "      <td>25602.0</td>\n",
       "      <td>3.0</td>\n",
       "      <td>High School</td>\n",
       "      <td>47.177549</td>\n",
       "      <td>Suburban</td>\n",
       "      <td>Premium</td>\n",
       "      <td>1.0</td>\n",
       "      <td>14.0</td>\n",
       "      <td>999.0</td>\n",
       "      <td>3.0</td>\n",
       "      <td>2023-09-30 15:21:39.221386</td>\n",
       "      <td>Good</td>\n",
       "      <td>Yes</td>\n",
       "      <td>Weekly</td>\n",
       "      <td>House</td>\n",
       "      <td>567.0</td>\n",
       "    </tr>\n",
       "    <tr>\n",
       "      <th>3</th>\n",
       "      <td>3</td>\n",
       "      <td>21.0</td>\n",
       "      <td>Male</td>\n",
       "      <td>96871.0</td>\n",
       "      <td>2.0</td>\n",
       "      <td>Bachelor's</td>\n",
       "      <td>10.938144</td>\n",
       "      <td>Rural</td>\n",
       "      <td>Basic</td>\n",
       "      <td>1.0</td>\n",
       "      <td>0.0</td>\n",
       "      <td>367.0</td>\n",
       "      <td>1.0</td>\n",
       "      <td>2024-06-12 15:21:39.226954</td>\n",
       "      <td>Poor</td>\n",
       "      <td>Yes</td>\n",
       "      <td>Daily</td>\n",
       "      <td>Apartment</td>\n",
       "      <td>765.0</td>\n",
       "    </tr>\n",
       "    <tr>\n",
       "      <th>4</th>\n",
       "      <td>4</td>\n",
       "      <td>21.0</td>\n",
       "      <td>Male</td>\n",
       "      <td>39651.0</td>\n",
       "      <td>1.0</td>\n",
       "      <td>Bachelor's</td>\n",
       "      <td>20.376094</td>\n",
       "      <td>Rural</td>\n",
       "      <td>Premium</td>\n",
       "      <td>0.0</td>\n",
       "      <td>8.0</td>\n",
       "      <td>598.0</td>\n",
       "      <td>4.0</td>\n",
       "      <td>2021-12-01 15:21:39.252145</td>\n",
       "      <td>Poor</td>\n",
       "      <td>Yes</td>\n",
       "      <td>Weekly</td>\n",
       "      <td>House</td>\n",
       "      <td>2022.0</td>\n",
       "    </tr>\n",
       "    <tr>\n",
       "      <th>...</th>\n",
       "      <td>...</td>\n",
       "      <td>...</td>\n",
       "      <td>...</td>\n",
       "      <td>...</td>\n",
       "      <td>...</td>\n",
       "      <td>...</td>\n",
       "      <td>...</td>\n",
       "      <td>...</td>\n",
       "      <td>...</td>\n",
       "      <td>...</td>\n",
       "      <td>...</td>\n",
       "      <td>...</td>\n",
       "      <td>...</td>\n",
       "      <td>...</td>\n",
       "      <td>...</td>\n",
       "      <td>...</td>\n",
       "      <td>...</td>\n",
       "      <td>...</td>\n",
       "      <td>...</td>\n",
       "    </tr>\n",
       "    <tr>\n",
       "      <th>1199995</th>\n",
       "      <td>1199995</td>\n",
       "      <td>36.0</td>\n",
       "      <td>Female</td>\n",
       "      <td>27316.0</td>\n",
       "      <td>0.0</td>\n",
       "      <td>Master's</td>\n",
       "      <td>13.772907</td>\n",
       "      <td>Urban</td>\n",
       "      <td>Premium</td>\n",
       "      <td>99.0</td>\n",
       "      <td>5.0</td>\n",
       "      <td>372.0</td>\n",
       "      <td>3.0</td>\n",
       "      <td>2023-05-03 15:21:39.257696</td>\n",
       "      <td>Poor</td>\n",
       "      <td>No</td>\n",
       "      <td>Daily</td>\n",
       "      <td>Apartment</td>\n",
       "      <td>1303.0</td>\n",
       "    </tr>\n",
       "    <tr>\n",
       "      <th>1199996</th>\n",
       "      <td>1199996</td>\n",
       "      <td>54.0</td>\n",
       "      <td>Male</td>\n",
       "      <td>35786.0</td>\n",
       "      <td>99.0</td>\n",
       "      <td>Master's</td>\n",
       "      <td>11.483482</td>\n",
       "      <td>Rural</td>\n",
       "      <td>Comprehensive</td>\n",
       "      <td>99.0</td>\n",
       "      <td>10.0</td>\n",
       "      <td>597.0</td>\n",
       "      <td>4.0</td>\n",
       "      <td>2022-09-10 15:21:39.134960</td>\n",
       "      <td>Poor</td>\n",
       "      <td>No</td>\n",
       "      <td>Weekly</td>\n",
       "      <td>Apartment</td>\n",
       "      <td>821.0</td>\n",
       "    </tr>\n",
       "    <tr>\n",
       "      <th>1199997</th>\n",
       "      <td>1199997</td>\n",
       "      <td>19.0</td>\n",
       "      <td>Male</td>\n",
       "      <td>51884.0</td>\n",
       "      <td>0.0</td>\n",
       "      <td>Master's</td>\n",
       "      <td>14.724469</td>\n",
       "      <td>Suburban</td>\n",
       "      <td>Basic</td>\n",
       "      <td>0.0</td>\n",
       "      <td>19.0</td>\n",
       "      <td>999.0</td>\n",
       "      <td>6.0</td>\n",
       "      <td>2021-05-25 15:21:39.106582</td>\n",
       "      <td>Good</td>\n",
       "      <td>No</td>\n",
       "      <td>Monthly</td>\n",
       "      <td>Condo</td>\n",
       "      <td>371.0</td>\n",
       "    </tr>\n",
       "    <tr>\n",
       "      <th>1199998</th>\n",
       "      <td>1199998</td>\n",
       "      <td>55.0</td>\n",
       "      <td>Male</td>\n",
       "      <td>23911.0</td>\n",
       "      <td>1.0</td>\n",
       "      <td>PhD</td>\n",
       "      <td>18.547381</td>\n",
       "      <td>Suburban</td>\n",
       "      <td>Premium</td>\n",
       "      <td>1.0</td>\n",
       "      <td>7.0</td>\n",
       "      <td>407.0</td>\n",
       "      <td>4.0</td>\n",
       "      <td>2021-09-19 15:21:39.190215</td>\n",
       "      <td>Poor</td>\n",
       "      <td>No</td>\n",
       "      <td>Daily</td>\n",
       "      <td>Apartment</td>\n",
       "      <td>596.0</td>\n",
       "    </tr>\n",
       "    <tr>\n",
       "      <th>1199999</th>\n",
       "      <td>1199999</td>\n",
       "      <td>21.0</td>\n",
       "      <td>Female</td>\n",
       "      <td>23911.0</td>\n",
       "      <td>0.0</td>\n",
       "      <td>PhD</td>\n",
       "      <td>10.125323</td>\n",
       "      <td>Rural</td>\n",
       "      <td>Premium</td>\n",
       "      <td>0.0</td>\n",
       "      <td>18.0</td>\n",
       "      <td>502.0</td>\n",
       "      <td>6.0</td>\n",
       "      <td>2020-08-26 15:21:39.155231</td>\n",
       "      <td>Good</td>\n",
       "      <td>Yes</td>\n",
       "      <td>Monthly</td>\n",
       "      <td>House</td>\n",
       "      <td>2480.0</td>\n",
       "    </tr>\n",
       "  </tbody>\n",
       "</table>\n",
       "<p>1199993 rows × 19 columns</p>\n",
       "</div>"
      ],
      "text/plain": [
       "              id   Age  Gender  Annual Income  Number of Dependents  \\\n",
       "0              0  19.0  Female        10049.0                   1.0   \n",
       "1              1  39.0  Female        31678.0                   3.0   \n",
       "2              2  23.0    Male        25602.0                   3.0   \n",
       "3              3  21.0    Male        96871.0                   2.0   \n",
       "4              4  21.0    Male        39651.0                   1.0   \n",
       "...          ...   ...     ...            ...                   ...   \n",
       "1199995  1199995  36.0  Female        27316.0                   0.0   \n",
       "1199996  1199996  54.0    Male        35786.0                  99.0   \n",
       "1199997  1199997  19.0    Male        51884.0                   0.0   \n",
       "1199998  1199998  55.0    Male        23911.0                   1.0   \n",
       "1199999  1199999  21.0  Female        23911.0                   0.0   \n",
       "\n",
       "        Education Level  Health Score  Location    Policy Type  \\\n",
       "0            Bachelor's     22.598761     Urban        Premium   \n",
       "1              Master's     15.569731     Rural  Comprehensive   \n",
       "2           High School     47.177549  Suburban        Premium   \n",
       "3            Bachelor's     10.938144     Rural          Basic   \n",
       "4            Bachelor's     20.376094     Rural        Premium   \n",
       "...                 ...           ...       ...            ...   \n",
       "1199995        Master's     13.772907     Urban        Premium   \n",
       "1199996        Master's     11.483482     Rural  Comprehensive   \n",
       "1199997        Master's     14.724469  Suburban          Basic   \n",
       "1199998             PhD     18.547381  Suburban        Premium   \n",
       "1199999             PhD     10.125323     Rural        Premium   \n",
       "\n",
       "         Previous Claims  Vehicle Age  Credit Score  Insurance Duration  \\\n",
       "0                    2.0         17.0         372.0                 5.0   \n",
       "1                    1.0         12.0         694.0                 2.0   \n",
       "2                    1.0         14.0         999.0                 3.0   \n",
       "3                    1.0          0.0         367.0                 1.0   \n",
       "4                    0.0          8.0         598.0                 4.0   \n",
       "...                  ...          ...           ...                 ...   \n",
       "1199995             99.0          5.0         372.0                 3.0   \n",
       "1199996             99.0         10.0         597.0                 4.0   \n",
       "1199997              0.0         19.0         999.0                 6.0   \n",
       "1199998              1.0          7.0         407.0                 4.0   \n",
       "1199999              0.0         18.0         502.0                 6.0   \n",
       "\n",
       "                  Policy Start Date Customer Feedback Smoking Status  \\\n",
       "0        2023-12-23 15:21:39.134960              Poor             No   \n",
       "1        2023-06-12 15:21:39.111551           Average            Yes   \n",
       "2        2023-09-30 15:21:39.221386              Good            Yes   \n",
       "3        2024-06-12 15:21:39.226954              Poor            Yes   \n",
       "4        2021-12-01 15:21:39.252145              Poor            Yes   \n",
       "...                             ...               ...            ...   \n",
       "1199995  2023-05-03 15:21:39.257696              Poor             No   \n",
       "1199996  2022-09-10 15:21:39.134960              Poor             No   \n",
       "1199997  2021-05-25 15:21:39.106582              Good             No   \n",
       "1199998  2021-09-19 15:21:39.190215              Poor             No   \n",
       "1199999  2020-08-26 15:21:39.155231              Good            Yes   \n",
       "\n",
       "        Exercise Frequency Property Type  Premium Amount  \n",
       "0                   Weekly         House          2869.0  \n",
       "1                  Monthly         House          1483.0  \n",
       "2                   Weekly         House           567.0  \n",
       "3                    Daily     Apartment           765.0  \n",
       "4                   Weekly         House          2022.0  \n",
       "...                    ...           ...             ...  \n",
       "1199995              Daily     Apartment          1303.0  \n",
       "1199996             Weekly     Apartment           821.0  \n",
       "1199997            Monthly         Condo           371.0  \n",
       "1199998              Daily     Apartment           596.0  \n",
       "1199999            Monthly         House          2480.0  \n",
       "\n",
       "[1199993 rows x 19 columns]"
      ]
     },
     "execution_count": 307,
     "metadata": {},
     "output_type": "execute_result"
    }
   ],
   "source": [
    "df_train"
   ]
  },
  {
   "cell_type": "code",
   "execution_count": null,
   "metadata": {},
   "outputs": [],
   "source": []
  }
 ],
 "metadata": {
  "kernelspec": {
   "display_name": "ml_env",
   "language": "python",
   "name": "python3"
  },
  "language_info": {
   "codemirror_mode": {
    "name": "ipython",
    "version": 3
   },
   "file_extension": ".py",
   "mimetype": "text/x-python",
   "name": "python",
   "nbconvert_exporter": "python",
   "pygments_lexer": "ipython3",
   "version": "3.10.13"
  }
 },
 "nbformat": 4,
 "nbformat_minor": 2
}
