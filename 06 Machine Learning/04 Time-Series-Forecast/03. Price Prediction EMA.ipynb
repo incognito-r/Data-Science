{
 "cells": [
  {
   "cell_type": "code",
   "execution_count": 1,
   "metadata": {},
   "outputs": [],
   "source": [
    "from IPython.display import clear_output\n",
    "\n",
    "# !pip install pmdarima\n",
    "# !pip install  matplotlib\n",
    "# !pip install  numpy\n",
    "# !pip install plotly\n",
    "# !pip install scikit-learn\n",
    "\n",
    "clear_output()"
   ]
  },
  {
   "cell_type": "code",
   "execution_count": 2,
   "metadata": {},
   "outputs": [],
   "source": [
    "import pandas as pd\n",
    "import numpy as np\n",
    "import matplotlib.pyplot as plt\n",
    "from datetime import datetime\n",
    "import yfinance as yf\n",
    "\n",
    "from termcolor import colored\n",
    "import warnings\n"
   ]
  },
  {
   "cell_type": "code",
   "execution_count": 3,
   "metadata": {},
   "outputs": [
    {
     "name": "stderr",
     "output_type": "stream",
     "text": [
      "[*********************100%***********************]  1 of 1 completed\n"
     ]
    },
    {
     "data": {
      "text/html": [
       "<div>\n",
       "<style scoped>\n",
       "    .dataframe tbody tr th:only-of-type {\n",
       "        vertical-align: middle;\n",
       "    }\n",
       "\n",
       "    .dataframe tbody tr th {\n",
       "        vertical-align: top;\n",
       "    }\n",
       "\n",
       "    .dataframe thead tr th {\n",
       "        text-align: left;\n",
       "    }\n",
       "\n",
       "    .dataframe thead tr:last-of-type th {\n",
       "        text-align: right;\n",
       "    }\n",
       "</style>\n",
       "<table border=\"1\" class=\"dataframe\">\n",
       "  <thead>\n",
       "    <tr>\n",
       "      <th>Price</th>\n",
       "      <th>Adj Close</th>\n",
       "      <th>Close</th>\n",
       "      <th>High</th>\n",
       "      <th>Low</th>\n",
       "      <th>Open</th>\n",
       "      <th>Volume</th>\n",
       "    </tr>\n",
       "    <tr>\n",
       "      <th>Ticker</th>\n",
       "      <th>M&amp;M.NS</th>\n",
       "      <th>M&amp;M.NS</th>\n",
       "      <th>M&amp;M.NS</th>\n",
       "      <th>M&amp;M.NS</th>\n",
       "      <th>M&amp;M.NS</th>\n",
       "      <th>M&amp;M.NS</th>\n",
       "    </tr>\n",
       "    <tr>\n",
       "      <th>Date</th>\n",
       "      <th></th>\n",
       "      <th></th>\n",
       "      <th></th>\n",
       "      <th></th>\n",
       "      <th></th>\n",
       "      <th></th>\n",
       "    </tr>\n",
       "  </thead>\n",
       "  <tbody>\n",
       "    <tr>\n",
       "      <th>2019-01-01 00:00:00+00:00</th>\n",
       "      <td>722.782715</td>\n",
       "      <td>773.349976</td>\n",
       "      <td>805.849976</td>\n",
       "      <td>771.299988</td>\n",
       "      <td>805.000000</td>\n",
       "      <td>3442903</td>\n",
       "    </tr>\n",
       "    <tr>\n",
       "      <th>2019-01-02 00:00:00+00:00</th>\n",
       "      <td>693.202271</td>\n",
       "      <td>741.700012</td>\n",
       "      <td>772.799988</td>\n",
       "      <td>735.099976</td>\n",
       "      <td>772.799988</td>\n",
       "      <td>10596260</td>\n",
       "    </tr>\n",
       "    <tr>\n",
       "      <th>2019-01-03 00:00:00+00:00</th>\n",
       "      <td>671.332275</td>\n",
       "      <td>718.299988</td>\n",
       "      <td>744.849976</td>\n",
       "      <td>716.200012</td>\n",
       "      <td>743.400024</td>\n",
       "      <td>11084172</td>\n",
       "    </tr>\n",
       "    <tr>\n",
       "      <th>2019-01-04 00:00:00+00:00</th>\n",
       "      <td>678.155029</td>\n",
       "      <td>725.599976</td>\n",
       "      <td>728.299988</td>\n",
       "      <td>712.500000</td>\n",
       "      <td>720.000000</td>\n",
       "      <td>5919404</td>\n",
       "    </tr>\n",
       "    <tr>\n",
       "      <th>2019-01-07 00:00:00+00:00</th>\n",
       "      <td>681.846741</td>\n",
       "      <td>729.549988</td>\n",
       "      <td>735.900024</td>\n",
       "      <td>723.549988</td>\n",
       "      <td>734.549988</td>\n",
       "      <td>2792255</td>\n",
       "    </tr>\n",
       "    <tr>\n",
       "      <th>...</th>\n",
       "      <td>...</td>\n",
       "      <td>...</td>\n",
       "      <td>...</td>\n",
       "      <td>...</td>\n",
       "      <td>...</td>\n",
       "      <td>...</td>\n",
       "    </tr>\n",
       "    <tr>\n",
       "      <th>2024-11-07 00:00:00+00:00</th>\n",
       "      <td>2891.350098</td>\n",
       "      <td>2891.350098</td>\n",
       "      <td>2972.550049</td>\n",
       "      <td>2857.949951</td>\n",
       "      <td>2971.750000</td>\n",
       "      <td>4251557</td>\n",
       "    </tr>\n",
       "    <tr>\n",
       "      <th>2024-11-08 00:00:00+00:00</th>\n",
       "      <td>2974.899902</td>\n",
       "      <td>2974.899902</td>\n",
       "      <td>2990.949951</td>\n",
       "      <td>2851.250000</td>\n",
       "      <td>2910.000000</td>\n",
       "      <td>4455563</td>\n",
       "    </tr>\n",
       "    <tr>\n",
       "      <th>2024-11-11 00:00:00+00:00</th>\n",
       "      <td>2930.600098</td>\n",
       "      <td>2930.600098</td>\n",
       "      <td>3009.600098</td>\n",
       "      <td>2889.050049</td>\n",
       "      <td>2962.350098</td>\n",
       "      <td>2628672</td>\n",
       "    </tr>\n",
       "    <tr>\n",
       "      <th>2024-11-12 00:00:00+00:00</th>\n",
       "      <td>2898.550049</td>\n",
       "      <td>2898.550049</td>\n",
       "      <td>2945.899902</td>\n",
       "      <td>2880.000000</td>\n",
       "      <td>2931.199951</td>\n",
       "      <td>2414528</td>\n",
       "    </tr>\n",
       "    <tr>\n",
       "      <th>2024-11-13 00:00:00+00:00</th>\n",
       "      <td>2798.949951</td>\n",
       "      <td>2798.949951</td>\n",
       "      <td>2895.000000</td>\n",
       "      <td>2782.899902</td>\n",
       "      <td>2876.000000</td>\n",
       "      <td>3949602</td>\n",
       "    </tr>\n",
       "  </tbody>\n",
       "</table>\n",
       "<p>1450 rows × 6 columns</p>\n",
       "</div>"
      ],
      "text/plain": [
       "Price                        Adj Close        Close         High          Low  \\\n",
       "Ticker                          M&M.NS       M&M.NS       M&M.NS       M&M.NS   \n",
       "Date                                                                            \n",
       "2019-01-01 00:00:00+00:00   722.782715   773.349976   805.849976   771.299988   \n",
       "2019-01-02 00:00:00+00:00   693.202271   741.700012   772.799988   735.099976   \n",
       "2019-01-03 00:00:00+00:00   671.332275   718.299988   744.849976   716.200012   \n",
       "2019-01-04 00:00:00+00:00   678.155029   725.599976   728.299988   712.500000   \n",
       "2019-01-07 00:00:00+00:00   681.846741   729.549988   735.900024   723.549988   \n",
       "...                                ...          ...          ...          ...   \n",
       "2024-11-07 00:00:00+00:00  2891.350098  2891.350098  2972.550049  2857.949951   \n",
       "2024-11-08 00:00:00+00:00  2974.899902  2974.899902  2990.949951  2851.250000   \n",
       "2024-11-11 00:00:00+00:00  2930.600098  2930.600098  3009.600098  2889.050049   \n",
       "2024-11-12 00:00:00+00:00  2898.550049  2898.550049  2945.899902  2880.000000   \n",
       "2024-11-13 00:00:00+00:00  2798.949951  2798.949951  2895.000000  2782.899902   \n",
       "\n",
       "Price                             Open    Volume  \n",
       "Ticker                          M&M.NS    M&M.NS  \n",
       "Date                                              \n",
       "2019-01-01 00:00:00+00:00   805.000000   3442903  \n",
       "2019-01-02 00:00:00+00:00   772.799988  10596260  \n",
       "2019-01-03 00:00:00+00:00   743.400024  11084172  \n",
       "2019-01-04 00:00:00+00:00   720.000000   5919404  \n",
       "2019-01-07 00:00:00+00:00   734.549988   2792255  \n",
       "...                                ...       ...  \n",
       "2024-11-07 00:00:00+00:00  2971.750000   4251557  \n",
       "2024-11-08 00:00:00+00:00  2910.000000   4455563  \n",
       "2024-11-11 00:00:00+00:00  2962.350098   2628672  \n",
       "2024-11-12 00:00:00+00:00  2931.199951   2414528  \n",
       "2024-11-13 00:00:00+00:00  2876.000000   3949602  \n",
       "\n",
       "[1450 rows x 6 columns]"
      ]
     },
     "execution_count": 3,
     "metadata": {},
     "output_type": "execute_result"
    }
   ],
   "source": [
    "# Fetch stock df\n",
    "stock_symbol = 'M&M.NS'\n",
    "start_date = \"2019-01-01\"\n",
    "end_date = \"2024-01-01\"\n",
    "today_date = datetime.today().date()\n",
    "\n",
    "data = yf.download(stock_symbol, start=start_date, end=today_date)\n",
    "data"
   ]
  },
  {
   "cell_type": "code",
   "execution_count": 4,
   "metadata": {},
   "outputs": [],
   "source": [
    "data.columns = data.columns.droplevel(['Ticker'])\n",
    "data.columns.name = None\n",
    "data.reset_index(inplace=True)\n",
    "data['Date'] = pd.to_datetime(data['Date'].dt.date)"
   ]
  },
  {
   "cell_type": "code",
   "execution_count": 5,
   "metadata": {},
   "outputs": [
    {
     "name": "stdout",
     "output_type": "stream",
     "text": [
      "<class 'pandas.core.frame.DataFrame'>\n",
      "RangeIndex: 1450 entries, 0 to 1449\n",
      "Data columns (total 7 columns):\n",
      " #   Column     Non-Null Count  Dtype         \n",
      "---  ------     --------------  -----         \n",
      " 0   Date       1450 non-null   datetime64[ns]\n",
      " 1   Adj Close  1450 non-null   float64       \n",
      " 2   Close      1450 non-null   float64       \n",
      " 3   High       1450 non-null   float64       \n",
      " 4   Low        1450 non-null   float64       \n",
      " 5   Open       1450 non-null   float64       \n",
      " 6   Volume     1450 non-null   int64         \n",
      "dtypes: datetime64[ns](1), float64(5), int64(1)\n",
      "memory usage: 79.4 KB\n"
     ]
    }
   ],
   "source": [
    "data.info()"
   ]
  },
  {
   "cell_type": "code",
   "execution_count": 6,
   "metadata": {},
   "outputs": [
    {
     "data": {
      "text/html": [
       "<div>\n",
       "<style scoped>\n",
       "    .dataframe tbody tr th:only-of-type {\n",
       "        vertical-align: middle;\n",
       "    }\n",
       "\n",
       "    .dataframe tbody tr th {\n",
       "        vertical-align: top;\n",
       "    }\n",
       "\n",
       "    .dataframe thead th {\n",
       "        text-align: right;\n",
       "    }\n",
       "</style>\n",
       "<table border=\"1\" class=\"dataframe\">\n",
       "  <thead>\n",
       "    <tr style=\"text-align: right;\">\n",
       "      <th></th>\n",
       "      <th>Date</th>\n",
       "      <th>Adj Close</th>\n",
       "      <th>Close</th>\n",
       "      <th>High</th>\n",
       "      <th>Low</th>\n",
       "      <th>Open</th>\n",
       "      <th>Volume</th>\n",
       "    </tr>\n",
       "  </thead>\n",
       "  <tbody>\n",
       "    <tr>\n",
       "      <th>0</th>\n",
       "      <td>2019-01-01</td>\n",
       "      <td>722.782715</td>\n",
       "      <td>773.349976</td>\n",
       "      <td>805.849976</td>\n",
       "      <td>771.299988</td>\n",
       "      <td>805.000000</td>\n",
       "      <td>3442903</td>\n",
       "    </tr>\n",
       "    <tr>\n",
       "      <th>1</th>\n",
       "      <td>2019-01-02</td>\n",
       "      <td>693.202271</td>\n",
       "      <td>741.700012</td>\n",
       "      <td>772.799988</td>\n",
       "      <td>735.099976</td>\n",
       "      <td>772.799988</td>\n",
       "      <td>10596260</td>\n",
       "    </tr>\n",
       "    <tr>\n",
       "      <th>2</th>\n",
       "      <td>2019-01-03</td>\n",
       "      <td>671.332275</td>\n",
       "      <td>718.299988</td>\n",
       "      <td>744.849976</td>\n",
       "      <td>716.200012</td>\n",
       "      <td>743.400024</td>\n",
       "      <td>11084172</td>\n",
       "    </tr>\n",
       "    <tr>\n",
       "      <th>3</th>\n",
       "      <td>2019-01-04</td>\n",
       "      <td>678.155029</td>\n",
       "      <td>725.599976</td>\n",
       "      <td>728.299988</td>\n",
       "      <td>712.500000</td>\n",
       "      <td>720.000000</td>\n",
       "      <td>5919404</td>\n",
       "    </tr>\n",
       "    <tr>\n",
       "      <th>4</th>\n",
       "      <td>2019-01-07</td>\n",
       "      <td>681.846741</td>\n",
       "      <td>729.549988</td>\n",
       "      <td>735.900024</td>\n",
       "      <td>723.549988</td>\n",
       "      <td>734.549988</td>\n",
       "      <td>2792255</td>\n",
       "    </tr>\n",
       "    <tr>\n",
       "      <th>...</th>\n",
       "      <td>...</td>\n",
       "      <td>...</td>\n",
       "      <td>...</td>\n",
       "      <td>...</td>\n",
       "      <td>...</td>\n",
       "      <td>...</td>\n",
       "      <td>...</td>\n",
       "    </tr>\n",
       "    <tr>\n",
       "      <th>1445</th>\n",
       "      <td>2024-11-07</td>\n",
       "      <td>2891.350098</td>\n",
       "      <td>2891.350098</td>\n",
       "      <td>2972.550049</td>\n",
       "      <td>2857.949951</td>\n",
       "      <td>2971.750000</td>\n",
       "      <td>4251557</td>\n",
       "    </tr>\n",
       "    <tr>\n",
       "      <th>1446</th>\n",
       "      <td>2024-11-08</td>\n",
       "      <td>2974.899902</td>\n",
       "      <td>2974.899902</td>\n",
       "      <td>2990.949951</td>\n",
       "      <td>2851.250000</td>\n",
       "      <td>2910.000000</td>\n",
       "      <td>4455563</td>\n",
       "    </tr>\n",
       "    <tr>\n",
       "      <th>1447</th>\n",
       "      <td>2024-11-11</td>\n",
       "      <td>2930.600098</td>\n",
       "      <td>2930.600098</td>\n",
       "      <td>3009.600098</td>\n",
       "      <td>2889.050049</td>\n",
       "      <td>2962.350098</td>\n",
       "      <td>2628672</td>\n",
       "    </tr>\n",
       "    <tr>\n",
       "      <th>1448</th>\n",
       "      <td>2024-11-12</td>\n",
       "      <td>2898.550049</td>\n",
       "      <td>2898.550049</td>\n",
       "      <td>2945.899902</td>\n",
       "      <td>2880.000000</td>\n",
       "      <td>2931.199951</td>\n",
       "      <td>2414528</td>\n",
       "    </tr>\n",
       "    <tr>\n",
       "      <th>1449</th>\n",
       "      <td>2024-11-13</td>\n",
       "      <td>2798.949951</td>\n",
       "      <td>2798.949951</td>\n",
       "      <td>2895.000000</td>\n",
       "      <td>2782.899902</td>\n",
       "      <td>2876.000000</td>\n",
       "      <td>3949602</td>\n",
       "    </tr>\n",
       "  </tbody>\n",
       "</table>\n",
       "<p>1450 rows × 7 columns</p>\n",
       "</div>"
      ],
      "text/plain": [
       "           Date    Adj Close        Close         High          Low  \\\n",
       "0    2019-01-01   722.782715   773.349976   805.849976   771.299988   \n",
       "1    2019-01-02   693.202271   741.700012   772.799988   735.099976   \n",
       "2    2019-01-03   671.332275   718.299988   744.849976   716.200012   \n",
       "3    2019-01-04   678.155029   725.599976   728.299988   712.500000   \n",
       "4    2019-01-07   681.846741   729.549988   735.900024   723.549988   \n",
       "...         ...          ...          ...          ...          ...   \n",
       "1445 2024-11-07  2891.350098  2891.350098  2972.550049  2857.949951   \n",
       "1446 2024-11-08  2974.899902  2974.899902  2990.949951  2851.250000   \n",
       "1447 2024-11-11  2930.600098  2930.600098  3009.600098  2889.050049   \n",
       "1448 2024-11-12  2898.550049  2898.550049  2945.899902  2880.000000   \n",
       "1449 2024-11-13  2798.949951  2798.949951  2895.000000  2782.899902   \n",
       "\n",
       "             Open    Volume  \n",
       "0      805.000000   3442903  \n",
       "1      772.799988  10596260  \n",
       "2      743.400024  11084172  \n",
       "3      720.000000   5919404  \n",
       "4      734.549988   2792255  \n",
       "...           ...       ...  \n",
       "1445  2971.750000   4251557  \n",
       "1446  2910.000000   4455563  \n",
       "1447  2962.350098   2628672  \n",
       "1448  2931.199951   2414528  \n",
       "1449  2876.000000   3949602  \n",
       "\n",
       "[1450 rows x 7 columns]"
      ]
     },
     "execution_count": 6,
     "metadata": {},
     "output_type": "execute_result"
    }
   ],
   "source": [
    "data"
   ]
  },
  {
   "cell_type": "code",
   "execution_count": 7,
   "metadata": {},
   "outputs": [
    {
     "data": {
      "text/html": [
       "<div>\n",
       "<style scoped>\n",
       "    .dataframe tbody tr th:only-of-type {\n",
       "        vertical-align: middle;\n",
       "    }\n",
       "\n",
       "    .dataframe tbody tr th {\n",
       "        vertical-align: top;\n",
       "    }\n",
       "\n",
       "    .dataframe thead th {\n",
       "        text-align: right;\n",
       "    }\n",
       "</style>\n",
       "<table border=\"1\" class=\"dataframe\">\n",
       "  <thead>\n",
       "    <tr style=\"text-align: right;\">\n",
       "      <th></th>\n",
       "      <th>Date</th>\n",
       "      <th>Close</th>\n",
       "    </tr>\n",
       "  </thead>\n",
       "  <tbody>\n",
       "    <tr>\n",
       "      <th>0</th>\n",
       "      <td>2019-01-01</td>\n",
       "      <td>773.349976</td>\n",
       "    </tr>\n",
       "    <tr>\n",
       "      <th>1</th>\n",
       "      <td>2019-01-02</td>\n",
       "      <td>741.700012</td>\n",
       "    </tr>\n",
       "    <tr>\n",
       "      <th>2</th>\n",
       "      <td>2019-01-03</td>\n",
       "      <td>718.299988</td>\n",
       "    </tr>\n",
       "    <tr>\n",
       "      <th>3</th>\n",
       "      <td>2019-01-04</td>\n",
       "      <td>725.599976</td>\n",
       "    </tr>\n",
       "    <tr>\n",
       "      <th>4</th>\n",
       "      <td>2019-01-07</td>\n",
       "      <td>729.549988</td>\n",
       "    </tr>\n",
       "    <tr>\n",
       "      <th>...</th>\n",
       "      <td>...</td>\n",
       "      <td>...</td>\n",
       "    </tr>\n",
       "    <tr>\n",
       "      <th>1445</th>\n",
       "      <td>2024-11-07</td>\n",
       "      <td>2891.350098</td>\n",
       "    </tr>\n",
       "    <tr>\n",
       "      <th>1446</th>\n",
       "      <td>2024-11-08</td>\n",
       "      <td>2974.899902</td>\n",
       "    </tr>\n",
       "    <tr>\n",
       "      <th>1447</th>\n",
       "      <td>2024-11-11</td>\n",
       "      <td>2930.600098</td>\n",
       "    </tr>\n",
       "    <tr>\n",
       "      <th>1448</th>\n",
       "      <td>2024-11-12</td>\n",
       "      <td>2898.550049</td>\n",
       "    </tr>\n",
       "    <tr>\n",
       "      <th>1449</th>\n",
       "      <td>2024-11-13</td>\n",
       "      <td>2798.949951</td>\n",
       "    </tr>\n",
       "  </tbody>\n",
       "</table>\n",
       "<p>1450 rows × 2 columns</p>\n",
       "</div>"
      ],
      "text/plain": [
       "           Date        Close\n",
       "0    2019-01-01   773.349976\n",
       "1    2019-01-02   741.700012\n",
       "2    2019-01-03   718.299988\n",
       "3    2019-01-04   725.599976\n",
       "4    2019-01-07   729.549988\n",
       "...         ...          ...\n",
       "1445 2024-11-07  2891.350098\n",
       "1446 2024-11-08  2974.899902\n",
       "1447 2024-11-11  2930.600098\n",
       "1448 2024-11-12  2898.550049\n",
       "1449 2024-11-13  2798.949951\n",
       "\n",
       "[1450 rows x 2 columns]"
      ]
     },
     "execution_count": 7,
     "metadata": {},
     "output_type": "execute_result"
    }
   ],
   "source": [
    "df = data[['Date','Close']]\n",
    "df"
   ]
  },
  {
   "cell_type": "code",
   "execution_count": 8,
   "metadata": {},
   "outputs": [
    {
     "data": {
      "text/html": [
       "<div>\n",
       "<style scoped>\n",
       "    .dataframe tbody tr th:only-of-type {\n",
       "        vertical-align: middle;\n",
       "    }\n",
       "\n",
       "    .dataframe tbody tr th {\n",
       "        vertical-align: top;\n",
       "    }\n",
       "\n",
       "    .dataframe thead th {\n",
       "        text-align: right;\n",
       "    }\n",
       "</style>\n",
       "<table border=\"1\" class=\"dataframe\">\n",
       "  <thead>\n",
       "    <tr style=\"text-align: right;\">\n",
       "      <th></th>\n",
       "      <th>Close</th>\n",
       "    </tr>\n",
       "    <tr>\n",
       "      <th>Date</th>\n",
       "      <th></th>\n",
       "    </tr>\n",
       "  </thead>\n",
       "  <tbody>\n",
       "    <tr>\n",
       "      <th>2019-01-01</th>\n",
       "      <td>773.349976</td>\n",
       "    </tr>\n",
       "    <tr>\n",
       "      <th>2019-01-02</th>\n",
       "      <td>741.700012</td>\n",
       "    </tr>\n",
       "    <tr>\n",
       "      <th>2019-01-03</th>\n",
       "      <td>718.299988</td>\n",
       "    </tr>\n",
       "    <tr>\n",
       "      <th>2019-01-04</th>\n",
       "      <td>725.599976</td>\n",
       "    </tr>\n",
       "    <tr>\n",
       "      <th>2019-01-07</th>\n",
       "      <td>729.549988</td>\n",
       "    </tr>\n",
       "    <tr>\n",
       "      <th>...</th>\n",
       "      <td>...</td>\n",
       "    </tr>\n",
       "    <tr>\n",
       "      <th>2024-11-07</th>\n",
       "      <td>2891.350098</td>\n",
       "    </tr>\n",
       "    <tr>\n",
       "      <th>2024-11-08</th>\n",
       "      <td>2974.899902</td>\n",
       "    </tr>\n",
       "    <tr>\n",
       "      <th>2024-11-11</th>\n",
       "      <td>2930.600098</td>\n",
       "    </tr>\n",
       "    <tr>\n",
       "      <th>2024-11-12</th>\n",
       "      <td>2898.550049</td>\n",
       "    </tr>\n",
       "    <tr>\n",
       "      <th>2024-11-13</th>\n",
       "      <td>2798.949951</td>\n",
       "    </tr>\n",
       "  </tbody>\n",
       "</table>\n",
       "<p>1450 rows × 1 columns</p>\n",
       "</div>"
      ],
      "text/plain": [
       "                  Close\n",
       "Date                   \n",
       "2019-01-01   773.349976\n",
       "2019-01-02   741.700012\n",
       "2019-01-03   718.299988\n",
       "2019-01-04   725.599976\n",
       "2019-01-07   729.549988\n",
       "...                 ...\n",
       "2024-11-07  2891.350098\n",
       "2024-11-08  2974.899902\n",
       "2024-11-11  2930.600098\n",
       "2024-11-12  2898.550049\n",
       "2024-11-13  2798.949951\n",
       "\n",
       "[1450 rows x 1 columns]"
      ]
     },
     "execution_count": 8,
     "metadata": {},
     "output_type": "execute_result"
    }
   ],
   "source": [
    "df.set_index('Date', inplace=True)\n",
    "df"
   ]
  },
  {
   "cell_type": "code",
   "execution_count": 9,
   "metadata": {},
   "outputs": [],
   "source": [
    "from datetime import datetime, timedelta\n",
    "\n",
    "today_date = datetime.today().date()\n",
    "today_date = pd.to_datetime(today_date)\n",
    "# Train Dates\n",
    "train_startDate = '2019-06-01'\n",
    "train_endDate = today_date - timedelta(days=366/2)\n",
    "train_endDate = pd.to_datetime(train_endDate)\n",
    "# Test Dates\n",
    "test_startDate = train_endDate + timedelta(days=1)\n",
    "test_endDate = today_date - timedelta(days=1)\n",
    "# Future Dates\n",
    "future_dates = pd.date_range(today_date, periods=30, freq='B')\n",
    "\n",
    "train = df[train_startDate:train_endDate].copy()  # Train data\n",
    "test = df[test_startDate:test_endDate].copy()  # Test data"
   ]
  },
  {
   "cell_type": "code",
   "execution_count": 10,
   "metadata": {},
   "outputs": [
    {
     "data": {
      "text/html": [
       "<div>\n",
       "<style scoped>\n",
       "    .dataframe tbody tr th:only-of-type {\n",
       "        vertical-align: middle;\n",
       "    }\n",
       "\n",
       "    .dataframe tbody tr th {\n",
       "        vertical-align: top;\n",
       "    }\n",
       "\n",
       "    .dataframe thead th {\n",
       "        text-align: right;\n",
       "    }\n",
       "</style>\n",
       "<table border=\"1\" class=\"dataframe\">\n",
       "  <thead>\n",
       "    <tr style=\"text-align: right;\">\n",
       "      <th></th>\n",
       "      <th>Close</th>\n",
       "    </tr>\n",
       "    <tr>\n",
       "      <th>Date</th>\n",
       "      <th></th>\n",
       "    </tr>\n",
       "  </thead>\n",
       "  <tbody>\n",
       "    <tr>\n",
       "      <th>2019-06-03</th>\n",
       "      <td>653.400024</td>\n",
       "    </tr>\n",
       "    <tr>\n",
       "      <th>2019-06-04</th>\n",
       "      <td>650.750000</td>\n",
       "    </tr>\n",
       "    <tr>\n",
       "      <th>2019-06-06</th>\n",
       "      <td>634.099976</td>\n",
       "    </tr>\n",
       "    <tr>\n",
       "      <th>2019-06-07</th>\n",
       "      <td>644.049988</td>\n",
       "    </tr>\n",
       "    <tr>\n",
       "      <th>2019-06-10</th>\n",
       "      <td>646.950012</td>\n",
       "    </tr>\n",
       "    <tr>\n",
       "      <th>...</th>\n",
       "      <td>...</td>\n",
       "    </tr>\n",
       "    <tr>\n",
       "      <th>2024-05-09</th>\n",
       "      <td>2212.550049</td>\n",
       "    </tr>\n",
       "    <tr>\n",
       "      <th>2024-05-10</th>\n",
       "      <td>2193.050049</td>\n",
       "    </tr>\n",
       "    <tr>\n",
       "      <th>2024-05-13</th>\n",
       "      <td>2184.250000</td>\n",
       "    </tr>\n",
       "    <tr>\n",
       "      <th>2024-05-14</th>\n",
       "      <td>2269.899902</td>\n",
       "    </tr>\n",
       "    <tr>\n",
       "      <th>2024-05-15</th>\n",
       "      <td>2302.300049</td>\n",
       "    </tr>\n",
       "  </tbody>\n",
       "</table>\n",
       "<p>1224 rows × 1 columns</p>\n",
       "</div>"
      ],
      "text/plain": [
       "                  Close\n",
       "Date                   \n",
       "2019-06-03   653.400024\n",
       "2019-06-04   650.750000\n",
       "2019-06-06   634.099976\n",
       "2019-06-07   644.049988\n",
       "2019-06-10   646.950012\n",
       "...                 ...\n",
       "2024-05-09  2212.550049\n",
       "2024-05-10  2193.050049\n",
       "2024-05-13  2184.250000\n",
       "2024-05-14  2269.899902\n",
       "2024-05-15  2302.300049\n",
       "\n",
       "[1224 rows x 1 columns]"
      ]
     },
     "execution_count": 10,
     "metadata": {},
     "output_type": "execute_result"
    }
   ],
   "source": [
    "train"
   ]
  },
  {
   "cell_type": "code",
   "execution_count": 11,
   "metadata": {},
   "outputs": [
    {
     "data": {
      "text/html": [
       "<div>\n",
       "<style scoped>\n",
       "    .dataframe tbody tr th:only-of-type {\n",
       "        vertical-align: middle;\n",
       "    }\n",
       "\n",
       "    .dataframe tbody tr th {\n",
       "        vertical-align: top;\n",
       "    }\n",
       "\n",
       "    .dataframe thead th {\n",
       "        text-align: right;\n",
       "    }\n",
       "</style>\n",
       "<table border=\"1\" class=\"dataframe\">\n",
       "  <thead>\n",
       "    <tr style=\"text-align: right;\">\n",
       "      <th></th>\n",
       "      <th>Close</th>\n",
       "    </tr>\n",
       "    <tr>\n",
       "      <th>Date</th>\n",
       "      <th></th>\n",
       "    </tr>\n",
       "  </thead>\n",
       "  <tbody>\n",
       "    <tr>\n",
       "      <th>2024-05-16</th>\n",
       "      <td>2371.750000</td>\n",
       "    </tr>\n",
       "    <tr>\n",
       "      <th>2024-05-17</th>\n",
       "      <td>2514.600098</td>\n",
       "    </tr>\n",
       "    <tr>\n",
       "      <th>2024-05-21</th>\n",
       "      <td>2522.649902</td>\n",
       "    </tr>\n",
       "    <tr>\n",
       "      <th>2024-05-22</th>\n",
       "      <td>2521.050049</td>\n",
       "    </tr>\n",
       "    <tr>\n",
       "      <th>2024-05-23</th>\n",
       "      <td>2609.199951</td>\n",
       "    </tr>\n",
       "    <tr>\n",
       "      <th>...</th>\n",
       "      <td>...</td>\n",
       "    </tr>\n",
       "    <tr>\n",
       "      <th>2024-11-07</th>\n",
       "      <td>2891.350098</td>\n",
       "    </tr>\n",
       "    <tr>\n",
       "      <th>2024-11-08</th>\n",
       "      <td>2974.899902</td>\n",
       "    </tr>\n",
       "    <tr>\n",
       "      <th>2024-11-11</th>\n",
       "      <td>2930.600098</td>\n",
       "    </tr>\n",
       "    <tr>\n",
       "      <th>2024-11-12</th>\n",
       "      <td>2898.550049</td>\n",
       "    </tr>\n",
       "    <tr>\n",
       "      <th>2024-11-13</th>\n",
       "      <td>2798.949951</td>\n",
       "    </tr>\n",
       "  </tbody>\n",
       "</table>\n",
       "<p>125 rows × 1 columns</p>\n",
       "</div>"
      ],
      "text/plain": [
       "                  Close\n",
       "Date                   \n",
       "2024-05-16  2371.750000\n",
       "2024-05-17  2514.600098\n",
       "2024-05-21  2522.649902\n",
       "2024-05-22  2521.050049\n",
       "2024-05-23  2609.199951\n",
       "...                 ...\n",
       "2024-11-07  2891.350098\n",
       "2024-11-08  2974.899902\n",
       "2024-11-11  2930.600098\n",
       "2024-11-12  2898.550049\n",
       "2024-11-13  2798.949951\n",
       "\n",
       "[125 rows x 1 columns]"
      ]
     },
     "execution_count": 11,
     "metadata": {},
     "output_type": "execute_result"
    }
   ],
   "source": [
    "test"
   ]
  },
  {
   "cell_type": "code",
   "execution_count": 12,
   "metadata": {},
   "outputs": [
    {
     "data": {
      "text/plain": [
       "DatetimeIndex(['2024-11-14', '2024-11-15', '2024-11-18', '2024-11-19',\n",
       "               '2024-11-20', '2024-11-21', '2024-11-22', '2024-11-25',\n",
       "               '2024-11-26', '2024-11-27', '2024-11-28', '2024-11-29',\n",
       "               '2024-12-02', '2024-12-03', '2024-12-04', '2024-12-05',\n",
       "               '2024-12-06', '2024-12-09', '2024-12-10', '2024-12-11',\n",
       "               '2024-12-12', '2024-12-13', '2024-12-16', '2024-12-17',\n",
       "               '2024-12-18', '2024-12-19', '2024-12-20', '2024-12-23',\n",
       "               '2024-12-24', '2024-12-25'],\n",
       "              dtype='datetime64[ns]', freq='B')"
      ]
     },
     "execution_count": 12,
     "metadata": {},
     "output_type": "execute_result"
    }
   ],
   "source": [
    "future_dates"
   ]
  },
  {
   "cell_type": "markdown",
   "metadata": {},
   "source": [
    "## Exponential Smoothing\n"
   ]
  },
  {
   "cell_type": "code",
   "execution_count": 13,
   "metadata": {},
   "outputs": [],
   "source": [
    "from statsmodels.tsa.holtwinters import ExponentialSmoothing\n",
    "\n",
    "def expSmoothing_func(train, alpha, beta, gamma):\n",
    "    warnings.filterwarnings(\"ignore\")\n",
    "    exp_model = ExponentialSmoothing(\n",
    "        train['Close'], \n",
    "        trend=\"add\", \n",
    "        seasonal=\"add\", \n",
    "        seasonal_periods=365\n",
    "    )\n",
    "    exp_trained_model = exp_model.fit(\n",
    "        smoothing_level=alpha, \n",
    "        smoothing_trend=beta, \n",
    "        smoothing_seasonal=gamma\n",
    "    )\n",
    "    return exp_trained_model"
   ]
  },
  {
   "cell_type": "code",
   "execution_count": 14,
   "metadata": {},
   "outputs": [],
   "source": [
    "from sklearn import metrics\n",
    "\n",
    "def evaluate_params(train, test, alpha, beta, gamma):\n",
    "    \n",
    "    exp_trained_model = expSmoothing_func(train, alpha, beta, gamma)\n",
    "    forecast = exp_trained_model.forecast(steps=len(test))\n",
    "    temp_mae = metrics.mean_absolute_error(test['Close'], forecast.values)\n",
    "    return (alpha, beta, gamma, temp_mae)"
   ]
  },
  {
   "cell_type": "code",
   "execution_count": 15,
   "metadata": {},
   "outputs": [
    {
     "name": "stdout",
     "output_type": "stream",
     "text": [
      "\u001b[1m\u001b[36mBuilding Model...\u001b[0m\n",
      "\u001b[1m\u001b[32mFinished!\u001b[0m\n"
     ]
    }
   ],
   "source": [
    "from joblib import Parallel, delayed\n",
    "\n",
    "# raise SystemExit(\"Comment this line to run this cell\")\n",
    "print(colored(\"Building Model...\", \"cyan\", attrs=[\"bold\"]))\n",
    "\n",
    "alpha = [0.14, 0.15, 0.16]\n",
    "beta = [0.70, 0.73]\n",
    "gamma = [0.1, 0.12]\n",
    "\n",
    "# Run the grid search in parallel\n",
    "results = Parallel(n_jobs=-1)(\n",
    "    delayed(evaluate_params)(train, test, i, j, k) for i in alpha for j in beta for k in gamma\n",
    ")\n",
    "\n",
    "print(colored(\"Finished!\", \"green\", attrs=[\"bold\"]))"
   ]
  },
  {
   "cell_type": "code",
   "execution_count": 16,
   "metadata": {},
   "outputs": [
    {
     "name": "stdout",
     "output_type": "stream",
     "text": [
      "{'alpha': 0.16, 'beta': 0.73, 'gamma': 0.12} \n",
      "MAE: 387.9125029993223\n"
     ]
    }
   ],
   "source": [
    "# Initialize best score and params\n",
    "best_params = {'alpha': None, 'beta': None, 'gamma': None}\n",
    "best_mae = float('inf')\n",
    "\n",
    "# Find the best parameters\n",
    "for i, j, k, temp_mae in results:\n",
    "    if temp_mae < best_mae:\n",
    "        best_mae = temp_mae\n",
    "        best_params['alpha'] = i\n",
    "        best_params['beta'] = j\n",
    "        best_params['gamma'] = k\n",
    "\n",
    "# Display results\n",
    "print(best_params, f\"\\nMAE: {best_mae}\")"
   ]
  },
  {
   "cell_type": "code",
   "execution_count": null,
   "metadata": {},
   "outputs": [],
   "source": [
    "# Training with best parameters\n",
    "exp_trained_model = expSmoothing_func(\n",
    "    train=train,\n",
    "    alpha=best_params['alpha'], \n",
    "    beta=best_params['beta'], \n",
    "    gamma=best_params['gamma']     \n",
    ")"
   ]
  },
  {
   "cell_type": "code",
   "execution_count": 18,
   "metadata": {},
   "outputs": [],
   "source": [
    "forecast = exp_trained_model.forecast(steps=(len(test) + len(future_dates)))\n",
    "\n",
    "# Create the forecast series\n",
    "combined_index = test.index.append(future_dates)\n",
    "forecast = pd.Series(data=forecast.values, index=combined_index)\n",
    "\n",
    "forecast_test = forecast[:len(test)]  \n",
    "forecast_future = forecast[len(test):]\n"
   ]
  },
  {
   "cell_type": "code",
   "execution_count": 19,
   "metadata": {},
   "outputs": [
    {
     "data": {
      "text/html": [
       "<div>\n",
       "<style scoped>\n",
       "    .dataframe tbody tr th:only-of-type {\n",
       "        vertical-align: middle;\n",
       "    }\n",
       "\n",
       "    .dataframe tbody tr th {\n",
       "        vertical-align: top;\n",
       "    }\n",
       "\n",
       "    .dataframe thead th {\n",
       "        text-align: right;\n",
       "    }\n",
       "</style>\n",
       "<table border=\"1\" class=\"dataframe\">\n",
       "  <thead>\n",
       "    <tr style=\"text-align: right;\">\n",
       "      <th></th>\n",
       "      <th>Actual</th>\n",
       "      <th>Forecast</th>\n",
       "    </tr>\n",
       "  </thead>\n",
       "  <tbody>\n",
       "    <tr>\n",
       "      <th>2024-05-16</th>\n",
       "      <td>2371.750000</td>\n",
       "      <td>2275.006650</td>\n",
       "    </tr>\n",
       "    <tr>\n",
       "      <th>2024-05-17</th>\n",
       "      <td>2514.600098</td>\n",
       "      <td>2292.020251</td>\n",
       "    </tr>\n",
       "    <tr>\n",
       "      <th>2024-05-21</th>\n",
       "      <td>2522.649902</td>\n",
       "      <td>2305.907483</td>\n",
       "    </tr>\n",
       "    <tr>\n",
       "      <th>2024-05-22</th>\n",
       "      <td>2521.050049</td>\n",
       "      <td>2323.267417</td>\n",
       "    </tr>\n",
       "    <tr>\n",
       "      <th>2024-05-23</th>\n",
       "      <td>2609.199951</td>\n",
       "      <td>2344.144642</td>\n",
       "    </tr>\n",
       "    <tr>\n",
       "      <th>...</th>\n",
       "      <td>...</td>\n",
       "      <td>...</td>\n",
       "    </tr>\n",
       "    <tr>\n",
       "      <th>2024-12-19</th>\n",
       "      <td>NaN</td>\n",
       "      <td>4301.838013</td>\n",
       "    </tr>\n",
       "    <tr>\n",
       "      <th>2024-12-20</th>\n",
       "      <td>NaN</td>\n",
       "      <td>4334.793394</td>\n",
       "    </tr>\n",
       "    <tr>\n",
       "      <th>2024-12-23</th>\n",
       "      <td>NaN</td>\n",
       "      <td>4354.659374</td>\n",
       "    </tr>\n",
       "    <tr>\n",
       "      <th>2024-12-24</th>\n",
       "      <td>NaN</td>\n",
       "      <td>4363.828411</td>\n",
       "    </tr>\n",
       "    <tr>\n",
       "      <th>2024-12-25</th>\n",
       "      <td>NaN</td>\n",
       "      <td>4400.971615</td>\n",
       "    </tr>\n",
       "  </tbody>\n",
       "</table>\n",
       "<p>155 rows × 2 columns</p>\n",
       "</div>"
      ],
      "text/plain": [
       "                 Actual     Forecast\n",
       "2024-05-16  2371.750000  2275.006650\n",
       "2024-05-17  2514.600098  2292.020251\n",
       "2024-05-21  2522.649902  2305.907483\n",
       "2024-05-22  2521.050049  2323.267417\n",
       "2024-05-23  2609.199951  2344.144642\n",
       "...                 ...          ...\n",
       "2024-12-19          NaN  4301.838013\n",
       "2024-12-20          NaN  4334.793394\n",
       "2024-12-23          NaN  4354.659374\n",
       "2024-12-24          NaN  4363.828411\n",
       "2024-12-25          NaN  4400.971615\n",
       "\n",
       "[155 rows x 2 columns]"
      ]
     },
     "execution_count": 19,
     "metadata": {},
     "output_type": "execute_result"
    }
   ],
   "source": [
    "Forecast_test_expSmooth = pd.DataFrame({\n",
    "        'Actual': test['Close'],\n",
    "        'Forecast': forecast_test.values,\n",
    "    }, index=test.index)\n",
    "\n",
    "Forecast_future_expSmooth = pd.DataFrame({\"Forecast\": forecast_future}, index=forecast_future.index)\n",
    "\n",
    "\n",
    "Forecast_expSmooth = pd.concat([Forecast_test_expSmooth, Forecast_future_expSmooth])\n",
    "Forecast_expSmooth = Forecast_expSmooth.reindex(combined_index)\n",
    "Forecast_expSmooth"
   ]
  },
  {
   "cell_type": "code",
   "execution_count": 23,
   "metadata": {},
   "outputs": [
    {
     "name": "stdout",
     "output_type": "stream",
     "text": [
      "RMSE: 478.54\n",
      "MAE: 387.91\n"
     ]
    }
   ],
   "source": [
    "from sklearn import metrics\n",
    "\n",
    "# Calculate MSE, MAE, RMSE on test data\n",
    "mse = metrics.mean_squared_error(Forecast_test_expSmooth['Actual'], Forecast_test_expSmooth['Forecast'])\n",
    "rmse = np.sqrt(mse)\n",
    "mae = metrics.mean_absolute_error(Forecast_test_expSmooth['Actual'], Forecast_test_expSmooth['Forecast'])\n",
    "\n",
    "print(f\"RMSE: {rmse:.2f}\")\n",
    "print(f\"MAE: {mae:.2f}\")"
   ]
  },
  {
   "cell_type": "code",
   "execution_count": null,
   "metadata": {},
   "outputs": [
    {
     "data": {
      "application/vnd.plotly.v1+json": {
       "config": {
        "plotlyServerURL": "https://plot.ly"
       },
       "data": [
        {
         "hovertemplate": "variable=Actual<br>index=%{x}<br>value=%{y}<extra></extra>",
         "legendgroup": "Actual",
         "line": {
          "color": "blue",
          "dash": "solid"
         },
         "marker": {
          "symbol": "circle"
         },
         "mode": "lines",
         "name": "Actual",
         "orientation": "v",
         "showlegend": true,
         "type": "scatter",
         "x": [
          "2024-05-16T00:00:00",
          "2024-05-17T00:00:00",
          "2024-05-21T00:00:00",
          "2024-05-22T00:00:00",
          "2024-05-23T00:00:00",
          "2024-05-24T00:00:00",
          "2024-05-27T00:00:00",
          "2024-05-28T00:00:00",
          "2024-05-29T00:00:00",
          "2024-05-30T00:00:00",
          "2024-05-31T00:00:00",
          "2024-06-03T00:00:00",
          "2024-06-04T00:00:00",
          "2024-06-05T00:00:00",
          "2024-06-06T00:00:00",
          "2024-06-07T00:00:00",
          "2024-06-10T00:00:00",
          "2024-06-11T00:00:00",
          "2024-06-12T00:00:00",
          "2024-06-13T00:00:00",
          "2024-06-14T00:00:00",
          "2024-06-18T00:00:00",
          "2024-06-19T00:00:00",
          "2024-06-20T00:00:00",
          "2024-06-21T00:00:00",
          "2024-06-24T00:00:00",
          "2024-06-25T00:00:00",
          "2024-06-26T00:00:00",
          "2024-06-27T00:00:00",
          "2024-06-28T00:00:00",
          "2024-07-01T00:00:00",
          "2024-07-02T00:00:00",
          "2024-07-03T00:00:00",
          "2024-07-04T00:00:00",
          "2024-07-05T00:00:00",
          "2024-07-08T00:00:00",
          "2024-07-09T00:00:00",
          "2024-07-10T00:00:00",
          "2024-07-11T00:00:00",
          "2024-07-12T00:00:00",
          "2024-07-15T00:00:00",
          "2024-07-16T00:00:00",
          "2024-07-18T00:00:00",
          "2024-07-19T00:00:00",
          "2024-07-22T00:00:00",
          "2024-07-23T00:00:00",
          "2024-07-24T00:00:00",
          "2024-07-25T00:00:00",
          "2024-07-26T00:00:00",
          "2024-07-29T00:00:00",
          "2024-07-30T00:00:00",
          "2024-07-31T00:00:00",
          "2024-08-01T00:00:00",
          "2024-08-02T00:00:00",
          "2024-08-05T00:00:00",
          "2024-08-06T00:00:00",
          "2024-08-07T00:00:00",
          "2024-08-08T00:00:00",
          "2024-08-09T00:00:00",
          "2024-08-12T00:00:00",
          "2024-08-13T00:00:00",
          "2024-08-14T00:00:00",
          "2024-08-16T00:00:00",
          "2024-08-19T00:00:00",
          "2024-08-20T00:00:00",
          "2024-08-21T00:00:00",
          "2024-08-22T00:00:00",
          "2024-08-23T00:00:00",
          "2024-08-26T00:00:00",
          "2024-08-27T00:00:00",
          "2024-08-28T00:00:00",
          "2024-08-29T00:00:00",
          "2024-08-30T00:00:00",
          "2024-09-02T00:00:00",
          "2024-09-03T00:00:00",
          "2024-09-04T00:00:00",
          "2024-09-05T00:00:00",
          "2024-09-06T00:00:00",
          "2024-09-09T00:00:00",
          "2024-09-10T00:00:00",
          "2024-09-11T00:00:00",
          "2024-09-12T00:00:00",
          "2024-09-13T00:00:00",
          "2024-09-16T00:00:00",
          "2024-09-17T00:00:00",
          "2024-09-18T00:00:00",
          "2024-09-19T00:00:00",
          "2024-09-20T00:00:00",
          "2024-09-23T00:00:00",
          "2024-09-24T00:00:00",
          "2024-09-25T00:00:00",
          "2024-09-26T00:00:00",
          "2024-09-27T00:00:00",
          "2024-09-30T00:00:00",
          "2024-10-01T00:00:00",
          "2024-10-03T00:00:00",
          "2024-10-04T00:00:00",
          "2024-10-07T00:00:00",
          "2024-10-08T00:00:00",
          "2024-10-09T00:00:00",
          "2024-10-10T00:00:00",
          "2024-10-11T00:00:00",
          "2024-10-14T00:00:00",
          "2024-10-15T00:00:00",
          "2024-10-16T00:00:00",
          "2024-10-17T00:00:00",
          "2024-10-18T00:00:00",
          "2024-10-21T00:00:00",
          "2024-10-22T00:00:00",
          "2024-10-23T00:00:00",
          "2024-10-24T00:00:00",
          "2024-10-25T00:00:00",
          "2024-10-28T00:00:00",
          "2024-10-29T00:00:00",
          "2024-10-30T00:00:00",
          "2024-10-31T00:00:00",
          "2024-11-01T00:00:00",
          "2024-11-04T00:00:00",
          "2024-11-05T00:00:00",
          "2024-11-06T00:00:00",
          "2024-11-07T00:00:00",
          "2024-11-08T00:00:00",
          "2024-11-11T00:00:00",
          "2024-11-12T00:00:00",
          "2024-11-13T00:00:00",
          "2024-11-14T00:00:00",
          "2024-11-15T00:00:00",
          "2024-11-18T00:00:00",
          "2024-11-19T00:00:00",
          "2024-11-20T00:00:00",
          "2024-11-21T00:00:00",
          "2024-11-22T00:00:00",
          "2024-11-25T00:00:00",
          "2024-11-26T00:00:00",
          "2024-11-27T00:00:00",
          "2024-11-28T00:00:00",
          "2024-11-29T00:00:00",
          "2024-12-02T00:00:00",
          "2024-12-03T00:00:00",
          "2024-12-04T00:00:00",
          "2024-12-05T00:00:00",
          "2024-12-06T00:00:00",
          "2024-12-09T00:00:00",
          "2024-12-10T00:00:00",
          "2024-12-11T00:00:00",
          "2024-12-12T00:00:00",
          "2024-12-13T00:00:00",
          "2024-12-16T00:00:00",
          "2024-12-17T00:00:00",
          "2024-12-18T00:00:00",
          "2024-12-19T00:00:00",
          "2024-12-20T00:00:00",
          "2024-12-23T00:00:00",
          "2024-12-24T00:00:00",
          "2024-12-25T00:00:00"
         ],
         "xaxis": "x",
         "y": [
          2371.75,
          2514.60009765625,
          2522.64990234375,
          2521.050048828125,
          2609.199951171875,
          2579.75,
          2549.10009765625,
          2552.800048828125,
          2533.64990234375,
          2493.5,
          2506.25,
          2634,
          2572.89990234375,
          2740.949951171875,
          2699.85009765625,
          2857.449951171875,
          2807.550048828125,
          2835.550048828125,
          2787.550048828125,
          2861.699951171875,
          2928.60009765625,
          2961.89990234375,
          2933.85009765625,
          2871.199951171875,
          2839.949951171875,
          2915.800048828125,
          2909.39990234375,
          2851.5,
          2888.949951171875,
          2866.64990234375,
          2875.85009765625,
          2865.14990234375,
          2877.949951171875,
          2902.800048828125,
          2880.60009765625,
          2851.35009765625,
          2925.5,
          2732,
          2698.050048828125,
          2703.949951171875,
          2731.050048828125,
          2756.75,
          2819.449951171875,
          2749.300048828125,
          2804.75,
          2821.35009765625,
          2805.5,
          2811.39990234375,
          2887.800048828125,
          2933,
          2922.10009765625,
          2907.800048828125,
          2828.39990234375,
          2749.64990234375,
          2678.949951171875,
          2632.949951171875,
          2680.85009765625,
          2682.949951171875,
          2749.14990234375,
          2717.64990234375,
          2718.050048828125,
          2745.25,
          2840.449951171875,
          2765.14990234375,
          2771.300048828125,
          2769.39990234375,
          2732.949951171875,
          2759,
          2793.10009765625,
          2780.800048828125,
          2798,
          2757.60009765625,
          2805.39990234375,
          2777,
          2784.85009765625,
          2749.60009765625,
          2723.10009765625,
          2698.10009765625,
          2708.85009765625,
          2690,
          2654.25,
          2740.89990234375,
          2739.10009765625,
          2757.39990234375,
          2787.64990234375,
          2808.199951171875,
          2797.5,
          2950.85009765625,
          3049.800048828125,
          3074.300048828125,
          3091.050048828125,
          3181.10009765625,
          3183.64990234375,
          3094.89990234375,
          3165.5,
          3129.85009765625,
          3017.449951171875,
          3060.199951171875,
          3165.85009765625,
          3153,
          3194.300048828125,
          3134.35009765625,
          3154.89990234375,
          3155.800048828125,
          3068,
          2964.60009765625,
          2964.25,
          2998.199951171875,
          2887.199951171875,
          2793.5,
          2826.35009765625,
          2720.85009765625,
          2781,
          2746.89990234375,
          2707.699951171875,
          2728.550048828125,
          2817.64990234375,
          2883.949951171875,
          2899.449951171875,
          2934.550048828125,
          2891.35009765625,
          2974.89990234375,
          2930.60009765625,
          2898.550048828125,
          2798.949951171875,
          null,
          null,
          null,
          null,
          null,
          null,
          null,
          null,
          null,
          null,
          null,
          null,
          null,
          null,
          null,
          null,
          null,
          null,
          null,
          null,
          null,
          null,
          null,
          null,
          null,
          null,
          null,
          null,
          null,
          null
         ],
         "yaxis": "y"
        },
        {
         "hovertemplate": "variable=Forecast<br>index=%{x}<br>value=%{y}<extra></extra>",
         "legendgroup": "Forecast",
         "line": {
          "color": "red",
          "dash": "solid"
         },
         "marker": {
          "symbol": "circle"
         },
         "mode": "lines",
         "name": "Forecast",
         "orientation": "v",
         "showlegend": true,
         "type": "scatter",
         "x": [
          "2024-05-16T00:00:00",
          "2024-05-17T00:00:00",
          "2024-05-21T00:00:00",
          "2024-05-22T00:00:00",
          "2024-05-23T00:00:00",
          "2024-05-24T00:00:00",
          "2024-05-27T00:00:00",
          "2024-05-28T00:00:00",
          "2024-05-29T00:00:00",
          "2024-05-30T00:00:00",
          "2024-05-31T00:00:00",
          "2024-06-03T00:00:00",
          "2024-06-04T00:00:00",
          "2024-06-05T00:00:00",
          "2024-06-06T00:00:00",
          "2024-06-07T00:00:00",
          "2024-06-10T00:00:00",
          "2024-06-11T00:00:00",
          "2024-06-12T00:00:00",
          "2024-06-13T00:00:00",
          "2024-06-14T00:00:00",
          "2024-06-18T00:00:00",
          "2024-06-19T00:00:00",
          "2024-06-20T00:00:00",
          "2024-06-21T00:00:00",
          "2024-06-24T00:00:00",
          "2024-06-25T00:00:00",
          "2024-06-26T00:00:00",
          "2024-06-27T00:00:00",
          "2024-06-28T00:00:00",
          "2024-07-01T00:00:00",
          "2024-07-02T00:00:00",
          "2024-07-03T00:00:00",
          "2024-07-04T00:00:00",
          "2024-07-05T00:00:00",
          "2024-07-08T00:00:00",
          "2024-07-09T00:00:00",
          "2024-07-10T00:00:00",
          "2024-07-11T00:00:00",
          "2024-07-12T00:00:00",
          "2024-07-15T00:00:00",
          "2024-07-16T00:00:00",
          "2024-07-18T00:00:00",
          "2024-07-19T00:00:00",
          "2024-07-22T00:00:00",
          "2024-07-23T00:00:00",
          "2024-07-24T00:00:00",
          "2024-07-25T00:00:00",
          "2024-07-26T00:00:00",
          "2024-07-29T00:00:00",
          "2024-07-30T00:00:00",
          "2024-07-31T00:00:00",
          "2024-08-01T00:00:00",
          "2024-08-02T00:00:00",
          "2024-08-05T00:00:00",
          "2024-08-06T00:00:00",
          "2024-08-07T00:00:00",
          "2024-08-08T00:00:00",
          "2024-08-09T00:00:00",
          "2024-08-12T00:00:00",
          "2024-08-13T00:00:00",
          "2024-08-14T00:00:00",
          "2024-08-16T00:00:00",
          "2024-08-19T00:00:00",
          "2024-08-20T00:00:00",
          "2024-08-21T00:00:00",
          "2024-08-22T00:00:00",
          "2024-08-23T00:00:00",
          "2024-08-26T00:00:00",
          "2024-08-27T00:00:00",
          "2024-08-28T00:00:00",
          "2024-08-29T00:00:00",
          "2024-08-30T00:00:00",
          "2024-09-02T00:00:00",
          "2024-09-03T00:00:00",
          "2024-09-04T00:00:00",
          "2024-09-05T00:00:00",
          "2024-09-06T00:00:00",
          "2024-09-09T00:00:00",
          "2024-09-10T00:00:00",
          "2024-09-11T00:00:00",
          "2024-09-12T00:00:00",
          "2024-09-13T00:00:00",
          "2024-09-16T00:00:00",
          "2024-09-17T00:00:00",
          "2024-09-18T00:00:00",
          "2024-09-19T00:00:00",
          "2024-09-20T00:00:00",
          "2024-09-23T00:00:00",
          "2024-09-24T00:00:00",
          "2024-09-25T00:00:00",
          "2024-09-26T00:00:00",
          "2024-09-27T00:00:00",
          "2024-09-30T00:00:00",
          "2024-10-01T00:00:00",
          "2024-10-03T00:00:00",
          "2024-10-04T00:00:00",
          "2024-10-07T00:00:00",
          "2024-10-08T00:00:00",
          "2024-10-09T00:00:00",
          "2024-10-10T00:00:00",
          "2024-10-11T00:00:00",
          "2024-10-14T00:00:00",
          "2024-10-15T00:00:00",
          "2024-10-16T00:00:00",
          "2024-10-17T00:00:00",
          "2024-10-18T00:00:00",
          "2024-10-21T00:00:00",
          "2024-10-22T00:00:00",
          "2024-10-23T00:00:00",
          "2024-10-24T00:00:00",
          "2024-10-25T00:00:00",
          "2024-10-28T00:00:00",
          "2024-10-29T00:00:00",
          "2024-10-30T00:00:00",
          "2024-10-31T00:00:00",
          "2024-11-01T00:00:00",
          "2024-11-04T00:00:00",
          "2024-11-05T00:00:00",
          "2024-11-06T00:00:00",
          "2024-11-07T00:00:00",
          "2024-11-08T00:00:00",
          "2024-11-11T00:00:00",
          "2024-11-12T00:00:00",
          "2024-11-13T00:00:00",
          "2024-11-14T00:00:00",
          "2024-11-15T00:00:00",
          "2024-11-18T00:00:00",
          "2024-11-19T00:00:00",
          "2024-11-20T00:00:00",
          "2024-11-21T00:00:00",
          "2024-11-22T00:00:00",
          "2024-11-25T00:00:00",
          "2024-11-26T00:00:00",
          "2024-11-27T00:00:00",
          "2024-11-28T00:00:00",
          "2024-11-29T00:00:00",
          "2024-12-02T00:00:00",
          "2024-12-03T00:00:00",
          "2024-12-04T00:00:00",
          "2024-12-05T00:00:00",
          "2024-12-06T00:00:00",
          "2024-12-09T00:00:00",
          "2024-12-10T00:00:00",
          "2024-12-11T00:00:00",
          "2024-12-12T00:00:00",
          "2024-12-13T00:00:00",
          "2024-12-16T00:00:00",
          "2024-12-17T00:00:00",
          "2024-12-18T00:00:00",
          "2024-12-19T00:00:00",
          "2024-12-20T00:00:00",
          "2024-12-23T00:00:00",
          "2024-12-24T00:00:00",
          "2024-12-25T00:00:00"
         ],
         "xaxis": "x",
         "y": [
          2275.006650340128,
          2292.0202505177854,
          2305.9074831413795,
          2323.267417289541,
          2344.1446423077036,
          2355.5855905187536,
          2368.9748427598047,
          2396.2406516476476,
          2403.151169434119,
          2405.6397774852603,
          2416.3259139612387,
          2432.5547343244566,
          2437.3534875135765,
          2453.3651881630462,
          2464.1413014792165,
          2476.7886470818507,
          2496.5887184766193,
          2510.9295868870963,
          2521.632732909138,
          2522.4820285385117,
          2548.028974013647,
          2557.4926442662345,
          2569.7723083442725,
          2576.933578745939,
          2583.1110871430215,
          2600.459754964017,
          2611.2603166005024,
          2624.1546099491015,
          2640.590837542003,
          2655.4148750969784,
          2674.769754144461,
          2684.322575890805,
          2691.258878865141,
          2710.783986702511,
          2719.8333116329018,
          2747.1919383535087,
          2759.7645641862346,
          2773.5011101314567,
          2787.806224567449,
          2796.0308667509894,
          2801.4550717186567,
          2806.218276883931,
          2822.1229649493116,
          2840.2885519311835,
          2851.0196936640805,
          2863.43535831326,
          2875.09261567159,
          2890.7339584554516,
          2913.1728379268966,
          2928.768654996429,
          2954.3520955796066,
          2957.9831665706697,
          2976.3523947528083,
          2995.2783539293123,
          2991.3629188529067,
          2998.295502748242,
          3008.4737889040057,
          3027.4170184311843,
          3037.7980736953214,
          3047.8703247826083,
          3061.1400060867927,
          3082.6987447165957,
          3084.52019840551,
          3083.9614137376207,
          3082.628614559906,
          3091.9829602915966,
          3087.930968260586,
          3088.9901998914725,
          3094.9152255694435,
          3090.8090924989783,
          3099.4201213016117,
          3118.126904710201,
          3128.5238607805154,
          3151.0795387940525,
          3156.563819626479,
          3173.0452235713874,
          3166.4728143750845,
          3178.4873694477537,
          3195.575195249191,
          3208.1066442713714,
          3252.620269467781,
          3263.921048399925,
          3280.4349762654065,
          3292.754260235917,
          3315.6005116209108,
          3333.2870037669845,
          3339.906680727684,
          3347.5601891670185,
          3373.0009664371983,
          3378.1800250363603,
          3401.0515178582887,
          3418.5357990202674,
          3453.866729237105,
          3466.8704274064844,
          3476.019028412588,
          3501.301736489634,
          3519.7593234424735,
          3539.2841906712056,
          3544.833494464524,
          3563.5877746317356,
          3576.7400768150196,
          3598.1112921993563,
          3607.580273001813,
          3612.308983905615,
          3617.080665367274,
          3628.991758829744,
          3645.7053176195977,
          3670.7187305452217,
          3685.826929243992,
          3714.0169041483946,
          3736.5724293012054,
          3752.85921655183,
          3762.3939537908705,
          3788.1612439740434,
          3817.5342385737836,
          3837.1341115590594,
          3838.592819925879,
          3853.4673498527486,
          3863.879193316982,
          3866.7418991287136,
          3875.22901798182,
          3868.9070950487676,
          3896.078924448182,
          3905.31941475888,
          3918.5588049213943,
          3935.9415088807505,
          3948.632698605379,
          3956.279296887221,
          3986.4719533764055,
          4008.9392585735022,
          4021.3720100010974,
          4034.0697196405536,
          4046.3112089203883,
          4075.794849763074,
          4095.5243288696433,
          4102.306699476675,
          4107.812603034787,
          4109.262542927092,
          4137.581803975908,
          4146.21608418483,
          4160.610014797529,
          4175.94387901149,
          4191.59961814886,
          4209.223627011802,
          4212.461270691535,
          4216.226357048414,
          4238.510555342683,
          4252.1219199052775,
          4275.348778186552,
          4290.279507763845,
          4301.8380128235885,
          4334.79339433188,
          4354.659373975219,
          4363.828410719417,
          4400.971615175661
         ],
         "yaxis": "y"
        }
       ],
       "layout": {
        "hovermode": "closest",
        "legend": {
         "title": {
          "text": ""
         },
         "tracegroupgap": 0
        },
        "margin": {
         "t": 60
        },
        "template": {
         "data": {
          "bar": [
           {
            "error_x": {
             "color": "#f2f5fa"
            },
            "error_y": {
             "color": "#f2f5fa"
            },
            "marker": {
             "line": {
              "color": "rgb(17,17,17)",
              "width": 0.5
             },
             "pattern": {
              "fillmode": "overlay",
              "size": 10,
              "solidity": 0.2
             }
            },
            "type": "bar"
           }
          ],
          "barpolar": [
           {
            "marker": {
             "line": {
              "color": "rgb(17,17,17)",
              "width": 0.5
             },
             "pattern": {
              "fillmode": "overlay",
              "size": 10,
              "solidity": 0.2
             }
            },
            "type": "barpolar"
           }
          ],
          "carpet": [
           {
            "aaxis": {
             "endlinecolor": "#A2B1C6",
             "gridcolor": "#506784",
             "linecolor": "#506784",
             "minorgridcolor": "#506784",
             "startlinecolor": "#A2B1C6"
            },
            "baxis": {
             "endlinecolor": "#A2B1C6",
             "gridcolor": "#506784",
             "linecolor": "#506784",
             "minorgridcolor": "#506784",
             "startlinecolor": "#A2B1C6"
            },
            "type": "carpet"
           }
          ],
          "choropleth": [
           {
            "colorbar": {
             "outlinewidth": 0,
             "ticks": ""
            },
            "type": "choropleth"
           }
          ],
          "contour": [
           {
            "colorbar": {
             "outlinewidth": 0,
             "ticks": ""
            },
            "colorscale": [
             [
              0,
              "#0d0887"
             ],
             [
              0.1111111111111111,
              "#46039f"
             ],
             [
              0.2222222222222222,
              "#7201a8"
             ],
             [
              0.3333333333333333,
              "#9c179e"
             ],
             [
              0.4444444444444444,
              "#bd3786"
             ],
             [
              0.5555555555555556,
              "#d8576b"
             ],
             [
              0.6666666666666666,
              "#ed7953"
             ],
             [
              0.7777777777777778,
              "#fb9f3a"
             ],
             [
              0.8888888888888888,
              "#fdca26"
             ],
             [
              1,
              "#f0f921"
             ]
            ],
            "type": "contour"
           }
          ],
          "contourcarpet": [
           {
            "colorbar": {
             "outlinewidth": 0,
             "ticks": ""
            },
            "type": "contourcarpet"
           }
          ],
          "heatmap": [
           {
            "colorbar": {
             "outlinewidth": 0,
             "ticks": ""
            },
            "colorscale": [
             [
              0,
              "#0d0887"
             ],
             [
              0.1111111111111111,
              "#46039f"
             ],
             [
              0.2222222222222222,
              "#7201a8"
             ],
             [
              0.3333333333333333,
              "#9c179e"
             ],
             [
              0.4444444444444444,
              "#bd3786"
             ],
             [
              0.5555555555555556,
              "#d8576b"
             ],
             [
              0.6666666666666666,
              "#ed7953"
             ],
             [
              0.7777777777777778,
              "#fb9f3a"
             ],
             [
              0.8888888888888888,
              "#fdca26"
             ],
             [
              1,
              "#f0f921"
             ]
            ],
            "type": "heatmap"
           }
          ],
          "heatmapgl": [
           {
            "colorbar": {
             "outlinewidth": 0,
             "ticks": ""
            },
            "colorscale": [
             [
              0,
              "#0d0887"
             ],
             [
              0.1111111111111111,
              "#46039f"
             ],
             [
              0.2222222222222222,
              "#7201a8"
             ],
             [
              0.3333333333333333,
              "#9c179e"
             ],
             [
              0.4444444444444444,
              "#bd3786"
             ],
             [
              0.5555555555555556,
              "#d8576b"
             ],
             [
              0.6666666666666666,
              "#ed7953"
             ],
             [
              0.7777777777777778,
              "#fb9f3a"
             ],
             [
              0.8888888888888888,
              "#fdca26"
             ],
             [
              1,
              "#f0f921"
             ]
            ],
            "type": "heatmapgl"
           }
          ],
          "histogram": [
           {
            "marker": {
             "pattern": {
              "fillmode": "overlay",
              "size": 10,
              "solidity": 0.2
             }
            },
            "type": "histogram"
           }
          ],
          "histogram2d": [
           {
            "colorbar": {
             "outlinewidth": 0,
             "ticks": ""
            },
            "colorscale": [
             [
              0,
              "#0d0887"
             ],
             [
              0.1111111111111111,
              "#46039f"
             ],
             [
              0.2222222222222222,
              "#7201a8"
             ],
             [
              0.3333333333333333,
              "#9c179e"
             ],
             [
              0.4444444444444444,
              "#bd3786"
             ],
             [
              0.5555555555555556,
              "#d8576b"
             ],
             [
              0.6666666666666666,
              "#ed7953"
             ],
             [
              0.7777777777777778,
              "#fb9f3a"
             ],
             [
              0.8888888888888888,
              "#fdca26"
             ],
             [
              1,
              "#f0f921"
             ]
            ],
            "type": "histogram2d"
           }
          ],
          "histogram2dcontour": [
           {
            "colorbar": {
             "outlinewidth": 0,
             "ticks": ""
            },
            "colorscale": [
             [
              0,
              "#0d0887"
             ],
             [
              0.1111111111111111,
              "#46039f"
             ],
             [
              0.2222222222222222,
              "#7201a8"
             ],
             [
              0.3333333333333333,
              "#9c179e"
             ],
             [
              0.4444444444444444,
              "#bd3786"
             ],
             [
              0.5555555555555556,
              "#d8576b"
             ],
             [
              0.6666666666666666,
              "#ed7953"
             ],
             [
              0.7777777777777778,
              "#fb9f3a"
             ],
             [
              0.8888888888888888,
              "#fdca26"
             ],
             [
              1,
              "#f0f921"
             ]
            ],
            "type": "histogram2dcontour"
           }
          ],
          "mesh3d": [
           {
            "colorbar": {
             "outlinewidth": 0,
             "ticks": ""
            },
            "type": "mesh3d"
           }
          ],
          "parcoords": [
           {
            "line": {
             "colorbar": {
              "outlinewidth": 0,
              "ticks": ""
             }
            },
            "type": "parcoords"
           }
          ],
          "pie": [
           {
            "automargin": true,
            "type": "pie"
           }
          ],
          "scatter": [
           {
            "marker": {
             "line": {
              "color": "#283442"
             }
            },
            "type": "scatter"
           }
          ],
          "scatter3d": [
           {
            "line": {
             "colorbar": {
              "outlinewidth": 0,
              "ticks": ""
             }
            },
            "marker": {
             "colorbar": {
              "outlinewidth": 0,
              "ticks": ""
             }
            },
            "type": "scatter3d"
           }
          ],
          "scattercarpet": [
           {
            "marker": {
             "colorbar": {
              "outlinewidth": 0,
              "ticks": ""
             }
            },
            "type": "scattercarpet"
           }
          ],
          "scattergeo": [
           {
            "marker": {
             "colorbar": {
              "outlinewidth": 0,
              "ticks": ""
             }
            },
            "type": "scattergeo"
           }
          ],
          "scattergl": [
           {
            "marker": {
             "line": {
              "color": "#283442"
             }
            },
            "type": "scattergl"
           }
          ],
          "scattermapbox": [
           {
            "marker": {
             "colorbar": {
              "outlinewidth": 0,
              "ticks": ""
             }
            },
            "type": "scattermapbox"
           }
          ],
          "scatterpolar": [
           {
            "marker": {
             "colorbar": {
              "outlinewidth": 0,
              "ticks": ""
             }
            },
            "type": "scatterpolar"
           }
          ],
          "scatterpolargl": [
           {
            "marker": {
             "colorbar": {
              "outlinewidth": 0,
              "ticks": ""
             }
            },
            "type": "scatterpolargl"
           }
          ],
          "scatterternary": [
           {
            "marker": {
             "colorbar": {
              "outlinewidth": 0,
              "ticks": ""
             }
            },
            "type": "scatterternary"
           }
          ],
          "surface": [
           {
            "colorbar": {
             "outlinewidth": 0,
             "ticks": ""
            },
            "colorscale": [
             [
              0,
              "#0d0887"
             ],
             [
              0.1111111111111111,
              "#46039f"
             ],
             [
              0.2222222222222222,
              "#7201a8"
             ],
             [
              0.3333333333333333,
              "#9c179e"
             ],
             [
              0.4444444444444444,
              "#bd3786"
             ],
             [
              0.5555555555555556,
              "#d8576b"
             ],
             [
              0.6666666666666666,
              "#ed7953"
             ],
             [
              0.7777777777777778,
              "#fb9f3a"
             ],
             [
              0.8888888888888888,
              "#fdca26"
             ],
             [
              1,
              "#f0f921"
             ]
            ],
            "type": "surface"
           }
          ],
          "table": [
           {
            "cells": {
             "fill": {
              "color": "#506784"
             },
             "line": {
              "color": "rgb(17,17,17)"
             }
            },
            "header": {
             "fill": {
              "color": "#2a3f5f"
             },
             "line": {
              "color": "rgb(17,17,17)"
             }
            },
            "type": "table"
           }
          ]
         },
         "layout": {
          "annotationdefaults": {
           "arrowcolor": "#f2f5fa",
           "arrowhead": 0,
           "arrowwidth": 1
          },
          "autotypenumbers": "strict",
          "coloraxis": {
           "colorbar": {
            "outlinewidth": 0,
            "ticks": ""
           }
          },
          "colorscale": {
           "diverging": [
            [
             0,
             "#8e0152"
            ],
            [
             0.1,
             "#c51b7d"
            ],
            [
             0.2,
             "#de77ae"
            ],
            [
             0.3,
             "#f1b6da"
            ],
            [
             0.4,
             "#fde0ef"
            ],
            [
             0.5,
             "#f7f7f7"
            ],
            [
             0.6,
             "#e6f5d0"
            ],
            [
             0.7,
             "#b8e186"
            ],
            [
             0.8,
             "#7fbc41"
            ],
            [
             0.9,
             "#4d9221"
            ],
            [
             1,
             "#276419"
            ]
           ],
           "sequential": [
            [
             0,
             "#0d0887"
            ],
            [
             0.1111111111111111,
             "#46039f"
            ],
            [
             0.2222222222222222,
             "#7201a8"
            ],
            [
             0.3333333333333333,
             "#9c179e"
            ],
            [
             0.4444444444444444,
             "#bd3786"
            ],
            [
             0.5555555555555556,
             "#d8576b"
            ],
            [
             0.6666666666666666,
             "#ed7953"
            ],
            [
             0.7777777777777778,
             "#fb9f3a"
            ],
            [
             0.8888888888888888,
             "#fdca26"
            ],
            [
             1,
             "#f0f921"
            ]
           ],
           "sequentialminus": [
            [
             0,
             "#0d0887"
            ],
            [
             0.1111111111111111,
             "#46039f"
            ],
            [
             0.2222222222222222,
             "#7201a8"
            ],
            [
             0.3333333333333333,
             "#9c179e"
            ],
            [
             0.4444444444444444,
             "#bd3786"
            ],
            [
             0.5555555555555556,
             "#d8576b"
            ],
            [
             0.6666666666666666,
             "#ed7953"
            ],
            [
             0.7777777777777778,
             "#fb9f3a"
            ],
            [
             0.8888888888888888,
             "#fdca26"
            ],
            [
             1,
             "#f0f921"
            ]
           ]
          },
          "colorway": [
           "#636efa",
           "#EF553B",
           "#00cc96",
           "#ab63fa",
           "#FFA15A",
           "#19d3f3",
           "#FF6692",
           "#B6E880",
           "#FF97FF",
           "#FECB52"
          ],
          "font": {
           "color": "#f2f5fa"
          },
          "geo": {
           "bgcolor": "rgb(17,17,17)",
           "lakecolor": "rgb(17,17,17)",
           "landcolor": "rgb(17,17,17)",
           "showlakes": true,
           "showland": true,
           "subunitcolor": "#506784"
          },
          "hoverlabel": {
           "align": "left"
          },
          "hovermode": "closest",
          "mapbox": {
           "style": "dark"
          },
          "paper_bgcolor": "rgb(17,17,17)",
          "plot_bgcolor": "rgb(17,17,17)",
          "polar": {
           "angularaxis": {
            "gridcolor": "#506784",
            "linecolor": "#506784",
            "ticks": ""
           },
           "bgcolor": "rgb(17,17,17)",
           "radialaxis": {
            "gridcolor": "#506784",
            "linecolor": "#506784",
            "ticks": ""
           }
          },
          "scene": {
           "xaxis": {
            "backgroundcolor": "rgb(17,17,17)",
            "gridcolor": "#506784",
            "gridwidth": 2,
            "linecolor": "#506784",
            "showbackground": true,
            "ticks": "",
            "zerolinecolor": "#C8D4E3"
           },
           "yaxis": {
            "backgroundcolor": "rgb(17,17,17)",
            "gridcolor": "#506784",
            "gridwidth": 2,
            "linecolor": "#506784",
            "showbackground": true,
            "ticks": "",
            "zerolinecolor": "#C8D4E3"
           },
           "zaxis": {
            "backgroundcolor": "rgb(17,17,17)",
            "gridcolor": "#506784",
            "gridwidth": 2,
            "linecolor": "#506784",
            "showbackground": true,
            "ticks": "",
            "zerolinecolor": "#C8D4E3"
           }
          },
          "shapedefaults": {
           "line": {
            "color": "#f2f5fa"
           }
          },
          "sliderdefaults": {
           "bgcolor": "#C8D4E3",
           "bordercolor": "rgb(17,17,17)",
           "borderwidth": 1,
           "tickwidth": 0
          },
          "ternary": {
           "aaxis": {
            "gridcolor": "#506784",
            "linecolor": "#506784",
            "ticks": ""
           },
           "baxis": {
            "gridcolor": "#506784",
            "linecolor": "#506784",
            "ticks": ""
           },
           "bgcolor": "rgb(17,17,17)",
           "caxis": {
            "gridcolor": "#506784",
            "linecolor": "#506784",
            "ticks": ""
           }
          },
          "title": {
           "x": 0.05
          },
          "updatemenudefaults": {
           "bgcolor": "#506784",
           "borderwidth": 0
          },
          "xaxis": {
           "automargin": true,
           "gridcolor": "#283442",
           "linecolor": "#506784",
           "ticks": "",
           "title": {
            "standoff": 15
           },
           "zerolinecolor": "#283442",
           "zerolinewidth": 2
          },
          "yaxis": {
           "automargin": true,
           "gridcolor": "#283442",
           "linecolor": "#506784",
           "ticks": "",
           "title": {
            "standoff": 15
           },
           "zerolinecolor": "#283442",
           "zerolinewidth": 2
          }
         }
        },
        "title": {
         "text": "Actual vs Forecast"
        },
        "xaxis": {
         "anchor": "y",
         "domain": [
          0,
          1
         ],
         "title": {
          "text": "Date"
         }
        },
        "yaxis": {
         "anchor": "x",
         "domain": [
          0,
          1
         ],
         "title": {
          "text": "Close Price"
         }
        }
       }
      }
     },
     "metadata": {},
     "output_type": "display_data"
    }
   ],
   "source": [
    "import plotly.express as px\n",
    "\n",
    "# Visualize Predictions\n",
    "fig = px.line(Forecast_expSmooth, y=['Actual', 'Forecast'],\n",
    "              color_discrete_map={'Actual': 'blue', 'Forecast': 'red'})\n",
    "\n",
    "# Update layout for better aesthetics\n",
    "fig.update_layout(\n",
    "    title='Actual vs Forecast',\n",
    "    xaxis_title='Date',\n",
    "    yaxis_title='Close Price',\n",
    "    legend_title='',\n",
    "    template='plotly_dark',\n",
    "    hovermode='closest' \n",
    ")\n",
    "fig.show()"
   ]
  },
  {
   "cell_type": "code",
   "execution_count": 25,
   "metadata": {},
   "outputs": [
    {
     "name": "stdout",
     "output_type": "stream",
     "text": [
      "RMSE: 478.54\n",
      "MAE: 387.91\n"
     ]
    }
   ],
   "source": [
    "print(f\"RMSE: {rmse:.2f}\")\n",
    "print(f\"MAE: {mae:.2f}\")"
   ]
  },
  {
   "cell_type": "code",
   "execution_count": null,
   "metadata": {},
   "outputs": [],
   "source": []
  }
 ],
 "metadata": {
  "kernelspec": {
   "display_name": ".venv",
   "language": "python",
   "name": "python3"
  },
  "language_info": {
   "codemirror_mode": {
    "name": "ipython",
    "version": 3
   },
   "file_extension": ".py",
   "mimetype": "text/x-python",
   "name": "python",
   "nbconvert_exporter": "python",
   "pygments_lexer": "ipython3",
   "version": "3.12.3"
  }
 },
 "nbformat": 4,
 "nbformat_minor": 2
}
