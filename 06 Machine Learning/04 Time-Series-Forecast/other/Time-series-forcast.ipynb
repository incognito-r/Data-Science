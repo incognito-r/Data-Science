{
 "cells": [
  {
   "cell_type": "markdown",
   "metadata": {},
   "source": [
    "# What is Time Series Forcasting?\n",
    "\n",
    "Time series forecasting is a statistical and machine learning technique used to predict future values based on historical data that is ordered over time. This type of data is often collected at regular intervals (e.g., daily, monthly, quarterly) and includes a temporal aspect, making it essential to account for patterns like trends, seasonality, and cyclicality.\n",
    "\n",
    "## Stationarity:\n",
    "A series is said to be stationary if its statistical properties (mean, variance) are constant over a period of time. Stationarity is essential for many forecasting models, like ARIMA. If a series is non-stationary, it needs to be converted to stationary form before applying such models. \n",
    "\n",
    "- Properties\n",
    "    - Constant Mean\n",
    "    - Constant Variance\n",
    "    - No Seasonality\n",
    "\n",
    "**Seasonality**:\n",
    "Refers to periodic fluctuations in data that occur over a period of less than a year (e.g., hourly, daily, weekly). It captures repetitive patterns/cycles/trends over time.\n",
    "\n",
    "**Check for Stationarity**:\n",
    "- Visual Inspection:\n",
    "    - Plot the time series data to observe trends, seasonality, and variability.\n",
    "    - Stationary series often show constant mean and variance over time.\n",
    "    - Visual inspection can give initial insights but may not be conclusive.\n",
    "- Statistical Tests:\n",
    "    - ADG (Augmented Dickey-Fuller) Test\n",
    "    - KPPS\n",
    "\n",
    "**Key methods to convert non-stationary series to stationary series**:\n",
    "- Differencing: Removing trends by subtracting each observation from the previous one (first-order differencing) or by using seasonal differencing for periodic patterns.\n",
    "- Detrending: Eliminating trends through regression or by subtracting a fitted trend line from the data.\n",
    "- Transformation: Applying mathematical transformations (e.g., logarithm, square root, or Box-Cox) to stabilize the variance across the series.\n",
    "\n"
   ]
  },
  {
   "cell_type": "markdown",
   "metadata": {},
   "source": [
    "# Auto-Regressive Models\n",
    "\n",
    "- **Regression**: Used to predict a continuous value of an item based on certain parameters.\n",
    "- **Auto-Regression**: Uses its own past values to predict future values.\n",
    "\n",
    "**Equation**:\n",
    "$$\n",
    "y_t = m_1 y_{t-1} + m_2 y_{t-2} + \\dots + m_p y_{t-p} + c\n",
    "$$\n",
    "\n",
    "where:\n",
    "- $y_t$: the value at time $t$ that we want to predict.\n",
    "- $y_{t-1}, y_{t-2}, \\dots, y_{t-p}$: previous values (lags) of the series, where $p$ is the number of lags (order of the model).\n",
    "- $m_1, m_2, \\dots, m_p$: coefficients that represent the impact of each lag on the forecasted value $y_t$.\n",
    "- $c$: a constant term.\n",
    "\n",
    "**Order of the AR Model**:\n",
    "- $p = 1$ for **AR(I)**: $1^{st}$ Order Auto Regression.\n",
    "- $p = 2$ for **AR(II)**: $2^{nd}$ Order Auto Regression.\n"
   ]
  },
  {
   "cell_type": "markdown",
   "metadata": {},
   "source": [
    "### ACF and PACF\n",
    "\n",
    "**Correlation**:\n",
    "- Correlation measures the statistical relationship between two variables. It quantifies the strength and direction of their linear relationship.\n",
    "- The Pearson correlation coefficient ($\\rho$) is commonly used, ranging from -1 (perfect negative correlation) to +1 (perfect positive correlation), with 0 indicating no linear relationship.\n",
    "\n",
    "**Autocorrelation**:\n",
    "- Autocorrelation (also called serial correlation) refers to the correlation of a time series with its own past values.\n",
    "- It helps in identifying repeating patterns, such as seasonality in time series data.\n",
    "- The Autocorrelation Function (ACF) is used to measure autocorrelation at different lags.\n",
    "- A high autocorrelation at a certain lag indicates that past values at that lag are highly predictive of future values.\n",
    "\n",
    "**Autocorrelation Function (ACF)**:\n",
    "- The ACF is a plot of the correlation of a time series with its lagged values.\n",
    "- It helps to identify if there are any significant lags that contribute to the value of the series.\n",
    "\n",
    "**Partial Autocorrelation Function (PACF)**:\n",
    "- The PACF is similar to ACF, but it measures the correlation between a time series and its lags after removing the effects of shorter lags.\n",
    "- The PACF helps to identify the appropriate order for Auto-Regressive (AR) models by showing the partial correlation at each lag.\n",
    "- In an AR model, the PACF will typically show significant spikes at the lag order, which helps in selecting the correct number of lags.\n",
    "\n",
    "Key Differences Between ACF and PACF\n",
    "- ACF: Measures the total correlation at each lag, including the indirect effects from all shorter lags.\n",
    "- PACF: Measures the direct correlation at each lag after removing the influence of shorter lags.\n",
    "\n",
    "In an Auto-Regressive (AR) model, we use the Partial Autocorrelation Function (PACF) to determine the appropriate number of lags to include. This helps us identify the order of the AR model—the number of past values that have a direct influence on the future values.\n"
   ]
  },
  {
   "cell_type": "markdown",
   "metadata": {},
   "source": [
    "# ARMA and ARIMA\n",
    "The ARMA (Auto-Regressive Moving Average) model combines both Auto-Regressive (AR) and Moving Average (MA) components to capture more complex relationships in a time series.\n",
    "\n",
    "- Auto-Regressive (AR) part: This part uses the past values (lags) of the time series itself to predict the current value, as in an AR model.\n",
    "- Moving Average (MA) part: This part uses past error terms (differences between predicted and actual values) to improve predictions, capturing noise and random fluctuations in the series.  \n",
    "\n",
    "Auto-regression: Uses past values to make a prediction. $ y_t = m_1 y_{t-1} + m_2 y_{t-2} + \\dots + m_p y_{t-p} + c + \\epsilon_t $\n",
    "\n",
    "Moving averageL: Uses past errors to make a prediction.   $y_t = \\mu + e_t + b_1 e_{t-1} + b_2 e_{t-2} + \\dots + b_q e_{t-q} $\n",
    "\n",
    "**ARMA**:\n",
    "$$\n",
    "y_t = m_1 y_{t-1} + m_2 y_{t-2} + \\dots + m_p y_{t-p} + e_t + b_1 e_{t-1} + b_2 e_{t-2} + \\dots + b_q e_{t-q}\n",
    "$$\n",
    "\n",
    "To find the order of ARMA model (p,q), we can analyze PACF plot for determining AR order $p$ and PACF plot for determining MA order $q$ .\n",
    "\n",
    "**ARIMA Model (Auto Regression Integrated Moving Average)**: It is similar to ARMA model. The ARIMA model is an extension of the ARMA model that includes an additional differencing operation to convert a non-stationary time series into a stationary series."
   ]
  },
  {
   "cell_type": "markdown",
   "metadata": {},
   "source": [
    "# Hypothesis test to check for stationarity\n",
    "\n",
    "**Augmented Dickey Fuller (ADF) test**:\n",
    "\n",
    "**$H_0$**: The time series has a unit root (i.e., it is **non-stationary**).</br>\n",
    "**$H_1$**: The time series does not have a unit root (i.e., it is **stationary**)\n",
    "\n",
    "- Calculate the p-value: After running the ADF test, look at the p-value.\n",
    "- Significance Level($\\alpha$): Typically, a 5% significance level (p-value < 0.05) is used to determine whether to reject the null hypothesis.\n",
    "- Decision:\n",
    "    - If the **p-value < 0.05**, reject the null hypothesis. This suggests that the series is **stationary**.\n",
    "    - If the **p-value ≥ 0.05**, fail to reject the null hypothesis. This suggests that the series is **non-stationary**."
   ]
  },
  {
   "cell_type": "markdown",
   "metadata": {},
   "source": []
  }
 ],
 "metadata": {
  "kernelspec": {
   "display_name": "Python 3",
   "language": "python",
   "name": "python3"
  },
  "language_info": {
   "codemirror_mode": {
    "name": "ipython",
    "version": 3
   },
   "file_extension": ".py",
   "mimetype": "text/x-python",
   "name": "python",
   "nbconvert_exporter": "python",
   "pygments_lexer": "ipython3",
   "version": "3.11.4"
  }
 },
 "nbformat": 4,
 "nbformat_minor": 2
}
