{
 "cells": [
  {
   "cell_type": "markdown",
   "id": "0a4e3833",
   "metadata": {},
   "source": [
    "# List\n",
    "A list is an ordered, mutable (changeable) collection of items. Lists can contain items of different types, like integers, strings, or even other lists.\n",
    "\n",
    "| Property         | Description                             |\n",
    "| ---------------- | --------------------------------------- |\n",
    "| Immutable        | Cannot be changed after creation        |\n",
    "| Ordered          | Supports indexing and slicing           |\n",
    "| Iterable         | You can loop over characters            |\n",
    "| Unicode-based    | Handles any language/script (e.g. '你好') |\n",
    "| Belongs to `str` | Built-in class → `<class 'str'>`        |\n"
   ]
  },
  {
   "cell_type": "markdown",
   "id": "2e0d505e",
   "metadata": {},
   "source": [
    "## ✅ Built-in List Methods\n",
    "\n",
    "| Method        | Description                          |\n",
    "|---------------|--------------------------------------|\n",
    "| `append()`    | Adds an item to the end              |\n",
    "| `extend()`    | Adds elements from another list      |\n",
    "| `insert()`    | Inserts item at a specific position  |\n",
    "| `remove()`    | Removes first matching item          |\n",
    "| `pop()`       | Removes item by index and returns it |\n",
    "| `clear()`     | Removes all items from the list      |\n",
    "| `index()`     | Returns the index of first matching item |\n",
    "| `count()`     | Counts how many times an item appears |\n",
    "| `sort()`      | Sorts the list in place              |\n",
    "| `reverse()`   | Reverses the list in place           |\n",
    "| `copy()`      | Returns a shallow copy of the list   |\n",
    "\n",
    "## ✅ Other Useful Built-in Functions for Lists\n",
    "\n",
    "| Function      | Description                            |\n",
    "|---------------|----------------------------------------|\n",
    "| `len(list)`   | Number of elements                     |\n",
    "| `sum(list)`   | Sum of elements (numeric)              |\n",
    "| `min(list)`   | Minimum value                          |\n",
    "| `max(list)`   | Maximum value                          |\n",
    "| `sorted(list)`| Returns a new sorted list              |\n",
    "| `enumerate()` | Returns index-item pairs as tuples     |\n",
    "| `zip()`       | Combines multiple lists element-wise   |\n",
    "| `all()`       | True if all elements are True          |\n",
    "| `any()`       | True if any element is True            |\n"
   ]
  },
  {
   "cell_type": "code",
   "execution_count": 21,
   "id": "c212c86a",
   "metadata": {},
   "outputs": [],
   "source": [
    "fruits = [\"apple\", \"banana\", \"cherry\", 'kiwi']\n",
    "numbers = [1, 2, 3, 4, 5]\n",
    "mixed = [1, \"hello\", 3.14, True]\n",
    "empty_list = []\n"
   ]
  },
  {
   "cell_type": "code",
   "execution_count": 22,
   "id": "8573c4d9",
   "metadata": {},
   "outputs": [
    {
     "data": {
      "text/plain": [
       "['banana', 'cherry']"
      ]
     },
     "execution_count": 22,
     "metadata": {},
     "output_type": "execute_result"
    }
   ],
   "source": [
    "# slicing\n",
    "fruits[1:3]"
   ]
  },
  {
   "cell_type": "code",
   "execution_count": 23,
   "id": "c8d9ebe1",
   "metadata": {},
   "outputs": [
    {
     "data": {
      "text/plain": [
       "['apple', 'blueberry', 'cherry', 'kiwi']"
      ]
     },
     "execution_count": 23,
     "metadata": {},
     "output_type": "execute_result"
    }
   ],
   "source": [
    "# modifying list\n",
    "fruits[1] = \"blueberry\"\n",
    "fruits"
   ]
  },
  {
   "cell_type": "code",
   "execution_count": 24,
   "id": "8ac1c9c1",
   "metadata": {},
   "outputs": [
    {
     "data": {
      "text/plain": [
       "['apple', 'blueberry', 'cherry', 'kiwi', 'orange']"
      ]
     },
     "execution_count": 24,
     "metadata": {},
     "output_type": "execute_result"
    }
   ],
   "source": [
    "#append\n",
    "fruits.append(\"orange\")\n",
    "fruits"
   ]
  },
  {
   "cell_type": "code",
   "execution_count": 25,
   "id": "188a9e1a",
   "metadata": {},
   "outputs": [
    {
     "data": {
      "text/plain": [
       "['apple', 'blueberry', 'cherry', 'watermellon', 'kiwi', 'orange']"
      ]
     },
     "execution_count": 25,
     "metadata": {},
     "output_type": "execute_result"
    }
   ],
   "source": [
    "# instert at index\n",
    "fruits.insert(3, 'watermellon')\n",
    "fruits"
   ]
  },
  {
   "cell_type": "code",
   "execution_count": 26,
   "id": "de97af0c",
   "metadata": {},
   "outputs": [
    {
     "data": {
      "text/plain": [
       "['apple',\n",
       " 'blueberry',\n",
       " 'cherry',\n",
       " 'watermellon',\n",
       " 'kiwi',\n",
       " 'orange',\n",
       " 'mango',\n",
       " 'grape']"
      ]
     },
     "execution_count": 26,
     "metadata": {},
     "output_type": "execute_result"
    }
   ],
   "source": [
    "# extend\n",
    "fruits.extend([\"mango\", \"grape\"])\n",
    "fruits"
   ]
  },
  {
   "cell_type": "code",
   "execution_count": 27,
   "id": "b446cba4",
   "metadata": {},
   "outputs": [
    {
     "data": {
      "text/plain": [
       "['apple', 'blueberry', 'cherry', 'kiwi', 'orange', 'mango', 'grape']"
      ]
     },
     "execution_count": 27,
     "metadata": {},
     "output_type": "execute_result"
    }
   ],
   "source": [
    "# remove:  removes by value\n",
    "fruits.remove(\"watermellon\")\n",
    "fruits"
   ]
  },
  {
   "cell_type": "code",
   "execution_count": 28,
   "id": "25484ca1",
   "metadata": {},
   "outputs": [
    {
     "data": {
      "text/plain": [
       "'grape'"
      ]
     },
     "execution_count": 28,
     "metadata": {},
     "output_type": "execute_result"
    }
   ],
   "source": [
    "# pop: remove the elemnets from end and returns it\n",
    "fruits.pop()"
   ]
  },
  {
   "cell_type": "code",
   "execution_count": 29,
   "id": "5a8faf80",
   "metadata": {},
   "outputs": [
    {
     "data": {
      "text/plain": [
       "'cherry'"
      ]
     },
     "execution_count": 29,
     "metadata": {},
     "output_type": "execute_result"
    }
   ],
   "source": [
    "fruits.pop(2)"
   ]
  },
  {
   "cell_type": "code",
   "execution_count": 30,
   "id": "c06690d5",
   "metadata": {},
   "outputs": [
    {
     "name": "stdout",
     "output_type": "stream",
     "text": [
      "['apple', 'blueberry', 'kiwi', 'orange', 'mango']\n"
     ]
    }
   ],
   "source": [
    "# clear\n",
    "# fruits.clear()\n",
    "print(fruits)  # []\n"
   ]
  },
  {
   "cell_type": "code",
   "execution_count": 31,
   "id": "c9eb2a03",
   "metadata": {},
   "outputs": [
    {
     "data": {
      "text/plain": [
       "3"
      ]
     },
     "execution_count": 31,
     "metadata": {},
     "output_type": "execute_result"
    }
   ],
   "source": [
    "# index: finds the first occurrence\n",
    "fruits.index(\"orange\")"
   ]
  },
  {
   "cell_type": "code",
   "execution_count": 32,
   "id": "6e1afb65",
   "metadata": {},
   "outputs": [
    {
     "data": {
      "text/plain": [
       "2"
      ]
     },
     "execution_count": 32,
     "metadata": {},
     "output_type": "execute_result"
    }
   ],
   "source": [
    "# count: counts occurances\n",
    "fruits.append('orange')\n",
    "fruits.count('orange')"
   ]
  },
  {
   "cell_type": "code",
   "execution_count": 33,
   "id": "21a59c02",
   "metadata": {},
   "outputs": [
    {
     "data": {
      "text/plain": [
       "['apple', 'blueberry', 'kiwi', 'mango', 'orange', 'orange']"
      ]
     },
     "execution_count": 33,
     "metadata": {},
     "output_type": "execute_result"
    }
   ],
   "source": [
    "# sort: in placce\n",
    "fruits.sort()\n",
    "fruits"
   ]
  },
  {
   "cell_type": "code",
   "execution_count": 34,
   "id": "ec8ea2eb",
   "metadata": {},
   "outputs": [
    {
     "data": {
      "text/plain": [
       "['apple', 'blueberry', 'kiwi', 'mango', 'orange', 'orange']"
      ]
     },
     "execution_count": 34,
     "metadata": {},
     "output_type": "execute_result"
    }
   ],
   "source": [
    "# sorted: returns sorted list\n",
    "sorted(fruits)"
   ]
  },
  {
   "cell_type": "code",
   "execution_count": 38,
   "id": "0983064b",
   "metadata": {},
   "outputs": [
    {
     "name": "stdout",
     "output_type": "stream",
     "text": [
      "['date', 'apple', 'banana', 'cherry']\n",
      "['date', 'cherry', 'banana', 'apple']\n"
     ]
    }
   ],
   "source": [
    "# sort by custom key or descending order:\n",
    "words = [\"banana\", \"apple\", \"cherry\", \"date\"]\n",
    "\n",
    "words.sort(key=len)  # Sort by length\n",
    "print(words)\n",
    "\n",
    "words.sort(reverse=True)  # Sort descending alphabetically\n",
    "print(words)\n"
   ]
  },
  {
   "cell_type": "code",
   "execution_count": null,
   "id": "4b535bc5",
   "metadata": {},
   "outputs": [],
   "source": []
  },
  {
   "cell_type": "code",
   "execution_count": null,
   "metadata": {},
   "outputs": [],
   "source": []
  },
  {
   "cell_type": "code",
   "execution_count": 35,
   "id": "ce9ea5a3",
   "metadata": {},
   "outputs": [
    {
     "data": {
      "text/plain": [
       "['orange', 'orange', 'mango', 'kiwi', 'blueberry', 'apple']"
      ]
     },
     "execution_count": 35,
     "metadata": {},
     "output_type": "execute_result"
    }
   ],
   "source": [
    "# reverse: at place\n",
    "fruits.reverse()\n",
    "fruits"
   ]
  },
  {
   "cell_type": "code",
   "execution_count": 36,
   "id": "0e00de3e",
   "metadata": {},
   "outputs": [],
   "source": [
    "# copy: shallow copy\n",
    "new_fruits = fruits.copy()"
   ]
  },
  {
   "cell_type": "code",
   "execution_count": null,
   "metadata": {},
   "outputs": [],
   "source": []
  },
  {
   "cell_type": "markdown",
   "id": "68f8f6af",
   "metadata": {},
   "source": [
    "List Unpacking"
   ]
  },
  {
   "cell_type": "code",
   "execution_count": 39,
   "id": "d540e1cc",
   "metadata": {},
   "outputs": [
    {
     "name": "stdout",
     "output_type": "stream",
     "text": [
      "1 2 3\n",
      "1\n",
      "[2, 3, 4]\n",
      "5\n"
     ]
    }
   ],
   "source": [
    "numbers = [1, 2, 3]\n",
    "a, b, c = numbers\n",
    "print(a, b, c)  # 1 2 3\n",
    "\n",
    "# Using * to collect multiple elements\n",
    "a, *middle, c = [1, 2, 3, 4, 5]\n",
    "print(a)       # 1\n",
    "print(middle)  # [2, 3, 4]\n",
    "print(c)       # 5\n"
   ]
  },
  {
   "cell_type": "markdown",
   "id": "3c6778d7",
   "metadata": {},
   "source": [
    "List Comprehension"
   ]
  },
  {
   "cell_type": "code",
   "execution_count": 1,
   "id": "c92e9716",
   "metadata": {},
   "outputs": [
    {
     "name": "stdout",
     "output_type": "stream",
     "text": [
      "[0, 1, 4, 9, 16, 25, 36, 49, 64, 81]\n",
      "[0, 2, 4, 6, 8]\n"
     ]
    }
   ],
   "source": [
    "# [expression for item in iterable if condition]\n",
    "\n",
    "# Squares of numbers from 0 to 9\n",
    "squares = [x**2 for x in range(10)]\n",
    "print(squares)\n",
    "\n",
    "# Even numbers from 0 to 9\n",
    "evens = [x for x in range(10) if x % 2 == 0]\n",
    "print(evens)\n",
    "\n"
   ]
  },
  {
   "cell_type": "markdown",
   "id": "422122c2",
   "metadata": {},
   "source": [
    "Nested Lists"
   ]
  },
  {
   "cell_type": "code",
   "execution_count": 3,
   "id": "f2d692dd",
   "metadata": {},
   "outputs": [
    {
     "name": "stdout",
     "output_type": "stream",
     "text": [
      "[1, 2, 3]\n",
      "6\n"
     ]
    }
   ],
   "source": [
    "matrix = [\n",
    "    [1, 2, 3],\n",
    "    [4, 5, 6],\n",
    "    [7, 8, 9]\n",
    "]\n",
    "\n",
    "print(matrix[0])     # [1, 2, 3]\n",
    "print(matrix[1][2])  # 6 (second row, third column)"
   ]
  },
  {
   "cell_type": "markdown",
   "id": "4c44fd40",
   "metadata": {},
   "source": [
    "enumerate with list"
   ]
  },
  {
   "cell_type": "code",
   "execution_count": 42,
   "id": "fc6263ed",
   "metadata": {},
   "outputs": [
    {
     "name": "stdout",
     "output_type": "stream",
     "text": [
      "0: orange\n",
      "1: orange\n",
      "2: mango\n",
      "3: kiwi\n",
      "4: blueberry\n",
      "5: apple\n"
     ]
    }
   ],
   "source": [
    "for index, value in enumerate(fruits):\n",
    "    print(f\"{index}: {value}\")\n"
   ]
  },
  {
   "cell_type": "code",
   "execution_count": null,
   "id": "4c7498c5",
   "metadata": {},
   "outputs": [
    {
     "name": "stdout",
     "output_type": "stream",
     "text": [
      "2: orange\n",
      "3: orange\n",
      "4: mango\n",
      "5: kiwi\n",
      "6: blueberry\n",
      "7: apple\n"
     ]
    }
   ],
   "source": [
    "for index, value in enumerate(fruits, start=2): #\n",
    "    print(f\"{index}: {value}\")"
   ]
  },
  {
   "cell_type": "code",
   "execution_count": 45,
   "id": "2111ed0e",
   "metadata": {},
   "outputs": [
    {
     "data": {
      "text/plain": [
       "str"
      ]
     },
     "execution_count": 45,
     "metadata": {},
     "output_type": "execute_result"
    }
   ],
   "source": [
    "type('dfs')"
   ]
  },
  {
   "cell_type": "code",
   "execution_count": null,
   "id": "ea184f98",
   "metadata": {},
   "outputs": [],
   "source": []
  }
 ],
 "metadata": {
  "kernelspec": {
   "display_name": "ml_env",
   "language": "python",
   "name": "python3"
  },
  "language_info": {
   "codemirror_mode": {
    "name": "ipython",
    "version": 3
   },
   "file_extension": ".py",
   "mimetype": "text/x-python",
   "name": "python",
   "nbconvert_exporter": "python",
   "pygments_lexer": "ipython3",
   "version": "3.10.16"
  }
 },
 "nbformat": 4,
 "nbformat_minor": 5
}
