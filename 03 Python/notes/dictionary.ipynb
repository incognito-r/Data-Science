{
 "cells": [
  {
   "cell_type": "markdown",
   "id": "049480dc",
   "metadata": {},
   "source": [
    "# Disctionary\n",
    "A dictionary is an unordered, mutable collection of key-value pairs."
   ]
  },
  {
   "cell_type": "code",
   "execution_count": 4,
   "id": "1a07ec93",
   "metadata": {},
   "outputs": [],
   "source": [
    "d1 = {\"a\": 1, \"b\": 2}              # Literal syntax\n",
    "d2 = dict(x=10, y=20)              # Using dict constructor\n",
    "d3 = dict([(\"a\", 1), (\"b\", 2)])    # From list of tuples\n",
    "d4 = {}                            # Empty dict"
   ]
  },
  {
   "cell_type": "code",
   "execution_count": 11,
   "id": "e85144a2",
   "metadata": {},
   "outputs": [],
   "source": [
    "student = {\n",
    "    'name': 'Alice',\n",
    "    'grade': 'A',\n",
    "    'course': 'Ds'\n",
    "}"
   ]
  },
  {
   "cell_type": "code",
   "execution_count": 12,
   "id": "99eff18e",
   "metadata": {},
   "outputs": [
    {
     "data": {
      "text/plain": [
       "'A'"
      ]
     },
     "execution_count": 12,
     "metadata": {},
     "output_type": "execute_result"
    }
   ],
   "source": [
    "student.pop(\"grade\")          # Removes key, returns value"
   ]
  },
  {
   "cell_type": "code",
   "execution_count": 13,
   "id": "ec7e6a75",
   "metadata": {},
   "outputs": [
    {
     "name": "stdout",
     "output_type": "stream",
     "text": [
      "name Alice\n",
      "course Ds\n"
     ]
    }
   ],
   "source": [
    "for key, value in student.items():\n",
    "    print(key, value)"
   ]
  },
  {
   "cell_type": "code",
   "execution_count": null,
   "id": "23b353a9",
   "metadata": {},
   "outputs": [],
   "source": [
    "del student[\"course\"]         # Deletes key\n",
    "student.clear()               # Removes all items"
   ]
  },
  {
   "cell_type": "code",
   "execution_count": 14,
   "id": "e51266ed",
   "metadata": {},
   "outputs": [
    {
     "name": "stdout",
     "output_type": "stream",
     "text": [
      "Alice\n",
      "0\n"
     ]
    }
   ],
   "source": [
    "student = {\"name\": \"Alice\", \"age\": 22, \"grade\": \"A\"}\n",
    "\n",
    "print(student[\"name\"])       # Alice\n",
    "print(student.get(\"marks\", 0))  # 0\n",
    "student[\"age\"] = 23\n",
    "student[\"city\"] = \"New York\"\n",
    "del student[\"grade\"]\n"
   ]
  },
  {
   "cell_type": "code",
   "execution_count": null,
   "id": "b9dedd56",
   "metadata": {},
   "outputs": [],
   "source": []
  },
  {
   "cell_type": "markdown",
   "id": "65301433",
   "metadata": {},
   "source": [
    "| Method              | Description                                       |\n",
    "| ------------------- | ------------------------------------------------- |\n",
    "| `get(key, default)` | Returns value or default if key not found         |\n",
    "| `keys()`            | Returns all keys                                  |\n",
    "| `values()`          | Returns all values                                |\n",
    "| `items()`           | Returns all key-value pairs as tuples             |\n",
    "| `pop(key)`          | Removes key and returns its value                 |\n",
    "| `popitem()`         | Removes and returns the last inserted pair        |\n",
    "| `update(dict)`      | Adds or updates key-value pairs from another dict |\n",
    "| `clear()`           | Removes all items                                 |\n",
    "| `copy()`            | Returns a shallow copy                            |\n"
   ]
  },
  {
   "cell_type": "markdown",
   "id": "6a22dbca",
   "metadata": {},
   "source": []
  }
 ],
 "metadata": {
  "kernelspec": {
   "display_name": "ml_env",
   "language": "python",
   "name": "python3"
  },
  "language_info": {
   "codemirror_mode": {
    "name": "ipython",
    "version": 3
   },
   "file_extension": ".py",
   "mimetype": "text/x-python",
   "name": "python",
   "nbconvert_exporter": "python",
   "pygments_lexer": "ipython3",
   "version": "3.10.16"
  }
 },
 "nbformat": 4,
 "nbformat_minor": 5
}
