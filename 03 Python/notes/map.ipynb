{
 "cells": [
  {
   "cell_type": "code",
   "execution_count": null,
   "id": "068f8ecd",
   "metadata": {},
   "outputs": [],
   "source": [
    "# map(function, iterable)"
   ]
  },
  {
   "cell_type": "code",
   "execution_count": null,
   "id": "2d7ef065",
   "metadata": {},
   "outputs": [],
   "source": [
    "nums = [1,2,3,4, 5,6,7,8]\n",
    "\n",
    "[i**2 for i in nums if i%2==0] # filter elemnets\n",
    "[i**2 if i%2==0 else i for i in nums] # transform every element"
   ]
  },
  {
   "cell_type": "code",
   "execution_count": null,
   "id": "fe1f5e01",
   "metadata": {},
   "outputs": [],
   "source": [
    "# conditional transformation\n",
    "list(map(lambda x:x**2 if x%2==0 else x, nums))"
   ]
  },
  {
   "cell_type": "code",
   "execution_count": 3,
   "id": "d1f8a1a0",
   "metadata": {},
   "outputs": [
    {
     "name": "stdout",
     "output_type": "stream",
     "text": [
      "['apple', 'banana']\n"
     ]
    }
   ],
   "source": [
    "# filtering elements\n",
    "words = [\"cat\", \"apple\", \"dog\", \"banana\"]\n",
    "\n",
    "long_words = list(filter(lambda x: len(x) > 3, words))\n",
    "print(long_words)  # ['apple', 'banana']"
   ]
  },
  {
   "cell_type": "code",
   "execution_count": null,
   "id": "c6c58859",
   "metadata": {},
   "outputs": [
    {
     "name": "stdout",
     "output_type": "stream",
     "text": [
      "['apple', 'banana']\n"
     ]
    }
   ],
   "source": [
    "\n",
    "\n",
    "\n"
   ]
  },
  {
   "cell_type": "code",
   "execution_count": null,
   "id": "38f60abc",
   "metadata": {},
   "outputs": [],
   "source": []
  }
 ],
 "metadata": {
  "kernelspec": {
   "display_name": "ml_env",
   "language": "python",
   "name": "python3"
  },
  "language_info": {
   "codemirror_mode": {
    "name": "ipython",
    "version": 3
   },
   "file_extension": ".py",
   "mimetype": "text/x-python",
   "name": "python",
   "nbconvert_exporter": "python",
   "pygments_lexer": "ipython3",
   "version": "3.10.16"
  }
 },
 "nbformat": 4,
 "nbformat_minor": 5
}
