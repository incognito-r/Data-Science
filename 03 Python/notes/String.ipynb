{
 "cells": [
  {
   "cell_type": "markdown",
   "id": "4c79cee3",
   "metadata": {},
   "source": [
    "# String\n",
    "\n",
    "Strings are immutable: you cannot change characters in-place.v"
   ]
  },
  {
   "cell_type": "markdown",
   "id": "bf3a3019",
   "metadata": {},
   "source": [
    "#### ✅ Basic String Operations\n",
    "\n",
    "| Operation     | Example              | Result          |\n",
    "| ------------- | -------------------- | --------------- |\n",
    "| Concatenation | `\"Hello \" + \"World\"` | `\"Hello World\"` |\n",
    "| Repetition    | `\"ha\" * 3`           | `\"hahaha\"`      |\n",
    "| Indexing      | `\"hello\"[1]`         | `'e'`           |\n",
    "| Slicing       | `\"hello\"[1:4]`       | `'ell'`         |\n",
    "| Length        | `len(\"hello\")`       | `5`             |\n",
    "| Membership    | `'h' in \"hello\"`     | `True`          |\n",
    "\n",
    "\n",
    "####  🔧 Useful String Methods\n",
    "| Method          | Description                            |\n",
    "| --------------- | -------------------------------------- |\n",
    "| `lower()`       | Converts to lowercase                  |\n",
    "| `upper()`       | Converts to uppercase                  |\n",
    "| `strip()`       | Removes leading/trailing whitespace    |\n",
    "| `replace(a, b)` | Replaces all `a` with `b`              |\n",
    "| `split(delim)`  | Splits string into a list              |\n",
    "| `join(list)`    | Joins a list into a string             |\n",
    "| `find(sub)`     | Finds first index of substring, or -1  |\n",
    "| `startswith()`  | Checks if string starts with something |\n",
    "| `endswith()`    | Checks if string ends with something   |\n",
    "| `isalpha()`     | True if all characters are letters     |\n",
    "| `isdigit()`     | True if all characters are digits      |\n",
    "| `isalnum()`     | True if letters or digits              |\n",
    "| `capitalize()`    | Capitalizes first letter → `\"hello\".capitalize()` → `'Hello'`     |\n",
    "| `title()`         | Capitalizes each word → `\"hello world\".title()` → `'Hello World'` |\n",
    "| `swapcase()`      | Swaps case → `\"PyThOn\".swapcase()` → `'pYtHoN'`                   |\n",
    "| `center(width)`   | Centers string → `\"hi\".center(10)` → `'    hi    '`               |\n",
    "| `ljust(width)`    | Left-justifies string → `\"hi\".ljust(5)` → `'hi   '`               |\n",
    "| `rjust(width)`    | Right-justifies string → `\"hi\".rjust(5)` → `'   hi'`              |\n",
    "| `zfill(width)`    | Pads with zeros → `\"42\".zfill(5)` → `'00042'`                     |\n",
    "| `partition(sep)`  | Splits into 3 parts → `\"a=b\".partition(\"=\")` → `('a', '=', 'b')`  |\n",
    "| `rpartition(sep)` | Like `partition`, but from right                                  |\n",
    "| `splitlines()`    | Splits on line breaks                                             |\n",
    "| `rfind(sub)`      | Last occurrence of substring                                      |\n",
    "| `rindex(sub)`     | Last occurrence (error if not found)                              |\n",
    "| `casefold()`      | Aggressive `lower()` for Unicode comparison                       |\n",
    "| `encode()`        | Converts string to bytes (e.g., UTF-8 encoding)                   |\n",
    "\n",
    "\n",
    "#### 🧠 Logical Checks with is...() Methods\n",
    "\n",
    "| Method      | Returns `True` if...       |\n",
    "| ----------- | -------------------------- |\n",
    "| `isalpha()` | All characters are letters |\n",
    "| `isdigit()` | All characters are digits  |\n",
    "| `isalnum()` | Letters or digits only     |\n",
    "| `isspace()` | Only whitespace            |\n",
    "| `islower()` | All letters are lowercase  |\n",
    "| `isupper()` | All letters are uppercase  |\n",
    "| `istitle()` | Follows title case         |\n",
    "\n",
    "\n",
    "\n",
    "#### 🧪 Escape Characters\n",
    "\n",
    "| Escape | Meaning      |\n",
    "| ------ | ------------ |\n",
    "| `\\n`   | New line     |\n",
    "| `\\t`   | Tab          |\n",
    "| `\\\\`   | Backslash    |\n",
    "| `\\'`   | Single quote |\n",
    "| `\\\"`   | Double quote |\n",
    "\n",
    "\n"
   ]
  },
  {
   "cell_type": "code",
   "execution_count": 22,
   "id": "a67983d1",
   "metadata": {},
   "outputs": [
    {
     "name": "stdout",
     "output_type": "stream",
     "text": [
      "Hello world\n",
      "Hello World\n",
      "HELLO WORLD\n",
      "****hello world*****\n",
      "00042\n",
      "('key', '=', 'value')\n"
     ]
    }
   ],
   "source": [
    "s = \"hello world\"\n",
    "\n",
    "print(s.capitalize())     # Hello world\n",
    "print(s.title())          # Hello World\n",
    "print(s.swapcase())       # HELLO WORLD\n",
    "print(s.center(20, '*'))  # ****hello world*****\n",
    "print(\"42\".zfill(5))      # 00042\n",
    "print(\"key=value\".partition(\"=\"))  # ('key', '=', 'value')\n"
   ]
  },
  {
   "cell_type": "code",
   "execution_count": 21,
   "id": "13f95635",
   "metadata": {},
   "outputs": [
    {
     "name": "stdout",
     "output_type": "stream",
     "text": [
      "1ppl2\n"
     ]
    }
   ],
   "source": [
    "# 🎯 Special Use: str.translate() and str.maketrans()\n",
    "\n",
    "trans = str.maketrans(\"aeiou\", \"12345\")\n",
    "print(\"apple\".translate(trans))  # '1ppl2'\n"
   ]
  },
  {
   "cell_type": "code",
   "execution_count": 1,
   "id": "c083cd3c",
   "metadata": {},
   "outputs": [],
   "source": [
    "s = \"  Hello World!  \""
   ]
  },
  {
   "cell_type": "code",
   "execution_count": 2,
   "id": "05fef7df",
   "metadata": {},
   "outputs": [
    {
     "data": {
      "text/plain": [
       "['Hello', 'World!']"
      ]
     },
     "execution_count": 2,
     "metadata": {},
     "output_type": "execute_result"
    }
   ],
   "source": [
    "s.split()"
   ]
  },
  {
   "cell_type": "code",
   "execution_count": 8,
   "id": "892eb0a4",
   "metadata": {},
   "outputs": [
    {
     "data": {
      "text/plain": [
       "'Joins-a-list-into-a-string'"
      ]
     },
     "execution_count": 8,
     "metadata": {},
     "output_type": "execute_result"
    }
   ],
   "source": [
    "\"-\".join(['Joins', 'a', 'list', 'into', 'a', 'string'])"
   ]
  },
  {
   "cell_type": "code",
   "execution_count": 14,
   "id": "2fc0ab45",
   "metadata": {},
   "outputs": [
    {
     "data": {
      "text/plain": [
       "8"
      ]
     },
     "execution_count": 14,
     "metadata": {},
     "output_type": "execute_result"
    }
   ],
   "source": [
    "s.find('World')"
   ]
  },
  {
   "cell_type": "code",
   "execution_count": 18,
   "id": "bbbb9dde",
   "metadata": {},
   "outputs": [
    {
     "data": {
      "text/plain": [
       "True"
      ]
     },
     "execution_count": 18,
     "metadata": {},
     "output_type": "execute_result"
    }
   ],
   "source": [
    "s.startswith(' ')"
   ]
  },
  {
   "cell_type": "code",
   "execution_count": 19,
   "id": "7f988cd5",
   "metadata": {},
   "outputs": [
    {
     "data": {
      "text/plain": [
       "True"
      ]
     },
     "execution_count": 19,
     "metadata": {},
     "output_type": "execute_result"
    }
   ],
   "source": [
    "s.endswith(' ')"
   ]
  },
  {
   "cell_type": "code",
   "execution_count": 20,
   "id": "8503563d",
   "metadata": {},
   "outputs": [
    {
     "name": "stdout",
     "output_type": "stream",
     "text": [
      "True\n",
      "True\n",
      "True\n"
     ]
    }
   ],
   "source": [
    "print(\"hello123\".isalnum())   # True\n",
    "print(\"123\".isdigit())        # True\n",
    "print(\"HELLO\".isupper())      # True"
   ]
  },
  {
   "cell_type": "code",
   "execution_count": null,
   "id": "5e368794",
   "metadata": {},
   "outputs": [],
   "source": []
  }
 ],
 "metadata": {
  "kernelspec": {
   "display_name": "ml_env",
   "language": "python",
   "name": "python3"
  },
  "language_info": {
   "codemirror_mode": {
    "name": "ipython",
    "version": 3
   },
   "file_extension": ".py",
   "mimetype": "text/x-python",
   "name": "python",
   "nbconvert_exporter": "python",
   "pygments_lexer": "ipython3",
   "version": "3.10.16"
  }
 },
 "nbformat": 4,
 "nbformat_minor": 5
}
