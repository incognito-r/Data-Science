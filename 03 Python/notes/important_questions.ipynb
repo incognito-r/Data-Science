{
 "cells": [
  {
   "cell_type": "markdown",
   "id": "b4a60c5a",
   "metadata": {},
   "source": [
    "Q. Removes duplicates while preserving the original order."
   ]
  },
  {
   "cell_type": "code",
   "execution_count": 4,
   "id": "0505f8b8",
   "metadata": {},
   "outputs": [
    {
     "data": {
      "text/plain": [
       "[45, 743, 75, 34]"
      ]
     },
     "execution_count": 4,
     "metadata": {},
     "output_type": "execute_result"
    }
   ],
   "source": [
    "def mystery(lst):\n",
    "    result = []\n",
    "    for item in lst:\n",
    "        if item not in result:\n",
    "            result.append(item)\n",
    "    return result\n",
    "\n",
    "mystery([45,45,743,75,34,75])"
   ]
  },
  {
   "cell_type": "markdown",
   "id": "57f25d0a",
   "metadata": {},
   "source": [
    "Q. How can you reverse a string using a loop?\n",
    "\n"
   ]
  },
  {
   "cell_type": "code",
   "execution_count": null,
   "id": "0684405a",
   "metadata": {},
   "outputs": [
    {
     "name": "stdout",
     "output_type": "stream",
     "text": [
      "olleH\n"
     ]
    }
   ],
   "source": [
    "text = 'Hello'\n",
    "# text[::-1]\n",
    "# l = len(text)\n",
    "# while(l>=1):\n",
    "#     print(text[l-1])\n",
    "#     l-=1\n",
    "\n",
    "rev = \"\"\n",
    "for c in text:  \n",
    "    rev = c + rev\n",
    "print(rev)"
   ]
  },
  {
   "cell_type": "markdown",
   "id": "6f3cddf2",
   "metadata": {},
   "source": [
    "Q. Write a function to count vowels in a string.\n",
    "\n"
   ]
  },
  {
   "cell_type": "code",
   "execution_count": null,
   "id": "4bf07320",
   "metadata": {},
   "outputs": [
    {
     "data": {
      "text/plain": [
       "4"
      ]
     },
     "execution_count": 33,
     "metadata": {},
     "output_type": "execute_result"
    }
   ],
   "source": [
    "def countVowels(s):\n",
    "    vows = 'aeiou'\n",
    "    count=0\n",
    "    for ch in s.lower():\n",
    "        if ch in vows:\n",
    "            count+=1\n",
    "    return count\n",
    "\n",
    "countVowels(\"AuobhfdbE\")"
   ]
  },
  {
   "cell_type": "markdown",
   "id": "ac135bb0",
   "metadata": {},
   "source": [
    "Q. Check for Anagram: Write a function to check if two strings are anagrams of each other (ignoring case and spaces)."
   ]
  },
  {
   "cell_type": "code",
   "execution_count": 46,
   "id": "01682f56",
   "metadata": {},
   "outputs": [
    {
     "data": {
      "text/plain": [
       "False"
      ]
     },
     "execution_count": 46,
     "metadata": {},
     "output_type": "execute_result"
    }
   ],
   "source": [
    "def is_anagram(s1, s2):\n",
    "    \n",
    "    if sorted(s1.lower()) == sorted(s2.lower()): return True\n",
    "    else: return False\n",
    "\n",
    "is_anagram('tea', 'eatn')"
   ]
  },
  {
   "cell_type": "markdown",
   "id": "8e30bd24",
   "metadata": {},
   "source": [
    "Q. Find First Repeated Character: Return the first character that repeats in a string. If none, return None."
   ]
  },
  {
   "cell_type": "code",
   "execution_count": 49,
   "id": "5ada6df1",
   "metadata": {},
   "outputs": [
    {
     "data": {
      "text/plain": [
       "'i'"
      ]
     },
     "execution_count": 49,
     "metadata": {},
     "output_type": "execute_result"
    }
   ],
   "source": [
    "def first_repeat(s):\n",
    "    s1 = set() # empty set\n",
    "\n",
    "    for ch in s:\n",
    "        if ch in s1:\n",
    "            return ch\n",
    "        else:\n",
    "            s1.add(ch)\n",
    "    return None\n",
    "\n",
    "first_repeat('sdfhiu4iehotagf')"
   ]
  },
  {
   "cell_type": "markdown",
   "id": "843df992",
   "metadata": {},
   "source": [
    "Q. Flatten a Nested List\n",
    "\n",
    "Turn `[[1, 2], [3, [4, 5]], 6]` into `[1, 2, 3, 4, 5, 6]`.\n"
   ]
  },
  {
   "cell_type": "code",
   "execution_count": 63,
   "id": "dd31b949",
   "metadata": {},
   "outputs": [
    {
     "data": {
      "text/plain": [
       "[1, 2, 3, 4, 5, 6]"
      ]
     },
     "execution_count": 63,
     "metadata": {},
     "output_type": "execute_result"
    }
   ],
   "source": [
    "def flatten(lst):\n",
    "    flat_list = []\n",
    "    for item in lst:\n",
    "        if type(item) == list:\n",
    "            flat_list.extend(flatten(item))  # flatten the sublist\n",
    "        else:\n",
    "            flat_list.append(item)  # add the item directly\n",
    "    return flat_list\n",
    "\n",
    "flatten([1, [2, [3, 4], 5], 6])"
   ]
  },
  {
   "cell_type": "markdown",
   "id": "48771434",
   "metadata": {},
   "source": [
    "Q. Check for Palindrome\n"
   ]
  },
  {
   "cell_type": "code",
   "execution_count": 72,
   "id": "12bc6e85",
   "metadata": {},
   "outputs": [
    {
     "data": {
      "text/plain": [
       "True"
      ]
     },
     "execution_count": 72,
     "metadata": {},
     "output_type": "execute_result"
    }
   ],
   "source": [
    "def checkPalindrome(s):\n",
    "    return s == s[::-1]\n",
    "\n",
    "checkPalindrome('ada')"
   ]
  },
  {
   "cell_type": "markdown",
   "id": "3d1705f0",
   "metadata": {},
   "source": [
    "Q.  Find All Duplicates in a List"
   ]
  },
  {
   "cell_type": "code",
   "execution_count": 76,
   "id": "cd9f8b68",
   "metadata": {},
   "outputs": [
    {
     "name": "stdout",
     "output_type": "stream",
     "text": [
      "[2, 4]\n"
     ]
    }
   ],
   "source": [
    "def find_duplicates(lst):\n",
    "    seen = set()\n",
    "    duplicates = set()\n",
    "\n",
    "    for item in lst:\n",
    "        if item in seen:\n",
    "            duplicates.add(item)\n",
    "        else:\n",
    "            seen.add(item)\n",
    "    return list(duplicates)\n",
    "\n",
    "print(find_duplicates([1, 2, 2, 3, 4, 4, 5]))  # [2, 4]\n"
   ]
  },
  {
   "cell_type": "markdown",
   "id": "b1c1c869",
   "metadata": {},
   "source": [
    "Q. Count Word Frequency"
   ]
  },
  {
   "cell_type": "code",
   "execution_count": null,
   "id": "1bcc1b40",
   "metadata": {},
   "outputs": [
    {
     "name": "stdout",
     "output_type": "stream",
     "text": [
      "{'the': 2, 'cat': 1, 'and': 1, 'hat': 1}\n"
     ]
    }
   ],
   "source": [
    "def word_frequency(sentence):\n",
    "    words = sentence.split()\n",
    "    word_freq = {}\n",
    "    for w in words:\n",
    "        word_freq[w] = word_freq.get(w, 0) + 1\n",
    "    return word_freq\n",
    "\n",
    "# Example\n",
    "print(word_frequency(\"the cat and the hat\"))  \n",
    "# {'the': 2, 'cat': 1, 'and': 1, 'hat': 1}\n"
   ]
  },
  {
   "cell_type": "markdown",
   "id": "3a4babce",
   "metadata": {},
   "source": [
    "Q. From a list of numbers, create a list of their squares (if the number is odd).\n"
   ]
  },
  {
   "cell_type": "code",
   "execution_count": 17,
   "id": "86faddd1",
   "metadata": {},
   "outputs": [
    {
     "data": {
      "text/plain": [
       "[1, 9, 25]"
      ]
     },
     "execution_count": 17,
     "metadata": {},
     "output_type": "execute_result"
    }
   ],
   "source": [
    "nums = [1, 2, 3, 4, 5]\n",
    "# Expected: [1, 9, 25]\n",
    "\n",
    "[n**2 for n in nums if n%2!=0]"
   ]
  },
  {
   "cell_type": "markdown",
   "id": "1a0c5e85",
   "metadata": {},
   "source": [
    "Q. Convert a list of words to uppercase, but only if the word starts with 'a'.\n"
   ]
  },
  {
   "cell_type": "code",
   "execution_count": 18,
   "id": "b7afb425",
   "metadata": {},
   "outputs": [
    {
     "data": {
      "text/plain": [
       "['APPLE', 'AVOCADO']"
      ]
     },
     "execution_count": 18,
     "metadata": {},
     "output_type": "execute_result"
    }
   ],
   "source": [
    "words = ['apple', 'banana', 'avocado', 'cherry']\n",
    "# Expected: ['APPLE', 'AVOCADO']\n",
    "\n",
    "[w.upper() for w in words if w.startswith('a')]"
   ]
  },
  {
   "cell_type": "markdown",
   "id": "199d2f19",
   "metadata": {},
   "source": [
    "Q. Add 10 to each element in the list.\n",
    "\n"
   ]
  },
  {
   "cell_type": "code",
   "execution_count": 19,
   "id": "cecab005",
   "metadata": {},
   "outputs": [
    {
     "data": {
      "text/plain": [
       "[11, 12, 13]"
      ]
     },
     "execution_count": 19,
     "metadata": {},
     "output_type": "execute_result"
    }
   ],
   "source": [
    "nums = [1, 2, 3]\n",
    "# Expected: [11, 12, 13]\n",
    "\n",
    "list(map(lambda x:x+10,  nums))"
   ]
  },
  {
   "cell_type": "markdown",
   "id": "ce1d4cb9",
   "metadata": {},
   "source": [
    "Q. Convert a list of strings to their lengths."
   ]
  },
  {
   "cell_type": "code",
   "execution_count": 20,
   "id": "9f2135fc",
   "metadata": {},
   "outputs": [
    {
     "data": {
      "text/plain": [
       "[6, 2, 7]"
      ]
     },
     "execution_count": 20,
     "metadata": {},
     "output_type": "execute_result"
    }
   ],
   "source": [
    "words = ['python', 'is', 'awesome']\n",
    "# Expected: [6, 2, 7]\n",
    "\n",
    "list(map(lambda x:len(x), words))"
   ]
  },
  {
   "cell_type": "markdown",
   "id": "32a1a83b",
   "metadata": {},
   "source": [
    "Q. Multiply all the numbers in a list.\n"
   ]
  },
  {
   "cell_type": "code",
   "execution_count": 27,
   "id": "aecfb2d6",
   "metadata": {},
   "outputs": [
    {
     "data": {
      "text/plain": [
       "24"
      ]
     },
     "execution_count": 27,
     "metadata": {},
     "output_type": "execute_result"
    }
   ],
   "source": [
    "nums = [1, 2, 3, 4]\n",
    "# Expected: 24\n",
    "\n",
    "from functools import reduce\n",
    "reduce(lambda x,y:x*y, nums)"
   ]
  },
  {
   "cell_type": "markdown",
   "id": "c56f544d",
   "metadata": {},
   "source": [
    "Q. Concatenate all words into a single sentence."
   ]
  },
  {
   "cell_type": "code",
   "execution_count": 29,
   "id": "9837f9a9",
   "metadata": {},
   "outputs": [
    {
     "data": {
      "text/plain": [
       "'Pythonisfun'"
      ]
     },
     "execution_count": 29,
     "metadata": {},
     "output_type": "execute_result"
    }
   ],
   "source": [
    "words = ['Python', 'is', 'fun']\n",
    "# Expected: 'Python is fun'\n",
    "\n",
    "from functools import reduce\n",
    "reduce(lambda x, y: x+y, words)"
   ]
  },
  {
   "cell_type": "markdown",
   "id": "2a8d9efb",
   "metadata": {},
   "source": [
    "Q. Given a list of numbers, square only the even numbers, then add them all together."
   ]
  },
  {
   "cell_type": "code",
   "execution_count": 33,
   "id": "17949838",
   "metadata": {},
   "outputs": [
    {
     "data": {
      "text/plain": [
       "20"
      ]
     },
     "execution_count": 33,
     "metadata": {},
     "output_type": "execute_result"
    }
   ],
   "source": [
    "nums = [1, 2, 3, 4]\n",
    "# Even numbers → [2, 4]\n",
    "# Squared → [4, 16]\n",
    "# Sum → 20\n",
    "\n",
    "\n",
    "reduce(lambda x,y:x+y, [x**2 for x in nums if x%2==0])"
   ]
  },
  {
   "cell_type": "markdown",
   "id": "cea31ec6",
   "metadata": {},
   "source": [
    "Q. Given a list of integers, return a new list of squares of only the numbers greater than 10.\n"
   ]
  },
  {
   "cell_type": "code",
   "execution_count": 36,
   "id": "1b7186f5",
   "metadata": {},
   "outputs": [
    {
     "data": {
      "text/plain": [
       "[144, 225]"
      ]
     },
     "execution_count": 36,
     "metadata": {},
     "output_type": "execute_result"
    }
   ],
   "source": [
    "nums = [4, 12, 7, 15, 3]\n",
    "# Expected: [144, 225]\n",
    "[x**2 for x in nums if x>10]"
   ]
  },
  {
   "cell_type": "markdown",
   "id": "d6b36b79",
   "metadata": {},
   "source": [
    "Q. From a list of strings, return only those strings whose length is an even number and greater than 4.\n"
   ]
  },
  {
   "cell_type": "code",
   "execution_count": 38,
   "id": "948c5e44",
   "metadata": {},
   "outputs": [
    {
     "data": {
      "text/plain": [
       "['python']"
      ]
     },
     "execution_count": 38,
     "metadata": {},
     "output_type": "execute_result"
    }
   ],
   "source": [
    "words = ['hello', 'world', 'python', 'AI', 'data']\n",
    "# Expected: ['python']\n",
    "\n",
    "def isEven(n):\n",
    "    return n%2==0\n",
    "[w for w in words if (isEven(len(w))) and (len(w)>4)]"
   ]
  },
  {
   "cell_type": "markdown",
   "id": "7054208c",
   "metadata": {},
   "source": [
    "Q. Given a nested list (2D), flatten it and remove all None or empty strings."
   ]
  },
  {
   "cell_type": "code",
   "execution_count": null,
   "id": "ebc86961",
   "metadata": {},
   "outputs": [],
   "source": [
    "data = [[1, '', 2], [None, 3, 4], [5, '', 6]]\n",
    "# Expected: [1, 2, 3, 4, 5, 6]\n",
    "\n",
    "    \n"
   ]
  },
  {
   "cell_type": "code",
   "execution_count": null,
   "id": "21d228d7",
   "metadata": {},
   "outputs": [],
   "source": []
  }
 ],
 "metadata": {
  "kernelspec": {
   "display_name": "ml_env",
   "language": "python",
   "name": "python3"
  },
  "language_info": {
   "codemirror_mode": {
    "name": "ipython",
    "version": 3
   },
   "file_extension": ".py",
   "mimetype": "text/x-python",
   "name": "python",
   "nbconvert_exporter": "python",
   "pygments_lexer": "ipython3",
   "version": "3.10.16"
  }
 },
 "nbformat": 4,
 "nbformat_minor": 5
}
