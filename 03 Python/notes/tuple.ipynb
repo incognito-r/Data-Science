{
 "cells": [
  {
   "cell_type": "markdown",
   "id": "8cfaf1ca",
   "metadata": {},
   "source": [
    "# 🧱 What is a Tuple?\n",
    "A tuple is an ordered, immutable collection of items. It’s like a list, but once created, it cannot be changed (no append, remove, etc.).\n",
    "\n",
    "| Feature                     | Description                        |\n",
    "| --------------------------- | ---------------------------------- |\n",
    "| Ordered                     | Items have a fixed order           |\n",
    "| Immutable                   | Cannot be changed after creation   |\n",
    "| Allows mixed types          | `(1, \"hello\", True)`               |\n",
    "| Supports indexing & slicing | Like lists                         |\n",
    "| Supports nesting            | Tuples inside tuples `(1, (2, 3))` |\n",
    "| Can be used as dict keys    | Because they are hashable          |\n",
    "\n",
    "🔁 Tuple Operations\n",
    "\n",
    "| Operation     | Example   | Result          |\n",
    "| ------------- | --------- | --------------- |\n",
    "| Indexing      | `t[0]`    | First item      |\n",
    "| Slicing       | `t[1:3]`  | Tuple slice     |\n",
    "| Concatenation | `t1 + t2` | Combine tuples  |\n",
    "| Repetition    | `t1 * 2`  | Duplicate       |\n",
    "| Length        | `len(t1)` | Number of items |\n",
    "| Membership    | `3 in t1` | `True/False`    |\n",
    "\n",
    "🔧 Tuple Methods (very few!)\n",
    "\n",
    "| Method     | Description                       |\n",
    "| ---------- | --------------------------------- |\n",
    "| `count(x)` | Counts how many times `x` appears |\n",
    "| `index(x)` | Returns the index of `x`          |\n"
   ]
  },
  {
   "cell_type": "code",
   "execution_count": null,
   "id": "3b5c40a4",
   "metadata": {},
   "outputs": [],
   "source": [
    "t1 = (1, 2, 3)\n",
    "t2 = ()              # empty tuple\n",
    "t3 = (5,)            # single-element tuple → must include a comma!\n",
    "t4 = tuple([1, 2])   # from list\n"
   ]
  },
  {
   "cell_type": "code",
   "execution_count": 1,
   "id": "67322b94",
   "metadata": {},
   "outputs": [
    {
     "name": "stdout",
     "output_type": "stream",
     "text": [
      "2\n",
      "3\n"
     ]
    }
   ],
   "source": [
    "t = (1, 2, 2, 3)\n",
    "print(t.count(2))   # 2\n",
    "print(t.index(3))   # 3\n"
   ]
  },
  {
   "cell_type": "code",
   "execution_count": 2,
   "id": "28207703",
   "metadata": {},
   "outputs": [
    {
     "name": "stdout",
     "output_type": "stream",
     "text": [
      "Alice\n"
     ]
    }
   ],
   "source": [
    "# unpacking\n",
    "person = (\"Alice\", 25, \"Engineer\")\n",
    "\n",
    "name, age, job = person\n",
    "print(name)  # Alice\n"
   ]
  },
  {
   "cell_type": "code",
   "execution_count": 3,
   "id": "a5218e8b",
   "metadata": {},
   "outputs": [],
   "source": [
    "# Use _ to ignore values\n",
    "_, age, _ = person\n"
   ]
  },
  {
   "cell_type": "code",
   "execution_count": null,
   "id": "a63ea458",
   "metadata": {},
   "outputs": [],
   "source": []
  }
 ],
 "metadata": {
  "kernelspec": {
   "display_name": "ml_env",
   "language": "python",
   "name": "python3"
  },
  "language_info": {
   "codemirror_mode": {
    "name": "ipython",
    "version": 3
   },
   "file_extension": ".py",
   "mimetype": "text/x-python",
   "name": "python",
   "nbconvert_exporter": "python",
   "pygments_lexer": "ipython3",
   "version": "3.10.16"
  }
 },
 "nbformat": 4,
 "nbformat_minor": 5
}
