{
 "cells": [
  {
   "cell_type": "markdown",
   "id": "adee2e77",
   "metadata": {},
   "source": [
    "# Set\n",
    "A set is an unordered, mutable collection of unique elements. Duplicates are not allowed. No indexing (unordered).  Useful for membership testing, removing duplicates, and set operations.\n",
    "\n",
    "\n"
   ]
  },
  {
   "cell_type": "code",
   "execution_count": 1,
   "id": "4a2d781b",
   "metadata": {},
   "outputs": [],
   "source": [
    "s1 = {1, 2, 3}              # Literal syntax\n",
    "s2 = set([1, 2, 2, 3])      # Removes duplicates → {1, 2, 3}\n",
    "s3 = set()                  # Empty set (not `{}` — that's a dict!)"
   ]
  },
  {
   "cell_type": "markdown",
   "id": "e4ca1625",
   "metadata": {},
   "source": [
    "| Operation            | Syntax                                  | Description                     |\n",
    "|----------------------|------------------------------------------|---------------------------------|\n",
    "| Union                | `a \\| b` or `a.union(b)`                 | Combine all unique elements     |\n",
    "| Intersection         | `a & b` or `a.intersection(b)`           | Elements common to both         |\n",
    "| Difference           | `a - b` or `a.difference(b)`             | In `a` but not in `b`           |\n",
    "| Symmetric Difference | `a ^ b` or `a.symmetric_difference(b)`   | In either `a` or `b`, not both  |\n",
    "| Subset Check         | `a <= b` or `a.issubset(b)`              | All elements of `a` in `b`      |\n",
    "| Superset Check       | `a >= b` or `a.issuperset(b)`            | All elements of `b` in `a`      |\n"
   ]
  },
  {
   "cell_type": "code",
   "execution_count": null,
   "id": "c60332f2",
   "metadata": {},
   "outputs": [
    {
     "name": "stdout",
     "output_type": "stream",
     "text": [
      "{1, 2, 3, 4, 5}\n",
      "{3}\n",
      "{1, 2}\n",
      "{1, 2, 4, 5}\n",
      "False\n"
     ]
    }
   ],
   "source": [
    "a = {1, 2, 3}\n",
    "b = {3, 4, 5}\n",
    "\n",
    "print(a | b)  # {1, 2, 3, 4, 5}\n",
    "print(a & b)  # {3}\n",
    "print(a - b)  # {1, 2}\n",
    "print(a ^ b)  # {1, 2, 4, 5}\n",
    "print(a<=b)"
   ]
  },
  {
   "cell_type": "code",
   "execution_count": 4,
   "id": "d7548bfa",
   "metadata": {},
   "outputs": [
    {
     "data": {
      "text/plain": [
       "{1, 2, 3, 4, 5}"
      ]
     },
     "execution_count": 4,
     "metadata": {},
     "output_type": "execute_result"
    }
   ],
   "source": [
    "a.union(b)"
   ]
  },
  {
   "cell_type": "markdown",
   "id": "b8285052",
   "metadata": {},
   "source": [
    "| Type    | Ordered | Mutable | Duplicates | Indexed  | Use Case                        |\n",
    "| ------- | ------- | ------- | ---------- | -------- | ------------------------------- |\n",
    "| `list`  | ✅       | ✅       | ✅          | ✅        | General-purpose sequences       |\n",
    "| `tuple` | ✅       | ❌       | ✅          | ✅        | Fixed data, hashable keys       |\n",
    "| `set`   | ❌       | ✅       | ❌          | ❌        | Unique items, membership checks |\n",
    "| `dict`  | ✅\\*     | ✅       | Keys ❌     | ✅ (keys) | Key-value mapping, fast lookup  |\n"
   ]
  },
  {
   "cell_type": "code",
   "execution_count": null,
   "id": "6c81756a",
   "metadata": {},
   "outputs": [],
   "source": []
  }
 ],
 "metadata": {
  "kernelspec": {
   "display_name": "ml_env",
   "language": "python",
   "name": "python3"
  },
  "language_info": {
   "codemirror_mode": {
    "name": "ipython",
    "version": 3
   },
   "file_extension": ".py",
   "mimetype": "text/x-python",
   "name": "python",
   "nbconvert_exporter": "python",
   "pygments_lexer": "ipython3",
   "version": "3.10.16"
  }
 },
 "nbformat": 4,
 "nbformat_minor": 5
}
