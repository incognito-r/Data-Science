{
 "cells": [
  {
   "cell_type": "code",
   "execution_count": 82,
   "id": "34e8b0c4",
   "metadata": {},
   "outputs": [],
   "source": [
    "import pandas as pd     # data preprocessing\n",
    "# pd is the alias name\n",
    "import numpy as np"
   ]
  },
  {
   "cell_type": "markdown",
   "id": "76f0b8eb",
   "metadata": {},
   "source": [
    "### Pandas\n",
    "We have 2 types of data in Pandas\n",
    "\n",
    "<b> 1) Series</b><br>\n",
    "a) It is equivalent to a single column of data<br>\n",
    "b) Series will bear index. There can be multiple indexes for a series<br> \n",
    "c) By default the index generated will start from 0 towards positive.<br>\n",
    "\n",
    "<b> 2) DataFrame</b><br>\n",
    "a) Data Represented into Rows and Columns is called DataFrame.(Tabular Structure)<br>\n",
    "b) DataFrame will bear index. There can be multiple indexes for a DataFrame.<br>\n",
    "c) By default the index generated will start from 0 towards positive.<br>\n",
    "\n",
    "Note<br>\n",
    "<b>A dataframe can be made up of a single column but a series cannot bear multiple columns</b>"
   ]
  },
  {
   "cell_type": "markdown",
   "id": "3f078bd1",
   "metadata": {},
   "source": [
    "### Create a DataFrame"
   ]
  },
  {
   "cell_type": "markdown",
   "id": "2904436d",
   "metadata": {},
   "source": [
    "#### 1) Using Dictionary"
   ]
  },
  {
   "cell_type": "code",
   "execution_count": 83,
   "id": "91a77e03",
   "metadata": {},
   "outputs": [
    {
     "name": "stdout",
     "output_type": "stream",
     "text": [
      "{'Name': ['Varun', 'Kartik', 'Shweta', 'Divya', 'Aman', 'Keshav'], 'Age': [23, 24, 25, 31, 29, 33], 'Salary': [31500, 28000, 37500, 43000, 49000, 54000]}\n",
      "<class 'dict'>\n"
     ]
    }
   ],
   "source": [
    "d = {'Name':['Varun','Kartik','Shweta','Divya','Aman','Keshav'],\n",
    "     'Age':[23,24,25,31,29,33],\n",
    "     'Salary':[31500,28000,37500,43000,49000,54000]\n",
    "    }\n",
    "print(d)\n",
    "print(type(d))"
   ]
  },
  {
   "cell_type": "code",
   "execution_count": null,
   "id": "ba1e24c6",
   "metadata": {},
   "outputs": [],
   "source": []
  },
  {
   "cell_type": "markdown",
   "id": "830355ea",
   "metadata": {},
   "source": [
    "#### Basic DataFrame Arributes\n",
    "1) shape - Retruns Rows and columns in form of a tuple<br>\n",
    "2) dtypes - Returns data type of columns<br>\n",
    "3) columns - Return column names<br>\n",
    "4) index - Return index<br>\n",
    "5) values - Returns the values in form of list of list"
   ]
  },
  {
   "cell_type": "code",
   "execution_count": null,
   "id": "af043afe",
   "metadata": {},
   "outputs": [],
   "source": []
  },
  {
   "cell_type": "markdown",
   "id": "20321772",
   "metadata": {},
   "source": [
    "#### DataFrame Functions\n",
    "<b>1) head(n) - </b><br>\n",
    "Return top n rows of the dataframe. If n is not mentioned, it returns top 5 rows \n",
    "\n",
    "<b>2) tail(n) -  </b><br>\n",
    "Return bottom n rows of the dataframe. If n is not mentioned, it returns bottom 5 rows\n",
    "\n",
    "<b>3) sample(n) - </b><br>\n",
    "Return random n rows of the dataframe. If n is not mentioned it returns random 1 row"
   ]
  },
  {
   "cell_type": "code",
   "execution_count": null,
   "id": "6704399d",
   "metadata": {},
   "outputs": [],
   "source": []
  },
  {
   "cell_type": "code",
   "execution_count": null,
   "id": "e0213db9",
   "metadata": {},
   "outputs": [],
   "source": []
  },
  {
   "cell_type": "markdown",
   "id": "0cc50baf",
   "metadata": {},
   "source": [
    "#### How to Fetch column values from DataFarme"
   ]
  },
  {
   "cell_type": "code",
   "execution_count": null,
   "id": "28c5d1d7",
   "metadata": {},
   "outputs": [],
   "source": []
  },
  {
   "cell_type": "markdown",
   "id": "31193a05",
   "metadata": {},
   "source": [
    "#### Fetching single column"
   ]
  },
  {
   "cell_type": "code",
   "execution_count": null,
   "id": "81abdbcc",
   "metadata": {},
   "outputs": [],
   "source": []
  },
  {
   "cell_type": "markdown",
   "id": "50419da0",
   "metadata": {},
   "source": [
    "#### Fetching multiple columns"
   ]
  },
  {
   "cell_type": "code",
   "execution_count": null,
   "id": "2bbbec8f",
   "metadata": {},
   "outputs": [],
   "source": []
  },
  {
   "cell_type": "code",
   "execution_count": null,
   "id": "4d2fc9bb",
   "metadata": {},
   "outputs": [],
   "source": []
  },
  {
   "cell_type": "code",
   "execution_count": null,
   "id": "959eb1f0",
   "metadata": {},
   "outputs": [],
   "source": []
  },
  {
   "cell_type": "markdown",
   "id": "d8fc4527",
   "metadata": {},
   "source": [
    "#### How to add a New column to the DataFrame"
   ]
  },
  {
   "cell_type": "code",
   "execution_count": null,
   "id": "33803f0f",
   "metadata": {},
   "outputs": [],
   "source": []
  },
  {
   "cell_type": "code",
   "execution_count": null,
   "id": "84bd6dc0",
   "metadata": {},
   "outputs": [],
   "source": []
  },
  {
   "cell_type": "code",
   "execution_count": null,
   "id": "020e039e",
   "metadata": {},
   "outputs": [],
   "source": []
  },
  {
   "cell_type": "markdown",
   "id": "62aa753c",
   "metadata": {},
   "source": [
    "### Filtering Operations"
   ]
  },
  {
   "cell_type": "markdown",
   "id": "877667ed",
   "metadata": {},
   "source": [
    "#### Q) Find all the records where Salary >32000"
   ]
  },
  {
   "cell_type": "code",
   "execution_count": null,
   "id": "344bbbb0",
   "metadata": {},
   "outputs": [],
   "source": []
  },
  {
   "cell_type": "markdown",
   "id": "7dbfb18a",
   "metadata": {},
   "source": [
    "#### Q) Fetch Name, Salary and Dept where Salary <40000"
   ]
  },
  {
   "cell_type": "code",
   "execution_count": null,
   "id": "14d69272",
   "metadata": {},
   "outputs": [],
   "source": []
  },
  {
   "cell_type": "markdown",
   "id": "61dd3a6a",
   "metadata": {},
   "source": [
    "#### Aggregate Functions - sum(),min(),max(),count(),mean(),median()"
   ]
  },
  {
   "cell_type": "code",
   "execution_count": null,
   "id": "3207a5de",
   "metadata": {},
   "outputs": [],
   "source": []
  },
  {
   "cell_type": "code",
   "execution_count": null,
   "id": "b74802de",
   "metadata": {},
   "outputs": [],
   "source": []
  },
  {
   "cell_type": "markdown",
   "id": "4386a31d",
   "metadata": {},
   "source": [
    "#### Q) Find the employee details who earned max salary"
   ]
  },
  {
   "cell_type": "code",
   "execution_count": null,
   "id": "c934b6c3",
   "metadata": {},
   "outputs": [],
   "source": []
  },
  {
   "cell_type": "code",
   "execution_count": null,
   "id": "e3a39f77",
   "metadata": {},
   "outputs": [],
   "source": []
  },
  {
   "cell_type": "markdown",
   "id": "ffa311cc",
   "metadata": {},
   "source": [
    "#### Q) Find the emp details(Name,Age,Salary) whose Salary>35000 and Age<30"
   ]
  },
  {
   "cell_type": "code",
   "execution_count": null,
   "id": "68ab6c63",
   "metadata": {},
   "outputs": [],
   "source": []
  },
  {
   "cell_type": "code",
   "execution_count": null,
   "id": "5557efab",
   "metadata": {},
   "outputs": [],
   "source": []
  },
  {
   "cell_type": "markdown",
   "id": "8fb753d1",
   "metadata": {},
   "source": [
    "#### Q) Find all the emp details where Age<30 or dept is not IT"
   ]
  },
  {
   "cell_type": "code",
   "execution_count": null,
   "id": "c3e31c23",
   "metadata": {},
   "outputs": [],
   "source": []
  },
  {
   "cell_type": "code",
   "execution_count": null,
   "id": "88dd06b0",
   "metadata": {},
   "outputs": [],
   "source": []
  },
  {
   "cell_type": "markdown",
   "id": "4018a094",
   "metadata": {},
   "source": [
    "### How to read data from .csv, .xlsx files?\n",
    "\n",
    "pd.read_csv('a.csv')<br>\n",
    "pd.read_excel('b.xlsx')"
   ]
  },
  {
   "cell_type": "code",
   "execution_count": 84,
   "id": "766727bf",
   "metadata": {},
   "outputs": [],
   "source": [
    "df_Orders = pd.read_csv('orders_details1.csv')"
   ]
  },
  {
   "cell_type": "code",
   "execution_count": 85,
   "id": "4747ef30",
   "metadata": {},
   "outputs": [],
   "source": [
    "df_Sales = pd.read_csv('SalesRetails.csv')"
   ]
  },
  {
   "cell_type": "code",
   "execution_count": 86,
   "id": "6a3da778",
   "metadata": {},
   "outputs": [
    {
     "data": {
      "text/html": [
       "<div>\n",
       "<style scoped>\n",
       "    .dataframe tbody tr th:only-of-type {\n",
       "        vertical-align: middle;\n",
       "    }\n",
       "\n",
       "    .dataframe tbody tr th {\n",
       "        vertical-align: top;\n",
       "    }\n",
       "\n",
       "    .dataframe thead th {\n",
       "        text-align: right;\n",
       "    }\n",
       "</style>\n",
       "<table border=\"1\" class=\"dataframe\">\n",
       "  <thead>\n",
       "    <tr style=\"text-align: right;\">\n",
       "      <th></th>\n",
       "      <th>Region</th>\n",
       "      <th>Sales</th>\n",
       "      <th>Profit</th>\n",
       "    </tr>\n",
       "  </thead>\n",
       "  <tbody>\n",
       "    <tr>\n",
       "      <th>0</th>\n",
       "      <td>USA</td>\n",
       "      <td>13.08</td>\n",
       "      <td>4.56</td>\n",
       "    </tr>\n",
       "    <tr>\n",
       "      <th>1</th>\n",
       "      <td>UK</td>\n",
       "      <td>252.16</td>\n",
       "      <td>90.72</td>\n",
       "    </tr>\n",
       "    <tr>\n",
       "      <th>2</th>\n",
       "      <td>UK</td>\n",
       "      <td>193.28</td>\n",
       "      <td>54.08</td>\n",
       "    </tr>\n",
       "    <tr>\n",
       "      <th>3</th>\n",
       "      <td>UK</td>\n",
       "      <td>35.44</td>\n",
       "      <td>4.96</td>\n",
       "    </tr>\n",
       "    <tr>\n",
       "      <th>4</th>\n",
       "      <td>UK</td>\n",
       "      <td>71.60</td>\n",
       "      <td>11.44</td>\n",
       "    </tr>\n",
       "  </tbody>\n",
       "</table>\n",
       "</div>"
      ],
      "text/plain": [
       "  Region    Sales    Profit\n",
       "0    USA      13.08    4.56\n",
       "1     UK     252.16   90.72\n",
       "2     UK     193.28   54.08\n",
       "3     UK      35.44    4.96\n",
       "4     UK      71.60   11.44"
      ]
     },
     "execution_count": 86,
     "metadata": {},
     "output_type": "execute_result"
    }
   ],
   "source": [
    "df_Sales.head()"
   ]
  },
  {
   "cell_type": "markdown",
   "id": "26069691",
   "metadata": {},
   "source": [
    "#### Rename specific column/(s)\n",
    "inplace = True implies that changes will be reflected in the actual dataframe"
   ]
  },
  {
   "cell_type": "code",
   "execution_count": 87,
   "id": "d1a6f7a6",
   "metadata": {},
   "outputs": [],
   "source": [
    "df_Sales.rename(columns={\n",
    "    '  Sales  ': 'Sales'\n",
    "}, inplace=True)"
   ]
  },
  {
   "cell_type": "code",
   "execution_count": 88,
   "id": "ede59a7f",
   "metadata": {},
   "outputs": [
    {
     "data": {
      "text/html": [
       "<div>\n",
       "<style scoped>\n",
       "    .dataframe tbody tr th:only-of-type {\n",
       "        vertical-align: middle;\n",
       "    }\n",
       "\n",
       "    .dataframe tbody tr th {\n",
       "        vertical-align: top;\n",
       "    }\n",
       "\n",
       "    .dataframe thead th {\n",
       "        text-align: right;\n",
       "    }\n",
       "</style>\n",
       "<table border=\"1\" class=\"dataframe\">\n",
       "  <thead>\n",
       "    <tr style=\"text-align: right;\">\n",
       "      <th></th>\n",
       "      <th>Region</th>\n",
       "      <th>Sales</th>\n",
       "      <th>Profit</th>\n",
       "    </tr>\n",
       "  </thead>\n",
       "  <tbody>\n",
       "    <tr>\n",
       "      <th>0</th>\n",
       "      <td>USA</td>\n",
       "      <td>13.08</td>\n",
       "      <td>4.56</td>\n",
       "    </tr>\n",
       "    <tr>\n",
       "      <th>1</th>\n",
       "      <td>UK</td>\n",
       "      <td>252.16</td>\n",
       "      <td>90.72</td>\n",
       "    </tr>\n",
       "    <tr>\n",
       "      <th>2</th>\n",
       "      <td>UK</td>\n",
       "      <td>193.28</td>\n",
       "      <td>54.08</td>\n",
       "    </tr>\n",
       "    <tr>\n",
       "      <th>3</th>\n",
       "      <td>UK</td>\n",
       "      <td>35.44</td>\n",
       "      <td>4.96</td>\n",
       "    </tr>\n",
       "    <tr>\n",
       "      <th>4</th>\n",
       "      <td>UK</td>\n",
       "      <td>71.60</td>\n",
       "      <td>11.44</td>\n",
       "    </tr>\n",
       "  </tbody>\n",
       "</table>\n",
       "</div>"
      ],
      "text/plain": [
       "  Region   Sales  Profit\n",
       "0    USA   13.08    4.56\n",
       "1     UK  252.16   90.72\n",
       "2     UK  193.28   54.08\n",
       "3     UK   35.44    4.96\n",
       "4     UK   71.60   11.44"
      ]
     },
     "execution_count": 88,
     "metadata": {},
     "output_type": "execute_result"
    }
   ],
   "source": [
    "df_Sales.head()"
   ]
  },
  {
   "cell_type": "code",
   "execution_count": 89,
   "id": "6bdf1281",
   "metadata": {},
   "outputs": [],
   "source": [
    "# df.columns = ['Region', 'Sales', 'Gains' ] # To rename all the cols\n",
    "# df.head()"
   ]
  },
  {
   "cell_type": "code",
   "execution_count": null,
   "id": "634f3ded",
   "metadata": {},
   "outputs": [],
   "source": []
  },
  {
   "cell_type": "markdown",
   "id": "549ceba7",
   "metadata": {},
   "source": [
    "### Additional Functions\n",
    "1) value_counts() - Returns unique values from each column and their count.<br>\n",
    "2) unique() - Returns all the unique values from a column.<br>\n",
    "3) nunique() - Returns the count of all the unique values from a column"
   ]
  },
  {
   "cell_type": "code",
   "execution_count": 90,
   "id": "12505ec8",
   "metadata": {},
   "outputs": [
    {
     "data": {
      "text/plain": [
       "Region\n",
       "USA      187\n",
       "UK       103\n",
       "India     60\n",
       "Name: count, dtype: int64"
      ]
     },
     "execution_count": 90,
     "metadata": {},
     "output_type": "execute_result"
    }
   ],
   "source": [
    "df_Sales['Region'].value_counts()"
   ]
  },
  {
   "cell_type": "code",
   "execution_count": 91,
   "id": "b527da9e",
   "metadata": {},
   "outputs": [
    {
     "data": {
      "text/plain": [
       "<Axes: xlabel='Region'>"
      ]
     },
     "execution_count": 91,
     "metadata": {},
     "output_type": "execute_result"
    },
    {
     "data": {
      "image/png": "[encoded data removed]",
      "text/plain": [
       "<Figure size 640x480 with 1 Axes>"
      ]
     },
     "metadata": {},
     "output_type": "display_data"
    }
   ],
   "source": [
    "df_Sales['Region'].value_counts().plot(kind='bar')"
   ]
  },
  {
   "cell_type": "code",
   "execution_count": 92,
   "id": "a5d9a08c",
   "metadata": {},
   "outputs": [
    {
     "data": {
      "text/plain": [
       "Region\n",
       "USA      0.534286\n",
       "UK       0.294286\n",
       "India    0.171429\n",
       "Name: proportion, dtype: float64"
      ]
     },
     "execution_count": 92,
     "metadata": {},
     "output_type": "execute_result"
    }
   ],
   "source": [
    "df_Sales['Region'].value_counts(normalize=True)"
   ]
  },
  {
   "cell_type": "code",
   "execution_count": 93,
   "id": "95a1b7ee",
   "metadata": {},
   "outputs": [
    {
     "data": {
      "text/plain": [
       "array(['USA', 'UK', 'India'], dtype=object)"
      ]
     },
     "execution_count": 93,
     "metadata": {},
     "output_type": "execute_result"
    }
   ],
   "source": [
    "df_Sales['Region'].unique()"
   ]
  },
  {
   "cell_type": "code",
   "execution_count": 94,
   "id": "7835a1f4",
   "metadata": {},
   "outputs": [
    {
     "data": {
      "text/plain": [
       "3"
      ]
     },
     "execution_count": 94,
     "metadata": {},
     "output_type": "execute_result"
    }
   ],
   "source": [
    "df_Sales['Region'].nunique() # count of uniques"
   ]
  },
  {
   "cell_type": "markdown",
   "id": "fb70293e",
   "metadata": {},
   "source": [
    "### Creating DataFrame using List of List\n",
    "Each list will constitute one row of the dataframe."
   ]
  },
  {
   "cell_type": "code",
   "execution_count": 95,
   "id": "35a0b1bb",
   "metadata": {},
   "outputs": [
    {
     "name": "stdout",
     "output_type": "stream",
     "text": [
      "[['Rajeev', 33, 89], ['Sandeep', 34, 99], ['Mohit', 22, 70]]\n"
     ]
    }
   ],
   "source": [
    "temp = [['Rajeev',33,89],\n",
    "        ['Sandeep',34,99],\n",
    "        ['Mohit',22,70]]\n",
    "print(temp)"
   ]
  },
  {
   "cell_type": "code",
   "execution_count": 96,
   "id": "91549cfe",
   "metadata": {},
   "outputs": [
    {
     "data": {
      "text/html": [
       "<div>\n",
       "<style scoped>\n",
       "    .dataframe tbody tr th:only-of-type {\n",
       "        vertical-align: middle;\n",
       "    }\n",
       "\n",
       "    .dataframe tbody tr th {\n",
       "        vertical-align: top;\n",
       "    }\n",
       "\n",
       "    .dataframe thead th {\n",
       "        text-align: right;\n",
       "    }\n",
       "</style>\n",
       "<table border=\"1\" class=\"dataframe\">\n",
       "  <thead>\n",
       "    <tr style=\"text-align: right;\">\n",
       "      <th></th>\n",
       "      <th>0</th>\n",
       "      <th>1</th>\n",
       "      <th>2</th>\n",
       "    </tr>\n",
       "  </thead>\n",
       "  <tbody>\n",
       "    <tr>\n",
       "      <th>0</th>\n",
       "      <td>Rajeev</td>\n",
       "      <td>33</td>\n",
       "      <td>89</td>\n",
       "    </tr>\n",
       "    <tr>\n",
       "      <th>1</th>\n",
       "      <td>Sandeep</td>\n",
       "      <td>34</td>\n",
       "      <td>99</td>\n",
       "    </tr>\n",
       "    <tr>\n",
       "      <th>2</th>\n",
       "      <td>Mohit</td>\n",
       "      <td>22</td>\n",
       "      <td>70</td>\n",
       "    </tr>\n",
       "  </tbody>\n",
       "</table>\n",
       "</div>"
      ],
      "text/plain": [
       "         0   1   2\n",
       "0   Rajeev  33  89\n",
       "1  Sandeep  34  99\n",
       "2    Mohit  22  70"
      ]
     },
     "execution_count": 96,
     "metadata": {},
     "output_type": "execute_result"
    }
   ],
   "source": [
    "df_temp = pd.DataFrame(temp)\n",
    "df_temp"
   ]
  },
  {
   "cell_type": "code",
   "execution_count": 97,
   "id": "bd935761",
   "metadata": {},
   "outputs": [
    {
     "data": {
      "text/html": [
       "<div>\n",
       "<style scoped>\n",
       "    .dataframe tbody tr th:only-of-type {\n",
       "        vertical-align: middle;\n",
       "    }\n",
       "\n",
       "    .dataframe tbody tr th {\n",
       "        vertical-align: top;\n",
       "    }\n",
       "\n",
       "    .dataframe thead th {\n",
       "        text-align: right;\n",
       "    }\n",
       "</style>\n",
       "<table border=\"1\" class=\"dataframe\">\n",
       "  <thead>\n",
       "    <tr style=\"text-align: right;\">\n",
       "      <th></th>\n",
       "      <th>X</th>\n",
       "      <th>A</th>\n",
       "      <th>Z</th>\n",
       "    </tr>\n",
       "  </thead>\n",
       "  <tbody>\n",
       "    <tr>\n",
       "      <th>Q</th>\n",
       "      <td>Rajeev</td>\n",
       "      <td>33</td>\n",
       "      <td>89</td>\n",
       "    </tr>\n",
       "    <tr>\n",
       "      <th>A</th>\n",
       "      <td>Sandeep</td>\n",
       "      <td>34</td>\n",
       "      <td>99</td>\n",
       "    </tr>\n",
       "    <tr>\n",
       "      <th>R</th>\n",
       "      <td>Mohit</td>\n",
       "      <td>22</td>\n",
       "      <td>70</td>\n",
       "    </tr>\n",
       "  </tbody>\n",
       "</table>\n",
       "</div>"
      ],
      "text/plain": [
       "         X   A   Z\n",
       "Q   Rajeev  33  89\n",
       "A  Sandeep  34  99\n",
       "R    Mohit  22  70"
      ]
     },
     "execution_count": 97,
     "metadata": {},
     "output_type": "execute_result"
    }
   ],
   "source": [
    "df_temp.columns=['X','A','Z']\n",
    "df_temp.index=['Q','A','R']\n",
    "df_temp"
   ]
  },
  {
   "cell_type": "markdown",
   "id": "9a6eec2a",
   "metadata": {},
   "source": [
    "### Sort index and values\n",
    "1) sort_index() - Sort index(at axis=0) and sorts columns(at axis=1) based on ascending parameter<br>\n",
    "2) sort_values() - Sorts values of one or multiple columns\n",
    "\n",
    "loc and iloc are not functions they are successors"
   ]
  },
  {
   "cell_type": "code",
   "execution_count": 98,
   "id": "928200bf",
   "metadata": {},
   "outputs": [
    {
     "data": {
      "text/html": [
       "<div>\n",
       "<style scoped>\n",
       "    .dataframe tbody tr th:only-of-type {\n",
       "        vertical-align: middle;\n",
       "    }\n",
       "\n",
       "    .dataframe tbody tr th {\n",
       "        vertical-align: top;\n",
       "    }\n",
       "\n",
       "    .dataframe thead th {\n",
       "        text-align: right;\n",
       "    }\n",
       "</style>\n",
       "<table border=\"1\" class=\"dataframe\">\n",
       "  <thead>\n",
       "    <tr style=\"text-align: right;\">\n",
       "      <th></th>\n",
       "      <th>X</th>\n",
       "      <th>A</th>\n",
       "      <th>Z</th>\n",
       "    </tr>\n",
       "  </thead>\n",
       "  <tbody>\n",
       "    <tr>\n",
       "      <th>A</th>\n",
       "      <td>Sandeep</td>\n",
       "      <td>34</td>\n",
       "      <td>99</td>\n",
       "    </tr>\n",
       "    <tr>\n",
       "      <th>Q</th>\n",
       "      <td>Rajeev</td>\n",
       "      <td>33</td>\n",
       "      <td>89</td>\n",
       "    </tr>\n",
       "    <tr>\n",
       "      <th>R</th>\n",
       "      <td>Mohit</td>\n",
       "      <td>22</td>\n",
       "      <td>70</td>\n",
       "    </tr>\n",
       "  </tbody>\n",
       "</table>\n",
       "</div>"
      ],
      "text/plain": [
       "         X   A   Z\n",
       "A  Sandeep  34  99\n",
       "Q   Rajeev  33  89\n",
       "R    Mohit  22  70"
      ]
     },
     "execution_count": 98,
     "metadata": {},
     "output_type": "execute_result"
    }
   ],
   "source": [
    "df_temp.sort_index(axis=0) # not sorting ?"
   ]
  },
  {
   "cell_type": "code",
   "execution_count": 99,
   "id": "329bf49e",
   "metadata": {},
   "outputs": [
    {
     "data": {
      "text/html": [
       "<div>\n",
       "<style scoped>\n",
       "    .dataframe tbody tr th:only-of-type {\n",
       "        vertical-align: middle;\n",
       "    }\n",
       "\n",
       "    .dataframe tbody tr th {\n",
       "        vertical-align: top;\n",
       "    }\n",
       "\n",
       "    .dataframe thead th {\n",
       "        text-align: right;\n",
       "    }\n",
       "</style>\n",
       "<table border=\"1\" class=\"dataframe\">\n",
       "  <thead>\n",
       "    <tr style=\"text-align: right;\">\n",
       "      <th></th>\n",
       "      <th>X</th>\n",
       "      <th>A</th>\n",
       "      <th>Z</th>\n",
       "    </tr>\n",
       "  </thead>\n",
       "  <tbody>\n",
       "    <tr>\n",
       "      <th>R</th>\n",
       "      <td>Mohit</td>\n",
       "      <td>22</td>\n",
       "      <td>70</td>\n",
       "    </tr>\n",
       "    <tr>\n",
       "      <th>Q</th>\n",
       "      <td>Rajeev</td>\n",
       "      <td>33</td>\n",
       "      <td>89</td>\n",
       "    </tr>\n",
       "    <tr>\n",
       "      <th>A</th>\n",
       "      <td>Sandeep</td>\n",
       "      <td>34</td>\n",
       "      <td>99</td>\n",
       "    </tr>\n",
       "  </tbody>\n",
       "</table>\n",
       "</div>"
      ],
      "text/plain": [
       "         X   A   Z\n",
       "R    Mohit  22  70\n",
       "Q   Rajeev  33  89\n",
       "A  Sandeep  34  99"
      ]
     },
     "execution_count": 99,
     "metadata": {},
     "output_type": "execute_result"
    }
   ],
   "source": [
    "df_temp.sort_values(by=['A'])"
   ]
  },
  {
   "cell_type": "code",
   "execution_count": 100,
   "id": "4fea9476",
   "metadata": {},
   "outputs": [
    {
     "data": {
      "text/html": [
       "<div>\n",
       "<style scoped>\n",
       "    .dataframe tbody tr th:only-of-type {\n",
       "        vertical-align: middle;\n",
       "    }\n",
       "\n",
       "    .dataframe tbody tr th {\n",
       "        vertical-align: top;\n",
       "    }\n",
       "\n",
       "    .dataframe thead th {\n",
       "        text-align: right;\n",
       "    }\n",
       "</style>\n",
       "<table border=\"1\" class=\"dataframe\">\n",
       "  <thead>\n",
       "    <tr style=\"text-align: right;\">\n",
       "      <th></th>\n",
       "      <th>Region</th>\n",
       "      <th>Sales</th>\n",
       "      <th>Profit</th>\n",
       "    </tr>\n",
       "  </thead>\n",
       "  <tbody>\n",
       "    <tr>\n",
       "      <th>133</th>\n",
       "      <td>India</td>\n",
       "      <td>5.55</td>\n",
       "      <td>-0.77</td>\n",
       "    </tr>\n",
       "    <tr>\n",
       "      <th>200</th>\n",
       "      <td>India</td>\n",
       "      <td>9.38</td>\n",
       "      <td>2.78</td>\n",
       "    </tr>\n",
       "    <tr>\n",
       "      <th>132</th>\n",
       "      <td>India</td>\n",
       "      <td>14.14</td>\n",
       "      <td>-1.26</td>\n",
       "    </tr>\n",
       "    <tr>\n",
       "      <th>182</th>\n",
       "      <td>India</td>\n",
       "      <td>14.40</td>\n",
       "      <td>3.28</td>\n",
       "    </tr>\n",
       "    <tr>\n",
       "      <th>198</th>\n",
       "      <td>India</td>\n",
       "      <td>16.42</td>\n",
       "      <td>-1.28</td>\n",
       "    </tr>\n",
       "    <tr>\n",
       "      <th>...</th>\n",
       "      <td>...</td>\n",
       "      <td>...</td>\n",
       "      <td>...</td>\n",
       "    </tr>\n",
       "    <tr>\n",
       "      <th>238</th>\n",
       "      <td>USA</td>\n",
       "      <td>1098.96</td>\n",
       "      <td>233.46</td>\n",
       "    </tr>\n",
       "    <tr>\n",
       "      <th>231</th>\n",
       "      <td>USA</td>\n",
       "      <td>1219.04</td>\n",
       "      <td>198.04</td>\n",
       "    </tr>\n",
       "    <tr>\n",
       "      <th>316</th>\n",
       "      <td>USA</td>\n",
       "      <td>1600.96</td>\n",
       "      <td>368.16</td>\n",
       "    </tr>\n",
       "    <tr>\n",
       "      <th>57</th>\n",
       "      <td>USA</td>\n",
       "      <td>2124.50</td>\n",
       "      <td>488.60</td>\n",
       "    </tr>\n",
       "    <tr>\n",
       "      <th>237</th>\n",
       "      <td>USA</td>\n",
       "      <td>2278.32</td>\n",
       "      <td>751.80</td>\n",
       "    </tr>\n",
       "  </tbody>\n",
       "</table>\n",
       "<p>350 rows × 3 columns</p>\n",
       "</div>"
      ],
      "text/plain": [
       "    Region    Sales  Profit\n",
       "133  India     5.55   -0.77\n",
       "200  India     9.38    2.78\n",
       "132  India    14.14   -1.26\n",
       "182  India    14.40    3.28\n",
       "198  India    16.42   -1.28\n",
       "..     ...      ...     ...\n",
       "238    USA  1098.96  233.46\n",
       "231    USA  1219.04  198.04\n",
       "316    USA  1600.96  368.16\n",
       "57     USA  2124.50  488.60\n",
       "237    USA  2278.32  751.80\n",
       "\n",
       "[350 rows x 3 columns]"
      ]
     },
     "execution_count": 100,
     "metadata": {},
     "output_type": "execute_result"
    }
   ],
   "source": [
    "df_Sales.sort_values(by=['Region', 'Sales'])"
   ]
  },
  {
   "cell_type": "code",
   "execution_count": 101,
   "id": "e8b6ac6d",
   "metadata": {},
   "outputs": [
    {
     "data": {
      "text/html": [
       "<div>\n",
       "<style scoped>\n",
       "    .dataframe tbody tr th:only-of-type {\n",
       "        vertical-align: middle;\n",
       "    }\n",
       "\n",
       "    .dataframe tbody tr th {\n",
       "        vertical-align: top;\n",
       "    }\n",
       "\n",
       "    .dataframe thead th {\n",
       "        text-align: right;\n",
       "    }\n",
       "</style>\n",
       "<table border=\"1\" class=\"dataframe\">\n",
       "  <thead>\n",
       "    <tr style=\"text-align: right;\">\n",
       "      <th></th>\n",
       "      <th>Region</th>\n",
       "      <th>Sales</th>\n",
       "      <th>Profit</th>\n",
       "    </tr>\n",
       "  </thead>\n",
       "  <tbody>\n",
       "    <tr>\n",
       "      <th>219</th>\n",
       "      <td>India</td>\n",
       "      <td>1696.64</td>\n",
       "      <td>-148.46</td>\n",
       "    </tr>\n",
       "    <tr>\n",
       "      <th>179</th>\n",
       "      <td>India</td>\n",
       "      <td>1111.56</td>\n",
       "      <td>200.04</td>\n",
       "    </tr>\n",
       "    <tr>\n",
       "      <th>213</th>\n",
       "      <td>India</td>\n",
       "      <td>738.29</td>\n",
       "      <td>-166.15</td>\n",
       "    </tr>\n",
       "    <tr>\n",
       "      <th>67</th>\n",
       "      <td>India</td>\n",
       "      <td>635.63</td>\n",
       "      <td>266.13</td>\n",
       "    </tr>\n",
       "    <tr>\n",
       "      <th>275</th>\n",
       "      <td>India</td>\n",
       "      <td>551.56</td>\n",
       "      <td>-101.12</td>\n",
       "    </tr>\n",
       "    <tr>\n",
       "      <th>...</th>\n",
       "      <td>...</td>\n",
       "      <td>...</td>\n",
       "      <td>...</td>\n",
       "    </tr>\n",
       "    <tr>\n",
       "      <th>147</th>\n",
       "      <td>USA</td>\n",
       "      <td>6.77</td>\n",
       "      <td>-2.03</td>\n",
       "    </tr>\n",
       "    <tr>\n",
       "      <th>196</th>\n",
       "      <td>USA</td>\n",
       "      <td>6.60</td>\n",
       "      <td>-0.68</td>\n",
       "    </tr>\n",
       "    <tr>\n",
       "      <th>104</th>\n",
       "      <td>USA</td>\n",
       "      <td>5.68</td>\n",
       "      <td>2.26</td>\n",
       "    </tr>\n",
       "    <tr>\n",
       "      <th>324</th>\n",
       "      <td>USA</td>\n",
       "      <td>5.32</td>\n",
       "      <td>1.80</td>\n",
       "    </tr>\n",
       "    <tr>\n",
       "      <th>194</th>\n",
       "      <td>USA</td>\n",
       "      <td>5.24</td>\n",
       "      <td>-2.46</td>\n",
       "    </tr>\n",
       "  </tbody>\n",
       "</table>\n",
       "<p>350 rows × 3 columns</p>\n",
       "</div>"
      ],
      "text/plain": [
       "    Region    Sales  Profit\n",
       "219  India  1696.64 -148.46\n",
       "179  India  1111.56  200.04\n",
       "213  India   738.29 -166.15\n",
       "67   India   635.63  266.13\n",
       "275  India   551.56 -101.12\n",
       "..     ...      ...     ...\n",
       "147    USA     6.77   -2.03\n",
       "196    USA     6.60   -0.68\n",
       "104    USA     5.68    2.26\n",
       "324    USA     5.32    1.80\n",
       "194    USA     5.24   -2.46\n",
       "\n",
       "[350 rows x 3 columns]"
      ]
     },
     "execution_count": 101,
     "metadata": {},
     "output_type": "execute_result"
    }
   ],
   "source": [
    "df_Sales.sort_values(by=['Region', 'Sales'], ascending=[True, False])"
   ]
  },
  {
   "cell_type": "code",
   "execution_count": 102,
   "id": "48fb0433",
   "metadata": {},
   "outputs": [
    {
     "data": {
      "text/html": [
       "<div>\n",
       "<style scoped>\n",
       "    .dataframe tbody tr th:only-of-type {\n",
       "        vertical-align: middle;\n",
       "    }\n",
       "\n",
       "    .dataframe tbody tr th {\n",
       "        vertical-align: top;\n",
       "    }\n",
       "\n",
       "    .dataframe thead th {\n",
       "        text-align: right;\n",
       "    }\n",
       "</style>\n",
       "<table border=\"1\" class=\"dataframe\">\n",
       "  <thead>\n",
       "    <tr style=\"text-align: right;\">\n",
       "      <th></th>\n",
       "      <th>Name</th>\n",
       "      <th>Exam</th>\n",
       "      <th>Subject</th>\n",
       "      <th>Score</th>\n",
       "    </tr>\n",
       "  </thead>\n",
       "  <tbody>\n",
       "    <tr>\n",
       "      <th>0</th>\n",
       "      <td>Alisa</td>\n",
       "      <td>Semester 1</td>\n",
       "      <td>Mathematics</td>\n",
       "      <td>62</td>\n",
       "    </tr>\n",
       "    <tr>\n",
       "      <th>1</th>\n",
       "      <td>John</td>\n",
       "      <td>Semester 1</td>\n",
       "      <td>Mathematics</td>\n",
       "      <td>47</td>\n",
       "    </tr>\n",
       "    <tr>\n",
       "      <th>2</th>\n",
       "      <td>Cathrine</td>\n",
       "      <td>Semester 1</td>\n",
       "      <td>Mathematics</td>\n",
       "      <td>55</td>\n",
       "    </tr>\n",
       "    <tr>\n",
       "      <th>3</th>\n",
       "      <td>Alisa</td>\n",
       "      <td>Semester 1</td>\n",
       "      <td>Science</td>\n",
       "      <td>74</td>\n",
       "    </tr>\n",
       "    <tr>\n",
       "      <th>4</th>\n",
       "      <td>John</td>\n",
       "      <td>Semester 1</td>\n",
       "      <td>Science</td>\n",
       "      <td>31</td>\n",
       "    </tr>\n",
       "    <tr>\n",
       "      <th>5</th>\n",
       "      <td>Cathrine</td>\n",
       "      <td>Semester 1</td>\n",
       "      <td>Science</td>\n",
       "      <td>77</td>\n",
       "    </tr>\n",
       "    <tr>\n",
       "      <th>6</th>\n",
       "      <td>Alisa</td>\n",
       "      <td>Semester 2</td>\n",
       "      <td>Mathematics</td>\n",
       "      <td>85</td>\n",
       "    </tr>\n",
       "    <tr>\n",
       "      <th>7</th>\n",
       "      <td>John</td>\n",
       "      <td>Semester 2</td>\n",
       "      <td>Mathematics</td>\n",
       "      <td>63</td>\n",
       "    </tr>\n",
       "    <tr>\n",
       "      <th>8</th>\n",
       "      <td>Cathrine</td>\n",
       "      <td>Semester 2</td>\n",
       "      <td>Mathematics</td>\n",
       "      <td>42</td>\n",
       "    </tr>\n",
       "    <tr>\n",
       "      <th>9</th>\n",
       "      <td>Alisa</td>\n",
       "      <td>Semester 2</td>\n",
       "      <td>Science</td>\n",
       "      <td>67</td>\n",
       "    </tr>\n",
       "    <tr>\n",
       "      <th>10</th>\n",
       "      <td>John</td>\n",
       "      <td>Semester 2</td>\n",
       "      <td>Science</td>\n",
       "      <td>89</td>\n",
       "    </tr>\n",
       "    <tr>\n",
       "      <th>11</th>\n",
       "      <td>Cathrine</td>\n",
       "      <td>Semester 2</td>\n",
       "      <td>Science</td>\n",
       "      <td>81</td>\n",
       "    </tr>\n",
       "  </tbody>\n",
       "</table>\n",
       "</div>"
      ],
      "text/plain": [
       "        Name        Exam      Subject  Score\n",
       "0      Alisa  Semester 1  Mathematics     62\n",
       "1       John  Semester 1  Mathematics     47\n",
       "2   Cathrine  Semester 1  Mathematics     55\n",
       "3      Alisa  Semester 1      Science     74\n",
       "4       John  Semester 1      Science     31\n",
       "5   Cathrine  Semester 1      Science     77\n",
       "6      Alisa  Semester 2  Mathematics     85\n",
       "7       John  Semester 2  Mathematics     63\n",
       "8   Cathrine  Semester 2  Mathematics     42\n",
       "9      Alisa  Semester 2      Science     67\n",
       "10      John  Semester 2      Science     89\n",
       "11  Cathrine  Semester 2      Science     81"
      ]
     },
     "execution_count": 102,
     "metadata": {},
     "output_type": "execute_result"
    }
   ],
   "source": [
    "d = {\n",
    "    'Name':['Alisa','John','Cathrine','Alisa','John','Cathrine',\n",
    "            'Alisa','John','Cathrine','Alisa','John','Cathrine'],\n",
    "    'Exam':['Semester 1','Semester 1','Semester 1','Semester 1','Semester 1','Semester 1',\n",
    "            'Semester 2','Semester 2','Semester 2','Semester 2','Semester 2','Semester 2'],\n",
    "     \n",
    "    'Subject':['Mathematics','Mathematics','Mathematics','Science','Science','Science',\n",
    "               'Mathematics','Mathematics','Mathematics','Science','Science','Science'],\n",
    "   'Score':[62,47,55,74,31,77,85,63,42,67,89,81]}\n",
    " \n",
    "df_temp = pd.DataFrame(d)\n",
    "df_temp"
   ]
  },
  {
   "cell_type": "markdown",
   "id": "efe05298",
   "metadata": {},
   "source": [
    "### df.iloc and df.loc\n",
    "They are used for indexing, slicing and filtering\n",
    "\n",
    "#### df.iloc\n",
    "1) iloc is used for indexing or selecting based on position .i.e. by row number and column number. It accpets only integer. it is 0 based\n",
    "\n",
    "\n",
    "#### df.loc\n",
    "1) loc is used for indexing or selecting based on name .i.e. by row name and column name (explicit index)<br>\n",
    "2) It can be used for `filtering` as well."
   ]
  },
  {
   "cell_type": "code",
   "execution_count": 103,
   "id": "ea42f491",
   "metadata": {},
   "outputs": [
    {
     "data": {
      "text/html": [
       "<div>\n",
       "<style scoped>\n",
       "    .dataframe tbody tr th:only-of-type {\n",
       "        vertical-align: middle;\n",
       "    }\n",
       "\n",
       "    .dataframe tbody tr th {\n",
       "        vertical-align: top;\n",
       "    }\n",
       "\n",
       "    .dataframe thead th {\n",
       "        text-align: right;\n",
       "    }\n",
       "</style>\n",
       "<table border=\"1\" class=\"dataframe\">\n",
       "  <thead>\n",
       "    <tr style=\"text-align: right;\">\n",
       "      <th></th>\n",
       "      <th>Name</th>\n",
       "      <th>Exam</th>\n",
       "      <th>Subject</th>\n",
       "    </tr>\n",
       "  </thead>\n",
       "  <tbody>\n",
       "    <tr>\n",
       "      <th>2</th>\n",
       "      <td>Cathrine</td>\n",
       "      <td>Semester 1</td>\n",
       "      <td>Mathematics</td>\n",
       "    </tr>\n",
       "    <tr>\n",
       "      <th>5</th>\n",
       "      <td>Cathrine</td>\n",
       "      <td>Semester 1</td>\n",
       "      <td>Science</td>\n",
       "    </tr>\n",
       "    <tr>\n",
       "      <th>8</th>\n",
       "      <td>Cathrine</td>\n",
       "      <td>Semester 2</td>\n",
       "      <td>Mathematics</td>\n",
       "    </tr>\n",
       "  </tbody>\n",
       "</table>\n",
       "</div>"
      ],
      "text/plain": [
       "       Name        Exam      Subject\n",
       "2  Cathrine  Semester 1  Mathematics\n",
       "5  Cathrine  Semester 1      Science\n",
       "8  Cathrine  Semester 2  Mathematics"
      ]
     },
     "execution_count": 103,
     "metadata": {},
     "output_type": "execute_result"
    }
   ],
   "source": [
    "df_temp.iloc[2:10:3, :3]"
   ]
  },
  {
   "cell_type": "code",
   "execution_count": 104,
   "id": "3f4201be",
   "metadata": {},
   "outputs": [
    {
     "data": {
      "text/html": [
       "<div>\n",
       "<style scoped>\n",
       "    .dataframe tbody tr th:only-of-type {\n",
       "        vertical-align: middle;\n",
       "    }\n",
       "\n",
       "    .dataframe tbody tr th {\n",
       "        vertical-align: top;\n",
       "    }\n",
       "\n",
       "    .dataframe thead th {\n",
       "        text-align: right;\n",
       "    }\n",
       "</style>\n",
       "<table border=\"1\" class=\"dataframe\">\n",
       "  <thead>\n",
       "    <tr style=\"text-align: right;\">\n",
       "      <th></th>\n",
       "      <th>Exam</th>\n",
       "      <th>Score</th>\n",
       "    </tr>\n",
       "  </thead>\n",
       "  <tbody>\n",
       "    <tr>\n",
       "      <th>0</th>\n",
       "      <td>Semester 1</td>\n",
       "      <td>62</td>\n",
       "    </tr>\n",
       "    <tr>\n",
       "      <th>3</th>\n",
       "      <td>Semester 1</td>\n",
       "      <td>74</td>\n",
       "    </tr>\n",
       "    <tr>\n",
       "      <th>6</th>\n",
       "      <td>Semester 2</td>\n",
       "      <td>85</td>\n",
       "    </tr>\n",
       "  </tbody>\n",
       "</table>\n",
       "</div>"
      ],
      "text/plain": [
       "         Exam  Score\n",
       "0  Semester 1     62\n",
       "3  Semester 1     74\n",
       "6  Semester 2     85"
      ]
     },
     "execution_count": 104,
     "metadata": {},
     "output_type": "execute_result"
    }
   ],
   "source": [
    "df_temp.iloc[:9:3, 1::2]"
   ]
  },
  {
   "cell_type": "code",
   "execution_count": 105,
   "id": "07729ea9",
   "metadata": {},
   "outputs": [
    {
     "data": {
      "text/html": [
       "<div>\n",
       "<style scoped>\n",
       "    .dataframe tbody tr th:only-of-type {\n",
       "        vertical-align: middle;\n",
       "    }\n",
       "\n",
       "    .dataframe tbody tr th {\n",
       "        vertical-align: top;\n",
       "    }\n",
       "\n",
       "    .dataframe thead th {\n",
       "        text-align: right;\n",
       "    }\n",
       "</style>\n",
       "<table border=\"1\" class=\"dataframe\">\n",
       "  <thead>\n",
       "    <tr style=\"text-align: right;\">\n",
       "      <th></th>\n",
       "      <th>Subject</th>\n",
       "      <th>Score</th>\n",
       "    </tr>\n",
       "  </thead>\n",
       "  <tbody>\n",
       "    <tr>\n",
       "      <th>5</th>\n",
       "      <td>Science</td>\n",
       "      <td>77</td>\n",
       "    </tr>\n",
       "    <tr>\n",
       "      <th>6</th>\n",
       "      <td>Mathematics</td>\n",
       "      <td>85</td>\n",
       "    </tr>\n",
       "    <tr>\n",
       "      <th>7</th>\n",
       "      <td>Mathematics</td>\n",
       "      <td>63</td>\n",
       "    </tr>\n",
       "    <tr>\n",
       "      <th>8</th>\n",
       "      <td>Mathematics</td>\n",
       "      <td>42</td>\n",
       "    </tr>\n",
       "    <tr>\n",
       "      <th>9</th>\n",
       "      <td>Science</td>\n",
       "      <td>67</td>\n",
       "    </tr>\n",
       "    <tr>\n",
       "      <th>10</th>\n",
       "      <td>Science</td>\n",
       "      <td>89</td>\n",
       "    </tr>\n",
       "    <tr>\n",
       "      <th>11</th>\n",
       "      <td>Science</td>\n",
       "      <td>81</td>\n",
       "    </tr>\n",
       "  </tbody>\n",
       "</table>\n",
       "</div>"
      ],
      "text/plain": [
       "        Subject  Score\n",
       "5       Science     77\n",
       "6   Mathematics     85\n",
       "7   Mathematics     63\n",
       "8   Mathematics     42\n",
       "9       Science     67\n",
       "10      Science     89\n",
       "11      Science     81"
      ]
     },
     "execution_count": 105,
     "metadata": {},
     "output_type": "execute_result"
    }
   ],
   "source": [
    "df_temp.iloc[5::, 2:]"
   ]
  },
  {
   "cell_type": "code",
   "execution_count": 109,
   "id": "bcc4c88a",
   "metadata": {},
   "outputs": [
    {
     "data": {
      "text/html": [
       "<div>\n",
       "<style scoped>\n",
       "    .dataframe tbody tr th:only-of-type {\n",
       "        vertical-align: middle;\n",
       "    }\n",
       "\n",
       "    .dataframe tbody tr th {\n",
       "        vertical-align: top;\n",
       "    }\n",
       "\n",
       "    .dataframe thead th {\n",
       "        text-align: right;\n",
       "    }\n",
       "</style>\n",
       "<table border=\"1\" class=\"dataframe\">\n",
       "  <thead>\n",
       "    <tr style=\"text-align: right;\">\n",
       "      <th></th>\n",
       "      <th>Name</th>\n",
       "      <th>Score</th>\n",
       "      <th>Exam</th>\n",
       "    </tr>\n",
       "  </thead>\n",
       "  <tbody>\n",
       "    <tr>\n",
       "      <th>7</th>\n",
       "      <td>John</td>\n",
       "      <td>63</td>\n",
       "      <td>Semester 2</td>\n",
       "    </tr>\n",
       "    <tr>\n",
       "      <th>4</th>\n",
       "      <td>John</td>\n",
       "      <td>31</td>\n",
       "      <td>Semester 1</td>\n",
       "    </tr>\n",
       "    <tr>\n",
       "      <th>5</th>\n",
       "      <td>Cathrine</td>\n",
       "      <td>77</td>\n",
       "      <td>Semester 1</td>\n",
       "    </tr>\n",
       "    <tr>\n",
       "      <th>6</th>\n",
       "      <td>Alisa</td>\n",
       "      <td>85</td>\n",
       "      <td>Semester 2</td>\n",
       "    </tr>\n",
       "  </tbody>\n",
       "</table>\n",
       "</div>"
      ],
      "text/plain": [
       "       Name  Score        Exam\n",
       "7      John     63  Semester 2\n",
       "4      John     31  Semester 1\n",
       "5  Cathrine     77  Semester 1\n",
       "6     Alisa     85  Semester 2"
      ]
     },
     "execution_count": 109,
     "metadata": {},
     "output_type": "execute_result"
    }
   ],
   "source": [
    "df_temp.iloc[[7,4,5,6], [0,3,1]]"
   ]
  },
  {
   "cell_type": "code",
   "execution_count": 120,
   "id": "e2d96bd9",
   "metadata": {},
   "outputs": [
    {
     "data": {
      "text/plain": [
       "31"
      ]
     },
     "execution_count": 120,
     "metadata": {},
     "output_type": "execute_result"
    }
   ],
   "source": [
    "df_temp.iloc[4, 3]"
   ]
  },
  {
   "cell_type": "code",
   "execution_count": 121,
   "id": "1726c484",
   "metadata": {},
   "outputs": [
    {
     "data": {
      "text/plain": [
       "31"
      ]
     },
     "execution_count": 121,
     "metadata": {},
     "output_type": "execute_result"
    }
   ],
   "source": [
    "df_temp.loc[4, 'Score']"
   ]
  },
  {
   "cell_type": "code",
   "execution_count": 122,
   "id": "111ab5c5",
   "metadata": {},
   "outputs": [],
   "source": [
    "df_temp.loc[4, 'Score'] = 99"
   ]
  },
  {
   "cell_type": "code",
   "execution_count": 123,
   "id": "82d9e77c",
   "metadata": {},
   "outputs": [
    {
     "data": {
      "text/html": [
       "<div>\n",
       "<style scoped>\n",
       "    .dataframe tbody tr th:only-of-type {\n",
       "        vertical-align: middle;\n",
       "    }\n",
       "\n",
       "    .dataframe tbody tr th {\n",
       "        vertical-align: top;\n",
       "    }\n",
       "\n",
       "    .dataframe thead th {\n",
       "        text-align: right;\n",
       "    }\n",
       "</style>\n",
       "<table border=\"1\" class=\"dataframe\">\n",
       "  <thead>\n",
       "    <tr style=\"text-align: right;\">\n",
       "      <th></th>\n",
       "      <th>Name</th>\n",
       "      <th>Exam</th>\n",
       "      <th>Subject</th>\n",
       "      <th>Score</th>\n",
       "    </tr>\n",
       "  </thead>\n",
       "  <tbody>\n",
       "    <tr>\n",
       "      <th>0</th>\n",
       "      <td>Alisa</td>\n",
       "      <td>Semester 1</td>\n",
       "      <td>Mathematics</td>\n",
       "      <td>62</td>\n",
       "    </tr>\n",
       "    <tr>\n",
       "      <th>1</th>\n",
       "      <td>John</td>\n",
       "      <td>Semester 1</td>\n",
       "      <td>Mathematics</td>\n",
       "      <td>47</td>\n",
       "    </tr>\n",
       "    <tr>\n",
       "      <th>2</th>\n",
       "      <td>Cathrine</td>\n",
       "      <td>Semester 1</td>\n",
       "      <td>Mathematics</td>\n",
       "      <td>55</td>\n",
       "    </tr>\n",
       "    <tr>\n",
       "      <th>3</th>\n",
       "      <td>Alisa</td>\n",
       "      <td>Semester 1</td>\n",
       "      <td>Science</td>\n",
       "      <td>74</td>\n",
       "    </tr>\n",
       "    <tr>\n",
       "      <th>4</th>\n",
       "      <td>John</td>\n",
       "      <td>Semester 1</td>\n",
       "      <td>Science</td>\n",
       "      <td>99</td>\n",
       "    </tr>\n",
       "  </tbody>\n",
       "</table>\n",
       "</div>"
      ],
      "text/plain": [
       "       Name        Exam      Subject  Score\n",
       "0     Alisa  Semester 1  Mathematics     62\n",
       "1      John  Semester 1  Mathematics     47\n",
       "2  Cathrine  Semester 1  Mathematics     55\n",
       "3     Alisa  Semester 1      Science     74\n",
       "4      John  Semester 1      Science     99"
      ]
     },
     "execution_count": 123,
     "metadata": {},
     "output_type": "execute_result"
    }
   ],
   "source": [
    "df_temp.head()"
   ]
  },
  {
   "cell_type": "code",
   "execution_count": 111,
   "id": "738c342b",
   "metadata": {},
   "outputs": [
    {
     "data": {
      "text/html": [
       "<div>\n",
       "<style scoped>\n",
       "    .dataframe tbody tr th:only-of-type {\n",
       "        vertical-align: middle;\n",
       "    }\n",
       "\n",
       "    .dataframe tbody tr th {\n",
       "        vertical-align: top;\n",
       "    }\n",
       "\n",
       "    .dataframe thead th {\n",
       "        text-align: right;\n",
       "    }\n",
       "</style>\n",
       "<table border=\"1\" class=\"dataframe\">\n",
       "  <thead>\n",
       "    <tr style=\"text-align: right;\">\n",
       "      <th></th>\n",
       "      <th>Name</th>\n",
       "      <th>Exam</th>\n",
       "      <th>Score</th>\n",
       "    </tr>\n",
       "  </thead>\n",
       "  <tbody>\n",
       "    <tr>\n",
       "      <th>7</th>\n",
       "      <td>John</td>\n",
       "      <td>Semester 2</td>\n",
       "      <td>63</td>\n",
       "    </tr>\n",
       "    <tr>\n",
       "      <th>4</th>\n",
       "      <td>John</td>\n",
       "      <td>Semester 1</td>\n",
       "      <td>31</td>\n",
       "    </tr>\n",
       "    <tr>\n",
       "      <th>5</th>\n",
       "      <td>Cathrine</td>\n",
       "      <td>Semester 1</td>\n",
       "      <td>77</td>\n",
       "    </tr>\n",
       "    <tr>\n",
       "      <th>6</th>\n",
       "      <td>Alisa</td>\n",
       "      <td>Semester 2</td>\n",
       "      <td>85</td>\n",
       "    </tr>\n",
       "  </tbody>\n",
       "</table>\n",
       "</div>"
      ],
      "text/plain": [
       "       Name        Exam  Score\n",
       "7      John  Semester 2     63\n",
       "4      John  Semester 1     31\n",
       "5  Cathrine  Semester 1     77\n",
       "6     Alisa  Semester 2     85"
      ]
     },
     "execution_count": 111,
     "metadata": {},
     "output_type": "execute_result"
    }
   ],
   "source": [
    "df_temp.loc[[7,4,5,6], ['Name','Exam','Score']]\n"
   ]
  },
  {
   "cell_type": "code",
   "execution_count": 114,
   "id": "62732c45",
   "metadata": {},
   "outputs": [
    {
     "data": {
      "text/html": [
       "<div>\n",
       "<style scoped>\n",
       "    .dataframe tbody tr th:only-of-type {\n",
       "        vertical-align: middle;\n",
       "    }\n",
       "\n",
       "    .dataframe tbody tr th {\n",
       "        vertical-align: top;\n",
       "    }\n",
       "\n",
       "    .dataframe thead th {\n",
       "        text-align: right;\n",
       "    }\n",
       "</style>\n",
       "<table border=\"1\" class=\"dataframe\">\n",
       "  <thead>\n",
       "    <tr style=\"text-align: right;\">\n",
       "      <th></th>\n",
       "      <th>Name</th>\n",
       "      <th>Exam</th>\n",
       "      <th>Subject</th>\n",
       "      <th>Score</th>\n",
       "    </tr>\n",
       "  </thead>\n",
       "  <tbody>\n",
       "    <tr>\n",
       "      <th>3</th>\n",
       "      <td>Alisa</td>\n",
       "      <td>Semester 1</td>\n",
       "      <td>Science</td>\n",
       "      <td>74</td>\n",
       "    </tr>\n",
       "    <tr>\n",
       "      <th>4</th>\n",
       "      <td>John</td>\n",
       "      <td>Semester 1</td>\n",
       "      <td>Science</td>\n",
       "      <td>31</td>\n",
       "    </tr>\n",
       "    <tr>\n",
       "      <th>5</th>\n",
       "      <td>Cathrine</td>\n",
       "      <td>Semester 1</td>\n",
       "      <td>Science</td>\n",
       "      <td>77</td>\n",
       "    </tr>\n",
       "    <tr>\n",
       "      <th>9</th>\n",
       "      <td>Alisa</td>\n",
       "      <td>Semester 2</td>\n",
       "      <td>Science</td>\n",
       "      <td>67</td>\n",
       "    </tr>\n",
       "    <tr>\n",
       "      <th>10</th>\n",
       "      <td>John</td>\n",
       "      <td>Semester 2</td>\n",
       "      <td>Science</td>\n",
       "      <td>89</td>\n",
       "    </tr>\n",
       "    <tr>\n",
       "      <th>11</th>\n",
       "      <td>Cathrine</td>\n",
       "      <td>Semester 2</td>\n",
       "      <td>Science</td>\n",
       "      <td>81</td>\n",
       "    </tr>\n",
       "  </tbody>\n",
       "</table>\n",
       "</div>"
      ],
      "text/plain": [
       "        Name        Exam  Subject  Score\n",
       "3      Alisa  Semester 1  Science     74\n",
       "4       John  Semester 1  Science     31\n",
       "5   Cathrine  Semester 1  Science     77\n",
       "9      Alisa  Semester 2  Science     67\n",
       "10      John  Semester 2  Science     89\n",
       "11  Cathrine  Semester 2  Science     81"
      ]
     },
     "execution_count": 114,
     "metadata": {},
     "output_type": "execute_result"
    }
   ],
   "source": [
    "df_temp.loc[df_temp['Subject']=='Science'] #filtering"
   ]
  },
  {
   "cell_type": "markdown",
   "id": "2ca2d537",
   "metadata": {},
   "source": [
    "### Groupby"
   ]
  },
  {
   "cell_type": "code",
   "execution_count": 124,
   "id": "ae082acd",
   "metadata": {},
   "outputs": [
    {
     "data": {
      "text/html": [
       "<div>\n",
       "<style scoped>\n",
       "    .dataframe tbody tr th:only-of-type {\n",
       "        vertical-align: middle;\n",
       "    }\n",
       "\n",
       "    .dataframe tbody tr th {\n",
       "        vertical-align: top;\n",
       "    }\n",
       "\n",
       "    .dataframe thead th {\n",
       "        text-align: right;\n",
       "    }\n",
       "</style>\n",
       "<table border=\"1\" class=\"dataframe\">\n",
       "  <thead>\n",
       "    <tr style=\"text-align: right;\">\n",
       "      <th></th>\n",
       "      <th>Name</th>\n",
       "      <th>Exam</th>\n",
       "      <th>Subject</th>\n",
       "      <th>Score</th>\n",
       "    </tr>\n",
       "  </thead>\n",
       "  <tbody>\n",
       "    <tr>\n",
       "      <th>0</th>\n",
       "      <td>Alisa</td>\n",
       "      <td>Semester 1</td>\n",
       "      <td>Mathematics</td>\n",
       "      <td>62</td>\n",
       "    </tr>\n",
       "    <tr>\n",
       "      <th>1</th>\n",
       "      <td>John</td>\n",
       "      <td>Semester 1</td>\n",
       "      <td>Mathematics</td>\n",
       "      <td>47</td>\n",
       "    </tr>\n",
       "    <tr>\n",
       "      <th>2</th>\n",
       "      <td>Cathrine</td>\n",
       "      <td>Semester 1</td>\n",
       "      <td>Mathematics</td>\n",
       "      <td>55</td>\n",
       "    </tr>\n",
       "    <tr>\n",
       "      <th>3</th>\n",
       "      <td>Alisa</td>\n",
       "      <td>Semester 1</td>\n",
       "      <td>Science</td>\n",
       "      <td>74</td>\n",
       "    </tr>\n",
       "    <tr>\n",
       "      <th>4</th>\n",
       "      <td>John</td>\n",
       "      <td>Semester 1</td>\n",
       "      <td>Science</td>\n",
       "      <td>99</td>\n",
       "    </tr>\n",
       "  </tbody>\n",
       "</table>\n",
       "</div>"
      ],
      "text/plain": [
       "       Name        Exam      Subject  Score\n",
       "0     Alisa  Semester 1  Mathematics     62\n",
       "1      John  Semester 1  Mathematics     47\n",
       "2  Cathrine  Semester 1  Mathematics     55\n",
       "3     Alisa  Semester 1      Science     74\n",
       "4      John  Semester 1      Science     99"
      ]
     },
     "execution_count": 124,
     "metadata": {},
     "output_type": "execute_result"
    }
   ],
   "source": [
    "df_temp.head()"
   ]
  },
  {
   "cell_type": "code",
   "execution_count": 133,
   "id": "10755266",
   "metadata": {},
   "outputs": [
    {
     "data": {
      "text/html": [
       "<div>\n",
       "<style scoped>\n",
       "    .dataframe tbody tr th:only-of-type {\n",
       "        vertical-align: middle;\n",
       "    }\n",
       "\n",
       "    .dataframe tbody tr th {\n",
       "        vertical-align: top;\n",
       "    }\n",
       "\n",
       "    .dataframe thead th {\n",
       "        text-align: right;\n",
       "    }\n",
       "</style>\n",
       "<table border=\"1\" class=\"dataframe\">\n",
       "  <thead>\n",
       "    <tr style=\"text-align: right;\">\n",
       "      <th></th>\n",
       "      <th>Name</th>\n",
       "      <th>Exam</th>\n",
       "      <th>Subject</th>\n",
       "      <th>Score</th>\n",
       "    </tr>\n",
       "  </thead>\n",
       "  <tbody>\n",
       "    <tr>\n",
       "      <th>0</th>\n",
       "      <td>Alisa</td>\n",
       "      <td>Semester 1</td>\n",
       "      <td>Mathematics</td>\n",
       "      <td>62</td>\n",
       "    </tr>\n",
       "    <tr>\n",
       "      <th>1</th>\n",
       "      <td>John</td>\n",
       "      <td>Semester 1</td>\n",
       "      <td>Mathematics</td>\n",
       "      <td>47</td>\n",
       "    </tr>\n",
       "    <tr>\n",
       "      <th>2</th>\n",
       "      <td>Cathrine</td>\n",
       "      <td>Semester 1</td>\n",
       "      <td>Mathematics</td>\n",
       "      <td>55</td>\n",
       "    </tr>\n",
       "    <tr>\n",
       "      <th>3</th>\n",
       "      <td>Alisa</td>\n",
       "      <td>Semester 1</td>\n",
       "      <td>Science</td>\n",
       "      <td>74</td>\n",
       "    </tr>\n",
       "    <tr>\n",
       "      <th>4</th>\n",
       "      <td>John</td>\n",
       "      <td>Semester 1</td>\n",
       "      <td>Science</td>\n",
       "      <td>99</td>\n",
       "    </tr>\n",
       "    <tr>\n",
       "      <th>5</th>\n",
       "      <td>Cathrine</td>\n",
       "      <td>Semester 1</td>\n",
       "      <td>Science</td>\n",
       "      <td>77</td>\n",
       "    </tr>\n",
       "    <tr>\n",
       "      <th>6</th>\n",
       "      <td>Alisa</td>\n",
       "      <td>Semester 2</td>\n",
       "      <td>Mathematics</td>\n",
       "      <td>85</td>\n",
       "    </tr>\n",
       "    <tr>\n",
       "      <th>7</th>\n",
       "      <td>John</td>\n",
       "      <td>Semester 2</td>\n",
       "      <td>Mathematics</td>\n",
       "      <td>63</td>\n",
       "    </tr>\n",
       "    <tr>\n",
       "      <th>8</th>\n",
       "      <td>Cathrine</td>\n",
       "      <td>Semester 2</td>\n",
       "      <td>Mathematics</td>\n",
       "      <td>42</td>\n",
       "    </tr>\n",
       "    <tr>\n",
       "      <th>9</th>\n",
       "      <td>Alisa</td>\n",
       "      <td>Semester 2</td>\n",
       "      <td>Science</td>\n",
       "      <td>67</td>\n",
       "    </tr>\n",
       "    <tr>\n",
       "      <th>10</th>\n",
       "      <td>John</td>\n",
       "      <td>Semester 2</td>\n",
       "      <td>Science</td>\n",
       "      <td>89</td>\n",
       "    </tr>\n",
       "    <tr>\n",
       "      <th>11</th>\n",
       "      <td>Cathrine</td>\n",
       "      <td>Semester 2</td>\n",
       "      <td>Science</td>\n",
       "      <td>81</td>\n",
       "    </tr>\n",
       "  </tbody>\n",
       "</table>\n",
       "</div>"
      ],
      "text/plain": [
       "        Name        Exam      Subject  Score\n",
       "0      Alisa  Semester 1  Mathematics     62\n",
       "1       John  Semester 1  Mathematics     47\n",
       "2   Cathrine  Semester 1  Mathematics     55\n",
       "3      Alisa  Semester 1      Science     74\n",
       "4       John  Semester 1      Science     99\n",
       "5   Cathrine  Semester 1      Science     77\n",
       "6      Alisa  Semester 2  Mathematics     85\n",
       "7       John  Semester 2  Mathematics     63\n",
       "8   Cathrine  Semester 2  Mathematics     42\n",
       "9      Alisa  Semester 2      Science     67\n",
       "10      John  Semester 2      Science     89\n",
       "11  Cathrine  Semester 2      Science     81"
      ]
     },
     "execution_count": 133,
     "metadata": {},
     "output_type": "execute_result"
    }
   ],
   "source": [
    "df_temp.groupby(['Subject', 'Exam']).head()"
   ]
  },
  {
   "cell_type": "markdown",
   "id": "7b997fc3",
   "metadata": {},
   "source": [
    "#### Q) Find sum of score based on Subject"
   ]
  },
  {
   "cell_type": "code",
   "execution_count": 136,
   "id": "861c7f18",
   "metadata": {},
   "outputs": [
    {
     "data": {
      "text/plain": [
       "Subject\n",
       "Mathematics    354\n",
       "Science        487\n",
       "Name: Score, dtype: int64"
      ]
     },
     "execution_count": 136,
     "metadata": {},
     "output_type": "execute_result"
    }
   ],
   "source": [
    "df_temp.groupby(['Subject'])['Score'].sum()"
   ]
  },
  {
   "cell_type": "markdown",
   "id": "5e01ad5d",
   "metadata": {},
   "source": [
    "#### Q) Find mean of Score based on Subject and Exam"
   ]
  },
  {
   "cell_type": "code",
   "execution_count": 130,
   "id": "fba75d5f",
   "metadata": {},
   "outputs": [
    {
     "data": {
      "text/plain": [
       "Subject      Exam      \n",
       "Mathematics  Semester 1    54.666667\n",
       "             Semester 2    63.333333\n",
       "Science      Semester 1    83.333333\n",
       "             Semester 2    79.000000\n",
       "Name: Score, dtype: float64"
      ]
     },
     "execution_count": 130,
     "metadata": {},
     "output_type": "execute_result"
    }
   ],
   "source": [
    "df_temp.groupby(['Subject', 'Exam'])['Score'].mean()"
   ]
  },
  {
   "cell_type": "markdown",
   "id": "75bff8d9",
   "metadata": {},
   "source": [
    "#### Find Region wise average sales and sum of profit"
   ]
  },
  {
   "cell_type": "code",
   "execution_count": 137,
   "id": "4dc01b5f",
   "metadata": {},
   "outputs": [
    {
     "data": {
      "text/html": [
       "<div>\n",
       "<style scoped>\n",
       "    .dataframe tbody tr th:only-of-type {\n",
       "        vertical-align: middle;\n",
       "    }\n",
       "\n",
       "    .dataframe tbody tr th {\n",
       "        vertical-align: top;\n",
       "    }\n",
       "\n",
       "    .dataframe thead th {\n",
       "        text-align: right;\n",
       "    }\n",
       "</style>\n",
       "<table border=\"1\" class=\"dataframe\">\n",
       "  <thead>\n",
       "    <tr style=\"text-align: right;\">\n",
       "      <th></th>\n",
       "      <th>Region</th>\n",
       "      <th>Sales</th>\n",
       "      <th>Profit</th>\n",
       "    </tr>\n",
       "  </thead>\n",
       "  <tbody>\n",
       "    <tr>\n",
       "      <th>0</th>\n",
       "      <td>USA</td>\n",
       "      <td>13.08</td>\n",
       "      <td>4.56</td>\n",
       "    </tr>\n",
       "    <tr>\n",
       "      <th>1</th>\n",
       "      <td>UK</td>\n",
       "      <td>252.16</td>\n",
       "      <td>90.72</td>\n",
       "    </tr>\n",
       "    <tr>\n",
       "      <th>2</th>\n",
       "      <td>UK</td>\n",
       "      <td>193.28</td>\n",
       "      <td>54.08</td>\n",
       "    </tr>\n",
       "    <tr>\n",
       "      <th>3</th>\n",
       "      <td>UK</td>\n",
       "      <td>35.44</td>\n",
       "      <td>4.96</td>\n",
       "    </tr>\n",
       "    <tr>\n",
       "      <th>4</th>\n",
       "      <td>UK</td>\n",
       "      <td>71.60</td>\n",
       "      <td>11.44</td>\n",
       "    </tr>\n",
       "  </tbody>\n",
       "</table>\n",
       "</div>"
      ],
      "text/plain": [
       "  Region   Sales  Profit\n",
       "0    USA   13.08    4.56\n",
       "1     UK  252.16   90.72\n",
       "2     UK  193.28   54.08\n",
       "3     UK   35.44    4.96\n",
       "4     UK   71.60   11.44"
      ]
     },
     "execution_count": 137,
     "metadata": {},
     "output_type": "execute_result"
    }
   ],
   "source": [
    "df_Sales.head()"
   ]
  },
  {
   "cell_type": "code",
   "execution_count": 142,
   "id": "7cfe4f2c",
   "metadata": {},
   "outputs": [
    {
     "data": {
      "text/html": [
       "<div>\n",
       "<style scoped>\n",
       "    .dataframe tbody tr th:only-of-type {\n",
       "        vertical-align: middle;\n",
       "    }\n",
       "\n",
       "    .dataframe tbody tr th {\n",
       "        vertical-align: top;\n",
       "    }\n",
       "\n",
       "    .dataframe thead tr th {\n",
       "        text-align: left;\n",
       "    }\n",
       "\n",
       "    .dataframe thead tr:last-of-type th {\n",
       "        text-align: right;\n",
       "    }\n",
       "</style>\n",
       "<table border=\"1\" class=\"dataframe\">\n",
       "  <thead>\n",
       "    <tr>\n",
       "      <th></th>\n",
       "      <th colspan=\"2\" halign=\"left\">Sales</th>\n",
       "      <th colspan=\"2\" halign=\"left\">Profit</th>\n",
       "    </tr>\n",
       "    <tr>\n",
       "      <th></th>\n",
       "      <th>mean</th>\n",
       "      <th>sum</th>\n",
       "      <th>mean</th>\n",
       "      <th>sum</th>\n",
       "    </tr>\n",
       "    <tr>\n",
       "      <th>Region</th>\n",
       "      <th></th>\n",
       "      <th></th>\n",
       "      <th></th>\n",
       "      <th></th>\n",
       "    </tr>\n",
       "  </thead>\n",
       "  <tbody>\n",
       "    <tr>\n",
       "      <th>India</th>\n",
       "      <td>214.369667</td>\n",
       "      <td>12862.18</td>\n",
       "      <td>15.827667</td>\n",
       "      <td>949.66</td>\n",
       "    </tr>\n",
       "    <tr>\n",
       "      <th>UK</th>\n",
       "      <td>243.700194</td>\n",
       "      <td>25101.12</td>\n",
       "      <td>20.666796</td>\n",
       "      <td>2128.68</td>\n",
       "    </tr>\n",
       "    <tr>\n",
       "      <th>USA</th>\n",
       "      <td>220.533850</td>\n",
       "      <td>41239.83</td>\n",
       "      <td>23.757487</td>\n",
       "      <td>4442.65</td>\n",
       "    </tr>\n",
       "  </tbody>\n",
       "</table>\n",
       "</div>"
      ],
      "text/plain": [
       "             Sales               Profit         \n",
       "              mean       sum       mean      sum\n",
       "Region                                          \n",
       "India   214.369667  12862.18  15.827667   949.66\n",
       "UK      243.700194  25101.12  20.666796  2128.68\n",
       "USA     220.533850  41239.83  23.757487  4442.65"
      ]
     },
     "execution_count": 142,
     "metadata": {},
     "output_type": "execute_result"
    }
   ],
   "source": [
    "df_Sales.groupby(['Region']).agg({\n",
    "        'Sales': ['mean', 'sum'],\n",
    "        'Profit': ['mean', 'sum']\n",
    "})"
   ]
  },
  {
   "cell_type": "markdown",
   "id": "7e4f70d9",
   "metadata": {},
   "source": [
    "### Handling DateTime  and other data types in Pandas"
   ]
  },
  {
   "cell_type": "code",
   "execution_count": 143,
   "id": "0e991206",
   "metadata": {},
   "outputs": [
    {
     "name": "stdout",
     "output_type": "stream",
     "text": [
      "{'Date': ['2022-12-12', '2022-12-13', '2022-12-14', '2022-12-15', '2022-12-16', '2022-12-17', '2022-12-18'], 'Sales': ['210', '185', '235', '567', '472', '671', '387']}\n",
      "<class 'dict'>\n"
     ]
    }
   ],
   "source": [
    "w = {'Date':['2022-12-12','2022-12-13','2022-12-14','2022-12-15','2022-12-16',\n",
    "             '2022-12-17','2022-12-18'],\n",
    "    'Sales':['210','185','235','567','472','671','387']}\n",
    "\n",
    "print(w)\n",
    "print(type(w))"
   ]
  },
  {
   "cell_type": "code",
   "execution_count": 144,
   "id": "a8df3793",
   "metadata": {},
   "outputs": [
    {
     "data": {
      "text/html": [
       "<div>\n",
       "<style scoped>\n",
       "    .dataframe tbody tr th:only-of-type {\n",
       "        vertical-align: middle;\n",
       "    }\n",
       "\n",
       "    .dataframe tbody tr th {\n",
       "        vertical-align: top;\n",
       "    }\n",
       "\n",
       "    .dataframe thead th {\n",
       "        text-align: right;\n",
       "    }\n",
       "</style>\n",
       "<table border=\"1\" class=\"dataframe\">\n",
       "  <thead>\n",
       "    <tr style=\"text-align: right;\">\n",
       "      <th></th>\n",
       "      <th>Date</th>\n",
       "      <th>Sales</th>\n",
       "    </tr>\n",
       "  </thead>\n",
       "  <tbody>\n",
       "    <tr>\n",
       "      <th>0</th>\n",
       "      <td>2022-12-12</td>\n",
       "      <td>210</td>\n",
       "    </tr>\n",
       "    <tr>\n",
       "      <th>1</th>\n",
       "      <td>2022-12-13</td>\n",
       "      <td>185</td>\n",
       "    </tr>\n",
       "    <tr>\n",
       "      <th>2</th>\n",
       "      <td>2022-12-14</td>\n",
       "      <td>235</td>\n",
       "    </tr>\n",
       "    <tr>\n",
       "      <th>3</th>\n",
       "      <td>2022-12-15</td>\n",
       "      <td>567</td>\n",
       "    </tr>\n",
       "    <tr>\n",
       "      <th>4</th>\n",
       "      <td>2022-12-16</td>\n",
       "      <td>472</td>\n",
       "    </tr>\n",
       "    <tr>\n",
       "      <th>5</th>\n",
       "      <td>2022-12-17</td>\n",
       "      <td>671</td>\n",
       "    </tr>\n",
       "    <tr>\n",
       "      <th>6</th>\n",
       "      <td>2022-12-18</td>\n",
       "      <td>387</td>\n",
       "    </tr>\n",
       "  </tbody>\n",
       "</table>\n",
       "</div>"
      ],
      "text/plain": [
       "         Date Sales\n",
       "0  2022-12-12   210\n",
       "1  2022-12-13   185\n",
       "2  2022-12-14   235\n",
       "3  2022-12-15   567\n",
       "4  2022-12-16   472\n",
       "5  2022-12-17   671\n",
       "6  2022-12-18   387"
      ]
     },
     "execution_count": 144,
     "metadata": {},
     "output_type": "execute_result"
    }
   ],
   "source": [
    "df_temp = pd.DataFrame(w)\n",
    "df_temp"
   ]
  },
  {
   "cell_type": "code",
   "execution_count": 147,
   "id": "716a7318",
   "metadata": {},
   "outputs": [
    {
     "data": {
      "text/plain": [
       "Date     object\n",
       "Sales    object\n",
       "dtype: object"
      ]
     },
     "execution_count": 147,
     "metadata": {},
     "output_type": "execute_result"
    }
   ],
   "source": [
    "df_temp.dtypes"
   ]
  },
  {
   "cell_type": "code",
   "execution_count": 157,
   "id": "1ee946c2",
   "metadata": {},
   "outputs": [
    {
     "data": {
      "text/plain": [
       "Date          datetime64[ns]\n",
       "Sales                 object\n",
       "year                   int32\n",
       "month                  int32\n",
       "month_name            object\n",
       "day                    int32\n",
       "day_name              object\n",
       "quarter                int32\n",
       "dtype: object"
      ]
     },
     "execution_count": 157,
     "metadata": {},
     "output_type": "execute_result"
    }
   ],
   "source": [
    "df_temp['Date'] = pd.to_datetime(df_temp['Date'])\n",
    "df_temp.dtypes"
   ]
  },
  {
   "cell_type": "markdown",
   "id": "3a96d3e8",
   "metadata": {},
   "source": [
    "#### Extract Columns like Year, Quarter, Month, Day, Weeknum form Date field"
   ]
  },
  {
   "cell_type": "code",
   "execution_count": 158,
   "id": "437efe8a",
   "metadata": {},
   "outputs": [
    {
     "data": {
      "text/html": [
       "<div>\n",
       "<style scoped>\n",
       "    .dataframe tbody tr th:only-of-type {\n",
       "        vertical-align: middle;\n",
       "    }\n",
       "\n",
       "    .dataframe tbody tr th {\n",
       "        vertical-align: top;\n",
       "    }\n",
       "\n",
       "    .dataframe thead th {\n",
       "        text-align: right;\n",
       "    }\n",
       "</style>\n",
       "<table border=\"1\" class=\"dataframe\">\n",
       "  <thead>\n",
       "    <tr style=\"text-align: right;\">\n",
       "      <th></th>\n",
       "      <th>Date</th>\n",
       "      <th>Sales</th>\n",
       "      <th>year</th>\n",
       "      <th>month</th>\n",
       "      <th>month_name</th>\n",
       "      <th>day</th>\n",
       "      <th>day_name</th>\n",
       "      <th>quarter</th>\n",
       "    </tr>\n",
       "  </thead>\n",
       "  <tbody>\n",
       "    <tr>\n",
       "      <th>0</th>\n",
       "      <td>1970-01-01 00:00:00.000002022</td>\n",
       "      <td>210</td>\n",
       "      <td>1970</td>\n",
       "      <td>1</td>\n",
       "      <td>&lt;bound method PandasDelegate._add_delegate_acc...</td>\n",
       "      <td>1</td>\n",
       "      <td>&lt;bound method PandasDelegate._add_delegate_acc...</td>\n",
       "      <td>1</td>\n",
       "    </tr>\n",
       "    <tr>\n",
       "      <th>1</th>\n",
       "      <td>1970-01-01 00:00:00.000002022</td>\n",
       "      <td>185</td>\n",
       "      <td>1970</td>\n",
       "      <td>1</td>\n",
       "      <td>&lt;bound method PandasDelegate._add_delegate_acc...</td>\n",
       "      <td>1</td>\n",
       "      <td>&lt;bound method PandasDelegate._add_delegate_acc...</td>\n",
       "      <td>1</td>\n",
       "    </tr>\n",
       "    <tr>\n",
       "      <th>2</th>\n",
       "      <td>1970-01-01 00:00:00.000002022</td>\n",
       "      <td>235</td>\n",
       "      <td>1970</td>\n",
       "      <td>1</td>\n",
       "      <td>&lt;bound method PandasDelegate._add_delegate_acc...</td>\n",
       "      <td>1</td>\n",
       "      <td>&lt;bound method PandasDelegate._add_delegate_acc...</td>\n",
       "      <td>1</td>\n",
       "    </tr>\n",
       "    <tr>\n",
       "      <th>3</th>\n",
       "      <td>1970-01-01 00:00:00.000002022</td>\n",
       "      <td>567</td>\n",
       "      <td>1970</td>\n",
       "      <td>1</td>\n",
       "      <td>&lt;bound method PandasDelegate._add_delegate_acc...</td>\n",
       "      <td>1</td>\n",
       "      <td>&lt;bound method PandasDelegate._add_delegate_acc...</td>\n",
       "      <td>1</td>\n",
       "    </tr>\n",
       "    <tr>\n",
       "      <th>4</th>\n",
       "      <td>1970-01-01 00:00:00.000002022</td>\n",
       "      <td>472</td>\n",
       "      <td>1970</td>\n",
       "      <td>1</td>\n",
       "      <td>&lt;bound method PandasDelegate._add_delegate_acc...</td>\n",
       "      <td>1</td>\n",
       "      <td>&lt;bound method PandasDelegate._add_delegate_acc...</td>\n",
       "      <td>1</td>\n",
       "    </tr>\n",
       "    <tr>\n",
       "      <th>5</th>\n",
       "      <td>1970-01-01 00:00:00.000002022</td>\n",
       "      <td>671</td>\n",
       "      <td>1970</td>\n",
       "      <td>1</td>\n",
       "      <td>&lt;bound method PandasDelegate._add_delegate_acc...</td>\n",
       "      <td>1</td>\n",
       "      <td>&lt;bound method PandasDelegate._add_delegate_acc...</td>\n",
       "      <td>1</td>\n",
       "    </tr>\n",
       "    <tr>\n",
       "      <th>6</th>\n",
       "      <td>1970-01-01 00:00:00.000002022</td>\n",
       "      <td>387</td>\n",
       "      <td>1970</td>\n",
       "      <td>1</td>\n",
       "      <td>&lt;bound method PandasDelegate._add_delegate_acc...</td>\n",
       "      <td>1</td>\n",
       "      <td>&lt;bound method PandasDelegate._add_delegate_acc...</td>\n",
       "      <td>1</td>\n",
       "    </tr>\n",
       "  </tbody>\n",
       "</table>\n",
       "</div>"
      ],
      "text/plain": [
       "                           Date Sales  year  month  \\\n",
       "0 1970-01-01 00:00:00.000002022   210  1970      1   \n",
       "1 1970-01-01 00:00:00.000002022   185  1970      1   \n",
       "2 1970-01-01 00:00:00.000002022   235  1970      1   \n",
       "3 1970-01-01 00:00:00.000002022   567  1970      1   \n",
       "4 1970-01-01 00:00:00.000002022   472  1970      1   \n",
       "5 1970-01-01 00:00:00.000002022   671  1970      1   \n",
       "6 1970-01-01 00:00:00.000002022   387  1970      1   \n",
       "\n",
       "                                          month_name  day  \\\n",
       "0  <bound method PandasDelegate._add_delegate_acc...    1   \n",
       "1  <bound method PandasDelegate._add_delegate_acc...    1   \n",
       "2  <bound method PandasDelegate._add_delegate_acc...    1   \n",
       "3  <bound method PandasDelegate._add_delegate_acc...    1   \n",
       "4  <bound method PandasDelegate._add_delegate_acc...    1   \n",
       "5  <bound method PandasDelegate._add_delegate_acc...    1   \n",
       "6  <bound method PandasDelegate._add_delegate_acc...    1   \n",
       "\n",
       "                                            day_name  quarter  \n",
       "0  <bound method PandasDelegate._add_delegate_acc...        1  \n",
       "1  <bound method PandasDelegate._add_delegate_acc...        1  \n",
       "2  <bound method PandasDelegate._add_delegate_acc...        1  \n",
       "3  <bound method PandasDelegate._add_delegate_acc...        1  \n",
       "4  <bound method PandasDelegate._add_delegate_acc...        1  \n",
       "5  <bound method PandasDelegate._add_delegate_acc...        1  \n",
       "6  <bound method PandasDelegate._add_delegate_acc...        1  "
      ]
     },
     "execution_count": 158,
     "metadata": {},
     "output_type": "execute_result"
    }
   ],
   "source": [
    "df_temp['year'] = df_temp['Date'].dt.year\n",
    "df_temp['month'] = df_temp['Date'].dt.month\n",
    "df_temp['month_name'] = df_temp['Date'].dt.month_name\n",
    "df_temp['day'] = df_temp['Date'].dt.day\n",
    "df_temp['day_name'] = df_temp['Date'].dt.day_name\n",
    "df_temp['quarter'] = df_temp['Date'].dt.quarter\n",
    "\n",
    "df_temp"
   ]
  },
  {
   "cell_type": "code",
   "execution_count": null,
   "id": "172a1f42",
   "metadata": {},
   "outputs": [],
   "source": []
  },
  {
   "cell_type": "code",
   "execution_count": null,
   "id": "b4858a12",
   "metadata": {},
   "outputs": [],
   "source": []
  },
  {
   "cell_type": "code",
   "execution_count": null,
   "id": "2335a11d",
   "metadata": {},
   "outputs": [],
   "source": []
  }
 ],
 "metadata": {
  "kernelspec": {
   "display_name": "Python 3 (ipykernel)",
   "language": "python",
   "name": "python3"
  },
  "language_info": {
   "codemirror_mode": {
    "name": "ipython",
    "version": 3
   },
   "file_extension": ".py",
   "mimetype": "text/x-python",
   "name": "python",
   "nbconvert_exporter": "python",
   "pygments_lexer": "ipython3",
   "version": "3.11.4"
  }
 },
 "nbformat": 4,
 "nbformat_minor": 5
}
