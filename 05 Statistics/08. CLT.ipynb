{
 "cells": [
  {
   "cell_type": "markdown",
   "id": "ce2bf429-ceba-4526-8a79-e6aa016a9510",
   "metadata": {},
   "source": [
    "### Central Limit Theorem (CLT)\n",
    "\n",
    "It is always not possible to get the true information about the population. In this case we have to live with samples. For eg: we don’t know the actual average income for India, but can estimate it based on a random sample picked from the Indian population.\n",
    "\n",
    "In this case, the average we have is not the population average μ but an estimate $ \\bar{X} $.\n",
    "\n",
    "If we take a similar second sample, it is extremely unlikely that the average calculated for the second sample will be the same as the average calculated for the first sample. In fact, statisticians know that repeated samples from the same\n",
    "population give different sample means.\n",
    "\n",
    "They have also proven that the distribution of these sample means will always be normally distributed, regardless of the shape of the parent population. This is known as the Central Limit Theorem.\n",
    "\n",
    "A distribution with a mean μ and variance σ², the sampling distribution of the mean approaches a normal distribution with a mean (μ) and a variance σ²/N as N, the sample size increases.\n",
    "\n",
    "The amazing and counter-intuitive thing about the central limit theorem is that The distribution of an average tends to be Normal, even when the distribution from which the average is computed is decidedly non-Normal.\n",
    "\n",
    "As the sample size n increases, the variance of the sampling distribution decreases. This is logical, because the larger the sample size, the closer we are to measuring the true population sample size, the closer we are to measuring the true population parameters.\n",
    "\n",
    "\n",
    "#### Statement of the Central Limit Theorem\n",
    "\n",
    "Given a set of $ n $ i.i.d. random variables $ X_1, X_2, X_3, \\ldots, X_n $ with mean $ \\mu $ and standard deviation $ \\sigma $, the sum (or average) of these variables will tend to follow a normal distribution with mean $ n\\mu $ (or $ \\mu $) and standard deviation $ \\sigma\\sqrt{n} $ or $ \\frac{\\sigma}{\\sqrt{n}} $ as $ n $ becomes large. Formally, if $ \\bar{X} $ is the sample mean:\n",
    "\n",
    "$$\n",
    "\\bar{X} = \\frac{1}{n} \\sum_{i=1}^{n} X_i\n",
    "$$\n",
    "\n",
    "then the standardized form of $ \\bar{X} $ approaches a standard normal distribution:\n",
    "\n",
    "$$\n",
    "Z = \\frac{\\bar{X} - \\mu}{\\sigma / \\sqrt{n}} \\approx \\mathcal{N}(0, 1) \\quad \\text{as} \\quad n \\to \\infty\n",
    "$$\n",
    "\n",
    "#### Implications of the Central Limit Theorem\n",
    "\n",
    "1. **Normal Approximation**:\n",
    "   - Even if the underlying distribution of the data is not normal, the distribution of the sample mean will approximate a normal distribution for large sample sizes.\n",
    "\n",
    "2. **Facilitates Inference**:\n",
    "   - The CLT allows us to use normal distribution techniques to make inferences about population parameters (e.g., confidence intervals, hypothesis testing) even when the data does not follow a normal distribution.\n",
    "\n",
    "3. **Sample Size**:\n",
    "   - In practice, a sample size of 30 or more is often considered sufficient for the CLT to hold, though this can vary depending on the distribution of the original data.\n",
    "\n",
    "#### Example\n",
    "\n",
    "Suppose we have a population with a mean of 50 and a standard deviation of 10. We take a sample of size 40 from this population and calculate the sample mean. According to the CLT, the distribution of the sample mean will be approximately normal with mean 50 and standard deviation $ \\frac{10}{\\sqrt{40}} \\approx 1.58 $.\n"
   ]
  },
  {
   "cell_type": "code",
   "execution_count": null,
   "id": "9f904ec7-e95b-4e9f-b336-afd1e8261cdc",
   "metadata": {},
   "outputs": [],
   "source": []
  }
 ],
 "metadata": {
  "kernelspec": {
   "display_name": "Python 3 (ipykernel)",
   "language": "python",
   "name": "python3"
  },
  "language_info": {
   "codemirror_mode": {
    "name": "ipython",
    "version": 3
   },
   "file_extension": ".py",
   "mimetype": "text/x-python",
   "name": "python",
   "nbconvert_exporter": "python",
   "pygments_lexer": "ipython3",
   "version": "3.11.4"
  }
 },
 "nbformat": 4,
 "nbformat_minor": 5
}
