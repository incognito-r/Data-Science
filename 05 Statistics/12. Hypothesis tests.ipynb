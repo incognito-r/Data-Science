{
 "cells": [
  {
   "cell_type": "markdown",
   "metadata": {},
   "source": [
    "# t-test\n",
    "\n",
    "A t-test is a statistical hypothesis test used to determine whether there is a significant difference between the means of two groups. It is commonly used when the sample sizes are small, and the population standard deviation is unknown. The t-test helps evaluate if the difference in means is due to chance or represents a real difference.\n",
    "\n",
    "### Types of T-Tests\n",
    "\n",
    "- One-Sample T-Test\n",
    "    - Compares the mean of a single sample to a known value (usually the population mean).\n",
    "- Independent (Two-Sample) T-Test\n",
    "    - Compares the means of two independent or unrelated groups to determine if they are significantly different.\n",
    "- Paired (Dependent) T-Test\n",
    "    - Compares the means of two related groups, typically the same group measured at two different points in time (before and after)."
   ]
  },
  {
   "cell_type": "markdown",
   "metadata": {},
   "source": [
    "| **Details**             | **One-Sample T-Test**                                               | **Two-Sample T-Test**                                                | **Paired T-Test**                                                   |\n",
    "|-------------------------|---------------------------------------------------------------------|----------------------------------------------------------------------|----------------------------------------------------------------------|\n",
    "| **Purpose**             | Compare the sample mean to a known population mean.                 | Compare the means of two independent samples.                        | Compare the means of two related (dependent) groups.                 |\n",
    "| **Null Hypothesis ($H_0$)** | $H_0: \\mu = \\mu_0$                                               | $H_0: \\mu_1 = \\mu_2$                                                 | $H_0: \\mu_d = 0$ (mean difference is zero)                           |\n",
    "| **Test Statistic Formula** | $t = \\frac{\\bar{x} - \\mu_0}{\\frac{s}{\\sqrt{n}}}$                 | $t = \\frac{\\bar{x}_1 - \\bar{x}_2}{\\sqrt{\\frac{s_1^2}{n_1} + \\frac{s_2^2}{n_2}}}$ | $t = \\frac{\\bar{d}}{\\frac{s_d}{\\sqrt{n}}}$                           |\n",
    "| **Assumptions**          | 1. Data is approximately normally distributed.<br>2. Random sampling. | 1. Data in each group is normally distributed.<br>2. Variances are equal.<br>3. Independent samples. | 1. Differences between pairs are normally distributed.<br>2. Paired observations. |\n",
    "| **Degrees of Freedom (df)** | $df = n - 1$                                                    | $df = (n_1 - 1) + (n_2 - 1)$                                         | $df = n - 1$                                                         |\n",
    "| **Example**              | Comparing the average test score of a class to the national average test score. | Comparing the average blood pressure in a treatment group vs. a control group. | Comparing the mean weight before and after a diet program in the same group of people. |\n",
    " "
   ]
  },
  {
   "cell_type": "markdown",
   "metadata": {},
   "source": [
    "z-test\n"
   ]
  }
 ],
 "metadata": {
  "language_info": {
   "name": "python"
  }
 },
 "nbformat": 4,
 "nbformat_minor": 2
}
