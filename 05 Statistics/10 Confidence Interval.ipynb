{
 "cells": [
  {
   "cell_type": "markdown",
   "metadata": {},
   "source": [
    "### Confidence Interval\n",
    "\n",
    "A confidence interval is a range of values that is used to estimate the true value of a population parameter (such as the mean). It provides a measure of certainty (or confidence) about how accurately the sample data represents the population.\n",
    "\n",
    "In statistics, a confidence interval consists of three components:\n",
    "\n",
    "Point Estimate: This is the best estimate of the population parameter (e.g., the sample mean).\n",
    "\n",
    "Margin of Error: This accounts for the variability in the estimate and the level of confidence. The amount added or subtracted from point estimate.\n",
    "\n",
    "Confidence Level: This is the probability that the interval contains the true population parameter (commonly 95% or 99%).\n",
    "\n",
    "$$ CI = \\bar{x} \\pm z \\cdot \\frac{\\sigma}{\\sqrt{n}} $$\n",
    "\n",
    "Where:\n",
    "- $ \\bar{x} $ is the sample mean,\n",
    "- $ z $ is the z-value from the standard normal distribution corresponding to the desired confidence level:\n",
    "  - For 95% confidence level, $ z = 1.96 $,\n",
    "  - For 99% confidence level, $ z = 2.576 $,\n",
    "- $ \\sigma $ is the population standard deviation (or the sample standard deviation if population $ \\sigma $ is unknown),\n",
    "- $ n $ is the sample size.\n",
    "\n",
    "## Example:\n",
    "\n",
    "If the sample mean is 50, the standard deviation is 10, the sample size is 100, and the confidence level is 95%, the confidence interval can be calculated as:\n",
    "\n",
    "$$ CI = 50 \\pm 1.96 \\cdot \\frac{10}{\\sqrt{100}} = 50 \\pm 1.96 \\cdot 1 = [48.04, 51.96] $$\n",
    "\n",
    "This gives a 95% confidence interval of $ [48.04, 51.96] $, meaning we are 95% confident that the true population mean lies within this range.\n"
   ]
  },
  {
   "cell_type": "markdown",
   "metadata": {},
   "source": [
    "### p-value\n",
    "\n",
    "p-value is the probability that a randomly picked sample will have the mean lying outside the confidence interval. It is denoted by $\\alpha$. E.g. For a C.I. of 95%, $\\alpha$ = 0.05.\n",
    "\n",
    "The p-value (probability value) is a measure used in hypothesis testing to help decide whether to reject the null hypothesis. It quantifies the strength of the evidence against the null hypothesis:\n",
    "\n",
    "A low p-value (typically ≤ 0.05) indicates that the observed data are unlikely under the null hypothesis, and thus, you may reject the null hypothesis.\n",
    "\n",
    "A high p-value (> 0.05) suggests that the observed data are likely under the null hypothesis, meaning there is insufficient evidence to reject it.\n",
    "\n",
    "Interpretation of P-Values:\n",
    "\n",
    "P ≤ 0.05: Strong evidence against the null hypothesis, so you reject the null hypothesis.\n",
    "P > 0.05: Weak evidence against the null hypothesis, so you fail to reject the null hypothesis.\n",
    "P = 0.05: The cutoff for statistical significance in many fields."
   ]
  },
  {
   "cell_type": "markdown",
   "metadata": {},
   "source": []
  }
 ],
 "metadata": {
  "language_info": {
   "name": "python"
  }
 },
 "nbformat": 4,
 "nbformat_minor": 2
}
