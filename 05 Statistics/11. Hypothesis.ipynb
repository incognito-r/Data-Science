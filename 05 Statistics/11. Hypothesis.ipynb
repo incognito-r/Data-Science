{
 "cells": [
  {
   "cell_type": "markdown",
   "metadata": {},
   "source": [
    "# Hypothesis in Statistics\n",
    "A hypothesis is a statement or assumption about a population parameter. In statistics, hypotheses are tested using statistical methods to determine whether there is enough evidence to accept or reject the hypothesis based on sample data."
   ]
  },
  {
   "cell_type": "markdown",
   "metadata": {},
   "source": [
    "### Types of Hypotheses\n",
    "\n",
    "1. **Null Hypothesis ($H_0$)**: \n",
    "   - Represents no effect or no difference.\n",
    "   - Example: $H_0: \\mu_A = \\mu_B$ (the means are equal).\n",
    "\n",
    "2. **Alternative Hypothesis ($H_1$ or $H_a$)**: \n",
    "   - Represents an effect or a difference.\n",
    "   - Example: $H_1: \\mu_A \\neq \\mu_B$ (the means are not equal).\n",
    "\n",
    "### Hypothesis Testing Process\n",
    "\n",
    "1. **Formulate Hypotheses**: \n",
    "   - Example: $H_0: \\mu = \\mu_0$ vs. $H_1: \\mu \\neq \\mu_0$.\n",
    "\n",
    "2. **Choose Significance Level ($\\alpha$)**: \n",
    "   - The significance level is the probability of rejecting the null hypothesis when it is actually true (Type I error). It is typically set at 0.05 or 0.01.\n",
    "   - Interpretation: A significance level of 0.05 implies that there is a 5% risk of concluding that a difference exists when there is no actual difference.\n",
    "\n",
    "3. **Collect Data**: Gather relevant sample data.\n",
    "\n",
    "4. **Conduct Statistical Test**: \n",
    "Select an appropriate statistical test based on the type of data and the hypotheses. Common tests include:\n",
    "\n",
    "   - T-test: Used to compare the means of two groups.\n",
    "   - ANOVA: Used to compare means across multiple groups.\n",
    "   - Chi-Square Test: Used for categorical data.\n",
    "\n",
    "      Calculate the test statistic (e.g., t-value, F-value) and then the p-value. The p-value represents the probability of observing the data (or more extreme) given that the null hypothesis is true. It is the probability of getting sample mean outside the confidence interval.\n",
    "\n",
    "5. **Make a Decision**:\n",
    "   - If $p \\leq \\alpha$, reject $H_0$.\n",
    "   - If $p > \\alpha$, fail to reject $H_0$.\n",
    "\n",
    "6. **Draw Conclusions**: Interpret results.\n"
   ]
  },
  {
   "cell_type": "markdown",
   "metadata": {},
   "source": [
    "### Hypothesis Testing\n",
    "\n",
    "Null hypothesis - We always assume the null hypothesis is true, or at least is the most plausible explanation before we do the test. The test can only disprove the null hypothesis.\n",
    "\n",
    "Alternative hypothesis - The alternative hypothesis is the hypothesis that we set out to test for. It is the hypothesis that we wish to prove.\n",
    "\n",
    "Decision Rule - After we know the null and alternative hypotheses and the level of confidence associated with the test, we determine the points on the distribution of the test statistics where we will decide when the null hypothesis should be rejected in favour of the alternate hypothesis.\n",
    "\n",
    "Use terminology 'reject $H_0$' or  do not reject $H_0$'. Never say 'accept $H_0$'"
   ]
  },
  {
   "cell_type": "markdown",
   "metadata": {},
   "source": [
    "### Hypothesis Testing Example: Evaluating a New Teaching Method\n",
    "\n",
    "#### Research Question\n",
    "Does the new teaching method improve student performance compared to the traditional teaching method?\n",
    "\n",
    "#### 1. Formulate Hypotheses\n",
    "- **Null Hypothesis ($H_0$)**: The new teaching method has no effect on student performance.  \n",
    "  $$ H_0: \\mu_{\\text{new}} = \\mu_{\\text{old}} $$\n",
    "  \n",
    "- **Alternative Hypothesis ($H_1$)**: The new teaching method improves student performance.  \n",
    "  $$ H_1: \\mu_{\\text{new}} > \\mu_{\\text{old}} $$\n",
    "\n",
    "#### 2. Choose Significance Level ($\\alpha$)\n",
    "- Set $\\alpha = 0.05$.\n",
    "\n",
    "#### 3. Collect Data\n",
    "- Two groups of students:\n",
    "  - **Group A** (Traditional): 50 students, average score = 75, standard deviation = 10.\n",
    "  - **Group B** (New): 50 students, average score = 82, standard deviation = 12.\n",
    "\n",
    "#### 4. Conduct Statistical Test\n",
    "##### Test Statistic Calculation\n",
    "The formula for the t-statistic for independent samples is given by:\n",
    "$$\n",
    "t = \\frac{\\bar{x}_1 - \\bar{x}_2}{\\sqrt{\\frac{s_1^2}{n_1} + \\frac{s_2^2}{n_2}}}\n",
    "$$\n",
    "\n",
    "Substituting values:\n",
    "$$\n",
    "t = \\frac{75 - 82}{\\sqrt{\\frac{10^2}{50} + \\frac{12^2}{50}}} \\approx -3.16\n",
    "$$\n",
    "\n",
    "Assuming degrees of freedom $df = 98$, the p-value is approximately 0.001.\n",
    "\n",
    "#### 5. Make a Decision\n",
    "- Since $p = 0.001 < 0.05$, we reject the null hypothesis.\n",
    "\n",
    "#### 6. Draw Conclusions\n",
    "- There is significant evidence that the new teaching method improves student performance.\n"
   ]
  },
  {
   "cell_type": "markdown",
   "metadata": {
    "vscode": {
     "languageId": "plaintext"
    }
   },
   "source": [
    "### Type I and Type II Error\n",
    "\n",
    "Process of testing a hypothesis indicates that there is a possibility of making an error. \n",
    "\n",
    "There are two types of errors:\n",
    "- Type I error: The error of rejecting the null hypothesis H0 even though H0 was true. \n",
    "- Type II error: The error of accepting the null hypothesis H0 even though H0 was false."
   ]
  },
  {
   "cell_type": "markdown",
   "metadata": {},
   "source": []
  }
 ],
 "metadata": {
  "language_info": {
   "name": "python"
  }
 },
 "nbformat": 4,
 "nbformat_minor": 2
}
