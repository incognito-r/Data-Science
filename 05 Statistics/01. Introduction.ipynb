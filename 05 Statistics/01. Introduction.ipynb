{
 "cells": [
  {
   "cell_type": "markdown",
   "id": "4ae4a7c4-7522-49b4-886f-926736aa329d",
   "metadata": {},
   "source": [
    "# Statistics"
   ]
  },
  {
   "cell_type": "markdown",
   "id": "71c0fc4b-853b-4e52-bed7-ba81b354d74c",
   "metadata": {},
   "source": [
    "### Descriptive Statistics\n",
    "\n",
    "Descriptive statistics involve methods and techniques used to summarize and describe important features of data. These statistics are used to present and organize data in a meaningful way, providing insights into its characteristics. Common descriptive statistics include measures of central tendency (like mean, median, mode), measures of variability or dispersion (such as variance, standard deviation, range), and graphical representations (like histograms, box plots, and scatter plots). Descriptive statistics are primarily concerned with summarizing data sets, identifying patterns, and highlighting key features without making inferences beyond the data at hand.\n",
    "\n",
    "#### Tools for Descriptive Statistics\n",
    "\n",
    "- **Measures**: Mean, median, mode, range, variance, standard deviation.\n",
    "- **Graphical Tools**: Histograms, bar charts, pie charts, box plots, scatter plots.\n",
    "- **Software**: Excel, SPSS, R, Python (libraries like Pandas, Matplotlib, Seaborn).\n",
    "\n",
    "### Inferential Statistics\n",
    "\n",
    "Inferential statistics involves making inferences or predictions about a population based on a sample of data taken from that population. It uses probability theory to generalize from a sample to a larger population, drawing conclusions and making predictions or hypotheses. Inferential statistics includes techniques like hypothesis testing, confidence intervals, regression analysis, and analysis of variance (ANOVA). These methods help researchers assess relationships between variables, test hypotheses, and make decisions based on the data.\n",
    "\n",
    "#### Tools for Inferential Statistics\n",
    "\n",
    "- **Hypothesis Testing**: Z-test, t-test, chi-square test, ANOVA.\n",
    "- **Estimation**: Confidence intervals, regression analysis.\n",
    "- **Software**: SPSS, R, Python (libraries like Statsmodels, Scipy).\n"
   ]
  },
  {
   "cell_type": "markdown",
   "id": "01a4e4d1-dd13-49b2-b2ae-71d7be01ca47",
   "metadata": {},
   "source": [
    "### Descriptive Statistics"
   ]
  },
  {
   "cell_type": "markdown",
   "id": "6e15eb64-8b7b-4293-93ca-de1218ce2ead",
   "metadata": {},
   "source": [
    "| Concept           | Definition                                            | Population                                     | Sample                                        |\n",
    "|-------------------|--------------------------------------------------------|-------------------------------------------------------|-------------------------------------------------------|\n",
    "| **Mean**          | The arithmetic average of the data points in a dataset. | $$ \\mu = \\frac{1}{N} \\sum_{i=1}^{N} X_i $$             | $$ \\bar{x} = \\frac{1}{n} \\sum_{i=1}^{n} x_i $$        |\n",
    "| **Variance**      | Variance is the average of the squared distances of each data point from the mean. It is also called spread of data.| $$ \\sigma^2 = \\frac{1}{N}\\sum_{i=1}^{N} (X_i - \\mu)^2 $$ | $$ s^2 = \\frac{1}{n-1} \\sum_{i=1}^{n} (x_i - \\bar{x})^2 $$ |\n",
    "| **Standard Deviation** | The square root of the variance, indicating the typical amount of deviation from the mean. | $$ \\sigma = \\sqrt{\\sigma^2} $$                          | $$ s = \\sqrt{s^2} $$                                 |\n"
   ]
  },
  {
   "cell_type": "markdown",
   "id": "1f5a2d6b",
   "metadata": {},
   "source": [
    "| **Measure**     | **Pros**                                                                                      | **Cons**                                                                                       |\n",
    "|-----------------|-----------------------------------------------------------------------------------------------|-----------------------------------------------------------------------------------------------|\n",
    "| **Mean**        | - Uses all data points.<br> - Applicable for further statistical analysis (variance, standard deviation). | - Sensitive to extreme values (outliers).<br> - May not be accurate for skewed data.            |\n",
    "| **Median**      | - Not affected by extreme values (robust to outliers).<br> - Useful for skewed distributions.  | - Ignores most of the data (only considers the middle value).<br> - Less efficient for small datasets. |\n",
    "| **Mode**        | - Can be used for categorical data.<br> - Shows the most frequent or popular value.            | - May not be unique (or may not exist).<br> - Not useful for numerical data with many unique values. |\n"
   ]
  },
  {
   "cell_type": "markdown",
   "id": "df42feb2",
   "metadata": {
    "vscode": {
     "languageId": "plaintext"
    }
   },
   "source": [
    "### Population and Sample:\n",
    "\n",
    "Population refers to the entire group of individuals, items, or data points that share a common characteristic or are of interest for a particular study. A sample is a subset of a population."
   ]
  },
  {
   "cell_type": "markdown",
   "id": "db16a265-8541-4ac8-8323-81e47780adf3",
   "metadata": {},
   "source": [
    "### Random Variable: \n",
    "*A random variable is defined as a function that assigns a real number to each outcome of a random experiment.* \n",
    "Random variables are categorized as either `discrete` (with countable outcomes) or `continuous` (with infinite possible outcomes within a range).\n",
    "They are denoted by uppercase letters (X, Y, Z) and are essential for describing and analyzing probabilities, distributions, and statistical measures in various data analysis methods."
   ]
  },
  {
   "cell_type": "markdown",
   "id": "985027d4-57a2-4b5d-bdcb-053ad4304d95",
   "metadata": {},
   "source": [
    "### Probability Distribution:\n",
    "A probability distribution is a mathematical function that describes how probabilities are assigned to different possible outcomes of a random variable. It provides a complete description of the likelihood of occurrence of different possible outcomes in a statistical experiment. It can be expressed as a **Probability Mass Function (PMF)** for discrete random variables or a **Probability Density Function (PDF)** for continuous random variables.\n",
    "\n",
    "#### Types of Probability Distributions:\n",
    "\n",
    "**Discrete Probability Distribution:** Used for discrete random variables.\n",
    "\n",
    "- Binomial Distribution: Describes the number of successes in a fixed number of independent trials, each with the same probability of success.\n",
    "\n",
    "- Poisson Distribution: Describes the number of events occurring in a fixed interval of time or space, assuming events occur with a known constant rate and independently of the time since the last event.\n",
    "\n",
    "**Continuous Probability Distribution:** Used for continuous random variables. Examples include:\n",
    "\n",
    "- Normal Distribution (Gaussian): A bell-shaped distribution where most of the values cluster around the mean, and the probability decreases as you move further from the mean.\n",
    "\n",
    "- Uniform Distribution: All outcomes in a certain range are equally likely.\n",
    "Exponential Distribution: Describes the time between events in a Poisson process, with a constant rate.\n",
    "\n",
    "| Characteristic                   | Probability Mass Function (PMF)                                      | Probability Density Function (PDF)                                      |\n",
    "|----------------------------------|-----------------------------------------------------------------------|--------------------------------------------------------------------------|\n",
    "| **Definition**                   | Describes the probability that a discrete random variable $X$ takes a specific value $x$. | Describes the probability density of a continuous random variable $X$ at a value $x$. |\n",
    "| **Applicability**                | Used for discrete random variables (e.g., coin flips).                 | Used for continuous random variables (e.g., heights).                     |\n",
    "| **Mathematical Representation**  | $P(X = x)$, where $x$ is a specific value of $X$.          | $f(x)$, where $x$ represents a continuous variable in a range.    |\n",
    "| **Range of Values**              | Defined only for specific discrete values $x$.                     | Defined for all values within a continuous range of $x$.              |\n",
    "| **Probability Interpretation**   | Can be directly interpreted as probabilities.                          | Represents density; actual probabilities require integration.             |\n",
    "| **Summation/Integration**        | Summation over all possible values equals 1:                           | Integration over the entire range equals 1:                               |\n",
    "|                                  | $ \\sum_{x} P(X = x) = 1 $                                            | $ \\int_{-\\infty}^{\\infty} f(x) \\, dx = 1 $                              |\n",
    "| **Example Distributions**        | Bernoulli, Binomial, Poisson                                           | Normal, Exponential, Uniform                                              |\n"
   ]
  },
  {
   "cell_type": "markdown",
   "id": "dde63f98",
   "metadata": {},
   "source": [
    "### Variance / Dispersion\n",
    "\n",
    "Dispersion refers to the spread or variability in the data. It determines how spread out are the scores around the mean.\n",
    "\n",
    "**Why is Dispersion important?**\n",
    "\n",
    "• It gives additional information that enables to judge the reliability of the measure of central tendency.\n",
    "    \n",
    "• If data are widely spread the central location is less representative of data as a whole than it would be for data more closely centered around Mean.\n",
    "\n",
    "• Since problems are peculiar to widely dispersed data, dispersion enables to identify and tackle problems accordingly.\n",
    "\n",
    "• This enables to compare dispersions of various samples For eg. If a wide spread of values are away from center, this may be undesirable or presents a risk, one may avoid choosing that distribution"
   ]
  },
  {
   "cell_type": "markdown",
   "id": "3331d8c8",
   "metadata": {},
   "source": [
    "### Coeficient of Variation (CV)\n",
    "\n",
    "The coefficient of variance (CV), also known as relative standard deviation, is a measure of the relative variability of data. It expresses the standard deviation as a percentage of the mean, allowing you to compare the degree of variation between datasets that have different units or widely differing means.\n",
    "\n",
    "$$ CV= \\frac{Mean}{Standard Deviation} ×100\n",
    "$$\n",
    "\n",
    "A low CV indicates that the data points are clustered closely around the mean, meaning less variability relative to the mean.\n",
    "A high CV indicates more variability relative to the mean.\n",
    "\n",
    "Example:\n",
    "\n",
    "Suppose you are comparing two machines that produce the same part, and you measure the diameter of the parts produced by each machine. If Machine A has a mean diameter of 10 cm with a standard deviation of 0.5 cm, and Machine B has a mean diameter of 5 cm with a standard deviation of 0.3 cm, the coefficient of variance allows you to compare the variability in production.\n",
    "\n",
    "For Machine A:\n",
    "\n",
    "$$ CV = \\frac{0.5}{10}*100  = 5% $$\n",
    "\n",
    "For Machine B:\n",
    "\n",
    "$$ CV = \\frac{0.3}{5}*100  = 6% $$\n",
    "\n",
    "Even though the standard deviation of Machine A is larger, Machine B has more relative variability (as shown by a higher CV).\n",
    "\n",
    "CV can be misleading if the mean is close to zero, as it will lead to a very high or undefined CV."
   ]
  },
  {
   "cell_type": "markdown",
   "id": "bfa11b77",
   "metadata": {},
   "source": [
    "### Skewness: \n",
    "When the data is asymmetrical ie the values are not distributed equally on both sides. In this case, values are either concentrated on low end or on high end of scale on horizontal axis"
   ]
  },
  {
   "cell_type": "markdown",
   "id": "ffc00dc9",
   "metadata": {},
   "source": [
    "| **Measure**     | **Definition**                                                                                                                                   | **Formula for Calculation**                                                                                 | **Example**                                                                                                  |\n",
    "|-----------------|---------------------------------------------------------------------------------------------------------------------------------------------------|----------------------------------------------------------------------------------------------------------------|--------------------------------------------------------------------------------------------------------------|\n",
    "| **Percentiles**  | Divide data into **100 equal parts**, where each percentile represents the percentage of data points below a certain value.                        | $ \\text{Index} = \\frac{n}{100} \\times (N + 1) $, where $ n $ is the desired percentile, and $ N $ is the number of data points. | 40th percentile = 8.8 (calculated for ordered dataset 5, 7, 8, 12, 15, 20, 25 with 40th percentile).          |\n",
    "| **Quartiles**    | Divide data into **4 equal parts**, where each quartile corresponds to 25% of the data.                                                           | 1. **Q1**: Median of the lower half of data.<br> 2. **Q2**: Median of the dataset.<br> 3. **Q3**: Median of the upper half of data. | Q1 = 7, Q2 (Median) = 12, Q3 = 20 (for dataset 5, 7, 8, 12, 15, 20, 25).                                      |\n",
    "| **Q1 and P25**   | The **25th percentile** is the **first quartile (Q1)**.                                                                                          | Q1 is the median of the lower half of the data.<br> P25 represents the 25th percentile, both showing the same value. | Both Q1 and 25th percentile for dataset 5, 7, 8, 12, 15, 20, 25 = 7.                                          |\n",
    "| **Q2 and P50**   | The **50th percentile** is the **second quartile (Q2)**, which is the **median**.                                                                | Q2 represents the 50th percentile, which is the median value of the dataset.                                  | Both Q2 and 50th percentile for dataset 5, 7, 8, 12, 15, 20, 25 = 12.                                         |\n",
    "| **Q3 and P75**   | The **75th percentile** is the **third quartile (Q3)**.                                                                                          | Q3 is the median of the upper half of the dataset.<br> P75 represents the 75th percentile, both showing the same value. | Both Q3 and 75th percentile for dataset 5, 7, 8, 12, 15, 20, 25 = 20.                                         |\n"
   ]
  },
  {
   "cell_type": "markdown",
   "id": "707ba753",
   "metadata": {},
   "source": []
  }
 ],
 "metadata": {
  "kernelspec": {
   "display_name": "Python 3 (ipykernel)",
   "language": "python",
   "name": "python3"
  },
  "language_info": {
   "codemirror_mode": {
    "name": "ipython",
    "version": 3
   },
   "file_extension": ".py",
   "mimetype": "text/x-python",
   "name": "python",
   "nbconvert_exporter": "python",
   "pygments_lexer": "ipython3",
   "version": "3.11.4"
  }
 },
 "nbformat": 4,
 "nbformat_minor": 5
}
